{
 "cells": [
  {
   "cell_type": "code",
   "execution_count": 1,
   "metadata": {},
   "outputs": [],
   "source": [
    "import matplotlib.pyplot as plt\n",
    "import numpy as np\n",
    "# from skopt import gp_minimize"
   ]
  },
  {
   "cell_type": "code",
   "execution_count": 15,
   "metadata": {},
   "outputs": [],
   "source": [
    "from a_star import A_Star\n",
    "from assignment import AssignmentGame, test_assignment_env, test_assignment_game, AssignmentEnv\n",
    "import pstats\n",
    "import cProfile\n",
    "from timeit import timeit\n",
    "import pickle\n",
    "\n",
    "# def f():\n",
    "#     game = AssignmentGame(\n",
    "#             Q=300,\n",
    "#             grid_size=45,\n",
    "#             max_capacity=125\n",
    "#         )\n",
    "#     game.reset(num_packages = 500)\n",
    "#     res = A_Star(game, 10)\n",
    "game50 = AssignmentGame(\n",
    "        Q=0,\n",
    "        K = 50,\n",
    "        grid_size=25,\n",
    "        max_capacity=15,\n",
    "        real_data=True\n",
    "    )\n",
    "\n",
    "game75 = AssignmentGame(\n",
    "        Q=0,\n",
    "        K = 75,\n",
    "        real_data=True,\n",
    "        max_capacity=20\n",
    "    )\n",
    "\n",
    "game100 = AssignmentGame(\n",
    "        Q=0,\n",
    "        K = 100,\n",
    "        real_data=True,\n",
    "        max_capacity=25\n",
    "    )\n",
    "\n"
   ]
  },
  {
   "cell_type": "code",
   "execution_count": 63,
   "metadata": {},
   "outputs": [
    {
     "name": "stdout",
     "output_type": "stream",
     "text": [
      "Collecting sb3_contrib\n",
      "  Using cached sb3_contrib-2.3.0-py3-none-any.whl.metadata (3.6 kB)\n",
      "Requirement already satisfied: stable-baselines3<3.0,>=2.3.0 in /Users/faridounet/Research/PhD/.venv_DQVRP/lib/python3.12/site-packages (from sb3_contrib) (2.3.2)\n",
      "Requirement already satisfied: gymnasium<0.30,>=0.28.1 in /Users/faridounet/Research/PhD/.venv_DQVRP/lib/python3.12/site-packages (from stable-baselines3<3.0,>=2.3.0->sb3_contrib) (0.29.1)\n",
      "Requirement already satisfied: numpy>=1.20 in /Users/faridounet/Research/PhD/.venv_DQVRP/lib/python3.12/site-packages (from stable-baselines3<3.0,>=2.3.0->sb3_contrib) (2.0.2)\n",
      "Requirement already satisfied: torch>=1.13 in /Users/faridounet/Research/PhD/.venv_DQVRP/lib/python3.12/site-packages (from stable-baselines3<3.0,>=2.3.0->sb3_contrib) (2.4.1)\n",
      "Requirement already satisfied: cloudpickle in /Users/faridounet/Research/PhD/.venv_DQVRP/lib/python3.12/site-packages (from stable-baselines3<3.0,>=2.3.0->sb3_contrib) (3.0.0)\n",
      "Requirement already satisfied: pandas in /Users/faridounet/Research/PhD/.venv_DQVRP/lib/python3.12/site-packages (from stable-baselines3<3.0,>=2.3.0->sb3_contrib) (2.2.3)\n",
      "Requirement already satisfied: matplotlib in /Users/faridounet/Research/PhD/.venv_DQVRP/lib/python3.12/site-packages (from stable-baselines3<3.0,>=2.3.0->sb3_contrib) (3.9.2)\n",
      "Requirement already satisfied: typing-extensions>=4.3.0 in /Users/faridounet/Research/PhD/.venv_DQVRP/lib/python3.12/site-packages (from gymnasium<0.30,>=0.28.1->stable-baselines3<3.0,>=2.3.0->sb3_contrib) (4.12.2)\n",
      "Requirement already satisfied: farama-notifications>=0.0.1 in /Users/faridounet/Research/PhD/.venv_DQVRP/lib/python3.12/site-packages (from gymnasium<0.30,>=0.28.1->stable-baselines3<3.0,>=2.3.0->sb3_contrib) (0.0.4)\n",
      "Requirement already satisfied: filelock in /Users/faridounet/Research/PhD/.venv_DQVRP/lib/python3.12/site-packages (from torch>=1.13->stable-baselines3<3.0,>=2.3.0->sb3_contrib) (3.16.1)\n",
      "Requirement already satisfied: sympy in /Users/faridounet/Research/PhD/.venv_DQVRP/lib/python3.12/site-packages (from torch>=1.13->stable-baselines3<3.0,>=2.3.0->sb3_contrib) (1.13.3)\n",
      "Requirement already satisfied: networkx in /Users/faridounet/Research/PhD/.venv_DQVRP/lib/python3.12/site-packages (from torch>=1.13->stable-baselines3<3.0,>=2.3.0->sb3_contrib) (3.3)\n",
      "Requirement already satisfied: jinja2 in /Users/faridounet/Research/PhD/.venv_DQVRP/lib/python3.12/site-packages (from torch>=1.13->stable-baselines3<3.0,>=2.3.0->sb3_contrib) (3.1.4)\n",
      "Requirement already satisfied: fsspec in /Users/faridounet/Research/PhD/.venv_DQVRP/lib/python3.12/site-packages (from torch>=1.13->stable-baselines3<3.0,>=2.3.0->sb3_contrib) (2024.9.0)\n",
      "Requirement already satisfied: setuptools in /Users/faridounet/Research/PhD/.venv_DQVRP/lib/python3.12/site-packages (from torch>=1.13->stable-baselines3<3.0,>=2.3.0->sb3_contrib) (75.1.0)\n",
      "Requirement already satisfied: contourpy>=1.0.1 in /Users/faridounet/Research/PhD/.venv_DQVRP/lib/python3.12/site-packages (from matplotlib->stable-baselines3<3.0,>=2.3.0->sb3_contrib) (1.3.0)\n",
      "Requirement already satisfied: cycler>=0.10 in /Users/faridounet/Research/PhD/.venv_DQVRP/lib/python3.12/site-packages (from matplotlib->stable-baselines3<3.0,>=2.3.0->sb3_contrib) (0.12.1)\n",
      "Requirement already satisfied: fonttools>=4.22.0 in /Users/faridounet/Research/PhD/.venv_DQVRP/lib/python3.12/site-packages (from matplotlib->stable-baselines3<3.0,>=2.3.0->sb3_contrib) (4.54.1)\n",
      "Requirement already satisfied: kiwisolver>=1.3.1 in /Users/faridounet/Research/PhD/.venv_DQVRP/lib/python3.12/site-packages (from matplotlib->stable-baselines3<3.0,>=2.3.0->sb3_contrib) (1.4.7)\n",
      "Requirement already satisfied: packaging>=20.0 in /Users/faridounet/Research/PhD/.venv_DQVRP/lib/python3.12/site-packages (from matplotlib->stable-baselines3<3.0,>=2.3.0->sb3_contrib) (24.1)\n",
      "Requirement already satisfied: pillow>=8 in /Users/faridounet/Research/PhD/.venv_DQVRP/lib/python3.12/site-packages (from matplotlib->stable-baselines3<3.0,>=2.3.0->sb3_contrib) (10.4.0)\n",
      "Requirement already satisfied: pyparsing>=2.3.1 in /Users/faridounet/Research/PhD/.venv_DQVRP/lib/python3.12/site-packages (from matplotlib->stable-baselines3<3.0,>=2.3.0->sb3_contrib) (3.1.4)\n",
      "Requirement already satisfied: python-dateutil>=2.7 in /Users/faridounet/Research/PhD/.venv_DQVRP/lib/python3.12/site-packages (from matplotlib->stable-baselines3<3.0,>=2.3.0->sb3_contrib) (2.9.0.post0)\n",
      "Requirement already satisfied: pytz>=2020.1 in /Users/faridounet/Research/PhD/.venv_DQVRP/lib/python3.12/site-packages (from pandas->stable-baselines3<3.0,>=2.3.0->sb3_contrib) (2024.2)\n",
      "Requirement already satisfied: tzdata>=2022.7 in /Users/faridounet/Research/PhD/.venv_DQVRP/lib/python3.12/site-packages (from pandas->stable-baselines3<3.0,>=2.3.0->sb3_contrib) (2024.2)\n",
      "Requirement already satisfied: six>=1.5 in /Users/faridounet/Research/PhD/.venv_DQVRP/lib/python3.12/site-packages (from python-dateutil>=2.7->matplotlib->stable-baselines3<3.0,>=2.3.0->sb3_contrib) (1.16.0)\n",
      "Requirement already satisfied: MarkupSafe>=2.0 in /Users/faridounet/Research/PhD/.venv_DQVRP/lib/python3.12/site-packages (from jinja2->torch>=1.13->stable-baselines3<3.0,>=2.3.0->sb3_contrib) (3.0.0)\n",
      "Requirement already satisfied: mpmath<1.4,>=1.1.0 in /Users/faridounet/Research/PhD/.venv_DQVRP/lib/python3.12/site-packages (from sympy->torch>=1.13->stable-baselines3<3.0,>=2.3.0->sb3_contrib) (1.3.0)\n",
      "Downloading sb3_contrib-2.3.0-py3-none-any.whl (80 kB)\n",
      "Installing collected packages: sb3_contrib\n",
      "Successfully installed sb3_contrib-2.3.0\n",
      "Note: you may need to restart the kernel to use updated packages.\n"
     ]
    }
   ],
   "source": [
    "%pip install sb3_contrib"
   ]
  },
  {
   "cell_type": "code",
   "execution_count": 54,
   "metadata": {},
   "outputs": [
    {
     "data": {
      "text/plain": [
       "np.True_"
      ]
     },
     "execution_count": 54,
     "metadata": {},
     "output_type": "execute_result"
    }
   ],
   "source": [
    "D = np.load('distance_matrix.npy')\n",
    "(D + np.eye(len(D)) > 0).all()"
   ]
  },
  {
   "cell_type": "code",
   "execution_count": 57,
   "metadata": {},
   "outputs": [
    {
     "data": {
      "text/plain": [
       "array([], dtype=int64)"
      ]
     },
     "execution_count": 57,
     "metadata": {},
     "output_type": "execute_result"
    }
   ],
   "source": [
    "to_delete = np.where(D + np.eye(len(D)) <= 0)[0]\n",
    "to_delete"
   ]
  },
  {
   "cell_type": "code",
   "execution_count": 51,
   "metadata": {},
   "outputs": [
    {
     "data": {
      "text/plain": [
       "np.True_"
      ]
     },
     "execution_count": 51,
     "metadata": {},
     "output_type": "execute_result"
    }
   ],
   "source": [
    "D = np.delete(D, to_delete, 0)\n",
    "D = np.delete(D, to_delete, 1)\n",
    "(D + np.eye(len(D)) > 0).all()"
   ]
  },
  {
   "cell_type": "code",
   "execution_count": 53,
   "metadata": {},
   "outputs": [],
   "source": [
    "D.shape\n",
    "# np.save('distance_matrix', D)"
   ]
  },
  {
   "cell_type": "code",
   "execution_count": 43,
   "metadata": {},
   "outputs": [
    {
     "name": "stdout",
     "output_type": "stream",
     "text": [
      "(28747,)\n"
     ]
    }
   ],
   "source": [
    "orders = np.array(np.load('orders.npy'), dtype=int)\n",
    "print(orders.shape)\n",
    "bin = np.bincount(orders)"
   ]
  },
  {
   "cell_type": "code",
   "execution_count": 55,
   "metadata": {},
   "outputs": [
    {
     "name": "stdout",
     "output_type": "stream",
     "text": [
      "[50  2 52 ...  1 17  1]\n"
     ]
    },
    {
     "data": {
      "text/plain": [
       "(2118,)"
      ]
     },
     "execution_count": 55,
     "metadata": {},
     "output_type": "execute_result"
    }
   ],
   "source": [
    "print(bin)\n",
    "bin = np.delete(bin, to_delete, 0)\n",
    "bin.shape"
   ]
  },
  {
   "cell_type": "code",
   "execution_count": 58,
   "metadata": {},
   "outputs": [],
   "source": [
    "prob = bin/bin.sum()"
   ]
  },
  {
   "cell_type": "code",
   "execution_count": 60,
   "metadata": {},
   "outputs": [],
   "source": [
    "assert prob.sum() == 1\n",
    "assert len(D) == len(prob)"
   ]
  },
  {
   "cell_type": "code",
   "execution_count": 47,
   "metadata": {},
   "outputs": [],
   "source": [
    "p = prob[0]\n",
    "prob += p/(len(prob)-1)\n",
    "prob[0] = 0\n",
    "assert prob.sum() == 1"
   ]
  },
  {
   "cell_type": "code",
   "execution_count": 45,
   "metadata": {},
   "outputs": [
    {
     "data": {
      "text/plain": [
       "<BarContainer object of 2198 artists>"
      ]
     },
     "execution_count": 45,
     "metadata": {},
     "output_type": "execute_result"
    },
    {
     "data": {
      "image/png": "[encoded data removed]",
      "text/plain": [
       "<Figure size 640x480 with 1 Axes>"
      ]
     },
     "metadata": {},
     "output_type": "display_data"
    }
   ],
   "source": [
    "plt.bar(range(len(bin)), prob)"
   ]
  },
  {
   "cell_type": "code",
   "execution_count": 30,
   "metadata": {},
   "outputs": [
    {
     "data": {
      "text/plain": [
       "array({np.int64(0), np.int64(1), np.int64(2), np.int64(3), np.int64(4), np.int64(5), np.int64(6), np.int64(7), np.int64(8), np.int64(9), np.int64(10), np.int64(11), np.int64(12), np.int64(13), np.int64(14), np.int64(15), np.int64(16), np.int64(17), np.int64(18), np.int64(19), np.int64(20), np.int64(21), np.int64(22), np.int64(23), np.int64(24), np.int64(25), np.int64(26), np.int64(27), np.int64(28), np.int64(29), np.int64(30), np.int64(31), np.int64(32), np.int64(33), np.int64(34), np.int64(35), np.int64(36), np.int64(37), np.int64(38), np.int64(39), np.int64(40), np.int64(41), np.int64(42), np.int64(43), np.int64(44), np.int64(45), np.int64(46), np.int64(47), np.int64(48), np.int64(49), np.int64(50), np.int64(51), np.int64(52), np.int64(53), np.int64(54), np.int64(55), np.int64(56), np.int64(57), np.int64(58), np.int64(59), np.int64(60), np.int64(61), np.int64(62), np.int64(63), np.int64(64), np.int64(65), np.int64(66), np.int64(67), np.int64(68), np.int64(69), np.int64(70), np.int64(71), np.int64(72), np.int64(73), np.int64(74), np.int64(75), np.int64(76), np.int64(77), np.int64(78), np.int64(79), np.int64(80), np.int64(81), np.int64(82), np.int64(83), np.int64(84), np.int64(85), np.int64(86), np.int64(87), np.int64(88), np.int64(89), np.int64(90), np.int64(91), np.int64(92), np.int64(93), np.int64(94), np.int64(95), np.int64(96), np.int64(97), np.int64(98), np.int64(99), np.int64(100), np.int64(101), np.int64(102), np.int64(103), np.int64(104), np.int64(105), np.int64(106), np.int64(107), np.int64(108), np.int64(109), np.int64(110), np.int64(111), np.int64(112), np.int64(113), np.int64(114), np.int64(115), np.int64(116), np.int64(117), np.int64(118), np.int64(119), np.int64(120), np.int64(121), np.int64(122), np.int64(123), np.int64(124), np.int64(125), np.int64(126), np.int64(127), np.int64(128), np.int64(129), np.int64(130), np.int64(131), np.int64(132), np.int64(133), np.int64(134), np.int64(135), np.int64(136), np.int64(137), np.int64(138), np.int64(139), np.int64(140), np.int64(141), np.int64(142), np.int64(143), np.int64(144), np.int64(145), np.int64(146), np.int64(147), np.int64(148), np.int64(149), np.int64(150), np.int64(151), np.int64(152), np.int64(153), np.int64(154), np.int64(155), np.int64(156), np.int64(157), np.int64(158), np.int64(159), np.int64(160), np.int64(161), np.int64(162), np.int64(163), np.int64(164), np.int64(165), np.int64(166), np.int64(167), np.int64(168), np.int64(169), np.int64(170), np.int64(171), np.int64(172), np.int64(173), np.int64(174), np.int64(175), np.int64(176), np.int64(177), np.int64(178), np.int64(179), np.int64(180), np.int64(181), np.int64(182), np.int64(183), np.int64(184), np.int64(185), np.int64(186), np.int64(187), np.int64(188), np.int64(189), np.int64(190), np.int64(191), np.int64(192), np.int64(193), np.int64(194), np.int64(195), np.int64(196), np.int64(197), np.int64(198), np.int64(199), np.int64(200), np.int64(201), np.int64(202), np.int64(203), np.int64(204), np.int64(205), np.int64(206), np.int64(207), np.int64(208), np.int64(209), np.int64(210), np.int64(211), np.int64(212), np.int64(213), np.int64(214), np.int64(215), np.int64(216), np.int64(217), np.int64(218), np.int64(219), np.int64(220), np.int64(221), np.int64(222), np.int64(223), np.int64(224), np.int64(225), np.int64(226), np.int64(227), np.int64(228), np.int64(229), np.int64(230), np.int64(231), np.int64(232), np.int64(233), np.int64(234), np.int64(235), np.int64(236), np.int64(237), np.int64(238), np.int64(239), np.int64(240), np.int64(241), np.int64(242), np.int64(243), np.int64(244), np.int64(245), np.int64(246), np.int64(247), np.int64(248), np.int64(249), np.int64(250), np.int64(251), np.int64(252), np.int64(253), np.int64(254), np.int64(255), np.int64(256), np.int64(257), np.int64(258), np.int64(259), np.int64(260), np.int64(261), np.int64(262), np.int64(263), np.int64(264), np.int64(265), np.int64(266), np.int64(267), np.int64(268), np.int64(269), np.int64(270), np.int64(271), np.int64(272), np.int64(273), np.int64(274), np.int64(275), np.int64(276), np.int64(277), np.int64(278), np.int64(279), np.int64(280), np.int64(281), np.int64(282), np.int64(283), np.int64(284), np.int64(285), np.int64(286), np.int64(287), np.int64(288), np.int64(289), np.int64(290), np.int64(291), np.int64(292), np.int64(293), np.int64(294), np.int64(295), np.int64(296), np.int64(297), np.int64(298), np.int64(299), np.int64(300), np.int64(301), np.int64(302), np.int64(303), np.int64(304), np.int64(305), np.int64(306), np.int64(307), np.int64(308), np.int64(309), np.int64(310), np.int64(311), np.int64(312), np.int64(313), np.int64(314), np.int64(315), np.int64(316), np.int64(317), np.int64(318), np.int64(319), np.int64(320), np.int64(321), np.int64(322), np.int64(323), np.int64(324), np.int64(325), np.int64(326), np.int64(327), np.int64(328), np.int64(329), np.int64(330), np.int64(331), np.int64(332), np.int64(333), np.int64(334), np.int64(335), np.int64(336), np.int64(337), np.int64(338), np.int64(339), np.int64(340), np.int64(341), np.int64(342), np.int64(343), np.int64(344), np.int64(345), np.int64(346), np.int64(347), np.int64(348), np.int64(349), np.int64(350), np.int64(351), np.int64(352), np.int64(353), np.int64(354), np.int64(355), np.int64(356), np.int64(357), np.int64(358), np.int64(359), np.int64(360), np.int64(361), np.int64(362), np.int64(363), np.int64(364), np.int64(365), np.int64(366), np.int64(367), np.int64(368), np.int64(369), np.int64(370), np.int64(371), np.int64(372), np.int64(373), np.int64(374), np.int64(375), np.int64(376), np.int64(377), np.int64(378), np.int64(379), np.int64(380), np.int64(381), np.int64(382), np.int64(383), np.int64(384), np.int64(385), np.int64(386), np.int64(387), np.int64(388), np.int64(389), np.int64(390), np.int64(391), np.int64(392), np.int64(393), np.int64(394), np.int64(395), np.int64(396), np.int64(397), np.int64(398), np.int64(399), np.int64(400), np.int64(401), np.int64(402), np.int64(403), np.int64(404), np.int64(405), np.int64(406), np.int64(407), np.int64(408), np.int64(409), np.int64(410), np.int64(411), np.int64(412), np.int64(413), np.int64(414), np.int64(415), np.int64(416), np.int64(417), np.int64(418), np.int64(419), np.int64(420), np.int64(421), np.int64(422), np.int64(423), np.int64(424), np.int64(425), np.int64(426), np.int64(427), np.int64(428), np.int64(429), np.int64(430), np.int64(431), np.int64(432), np.int64(433), np.int64(434), np.int64(435), np.int64(436), np.int64(437), np.int64(438), np.int64(439), np.int64(440), np.int64(441), np.int64(442), np.int64(443), np.int64(444), np.int64(445), np.int64(446), np.int64(447), np.int64(448), np.int64(449), np.int64(450), np.int64(451), np.int64(452), np.int64(453), np.int64(454), np.int64(455), np.int64(456), np.int64(457), np.int64(458), np.int64(459), np.int64(460), np.int64(461), np.int64(462), np.int64(463), np.int64(464), np.int64(465), np.int64(466), np.int64(467), np.int64(468), np.int64(469), np.int64(470), np.int64(471), np.int64(472), np.int64(473), np.int64(474), np.int64(475), np.int64(476), np.int64(477), np.int64(478), np.int64(479), np.int64(480), np.int64(481), np.int64(482), np.int64(483), np.int64(484), np.int64(485), np.int64(486), np.int64(487), np.int64(488), np.int64(489), np.int64(490), np.int64(491), np.int64(492), np.int64(493), np.int64(494), np.int64(495), np.int64(496), np.int64(497), np.int64(498), np.int64(499), np.int64(500), np.int64(501), np.int64(502), np.int64(503), np.int64(504), np.int64(505), np.int64(506), np.int64(507), np.int64(508), np.int64(509), np.int64(510), np.int64(511), np.int64(512), np.int64(513), np.int64(514), np.int64(515), np.int64(516), np.int64(517), np.int64(518), np.int64(519), np.int64(520), np.int64(521), np.int64(522), np.int64(523), np.int64(524), np.int64(525), np.int64(526), np.int64(527), np.int64(528), np.int64(529), np.int64(530), np.int64(531), np.int64(532), np.int64(533), np.int64(534), np.int64(535), np.int64(536), np.int64(537), np.int64(538), np.int64(539), np.int64(540), np.int64(541), np.int64(542), np.int64(543), np.int64(544), np.int64(545), np.int64(546), np.int64(547), np.int64(548), np.int64(549), np.int64(550), np.int64(551), np.int64(552), np.int64(553), np.int64(554), np.int64(555), np.int64(556), np.int64(557), np.int64(558), np.int64(559), np.int64(560), np.int64(561), np.int64(562), np.int64(563), np.int64(564), np.int64(565), np.int64(566), np.int64(567), np.int64(568), np.int64(569), np.int64(570), np.int64(571), np.int64(572), np.int64(573), np.int64(574), np.int64(575), np.int64(576), np.int64(577), np.int64(578), np.int64(579), np.int64(580), np.int64(581), np.int64(582), np.int64(583), np.int64(584), np.int64(585), np.int64(586), np.int64(587), np.int64(588), np.int64(589), np.int64(590), np.int64(591), np.int64(592), np.int64(593), np.int64(594), np.int64(595), np.int64(596), np.int64(597), np.int64(598), np.int64(599), np.int64(600), np.int64(601), np.int64(602), np.int64(603), np.int64(604), np.int64(605), np.int64(606), np.int64(607), np.int64(608), np.int64(609), np.int64(610), np.int64(611), np.int64(612), np.int64(613), np.int64(614), np.int64(615), np.int64(616), np.int64(617), np.int64(618), np.int64(619), np.int64(620), np.int64(621), np.int64(622), np.int64(623), np.int64(624), np.int64(625), np.int64(626), np.int64(627), np.int64(628), np.int64(629), np.int64(630), np.int64(631), np.int64(632), np.int64(633), np.int64(634), np.int64(635), np.int64(636), np.int64(637), np.int64(638), np.int64(639), np.int64(640), np.int64(641), np.int64(642), np.int64(643), np.int64(644), np.int64(645), np.int64(646), np.int64(647), np.int64(648), np.int64(649), np.int64(650), np.int64(651), np.int64(652), np.int64(653), np.int64(654), np.int64(655), np.int64(656), np.int64(657), np.int64(658), np.int64(659), np.int64(660), np.int64(661), np.int64(662), np.int64(663), np.int64(664), np.int64(665), np.int64(666), np.int64(667), np.int64(668), np.int64(669), np.int64(670), np.int64(671), np.int64(672), np.int64(673), np.int64(674), np.int64(675), np.int64(676), np.int64(677), np.int64(678), np.int64(679), np.int64(680), np.int64(681), np.int64(682), np.int64(683), np.int64(684), np.int64(685), np.int64(686), np.int64(687), np.int64(688), np.int64(689), np.int64(690), np.int64(691), np.int64(692), np.int64(693), np.int64(694), np.int64(695), np.int64(696), np.int64(697), np.int64(698), np.int64(699), np.int64(700), np.int64(701), np.int64(702), np.int64(703), np.int64(704), np.int64(705), np.int64(706), np.int64(707), np.int64(708), np.int64(709), np.int64(710), np.int64(711), np.int64(712), np.int64(713), np.int64(714), np.int64(715), np.int64(716), np.int64(717), np.int64(718), np.int64(719), np.int64(720), np.int64(721), np.int64(722), np.int64(723), np.int64(724), np.int64(725), np.int64(726), np.int64(727), np.int64(728), np.int64(729), np.int64(730), np.int64(731), np.int64(732), np.int64(733), np.int64(734), np.int64(735), np.int64(736), np.int64(737), np.int64(738), np.int64(739), np.int64(740), np.int64(741), np.int64(742), np.int64(743), np.int64(744), np.int64(745), np.int64(746), np.int64(747), np.int64(748), np.int64(749), np.int64(750), np.int64(751), np.int64(752), np.int64(753), np.int64(754), np.int64(755), np.int64(756), np.int64(757), np.int64(758), np.int64(759), np.int64(760), np.int64(761), np.int64(762), np.int64(763), np.int64(764), np.int64(765), np.int64(766), np.int64(767), np.int64(768), np.int64(769), np.int64(770), np.int64(771), np.int64(772), np.int64(773), np.int64(774), np.int64(775), np.int64(776), np.int64(777), np.int64(778), np.int64(779), np.int64(780), np.int64(781), np.int64(782), np.int64(783), np.int64(784), np.int64(785), np.int64(786), np.int64(787), np.int64(788), np.int64(789), np.int64(790), np.int64(791), np.int64(792), np.int64(793), np.int64(794), np.int64(795), np.int64(796), np.int64(797), np.int64(798), np.int64(799), np.int64(800), np.int64(801), np.int64(802), np.int64(803), np.int64(804), np.int64(805), np.int64(806), np.int64(807), np.int64(808), np.int64(809), np.int64(810), np.int64(811), np.int64(812), np.int64(813), np.int64(814), np.int64(815), np.int64(816), np.int64(817), np.int64(818), np.int64(819), np.int64(820), np.int64(821), np.int64(822), np.int64(823), np.int64(824), np.int64(825), np.int64(826), np.int64(827), np.int64(828), np.int64(829), np.int64(830), np.int64(831), np.int64(832), np.int64(833), np.int64(834), np.int64(835), np.int64(836), np.int64(837), np.int64(838), np.int64(839), np.int64(840), np.int64(841), np.int64(842), np.int64(843), np.int64(844), np.int64(845), np.int64(846), np.int64(847), np.int64(848), np.int64(849), np.int64(850), np.int64(851), np.int64(852), np.int64(853), np.int64(854), np.int64(855), np.int64(856), np.int64(857), np.int64(858), np.int64(859), np.int64(860), np.int64(861), np.int64(862), np.int64(863), np.int64(864), np.int64(865), np.int64(866), np.int64(867), np.int64(868), np.int64(869), np.int64(870), np.int64(871), np.int64(872), np.int64(873), np.int64(874), np.int64(875), np.int64(876), np.int64(877), np.int64(878), np.int64(879), np.int64(880), np.int64(881), np.int64(882), np.int64(883), np.int64(884), np.int64(885), np.int64(886), np.int64(887), np.int64(888), np.int64(889), np.int64(890), np.int64(891), np.int64(892), np.int64(893), np.int64(894), np.int64(895), np.int64(896), np.int64(897), np.int64(898), np.int64(899), np.int64(900), np.int64(901), np.int64(902), np.int64(903), np.int64(904), np.int64(905), np.int64(906), np.int64(907), np.int64(908), np.int64(909), np.int64(910), np.int64(911), np.int64(912), np.int64(913), np.int64(914), np.int64(915), np.int64(916), np.int64(917), np.int64(918), np.int64(919), np.int64(920), np.int64(921), np.int64(922), np.int64(923), np.int64(924), np.int64(925), np.int64(926), np.int64(927), np.int64(928), np.int64(929), np.int64(930), np.int64(931), np.int64(932), np.int64(933), np.int64(934), np.int64(935), np.int64(936), np.int64(937), np.int64(938), np.int64(939), np.int64(940), np.int64(941), np.int64(942), np.int64(943), np.int64(944), np.int64(945), np.int64(946), np.int64(947), np.int64(948), np.int64(949), np.int64(950), np.int64(951), np.int64(952), np.int64(953), np.int64(954), np.int64(955), np.int64(956), np.int64(957), np.int64(958), np.int64(959), np.int64(960), np.int64(961), np.int64(962), np.int64(963), np.int64(964), np.int64(965), np.int64(966), np.int64(967), np.int64(968), np.int64(969), np.int64(970), np.int64(971), np.int64(972), np.int64(973), np.int64(974), np.int64(975), np.int64(976), np.int64(977), np.int64(978), np.int64(979), np.int64(980), np.int64(981), np.int64(982), np.int64(983), np.int64(984), np.int64(985), np.int64(986), np.int64(987), np.int64(988), np.int64(989), np.int64(990), np.int64(991), np.int64(992), np.int64(993), np.int64(994), np.int64(995), np.int64(996), np.int64(997), np.int64(998), np.int64(999), np.int64(1000), np.int64(1001), np.int64(1002), np.int64(1003), np.int64(1004), np.int64(1005), np.int64(1006), np.int64(1007), np.int64(1008), np.int64(1009), np.int64(1010), np.int64(1011), np.int64(1012), np.int64(1013), np.int64(1014), np.int64(1015), np.int64(1016), np.int64(1017), np.int64(1018), np.int64(1019), np.int64(1020), np.int64(1021), np.int64(1022), np.int64(1023), np.int64(1024), np.int64(1025), np.int64(1026), np.int64(1027), np.int64(1028), np.int64(1029), np.int64(1030), np.int64(1031), np.int64(1032), np.int64(1033), np.int64(1034), np.int64(1035), np.int64(1036), np.int64(1037), np.int64(1038), np.int64(1039), np.int64(1040), np.int64(1041), np.int64(1042), np.int64(1043), np.int64(1044), np.int64(1045), np.int64(1046), np.int64(1047), np.int64(1048), np.int64(1049), np.int64(1050), np.int64(1051), np.int64(1052), np.int64(1053), np.int64(1054), np.int64(1055), np.int64(1056), np.int64(1057), np.int64(1058), np.int64(1059), np.int64(1060), np.int64(1061), np.int64(1062), np.int64(1063), np.int64(1064), np.int64(1065), np.int64(1066), np.int64(1067), np.int64(1068), np.int64(1069), np.int64(1070), np.int64(1071), np.int64(1072), np.int64(1073), np.int64(1074), np.int64(1075), np.int64(1076), np.int64(1077), np.int64(1078), np.int64(1079), np.int64(1080), np.int64(1081), np.int64(1082), np.int64(1083), np.int64(1084), np.int64(1085), np.int64(1086), np.int64(1087), np.int64(1088), np.int64(1089), np.int64(1090), np.int64(1091), np.int64(1092), np.int64(1093), np.int64(1094), np.int64(1095), np.int64(1096), np.int64(1097), np.int64(1098), np.int64(1099), np.int64(1100), np.int64(1101), np.int64(1102), np.int64(1103), np.int64(1104), np.int64(1105), np.int64(1106), np.int64(1107), np.int64(1108), np.int64(1109), np.int64(1110), np.int64(1111), np.int64(1112), np.int64(1113), np.int64(1114), np.int64(1115), np.int64(1116), np.int64(1117), np.int64(1118), np.int64(1119), np.int64(1120), np.int64(1121), np.int64(1122), np.int64(1123), np.int64(1124), np.int64(1125), np.int64(1126), np.int64(1127), np.int64(1128), np.int64(1129), np.int64(1130), np.int64(1131), np.int64(1132), np.int64(1133), np.int64(1134), np.int64(1135), np.int64(1136), np.int64(1137), np.int64(1138), np.int64(1139), np.int64(1140), np.int64(1141), np.int64(1142), np.int64(1143), np.int64(1144), np.int64(1145), np.int64(1146), np.int64(1147), np.int64(1148), np.int64(1149), np.int64(1150), np.int64(1151), np.int64(1152), np.int64(1153), np.int64(1154), np.int64(1155), np.int64(1156), np.int64(1157), np.int64(1158), np.int64(1159), np.int64(1160), np.int64(1161), np.int64(1162), np.int64(1163), np.int64(1164), np.int64(1165), np.int64(1166), np.int64(1167), np.int64(1168), np.int64(1169), np.int64(1170), np.int64(1171), np.int64(1172), np.int64(1173), np.int64(1174), np.int64(1175), np.int64(1176), np.int64(1177), np.int64(1178), np.int64(1179), np.int64(1180), np.int64(1181), np.int64(1182), np.int64(1183), np.int64(1184), np.int64(1185), np.int64(1186), np.int64(1187), np.int64(1188), np.int64(1189), np.int64(1190), np.int64(1191), np.int64(1192), np.int64(1193), np.int64(1194), np.int64(1195), np.int64(1196), np.int64(1197), np.int64(1198), np.int64(1199), np.int64(1200), np.int64(1201), np.int64(1202), np.int64(1203), np.int64(1204), np.int64(1205), np.int64(1206), np.int64(1207), np.int64(1208), np.int64(1209), np.int64(1210), np.int64(1211), np.int64(1212), np.int64(1213), np.int64(1214), np.int64(1215), np.int64(1216), np.int64(1217), np.int64(1218), np.int64(1219), np.int64(1220), np.int64(1221), np.int64(1222), np.int64(1223), np.int64(1224), np.int64(1225), np.int64(1226), np.int64(1227), np.int64(1228), np.int64(1229), np.int64(1230), np.int64(1231), np.int64(1232), np.int64(1233), np.int64(1234), np.int64(1235), np.int64(1236), np.int64(1237), np.int64(1238), np.int64(1239), np.int64(1240), np.int64(1241), np.int64(1242), np.int64(1243), np.int64(1244), np.int64(1245), np.int64(1246), np.int64(1247), np.int64(1248), np.int64(1249), np.int64(1250), np.int64(1251), np.int64(1252), np.int64(1253), np.int64(1254), np.int64(1255), np.int64(1256), np.int64(1257), np.int64(1258), np.int64(1259), np.int64(1260), np.int64(1261), np.int64(1262), np.int64(1263), np.int64(1264), np.int64(1265), np.int64(1266), np.int64(1267), np.int64(1268), np.int64(1269), np.int64(1270), np.int64(1271), np.int64(1272), np.int64(1273), np.int64(1274), np.int64(1275), np.int64(1276), np.int64(1277), np.int64(1278), np.int64(1279), np.int64(1280), np.int64(1281), np.int64(1282), np.int64(1283), np.int64(1284), np.int64(1285), np.int64(1286), np.int64(1287), np.int64(1288), np.int64(1289), np.int64(1290), np.int64(1291), np.int64(1292), np.int64(1293), np.int64(1294), np.int64(1295), np.int64(1296), np.int64(1297), np.int64(1298), np.int64(1299), np.int64(1300), np.int64(1301), np.int64(1302), np.int64(1303), np.int64(1304), np.int64(1305), np.int64(1306), np.int64(1307), np.int64(1308), np.int64(1309), np.int64(1310), np.int64(1311), np.int64(1312), np.int64(1313), np.int64(1314), np.int64(1315), np.int64(1316), np.int64(1317), np.int64(1318), np.int64(1319), np.int64(1320), np.int64(1321), np.int64(1322), np.int64(1323), np.int64(1324), np.int64(1325), np.int64(1326), np.int64(1327), np.int64(1328), np.int64(1329), np.int64(1330), np.int64(1331), np.int64(1332), np.int64(1333), np.int64(1334), np.int64(1335), np.int64(1336), np.int64(1337), np.int64(1338), np.int64(1339), np.int64(1340), np.int64(1341), np.int64(1342), np.int64(1343), np.int64(1344), np.int64(1345), np.int64(1346), np.int64(1347), np.int64(1348), np.int64(1349), np.int64(1350), np.int64(1351), np.int64(1352), np.int64(1353), np.int64(1354), np.int64(1355), np.int64(1356), np.int64(1357), np.int64(1358), np.int64(1359), np.int64(1360), np.int64(1361), np.int64(1362), np.int64(1363), np.int64(1364), np.int64(1365), np.int64(1366), np.int64(1367), np.int64(1368), np.int64(1369), np.int64(1370), np.int64(1371), np.int64(1372), np.int64(1373), np.int64(1374), np.int64(1375), np.int64(1376), np.int64(1377), np.int64(1378), np.int64(1379), np.int64(1380), np.int64(1381), np.int64(1382), np.int64(1383), np.int64(1384), np.int64(1385), np.int64(1386), np.int64(1387), np.int64(1388), np.int64(1389), np.int64(1390), np.int64(1391), np.int64(1392), np.int64(1393), np.int64(1394), np.int64(1395), np.int64(1396), np.int64(1397), np.int64(1398), np.int64(1399), np.int64(1400), np.int64(1401), np.int64(1402), np.int64(1403), np.int64(1404), np.int64(1405), np.int64(1406), np.int64(1407), np.int64(1408), np.int64(1409), np.int64(1410), np.int64(1411), np.int64(1412), np.int64(1413), np.int64(1414), np.int64(1415), np.int64(1416), np.int64(1417), np.int64(1418), np.int64(1419), np.int64(1420), np.int64(1421), np.int64(1422), np.int64(1423), np.int64(1424), np.int64(1425), np.int64(1426), np.int64(1427), np.int64(1428), np.int64(1429), np.int64(1430), np.int64(1431), np.int64(1432), np.int64(1433), np.int64(1434), np.int64(1435), np.int64(1436), np.int64(1437), np.int64(1438), np.int64(1439), np.int64(1440), np.int64(1441), np.int64(1442), np.int64(1443), np.int64(1444), np.int64(1445), np.int64(1446), np.int64(1447), np.int64(1448), np.int64(1449), np.int64(1450), np.int64(1451), np.int64(1452), np.int64(1453), np.int64(1454), np.int64(1455), np.int64(1456), np.int64(1457), np.int64(1458), np.int64(1459), np.int64(1460), np.int64(1461), np.int64(1462), np.int64(1463), np.int64(1464), np.int64(1465), np.int64(1466), np.int64(1467), np.int64(1468), np.int64(1469), np.int64(1470), np.int64(1471), np.int64(1472), np.int64(1473), np.int64(1474), np.int64(1475), np.int64(1476), np.int64(1477), np.int64(1478), np.int64(1479), np.int64(1480), np.int64(1481), np.int64(1482), np.int64(1483), np.int64(1484), np.int64(1485), np.int64(1486), np.int64(1487), np.int64(1488), np.int64(1489), np.int64(1490), np.int64(1491), np.int64(1492), np.int64(1493), np.int64(1494), np.int64(1495), np.int64(1496), np.int64(1497), np.int64(1498), np.int64(1499), np.int64(1500), np.int64(1501), np.int64(1502), np.int64(1503), np.int64(1504), np.int64(1505), np.int64(1506), np.int64(1507), np.int64(1508), np.int64(1509), np.int64(1510), np.int64(1511), np.int64(1512), np.int64(1513), np.int64(1514), np.int64(1515), np.int64(1516), np.int64(1517), np.int64(1518), np.int64(1519), np.int64(1520), np.int64(1521), np.int64(1522), np.int64(1523), np.int64(1524), np.int64(1525), np.int64(1526), np.int64(1527), np.int64(1528), np.int64(1529), np.int64(1530), np.int64(1531), np.int64(1532), np.int64(1533), np.int64(1534), np.int64(1535), np.int64(1536), np.int64(1537), np.int64(1538), np.int64(1539), np.int64(1540), np.int64(1541), np.int64(1542), np.int64(1543), np.int64(1544), np.int64(1545), np.int64(1546), np.int64(1547), np.int64(1548), np.int64(1549), np.int64(1550), np.int64(1551), np.int64(1552), np.int64(1553), np.int64(1554), np.int64(1555), np.int64(1556), np.int64(1557), np.int64(1558), np.int64(1559), np.int64(1560), np.int64(1561), np.int64(1562), np.int64(1563), np.int64(1564), np.int64(1565), np.int64(1566), np.int64(1567), np.int64(1568), np.int64(1569), np.int64(1570), np.int64(1571), np.int64(1572), np.int64(1573), np.int64(1574), np.int64(1575), np.int64(1576), np.int64(1577), np.int64(1578), np.int64(1579), np.int64(1580), np.int64(1581), np.int64(1582), np.int64(1583), np.int64(1584), np.int64(1585), np.int64(1586), np.int64(1587), np.int64(1588), np.int64(1589), np.int64(1590), np.int64(1591), np.int64(1592), np.int64(1593), np.int64(1594), np.int64(1595), np.int64(1596), np.int64(1597), np.int64(1598), np.int64(1599), np.int64(1600), np.int64(1601), np.int64(1602), np.int64(1603), np.int64(1604), np.int64(1605), np.int64(1606), np.int64(1607), np.int64(1608), np.int64(1609), np.int64(1610), np.int64(1611), np.int64(1612), np.int64(1613), np.int64(1614), np.int64(1615), np.int64(1616), np.int64(1617), np.int64(1618), np.int64(1619), np.int64(1620), np.int64(1621), np.int64(1622), np.int64(1623), np.int64(1624), np.int64(1625), np.int64(1626), np.int64(1627), np.int64(1628), np.int64(1629), np.int64(1630), np.int64(1631), np.int64(1632), np.int64(1633), np.int64(1634), np.int64(1635), np.int64(1636), np.int64(1637), np.int64(1638), np.int64(1639), np.int64(1640), np.int64(1641), np.int64(1642), np.int64(1643), np.int64(1644), np.int64(1645), np.int64(1646), np.int64(1647), np.int64(1648), np.int64(1649), np.int64(1650), np.int64(1651), np.int64(1652), np.int64(1653), np.int64(1654), np.int64(1655), np.int64(1656), np.int64(1657), np.int64(1658), np.int64(1659), np.int64(1660), np.int64(1661), np.int64(1662), np.int64(1663), np.int64(1664), np.int64(1665), np.int64(1666), np.int64(1667), np.int64(1668), np.int64(1669), np.int64(1670), np.int64(1671), np.int64(1672), np.int64(1673), np.int64(1674), np.int64(1675), np.int64(1676), np.int64(1677), np.int64(1678), np.int64(1679), np.int64(1680), np.int64(1681), np.int64(1682), np.int64(1683), np.int64(1684), np.int64(1685), np.int64(1686), np.int64(1687), np.int64(1688), np.int64(1689), np.int64(1690), np.int64(1691), np.int64(1692), np.int64(1693), np.int64(1694), np.int64(1695), np.int64(1696), np.int64(1697), np.int64(1698), np.int64(1699), np.int64(1700), np.int64(1701), np.int64(1702), np.int64(1703), np.int64(1704), np.int64(1705), np.int64(1706), np.int64(1707), np.int64(1708), np.int64(1709), np.int64(1710), np.int64(1711), np.int64(1712), np.int64(1713), np.int64(1714), np.int64(1715), np.int64(1716), np.int64(1717), np.int64(1718), np.int64(1719), np.int64(1720), np.int64(1721), np.int64(1722), np.int64(1723), np.int64(1724), np.int64(1725), np.int64(1726), np.int64(1727), np.int64(1728), np.int64(1729), np.int64(1730), np.int64(1731), np.int64(1732), np.int64(1733), np.int64(1734), np.int64(1735), np.int64(1736), np.int64(1737), np.int64(1738), np.int64(1739), np.int64(1740), np.int64(1741), np.int64(1742), np.int64(1743), np.int64(1744), np.int64(1745), np.int64(1746), np.int64(1747), np.int64(1748), np.int64(1749), np.int64(1750), np.int64(1751), np.int64(1752), np.int64(1753), np.int64(1754), np.int64(1755), np.int64(1756), np.int64(1757), np.int64(1758), np.int64(1759), np.int64(1760), np.int64(1761), np.int64(1762), np.int64(1763), np.int64(1764), np.int64(1765), np.int64(1766), np.int64(1767), np.int64(1768), np.int64(1769), np.int64(1770), np.int64(1771), np.int64(1772), np.int64(1773), np.int64(1774), np.int64(1775), np.int64(1776), np.int64(1777), np.int64(1778), np.int64(1779), np.int64(1780), np.int64(1781), np.int64(1782), np.int64(1783), np.int64(1784), np.int64(1785), np.int64(1786), np.int64(1787), np.int64(1788), np.int64(1789), np.int64(1790), np.int64(1791), np.int64(1792), np.int64(1793), np.int64(1794), np.int64(1795), np.int64(1796), np.int64(1797), np.int64(1798), np.int64(1799), np.int64(1800), np.int64(1801), np.int64(1802), np.int64(1803), np.int64(1804), np.int64(1805), np.int64(1806), np.int64(1807), np.int64(1808), np.int64(1809), np.int64(1810), np.int64(1811), np.int64(1812), np.int64(1813), np.int64(1814), np.int64(1815), np.int64(1816), np.int64(1817), np.int64(1818), np.int64(1819), np.int64(1820), np.int64(1821), np.int64(1822), np.int64(1823), np.int64(1824), np.int64(1825), np.int64(1826), np.int64(1827), np.int64(1828), np.int64(1829), np.int64(1830), np.int64(1831), np.int64(1832), np.int64(1833), np.int64(1834), np.int64(1835), np.int64(1836), np.int64(1837), np.int64(1838), np.int64(1839), np.int64(1840), np.int64(1841), np.int64(1842), np.int64(1843), np.int64(1844), np.int64(1845), np.int64(1846), np.int64(1847), np.int64(1848), np.int64(1849), np.int64(1850), np.int64(1851), np.int64(1852), np.int64(1853), np.int64(1854), np.int64(1855), np.int64(1856), np.int64(1857), np.int64(1858), np.int64(1859), np.int64(1860), np.int64(1861), np.int64(1862), np.int64(1863), np.int64(1864), np.int64(1865), np.int64(1866), np.int64(1867), np.int64(1868), np.int64(1869), np.int64(1870), np.int64(1871), np.int64(1872), np.int64(1873), np.int64(1874), np.int64(1875), np.int64(1876), np.int64(1877), np.int64(1878), np.int64(1879), np.int64(1880), np.int64(1881), np.int64(1882), np.int64(1883), np.int64(1884), np.int64(1885), np.int64(1886), np.int64(1887), np.int64(1888), np.int64(1889), np.int64(1890), np.int64(1891), np.int64(1892), np.int64(1893), np.int64(1894), np.int64(1895), np.int64(1896), np.int64(1897), np.int64(1898), np.int64(1899), np.int64(1900), np.int64(1901), np.int64(1902), np.int64(1903), np.int64(1904), np.int64(1905), np.int64(1906), np.int64(1907), np.int64(1908), np.int64(1909), np.int64(1910), np.int64(1911), np.int64(1912), np.int64(1913), np.int64(1914), np.int64(1915), np.int64(1916), np.int64(1917), np.int64(1918), np.int64(1919), np.int64(1920), np.int64(1921), np.int64(1922), np.int64(1923), np.int64(1924), np.int64(1925), np.int64(1926), np.int64(1927), np.int64(1928), np.int64(1929), np.int64(1930), np.int64(1931), np.int64(1932), np.int64(1933), np.int64(1934), np.int64(1935), np.int64(1936), np.int64(1937), np.int64(1938), np.int64(1939), np.int64(1940), np.int64(1941), np.int64(1942), np.int64(1943), np.int64(1944), np.int64(1945), np.int64(1946), np.int64(1947), np.int64(1948), np.int64(1949), np.int64(1950), np.int64(1951), np.int64(1952), np.int64(1953), np.int64(1954), np.int64(1955), np.int64(1956), np.int64(1957), np.int64(1958), np.int64(1959), np.int64(1960), np.int64(1961), np.int64(1962), np.int64(1963), np.int64(1964), np.int64(1965), np.int64(1966), np.int64(1967), np.int64(1968), np.int64(1969), np.int64(1970), np.int64(1971), np.int64(1972), np.int64(1973), np.int64(1974), np.int64(1975), np.int64(1976), np.int64(1977), np.int64(1978), np.int64(1979), np.int64(1980), np.int64(1981), np.int64(1982), np.int64(1983), np.int64(1984), np.int64(1985), np.int64(1986), np.int64(1987), np.int64(1988), np.int64(1989), np.int64(1990), np.int64(1991), np.int64(1992), np.int64(1993), np.int64(1994), np.int64(1995), np.int64(1996), np.int64(1997), np.int64(1998), np.int64(1999), np.int64(2000), np.int64(2001), np.int64(2002), np.int64(2003), np.int64(2004), np.int64(2005), np.int64(2006), np.int64(2007), np.int64(2008), np.int64(2009), np.int64(2010), np.int64(2011), np.int64(2012), np.int64(2013), np.int64(2014), np.int64(2015), np.int64(2016), np.int64(2017), np.int64(2018), np.int64(2019), np.int64(2020), np.int64(2021), np.int64(2022), np.int64(2023), np.int64(2024), np.int64(2025), np.int64(2026), np.int64(2027), np.int64(2028), np.int64(2029), np.int64(2030), np.int64(2031), np.int64(2032), np.int64(2033), np.int64(2034), np.int64(2035), np.int64(2036), np.int64(2037), np.int64(2038), np.int64(2039), np.int64(2040), np.int64(2041), np.int64(2042), np.int64(2043), np.int64(2044), np.int64(2045), np.int64(2046), np.int64(2047), np.int64(2048), np.int64(2049), np.int64(2050), np.int64(2051), np.int64(2052), np.int64(2053), np.int64(2054), np.int64(2055), np.int64(2056), np.int64(2057), np.int64(2058), np.int64(2059), np.int64(2060), np.int64(2061), np.int64(2062), np.int64(2063), np.int64(2064), np.int64(2065), np.int64(2066), np.int64(2067), np.int64(2068), np.int64(2069), np.int64(2070), np.int64(2071), np.int64(2072), np.int64(2073), np.int64(2074), np.int64(2075), np.int64(2076), np.int64(2077), np.int64(2078), np.int64(2079), np.int64(2080), np.int64(2081), np.int64(2082), np.int64(2083), np.int64(2084), np.int64(2085), np.int64(2086), np.int64(2087), np.int64(2088), np.int64(2089), np.int64(2090), np.int64(2091), np.int64(2092), np.int64(2093), np.int64(2094), np.int64(2095), np.int64(2096), np.int64(2097), np.int64(2098), np.int64(2099), np.int64(2100), np.int64(2101), np.int64(2102), np.int64(2103), np.int64(2104), np.int64(2105), np.int64(2106), np.int64(2107), np.int64(2108), np.int64(2109), np.int64(2110), np.int64(2111), np.int64(2112), np.int64(2113), np.int64(2114), np.int64(2115), np.int64(2116), np.int64(2117), np.int64(2118), np.int64(2119), np.int64(2120), np.int64(2121), np.int64(2122), np.int64(2123), np.int64(2124), np.int64(2125), np.int64(2126), np.int64(2127), np.int64(2128), np.int64(2129), np.int64(2130), np.int64(2131), np.int64(2132), np.int64(2133), np.int64(2134), np.int64(2135), np.int64(2136), np.int64(2137), np.int64(2138), np.int64(2139), np.int64(2140), np.int64(2141), np.int64(2142), np.int64(2143), np.int64(2144), np.int64(2145), np.int64(2146), np.int64(2147), np.int64(2148), np.int64(2149), np.int64(2150), np.int64(2151), np.int64(2152), np.int64(2153), np.int64(2154), np.int64(2155), np.int64(2156), np.int64(2157), np.int64(2158), np.int64(2159), np.int64(2160), np.int64(2161), np.int64(2162), np.int64(2163), np.int64(2164), np.int64(2165), np.int64(2166), np.int64(2167), np.int64(2168), np.int64(2169), np.int64(2170), np.int64(2171), np.int64(2172), np.int64(2173), np.int64(2174), np.int64(2175), np.int64(2176), np.int64(2177), np.int64(2178), np.int64(2179), np.int64(2180), np.int64(2181), np.int64(2182), np.int64(2183), np.int64(2184), np.int64(2185), np.int64(2186), np.int64(2187), np.int64(2188), np.int64(2189), np.int64(2190), np.int64(2191), np.int64(2192), np.int64(2193), np.int64(2194), np.int64(2195), np.int64(2196), np.int64(2197)},\n",
       "      dtype=object)"
      ]
     },
     "execution_count": 30,
     "metadata": {},
     "output_type": "execute_result"
    }
   ],
   "source": [
    "np.array(set(orders))"
   ]
  },
  {
   "cell_type": "code",
   "execution_count": 28,
   "metadata": {},
   "outputs": [
    {
     "ename": "TypeError",
     "evalue": "`bins` must be an integer, a string, or an array",
     "output_type": "error",
     "traceback": [
      "\u001b[0;31m---------------------------------------------------------------------------\u001b[0m",
      "\u001b[0;31mTypeError\u001b[0m                                 Traceback (most recent call last)",
      "File \u001b[0;32m~/Research/PhD/.venv_DQVRP/lib/python3.12/site-packages/numpy/lib/_histograms_impl.py:421\u001b[0m, in \u001b[0;36m_get_bin_edges\u001b[0;34m(a, bins, range, weights)\u001b[0m\n\u001b[1;32m    420\u001b[0m \u001b[38;5;28;01mtry\u001b[39;00m:\n\u001b[0;32m--> 421\u001b[0m     n_equal_bins \u001b[38;5;241m=\u001b[39m \u001b[43moperator\u001b[49m\u001b[38;5;241;43m.\u001b[39;49m\u001b[43mindex\u001b[49m\u001b[43m(\u001b[49m\u001b[43mbins\u001b[49m\u001b[43m)\u001b[49m\n\u001b[1;32m    422\u001b[0m \u001b[38;5;28;01mexcept\u001b[39;00m \u001b[38;5;167;01mTypeError\u001b[39;00m \u001b[38;5;28;01mas\u001b[39;00m e:\n",
      "\u001b[0;31mTypeError\u001b[0m: only integer scalar arrays can be converted to a scalar index",
      "\nThe above exception was the direct cause of the following exception:\n",
      "\u001b[0;31mTypeError\u001b[0m                                 Traceback (most recent call last)",
      "Cell \u001b[0;32mIn[28], line 1\u001b[0m\n\u001b[0;32m----> 1\u001b[0m \u001b[43mnp\u001b[49m\u001b[38;5;241;43m.\u001b[39;49m\u001b[43mhistogram\u001b[49m\u001b[43m(\u001b[49m\u001b[43morders\u001b[49m\u001b[43m,\u001b[49m\u001b[43m \u001b[49m\u001b[43mbins\u001b[49m\u001b[38;5;241;43m=\u001b[39;49m\u001b[43mnp\u001b[49m\u001b[38;5;241;43m.\u001b[39;49m\u001b[43marray\u001b[49m\u001b[43m(\u001b[49m\u001b[38;5;28;43mset\u001b[39;49m\u001b[43m(\u001b[49m\u001b[43morders\u001b[49m\u001b[43m)\u001b[49m\u001b[43m)\u001b[49m\u001b[43m,\u001b[49m\u001b[43m \u001b[49m\u001b[43mdensity\u001b[49m\u001b[38;5;241;43m=\u001b[39;49m\u001b[38;5;28;43;01mTrue\u001b[39;49;00m\u001b[43m)\u001b[49m\n",
      "File \u001b[0;32m~/Research/PhD/.venv_DQVRP/lib/python3.12/site-packages/numpy/lib/_histograms_impl.py:790\u001b[0m, in \u001b[0;36mhistogram\u001b[0;34m(a, bins, range, density, weights)\u001b[0m\n\u001b[1;32m    682\u001b[0m \u001b[38;5;250m\u001b[39m\u001b[38;5;124mr\u001b[39m\u001b[38;5;124;03m\"\"\"\u001b[39;00m\n\u001b[1;32m    683\u001b[0m \u001b[38;5;124;03mCompute the histogram of a dataset.\u001b[39;00m\n\u001b[1;32m    684\u001b[0m \n\u001b[0;32m   (...)\u001b[0m\n\u001b[1;32m    786\u001b[0m \n\u001b[1;32m    787\u001b[0m \u001b[38;5;124;03m\"\"\"\u001b[39;00m\n\u001b[1;32m    788\u001b[0m a, weights \u001b[38;5;241m=\u001b[39m _ravel_and_check_weights(a, weights)\n\u001b[0;32m--> 790\u001b[0m bin_edges, uniform_bins \u001b[38;5;241m=\u001b[39m \u001b[43m_get_bin_edges\u001b[49m\u001b[43m(\u001b[49m\u001b[43ma\u001b[49m\u001b[43m,\u001b[49m\u001b[43m \u001b[49m\u001b[43mbins\u001b[49m\u001b[43m,\u001b[49m\u001b[43m \u001b[49m\u001b[38;5;28;43mrange\u001b[39;49m\u001b[43m,\u001b[49m\u001b[43m \u001b[49m\u001b[43mweights\u001b[49m\u001b[43m)\u001b[49m\n\u001b[1;32m    792\u001b[0m \u001b[38;5;66;03m# Histogram is an integer or a float array depending on the weights.\u001b[39;00m\n\u001b[1;32m    793\u001b[0m \u001b[38;5;28;01mif\u001b[39;00m weights \u001b[38;5;129;01mis\u001b[39;00m \u001b[38;5;28;01mNone\u001b[39;00m:\n",
      "File \u001b[0;32m~/Research/PhD/.venv_DQVRP/lib/python3.12/site-packages/numpy/lib/_histograms_impl.py:423\u001b[0m, in \u001b[0;36m_get_bin_edges\u001b[0;34m(a, bins, range, weights)\u001b[0m\n\u001b[1;32m    421\u001b[0m     n_equal_bins \u001b[38;5;241m=\u001b[39m operator\u001b[38;5;241m.\u001b[39mindex(bins)\n\u001b[1;32m    422\u001b[0m \u001b[38;5;28;01mexcept\u001b[39;00m \u001b[38;5;167;01mTypeError\u001b[39;00m \u001b[38;5;28;01mas\u001b[39;00m e:\n\u001b[0;32m--> 423\u001b[0m     \u001b[38;5;28;01mraise\u001b[39;00m \u001b[38;5;167;01mTypeError\u001b[39;00m(\n\u001b[1;32m    424\u001b[0m         \u001b[38;5;124m'\u001b[39m\u001b[38;5;124m`bins` must be an integer, a string, or an array\u001b[39m\u001b[38;5;124m'\u001b[39m) \u001b[38;5;28;01mfrom\u001b[39;00m \u001b[38;5;21;01me\u001b[39;00m\n\u001b[1;32m    425\u001b[0m \u001b[38;5;28;01mif\u001b[39;00m n_equal_bins \u001b[38;5;241m<\u001b[39m \u001b[38;5;241m1\u001b[39m:\n\u001b[1;32m    426\u001b[0m     \u001b[38;5;28;01mraise\u001b[39;00m \u001b[38;5;167;01mValueError\u001b[39;00m(\u001b[38;5;124m'\u001b[39m\u001b[38;5;124m`bins` must be positive, when an integer\u001b[39m\u001b[38;5;124m'\u001b[39m)\n",
      "\u001b[0;31mTypeError\u001b[0m: `bins` must be an integer, a string, or an array"
     ]
    }
   ],
   "source": [
    "np.histogram(orders, bins=np.array(set(orders)), density=True)"
   ]
  },
  {
   "cell_type": "code",
   "execution_count": 16,
   "metadata": {},
   "outputs": [
    {
     "data": {
      "text/plain": [
       "(array([0.0000000e+00, 1.9600000e+02, 4.3000000e+01, 5.9200000e+02,\n",
       "        3.2000000e+01, 6.8000000e+02, 1.4000000e+01, 6.5200000e+02,\n",
       "        8.0000000e+00, 1.6000000e+01, 7.0000000e+00, 4.9600000e+02,\n",
       "        1.8000000e+01, 3.3200000e+02, 1.2000000e+01, 4.8000000e+02,\n",
       "        2.0000000e+01, 1.4000000e+02, 2.1000000e+01, 5.6000000e+01,\n",
       "        2.2000000e+01, 1.6000000e+01, 2.3000000e+01, 4.4800000e+02,\n",
       "        1.0000000e+01, 4.8400000e+02, 2.4000000e+01, 2.1600000e+02,\n",
       "        4.4000000e+01, 1.7640000e+03, 0.0000000e+00, 0.0000000e+00,\n",
       "        0.0000000e+00, 0.0000000e+00, 3.3139600e+05, 1.1000000e+01,\n",
       "        4.4865920e+05, 2.5000000e+01, 2.8805960e+05, 2.0000000e+00,\n",
       "        2.2432960e+05, 3.5000000e+01, 1.1726320e+05, 3.4000000e+01,\n",
       "        2.1158360e+05, 3.3000000e+01, 1.1726320e+05, 5.0000000e+01,\n",
       "        5.6082400e+04, 4.6000000e+01, 1.1726320e+05, 4.9000000e+01,\n",
       "        3.1865000e+05, 4.8000000e+01, 4.8434800e+05, 1.0000000e+00,\n",
       "        9.4320400e+04, 0.0000000e+00, 0.0000000e+00, 0.0000000e+00,\n",
       "        0.0000000e+00, 0.0000000e+00, 0.0000000e+00, 0.0000000e+00,\n",
       "        0.0000000e+00, 0.0000000e+00, 0.0000000e+00, 7.3359360e+05,\n",
       "        4.5000000e+01, 1.0545408e+06, 6.0000000e+00, 1.2736000e+05,\n",
       "        5.0000000e+00, 1.2939776e+06, 4.0000000e+00, 5.5528960e+05,\n",
       "        4.7000000e+01, 5.6038400e+05, 1.5000000e+01, 3.3113600e+05,\n",
       "        3.6000000e+01, 2.0377600e+05, 3.7000000e+01, 9.2718080e+05,\n",
       "        1.6000000e+01, 8.6604800e+04, 1.7000000e+01, 4.6868480e+05,\n",
       "        1.3000000e+01, 7.6925440e+05, 9.0000000e+00, 5.8076160e+05,\n",
       "        1.9000000e+01, 3.3623040e+05, 3.0000000e+00, 6.5717760e+05,\n",
       "        0.0000000e+00, 0.0000000e+00, 0.0000000e+00, 0.0000000e+00,\n",
       "        9.0170880e+05, 4.2000000e+01, 2.7000320e+05, 4.0000000e+01,\n",
       "        9.1699200e+04, 4.1000000e+01, 2.0377600e+05, 3.9000000e+01,\n",
       "        2.4453120e+05, 3.8000000e+01, 3.9226880e+05, 3.1000000e+01,\n",
       "        6.1132800e+04, 2.9000000e+01, 3.5660800e+04, 2.8000000e+01,\n",
       "        2.3943680e+05, 3.0000000e+01, 1.0188800e+05, 2.7000000e+01,\n",
       "        2.9547520e+05, 2.6000000e+01, 1.4366208e+06, 0.0000000e+00,\n",
       "        0.0000000e+00, 0.0000000e+00, 0.0000000e+00, 0.0000000e+00,\n",
       "        0.0000000e+00, 0.0000000e+00, 0.0000000e+00, 0.0000000e+00,\n",
       "        1.0000000e+00, 1.0000000e+00, 1.0000000e+00, 1.0000000e+00,\n",
       "        1.0000000e+00, 1.0000000e+00, 1.0000000e+00, 1.0000000e+00,\n",
       "        1.0000000e+00, 1.0000000e+00, 1.0000000e+00, 1.0000000e+00,\n",
       "        1.0000000e+00, 1.0000000e+00, 1.0000000e+00, 1.0000000e+00,\n",
       "        1.0000000e+00, 1.0000000e+00, 1.0000000e+00, 1.0000000e+00,\n",
       "        1.0000000e+00, 1.0000000e+00, 1.0000000e+00, 1.0000000e+00,\n",
       "        1.0000000e+00, 1.0000000e+00, 1.0000000e+00, 1.0000000e+00,\n",
       "        1.0000000e+00, 1.0000000e+00, 1.0000000e+00, 1.0000000e+00,\n",
       "        1.0000000e+00, 1.0000000e+00, 1.0000000e+00, 1.0000000e+00,\n",
       "        1.0000000e+00, 1.0000000e+00, 1.0000000e+00, 1.0000000e+00,\n",
       "        1.0000000e+00, 1.0000000e+00, 1.0000000e+00, 1.0000000e+00,\n",
       "        1.0000000e+00, 1.0000000e+00, 1.0000000e+00, 1.0000000e+00,\n",
       "        1.0000000e+00, 1.0000000e+00, 9.2850000e+02, 1.0000000e+00,\n",
       "        1.0000000e+00, 1.0000000e+00, 1.0000000e+00, 1.0000000e+00,\n",
       "        1.0000000e+00, 1.0000000e+00, 1.0000000e+00, 1.0000000e+00,\n",
       "        1.0000000e+00, 1.0000000e+00, 1.0000000e+00, 1.0000000e+00,\n",
       "        1.0000000e+00, 1.0000000e+00, 1.0000000e+00, 1.0000000e+00,\n",
       "        1.0000000e+00, 1.0000000e+00, 1.0000000e+00, 1.0000000e+00,\n",
       "        1.0000000e+00, 1.0000000e+00, 1.0000000e+00, 1.0000000e+00,\n",
       "        1.0000000e+00, 1.0000000e+00, 1.0000000e+00, 1.0000000e+00,\n",
       "        1.0000000e+00, 1.0000000e+00, 1.0000000e+00, 1.0000000e+00,\n",
       "        1.0000000e+00, 1.0000000e+00, 1.0000000e+00, 1.0000000e+00,\n",
       "        1.0000000e+00, 1.0000000e+00, 1.0000000e+00, 1.0000000e+00,\n",
       "        1.0000000e+00, 1.0000000e+00, 1.0000000e+00, 1.0000000e+00,\n",
       "        1.0000000e+00, 1.0000000e+00, 1.0000000e+00, 1.0000000e+00,\n",
       "        1.0000000e+00]),\n",
       " {'solution_found': np.True_,\n",
       "  'costs': np.float64(21152.0),\n",
       "  'time_per_vehicle': array([41.05 , 27.55 , 42.625, 20.975]),\n",
       "  'distance_per_vehicle': array([1642., 1102., 1705.,  839.]),\n",
       "  'excess_emission': np.float64(928.5),\n",
       "  'omitted': np.int64(0),\n",
       "  'solution': [[0, 43, 32, 14, 8, 7, 18, 12, 20, 21, 22, 23, 10, 24, 44, 0],\n",
       "   [0, 11, 25, 2, 35, 34, 33, 50, 46, 49, 48, 1, 0],\n",
       "   [0, 45, 6, 5, 4, 47, 15, 36, 37, 16, 17, 13, 9, 19, 3, 0],\n",
       "   [0, 42, 40, 41, 39, 38, 31, 29, 28, 30, 27, 26, 0]]})"
      ]
     },
     "execution_count": 16,
     "metadata": {},
     "output_type": "execute_result"
    }
   ],
   "source": [
    "env50 = AssignmentEnv(game50)\n",
    "env50.reset()"
   ]
  },
  {
   "cell_type": "code",
   "execution_count": 19,
   "metadata": {},
   "outputs": [
    {
     "data": {
      "text/plain": [
       "(array([0.0000000e+00, 3.8400000e+02, 4.2000000e+01, 2.4400000e+02,\n",
       "        2.6000000e+01, 9.6400000e+02, 7.0000000e+00, 7.1200000e+02,\n",
       "        1.1000000e+01, 1.8800000e+02, 1.2000000e+01, 3.2400000e+02,\n",
       "        3.0000000e+01, 4.7200000e+02, 1.0000000e+01, 5.4400000e+02,\n",
       "        3.1000000e+01, 6.5600000e+02, 3.2000000e+01, 5.3200000e+02,\n",
       "        1.4000000e+01, 1.7200000e+02, 8.8000000e+01, 3.8400000e+02,\n",
       "        9.0000000e+01, 1.1200000e+02, 8.9000000e+01, 1.4800000e+02,\n",
       "        4.7000000e+01, 1.8800000e+02, 4.8000000e+01, 2.5200000e+02,\n",
       "        5.5000000e+01, 1.7200000e+02, 2.1000000e+01, 1.6000000e+02,\n",
       "        3.7000000e+01, 1.4000000e+02, 3.3000000e+01, 2.2400000e+02,\n",
       "        5.2000000e+01, 3.4400000e+02, 7.8000000e+01, 3.4400000e+02,\n",
       "        4.1000000e+01, 8.0000000e+01, 4.0000000e+01, 4.5200000e+02,\n",
       "        3.9000000e+01, 2.4000000e+02, 2.3000000e+01, 1.1080000e+03,\n",
       "        0.0000000e+00, 0.0000000e+00, 4.2571640e+05, 6.0000000e+00,\n",
       "        1.6314880e+05, 1.5000000e+01, 1.7844400e+05, 5.8000000e+01,\n",
       "        1.3510760e+05, 9.3000000e+01, 2.0393600e+05, 8.5000000e+01,\n",
       "        1.3255840e+05, 9.4000000e+01, 3.5688800e+04, 9.5000000e+01,\n",
       "        8.4123600e+04, 8.6000000e+01, 3.3139600e+04, 8.7000000e+01,\n",
       "        2.0393600e+04, 9.9000000e+01, 3.3139600e+04, 9.7000000e+01,\n",
       "        1.0196800e+04, 9.8000000e+01, 1.5295200e+04, 8.1000000e+01,\n",
       "        5.0984000e+03, 8.3000000e+01, 1.0196800e+04, 8.2000000e+01,\n",
       "        2.5492000e+04, 9.6000000e+01, 4.3336400e+04, 1.0000000e+02,\n",
       "        1.4020600e+05, 6.2000000e+01, 1.8354240e+05, 6.1000000e+01,\n",
       "        1.0196800e+05, 6.5000000e+01, 4.0787200e+04, 6.0000000e+01,\n",
       "        3.3139600e+04, 5.9000000e+01, 2.1413280e+05, 2.0000000e+00,\n",
       "        2.2178040e+05, 5.0000000e+01, 2.0903440e+05, 9.0000000e+00,\n",
       "        7.0867760e+05, 0.0000000e+00, 0.0000000e+00, 1.1666176e+06,\n",
       "        7.4000000e+01, 5.4000640e+05, 7.1000000e+01, 3.0566400e+04,\n",
       "        7.0000000e+01, 1.0698240e+05, 7.3000000e+01, 1.6302080e+05,\n",
       "        7.2000000e+01, 4.8396800e+05, 5.6000000e+01, 4.2792960e+05,\n",
       "        5.4000000e+01, 4.2283520e+05, 5.3000000e+01, 4.4830720e+05,\n",
       "        4.9000000e+01, 2.0377600e+04, 5.1000000e+01, 1.1717120e+06,\n",
       "        6.4000000e+01, 5.1962880e+05, 8.4000000e+01, 5.7566720e+05,\n",
       "        1.3000000e+01, 6.6227200e+05, 3.5000000e+01, 3.5660800e+05,\n",
       "        2.2000000e+01, 7.1321600e+04, 2.0000000e+01, 1.5283200e+05,\n",
       "        1.8000000e+01, 3.3113600e+05, 2.8000000e+01, 7.1321600e+04,\n",
       "        2.9000000e+01, 7.3868800e+05, 1.9000000e+01, 2.4962560e+05,\n",
       "        3.8000000e+01, 1.2736000e+05, 3.6000000e+01, 6.1132800e+04,\n",
       "        3.4000000e+01, 6.3170560e+05, 6.3000000e+01, 4.4321280e+05,\n",
       "        2.7000000e+01, 1.9154944e+06, 0.0000000e+00, 0.0000000e+00,\n",
       "        1.6811520e+05, 4.4000000e+01, 2.6490880e+05, 7.9000000e+01,\n",
       "        2.2415360e+05, 8.0000000e+01, 5.9095040e+05, 2.4000000e+01,\n",
       "        3.3623040e+05, 2.5000000e+01, 1.6302080e+05, 7.6000000e+01,\n",
       "        2.0377600e+05, 9.2000000e+01, 2.4453120e+05, 9.1000000e+01,\n",
       "        1.7830400e+05, 7.7000000e+01, 3.7698560e+05, 1.7000000e+01,\n",
       "        2.7000320e+05, 1.6000000e+01, 3.3623040e+05, 5.7000000e+01,\n",
       "        2.0887040e+05, 4.0000000e+00, 1.5283200e+05, 3.0000000e+00,\n",
       "        1.0698240e+05, 5.0000000e+00, 9.6793600e+04, 6.6000000e+01,\n",
       "        1.0698240e+05, 6.8000000e+01, 8.6604800e+04, 6.7000000e+01,\n",
       "        1.1717120e+05, 6.9000000e+01, 2.1396480e+05, 4.5000000e+01,\n",
       "        2.3943680e+05, 4.6000000e+01, 2.1905920e+05, 8.0000000e+00,\n",
       "        2.5472000e+05, 4.3000000e+01, 1.2226560e+05, 7.5000000e+01,\n",
       "        1.8849280e+05, 1.0000000e+00, 1.8339840e+05, 0.0000000e+00,\n",
       "        1.0000000e+00, 1.0000000e+00, 1.0000000e+00, 1.0000000e+00,\n",
       "        1.0000000e+00, 1.0000000e+00, 1.0000000e+00, 1.0000000e+00,\n",
       "        1.0000000e+00, 1.0000000e+00, 1.0000000e+00, 1.0000000e+00,\n",
       "        1.0000000e+00, 1.0000000e+00, 1.0000000e+00, 1.0000000e+00,\n",
       "        1.0000000e+00, 1.0000000e+00, 1.0000000e+00, 1.0000000e+00,\n",
       "        1.0000000e+00, 1.0000000e+00, 1.0000000e+00, 1.0000000e+00,\n",
       "        1.0000000e+00, 1.0000000e+00, 1.0000000e+00, 1.0000000e+00,\n",
       "        1.0000000e+00, 1.0000000e+00, 1.0000000e+00, 1.0000000e+00,\n",
       "        1.0000000e+00, 1.0000000e+00, 1.0000000e+00, 1.0000000e+00,\n",
       "        1.0000000e+00, 1.0000000e+00, 1.0000000e+00, 1.0000000e+00,\n",
       "        1.0000000e+00, 1.0000000e+00, 1.0000000e+00, 1.0000000e+00,\n",
       "        1.0000000e+00, 1.0000000e+00, 1.0000000e+00, 1.0000000e+00,\n",
       "        1.0000000e+00, 1.0000000e+00, 1.0000000e+00, 1.0000000e+00,\n",
       "        1.0000000e+00, 1.0000000e+00, 1.0000000e+00, 1.0000000e+00,\n",
       "        1.0000000e+00, 1.0000000e+00, 1.0000000e+00, 1.0000000e+00,\n",
       "        1.0000000e+00, 1.0000000e+00, 1.0000000e+00, 1.0000000e+00,\n",
       "        1.0000000e+00, 1.0000000e+00, 1.0000000e+00, 1.0000000e+00,\n",
       "        1.0000000e+00, 1.0000000e+00, 1.0000000e+00, 1.0000000e+00,\n",
       "        1.0000000e+00, 1.0000000e+00, 1.0000000e+00, 1.0000000e+00,\n",
       "        1.0000000e+00, 1.0000000e+00, 1.0000000e+00, 1.0000000e+00,\n",
       "        1.0000000e+00, 1.0000000e+00, 1.0000000e+00, 1.0000000e+00,\n",
       "        1.0000000e+00, 1.0000000e+00, 1.0000000e+00, 1.0000000e+00,\n",
       "        1.0000000e+00, 1.0000000e+00, 1.0000000e+00, 1.0000000e+00,\n",
       "        1.0000000e+00, 1.0000000e+00, 1.0000000e+00, 1.0000000e+00,\n",
       "        1.0000000e+00, 1.0000000e+00, 1.0000000e+00, 1.0000000e+00,\n",
       "        1.2337500e+03, 1.0000000e+00, 1.0000000e+00, 1.0000000e+00,\n",
       "        1.0000000e+00, 1.0000000e+00, 1.0000000e+00, 1.0000000e+00,\n",
       "        1.0000000e+00, 1.0000000e+00, 1.0000000e+00, 1.0000000e+00,\n",
       "        1.0000000e+00, 1.0000000e+00, 1.0000000e+00, 1.0000000e+00,\n",
       "        1.0000000e+00, 1.0000000e+00, 1.0000000e+00, 1.0000000e+00,\n",
       "        1.0000000e+00, 1.0000000e+00, 1.0000000e+00, 1.0000000e+00,\n",
       "        1.0000000e+00, 1.0000000e+00, 1.0000000e+00, 1.0000000e+00,\n",
       "        1.0000000e+00, 1.0000000e+00, 1.0000000e+00, 1.0000000e+00,\n",
       "        1.0000000e+00, 1.0000000e+00, 1.0000000e+00, 1.0000000e+00,\n",
       "        1.0000000e+00, 1.0000000e+00, 1.0000000e+00, 1.0000000e+00,\n",
       "        1.0000000e+00, 1.0000000e+00, 1.0000000e+00, 1.0000000e+00,\n",
       "        1.0000000e+00, 1.0000000e+00, 1.0000000e+00, 1.0000000e+00,\n",
       "        1.0000000e+00, 1.0000000e+00, 1.0000000e+00, 1.0000000e+00,\n",
       "        1.0000000e+00, 1.0000000e+00, 1.0000000e+00, 1.0000000e+00,\n",
       "        1.0000000e+00, 1.0000000e+00, 1.0000000e+00, 1.0000000e+00,\n",
       "        1.0000000e+00, 1.0000000e+00, 1.0000000e+00, 1.0000000e+00,\n",
       "        1.0000000e+00, 1.0000000e+00, 1.0000000e+00, 1.0000000e+00,\n",
       "        1.0000000e+00, 1.0000000e+00, 1.0000000e+00, 1.0000000e+00,\n",
       "        1.0000000e+00, 1.0000000e+00, 1.0000000e+00, 1.0000000e+00,\n",
       "        1.0000000e+00, 1.0000000e+00, 1.0000000e+00, 1.0000000e+00,\n",
       "        1.0000000e+00, 1.0000000e+00, 1.0000000e+00, 1.0000000e+00,\n",
       "        1.0000000e+00, 1.0000000e+00, 1.0000000e+00, 1.0000000e+00,\n",
       "        1.0000000e+00, 1.0000000e+00, 1.0000000e+00, 1.0000000e+00,\n",
       "        1.0000000e+00, 1.0000000e+00, 1.0000000e+00, 1.0000000e+00,\n",
       "        1.0000000e+00, 1.0000000e+00, 1.0000000e+00, 1.0000000e+00,\n",
       "        1.0000000e+00]),\n",
       " {'solution_found': np.True_,\n",
       "  'costs': np.float64(28664.0),\n",
       "  'time_per_vehicle': array([59.625, 33.425, 58.35 , 27.75 ]),\n",
       "  'distance_per_vehicle': array([2385., 1337., 2334., 1110.]),\n",
       "  'excess_emission': np.float64(1233.75),\n",
       "  'omitted': np.int64(0),\n",
       "  'solution': [[0,\n",
       "    42,\n",
       "    26,\n",
       "    7,\n",
       "    11,\n",
       "    12,\n",
       "    30,\n",
       "    10,\n",
       "    31,\n",
       "    32,\n",
       "    14,\n",
       "    88,\n",
       "    90,\n",
       "    89,\n",
       "    47,\n",
       "    48,\n",
       "    55,\n",
       "    21,\n",
       "    37,\n",
       "    33,\n",
       "    52,\n",
       "    78,\n",
       "    41,\n",
       "    40,\n",
       "    39,\n",
       "    23,\n",
       "    0],\n",
       "   [0,\n",
       "    6,\n",
       "    15,\n",
       "    58,\n",
       "    93,\n",
       "    85,\n",
       "    94,\n",
       "    95,\n",
       "    86,\n",
       "    87,\n",
       "    99,\n",
       "    97,\n",
       "    98,\n",
       "    81,\n",
       "    83,\n",
       "    82,\n",
       "    96,\n",
       "    100,\n",
       "    62,\n",
       "    61,\n",
       "    65,\n",
       "    60,\n",
       "    59,\n",
       "    2,\n",
       "    50,\n",
       "    9,\n",
       "    0],\n",
       "   [0,\n",
       "    74,\n",
       "    71,\n",
       "    70,\n",
       "    73,\n",
       "    72,\n",
       "    56,\n",
       "    54,\n",
       "    53,\n",
       "    49,\n",
       "    51,\n",
       "    64,\n",
       "    84,\n",
       "    13,\n",
       "    35,\n",
       "    22,\n",
       "    20,\n",
       "    18,\n",
       "    28,\n",
       "    29,\n",
       "    19,\n",
       "    38,\n",
       "    36,\n",
       "    34,\n",
       "    63,\n",
       "    27,\n",
       "    0],\n",
       "   [0,\n",
       "    44,\n",
       "    79,\n",
       "    80,\n",
       "    24,\n",
       "    25,\n",
       "    76,\n",
       "    92,\n",
       "    91,\n",
       "    77,\n",
       "    17,\n",
       "    16,\n",
       "    57,\n",
       "    4,\n",
       "    3,\n",
       "    5,\n",
       "    66,\n",
       "    68,\n",
       "    67,\n",
       "    69,\n",
       "    45,\n",
       "    46,\n",
       "    8,\n",
       "    43,\n",
       "    75,\n",
       "    1,\n",
       "    0]]})"
      ]
     },
     "execution_count": 19,
     "metadata": {},
     "output_type": "execute_result"
    }
   ],
   "source": [
    "env100 = AssignmentEnv(game100)\n",
    "env100.reset()"
   ]
  },
  {
   "cell_type": "code",
   "execution_count": 17,
   "metadata": {},
   "outputs": [
    {
     "data": {
      "text/plain": [
       "array([   9,   33,  109,  180,  182,  228,  245,  251,  252,  294,  326,\n",
       "        365,  377,  484,  567,  586,  598,  647,  858,  878,  880,  891,\n",
       "        908,  997, 1024, 1101, 1132, 1154, 1155, 1161, 1167, 1178, 1295,\n",
       "       1363, 1380, 1424, 1427, 1492, 1510, 1519, 1539, 1585, 1610, 1633,\n",
       "       1650, 1790, 1898, 2038, 2083, 2168])"
      ]
     },
     "execution_count": 17,
     "metadata": {},
     "output_type": "execute_result"
    }
   ],
   "source": [
    "env50.destinations"
   ]
  },
  {
   "cell_type": "code",
   "execution_count": 3,
   "metadata": {},
   "outputs": [],
   "source": [
    "def compare_limit_times(game : AssignmentGame, times = range(1, 11)):\n",
    "    game.reset()\n",
    "    costs = np.zeros(len(times))\n",
    "    for time in times:\n",
    "        r, *_ = game.step(\n",
    "            np.ones(game.num_packages, int),\n",
    "            time_budget=time\n",
    "        )\n",
    "        costs[time-1] = -r\n",
    "    return costs\n",
    "    "
   ]
  },
  {
   "cell_type": "code",
   "execution_count": 11,
   "metadata": {},
   "outputs": [],
   "source": [
    "with open('res_compare_ORtimes_50_75_100_n50.pkl', 'rb') as f:\n",
    "    res = pickle.load(f)"
   ]
  },
  {
   "cell_type": "code",
   "execution_count": 12,
   "metadata": {},
   "outputs": [
    {
     "name": "stdout",
     "output_type": "stream",
     "text": [
      "range(1, 11)\n"
     ]
    }
   ],
   "source": [
    "times50 = res['res50'].pop('times')\n",
    "times75 = res['res75'].pop('times')\n",
    "times100 = res['res100'].pop('times')"
   ]
  },
  {
   "cell_type": "code",
   "execution_count": 13,
   "metadata": {},
   "outputs": [],
   "source": [
    "costs50 = np.array(\n",
    "    [e for e in res['res50'].values()]\n",
    ")\n",
    "\n",
    "costs75 = np.array(\n",
    "    [e for e in res['res75'].values()]\n",
    ")\n",
    "\n",
    "costs100 = np.array(\n",
    "    [e for e in res['res100'].values()]\n",
    ")"
   ]
  },
  {
   "cell_type": "code",
   "execution_count": 15,
   "metadata": {},
   "outputs": [
    {
     "name": "stdout",
     "output_type": "stream",
     "text": [
      "(10,)\n"
     ]
    },
    {
     "data": {
      "text/plain": [
       "<matplotlib.collections.PolyCollection at 0x2903d3730>"
      ]
     },
     "execution_count": 15,
     "metadata": {},
     "output_type": "execute_result"
    },
    {
     "data": {
      "image/png": "[encoded data removed]",
      "text/plain": [
       "<Figure size 640x480 with 1 Axes>"
      ]
     },
     "metadata": {},
     "output_type": "display_data"
    }
   ],
   "source": [
    "mean = np.mean(costs50, axis=0)\n",
    "std = np.std(costs50, axis=0)\n",
    "print(mean.shape)\n",
    "plt.plot(times50, mean)\n",
    "plt.fill_between(times50, mean - 2*std, mean + 2*std, alpha=0.2)"
   ]
  },
  {
   "cell_type": "code",
   "execution_count": 16,
   "metadata": {},
   "outputs": [
    {
     "name": "stdout",
     "output_type": "stream",
     "text": [
      "(15,)\n"
     ]
    },
    {
     "data": {
      "text/plain": [
       "<matplotlib.collections.PolyCollection at 0x29043b9a0>"
      ]
     },
     "execution_count": 16,
     "metadata": {},
     "output_type": "execute_result"
    },
    {
     "data": {
      "image/png": "[encoded data removed]",
      "text/plain": [
       "<Figure size 640x480 with 1 Axes>"
      ]
     },
     "metadata": {},
     "output_type": "display_data"
    }
   ],
   "source": [
    "costs = costs75\n",
    "times = times75\n",
    "mean = np.mean(costs, axis=0)\n",
    "std = np.std(costs, axis=0)\n",
    "print(mean.shape)\n",
    "plt.plot(times, mean)\n",
    "plt.fill_between(times, mean - 2*std, mean + 2*std, alpha=0.2)"
   ]
  },
  {
   "cell_type": "code",
   "execution_count": 19,
   "metadata": {},
   "outputs": [
    {
     "name": "stdout",
     "output_type": "stream",
     "text": [
      "(10,)\n"
     ]
    },
    {
     "data": {
      "text/plain": [
       "<matplotlib.collections.PolyCollection at 0x290557f40>"
      ]
     },
     "execution_count": 19,
     "metadata": {},
     "output_type": "execute_result"
    },
    {
     "data": {
      "image/png": "[encoded data removed]",
      "text/plain": [
       "<Figure size 640x480 with 1 Axes>"
      ]
     },
     "metadata": {},
     "output_type": "display_data"
    }
   ],
   "source": [
    "costs = costs100\n",
    "times = times100\n",
    "mean = np.mean(costs, axis=0)\n",
    "std = np.std(costs, axis=0)\n",
    "print(mean.shape)\n",
    "plt.plot(times, mean)\n",
    "plt.fill_between(times, mean - 2*std, mean + 2*std, alpha=0.2)"
   ]
  },
  {
   "cell_type": "code",
   "execution_count": 7,
   "metadata": {},
   "outputs": [
    {
     "data": {
      "text/plain": [
       "[<matplotlib.lines.Line2D at 0x28e76f0d0>]"
      ]
     },
     "execution_count": 7,
     "metadata": {},
     "output_type": "execute_result"
    },
    {
     "data": {
      "image/png": "[encoded data removed]",
      "text/plain": [
       "<Figure size 640x480 with 1 Axes>"
      ]
     },
     "metadata": {},
     "output_type": "display_data"
    }
   ],
   "source": [
    "costs100 = compare_limit_times(game100, times=range(1, 21))"
   ]
  },
  {
   "cell_type": "code",
   "execution_count": 14,
   "metadata": {},
   "outputs": [
    {
     "data": {
      "text/plain": [
       "[<matplotlib.lines.Line2D at 0x2929533a0>]"
      ]
     },
     "execution_count": 14,
     "metadata": {},
     "output_type": "execute_result"
    },
    {
     "data": {
      "image/png": "[encoded data removed]",
      "text/plain": [
       "<Figure size 640x480 with 1 Axes>"
      ]
     },
     "metadata": {},
     "output_type": "display_data"
    }
   ],
   "source": [
    "plt.plot(range(1, 21), costs100)"
   ]
  },
  {
   "cell_type": "code",
   "execution_count": 12,
   "metadata": {},
   "outputs": [
    {
     "data": {
      "text/plain": [
       "array([0., 0., 0., 0., 0., 1., 1., 1., 1., 1.])"
      ]
     },
     "execution_count": 12,
     "metadata": {},
     "output_type": "execute_result"
    }
   ],
   "source": [
    "import numpy as np\n",
    "a = np.ones(10)\n",
    "a[np.arange(5, dtype=int)] = np.zeros(5)\n",
    "a"
   ]
  },
  {
   "cell_type": "code",
   "execution_count": 6,
   "metadata": {},
   "outputs": [
    {
     "data": {
      "text/plain": [
       "{}"
      ]
     },
     "execution_count": 6,
     "metadata": {},
     "output_type": "execute_result"
    }
   ],
   "source": [
    "import pickle\n",
    "\n",
    "fileObject = \"game\"\n",
    "with open('game.pkl','wb') as f:\n",
    "    pickle.dump(game, f)\n",
    "#...\n",
    "with open('game.pkl','rb') as f:\n",
    "    game = pickle.load(f)\n",
    "game.reset()"
   ]
  },
  {
   "cell_type": "code",
   "execution_count": 2,
   "metadata": {},
   "outputs": [
    {
     "name": "stdout",
     "output_type": "stream",
     "text": [
      "2.31 s ± 18.9 ms per loop (mean ± std. dev. of 7 runs, 1 loop each)\n"
     ]
    }
   ],
   "source": [
    "%%timeit\n",
    "test_assignment_env(game, log = False)"
   ]
  },
  {
   "cell_type": "code",
   "execution_count": 3,
   "metadata": {},
   "outputs": [
    {
     "name": "stdout",
     "output_type": "stream",
     "text": [
      "2.74 s ± 24.7 ms per loop (mean ± std. dev. of 7 runs, 1 loop each)\n"
     ]
    }
   ],
   "source": [
    "%%timeit\n",
    "test_assignment_game(game, log = False)"
   ]
  },
  {
   "cell_type": "code",
   "execution_count": 5,
   "metadata": {},
   "outputs": [
    {
     "name": "stdout",
     "output_type": "stream",
     "text": [
      "Tue Oct 17 19:55:26 2023    my_func_stats\n",
      "\n",
      "         6565883 function calls (6565845 primitive calls) in 19.162 seconds\n",
      "\n",
      "   Ordered by: cumulative time\n",
      "\n",
      "   ncalls  tottime  percall  cumtime  percall filename:lineno(function)\n",
      "        1    0.000    0.000   19.162   19.162 {built-in method builtins.exec}\n",
      "        1    0.003    0.003   19.162   19.162 <string>:1(<module>)\n",
      "        1    0.001    0.001   19.159   19.159 /Users/faridounet/PhD/TransportersDilemma/assignment.py:583(test_assignment_env)\n",
      "        1    0.005    0.005   16.806   16.806 /Users/faridounet/PhD/TransportersDilemma/assignment.py:20(__init__)\n",
      "        1   16.751   16.751   16.759   16.759 /opt/homebrew/lib/python3.10/site-packages/networkx/algorithms/shortest_paths/dense.py:13(floyd_warshall_numpy)\n",
      "      500    1.221    0.002    1.286    0.003 /Users/faridounet/PhD/TransportersDilemma/assignment.py:518(step)\n",
      "        1    0.000    0.000    1.065    1.065 /Users/faridounet/PhD/TransportersDilemma/assignment.py:487(reset)\n",
      "        1    0.000    0.000    1.013    1.013 /Users/faridounet/PhD/TransportersDilemma/assignment.py:433(step)\n",
      "        1    0.000    0.000    1.013    1.013 /Users/faridounet/PhD/TransportersDilemma/assignment.py:422(_get_rewards)\n",
      "        1    0.004    0.004    1.013    1.013 /Users/faridounet/PhD/TransportersDilemma/assignment.py:139(_compute_cost)\n",
      "        1    0.007    0.007    1.009    1.009 /Users/faridounet/PhD/TransportersDilemma/transporter.py:208(compute_cost)\n",
      "        1    0.000    0.000    1.001    1.001 /Users/faridounet/PhD/TransportersDilemma/transporter.py:37(solve)\n",
      "        1    0.000    0.000    1.000    1.000 /Users/faridounet/Library/Python/3.10/lib/python/site-packages/ortools/constraint_solver/pywrapcp.py:5377(SolveWithParameters)\n",
      "        1    0.255    0.255    1.000    1.000 {built-in method ortools.constraint_solver._pywrapcp.RoutingModel_SolveWithParameters}\n",
      "  1050533    0.107    0.000    0.730    0.000 /Users/faridounet/PhD/TransportersDilemma/transporter.py:69(<lambda>)\n",
      "  1050533    0.317    0.000    0.623    0.000 /Users/faridounet/PhD/TransportersDilemma/transporter.py:57(distance_callback)\n",
      "  2153104    0.178    0.000    0.314    0.000 /Users/faridounet/Library/Python/3.10/lib/python/site-packages/ortools/constraint_solver/pywrapcp.py:4572(IndexToNode)\n",
      "  2153104    0.136    0.000    0.136    0.000 {built-in method ortools.constraint_solver._pywrapcp.RoutingIndexManager_IndexToNode}\n",
      "      500    0.054    0.000    0.055    0.000 /Users/faridounet/PhD/TransportersDilemma/assignment.py:443(get_d_t)\n",
      "        1    0.000    0.000    0.051    0.051 /Users/faridounet/PhD/TransportersDilemma/assignment.py:376(reset)\n",
      "        1    0.000    0.000    0.051    0.051 /Users/faridounet/PhD/TransportersDilemma/assignment.py:388(<listcomp>)\n",
      "      500    0.051    0.000    0.051    0.000 <string>:2(__init__)\n",
      "    51534    0.008    0.000    0.015    0.000 /Users/faridounet/PhD/TransportersDilemma/transporter.py:79(demand_callback)\n",
      "        5    0.013    0.003    0.013    0.003 {built-in method numpy.array}\n",
      "        1    0.012    0.012    0.012    0.012 /Users/faridounet/PhD/TransportersDilemma/assignment.py:67(<listcomp>)\n",
      "     1517    0.004    0.000    0.012    0.000 {built-in method numpy.core._multiarray_umath.implement_array_function}\n",
      "        1    0.002    0.002    0.008    0.008 /opt/homebrew/lib/python3.10/site-packages/networkx/convert_matrix.py:764(to_numpy_array)\n",
      "     1006    0.001    0.000    0.006    0.000 <__array_function__ internals>:177(sum)\n",
      "     1509    0.001    0.000    0.006    0.000 /opt/homebrew/lib/python3.10/site-packages/numpy/core/fromnumeric.py:69(_wrapreduction)\n",
      "        1    0.000    0.000    0.006    0.006 <class 'networkx.utils.decorators.argmap'> compilation 4:1(argmap_grid_2d_graph_1)\n",
      "        1    0.000    0.000    0.006    0.006 /opt/homebrew/lib/python3.10/site-packages/networkx/generators/lattice.py:34(grid_2d_graph)\n",
      "     1006    0.001    0.000    0.005    0.000 /opt/homebrew/lib/python3.10/site-packages/numpy/core/fromnumeric.py:2162(sum)\n",
      "        2    0.003    0.002    0.005    0.002 /opt/homebrew/lib/python3.10/site-packages/networkx/classes/graph.py:961(add_edges_from)\n",
      "     1509    0.004    0.000    0.004    0.000 {method 'reduce' of 'numpy.ufunc' objects}\n",
      "        1    0.001    0.001    0.004    0.004 /Users/faridounet/PhD/TransportersDilemma/assignment.py:52(<dictcomp>)\n",
      "        1    0.000    0.000    0.003    0.003 /opt/homebrew/lib/python3.10/site-packages/numpy/core/numeric.py:289(full)\n",
      "        3    0.000    0.000    0.003    0.001 <__array_function__ internals>:177(copyto)\n",
      "        1    0.001    0.001    0.003    0.003 /opt/homebrew/lib/python3.10/site-packages/networkx/classes/function.py:680(set_edge_attributes)\n",
      "        1    0.003    0.003    0.003    0.003 /Users/faridounet/PhD/TransportersDilemma/transporter.py:115(__init__)\n",
      "      501    0.000    0.000    0.002    0.000 <__array_function__ internals>:177(any)\n",
      "      501    0.002    0.000    0.002    0.000 /Users/faridounet/PhD/TransportersDilemma/assignment.py:419(_get_costs)\n",
      "     3961    0.001    0.000    0.002    0.000 /opt/homebrew/lib/python3.10/site-packages/networkx/classes/reportviews.py:845(__iter__)\n",
      "     3960    0.002    0.000    0.002    0.000 {method 'binomial' of 'numpy.random.mtrand.RandomState' objects}\n",
      "     3960    0.000    0.000    0.001    0.000 /opt/homebrew/lib/python3.10/site-packages/networkx/classes/graph.py:489(__getitem__)\n",
      "      501    0.000    0.000    0.001    0.000 /opt/homebrew/lib/python3.10/site-packages/numpy/core/fromnumeric.py:2307(any)\n",
      "        2    0.001    0.000    0.001    0.001 /opt/homebrew/lib/python3.10/site-packages/networkx/classes/graph.py:563(add_nodes_from)\n",
      "     3961    0.001    0.000    0.001    0.000 /opt/homebrew/lib/python3.10/site-packages/networkx/classes/reportviews.py:1267(__iter__)\n",
      "      512    0.000    0.000    0.001    0.000 /opt/homebrew/lib/python3.10/site-packages/numba/typed/typedlist.py:342(append)\n",
      "     3960    0.001    0.000    0.001    0.000 /opt/homebrew/lib/python3.10/site-packages/networkx/classes/coreviews.py:80(__getitem__)\n",
      "     2516    0.001    0.000    0.001    0.000 /opt/homebrew/lib/python3.10/site-packages/numba/core/serialize.py:29(_numba_unpickle)\n",
      "        1    0.000    0.000    0.001    0.001 /opt/homebrew/lib/python3.10/site-packages/networkx/classes/graph.py:1910(number_of_edges)\n",
      "        1    0.000    0.000    0.001    0.001 /opt/homebrew/lib/python3.10/site-packages/networkx/classes/graph.py:1867(size)\n",
      "        1    0.000    0.000    0.001    0.001 {built-in method builtins.sum}\n",
      "        1    0.000    0.000    0.001    0.001 <__array_function__ internals>:177(amax)\n",
      "        1    0.000    0.000    0.001    0.001 /opt/homebrew/lib/python3.10/site-packages/numpy/core/fromnumeric.py:2677(amax)\n",
      "    13906    0.001    0.000    0.001    0.000 {method 'update' of 'dict' objects}\n",
      "     2026    0.000    0.000    0.001    0.000 /opt/homebrew/lib/python3.10/site-packages/networkx/classes/graph.py:1903(<genexpr>)\n",
      "     1509    0.000    0.000    0.000    0.000 /opt/homebrew/lib/python3.10/site-packages/numpy/core/fromnumeric.py:70(<dictcomp>)\n",
      "     1981    0.000    0.000    0.000    0.000 /opt/homebrew/lib/python3.10/site-packages/networkx/generators/lattice.py:65(<genexpr>)\n",
      "     2026    0.000    0.000    0.000    0.000 /opt/homebrew/lib/python3.10/site-packages/networkx/classes/reportviews.py:527(__iter__)\n",
      "    12896    0.000    0.000    0.000    0.000 {method 'append' of 'list' objects}\n",
      "        4    0.000    0.000    0.000    0.000 /opt/homebrew/Cellar/python@3.10/3.10.11/Frameworks/Python.framework/Versions/3.10/lib/python3.10/functools.py:961(__get__)\n",
      "     3960    0.000    0.000    0.000    0.000 /opt/homebrew/lib/python3.10/site-packages/networkx/classes/reportviews.py:779(<lambda>)\n",
      "     1981    0.000    0.000    0.000    0.000 /opt/homebrew/lib/python3.10/site-packages/networkx/generators/lattice.py:66(<genexpr>)\n",
      "     3960    0.000    0.000    0.000    0.000 /opt/homebrew/lib/python3.10/site-packages/networkx/classes/coreviews.py:52(__getitem__)\n",
      "        1    0.000    0.000    0.000    0.000 /Users/faridounet/Library/Python/3.10/lib/python/site-packages/ortools/constraint_solver/pywrapcp.py:4660(__init__)\n",
      "        1    0.000    0.000    0.000    0.000 {built-in method ortools.constraint_solver._pywrapcp.new_RoutingModel}\n",
      "        2    0.000    0.000    0.000    0.000 {method 'seed' of 'numpy.random.mtrand.RandomState' objects}\n",
      "     2033    0.000    0.000    0.000    0.000 /opt/homebrew/lib/python3.10/site-packages/numba/typed/typedlist.py:281(_numba_type_)\n",
      "      512    0.000    0.000    0.000    0.000 /opt/homebrew/lib/python3.10/site-packages/numba/typed/typedlist.py:81(_append)\n",
      "     1045    0.000    0.000    0.000    0.000 {built-in method builtins.isinstance}\n",
      "      501    0.000    0.000    0.000    0.000 /Users/faridounet/PhD/TransportersDilemma/assignment.py:416(_get_emissions)\n",
      "     3537    0.000    0.000    0.000    0.000 {method 'items' of 'dict' objects}\n",
      "        5    0.000    0.000    0.000    0.000 /opt/homebrew/lib/python3.10/site-packages/numba/typed/typedlist.py:299(_initialise_list)\n",
      "      502    0.000    0.000    0.000    0.000 {built-in method builtins.max}\n",
      "     3961    0.000    0.000    0.000    0.000 /opt/homebrew/lib/python3.10/site-packages/networkx/classes/coreviews.py:43(__init__)\n",
      "     3978    0.000    0.000    0.000    0.000 {method 'get' of 'dict' objects}\n",
      "6014/6013    0.000    0.000    0.000    0.000 {built-in method builtins.len}\n",
      "        1    0.000    0.000    0.000    0.000 /Users/faridounet/PhD/TransportersDilemma/assignment.py:112(seed)\n",
      "      504    0.000    0.000    0.000    0.000 /Users/faridounet/Library/Python/3.10/lib/python/site-packages/ortools/constraint_solver/pywrapcp.py:3480(Value)\n",
      "      504    0.000    0.000    0.000    0.000 /Users/faridounet/Library/Python/3.10/lib/python/site-packages/ortools/constraint_solver/pywrapcp.py:5635(NextVar)\n",
      "        1    0.000    0.000    0.000    0.000 {method 'choice' of 'numpy.random.mtrand.RandomState' objects}\n",
      "     2026    0.000    0.000    0.000    0.000 /opt/homebrew/lib/python3.10/site-packages/networkx/generators/lattice.py:64(<genexpr>)\n",
      "        1    0.000    0.000    0.000    0.000 /Users/faridounet/Library/Python/3.10/lib/python/site-packages/ortools/constraint_solver/pywrapcp.py:4717(AddDimensionWithVehicleCapacity)\n",
      "        1    0.000    0.000    0.000    0.000 {built-in method ortools.constraint_solver._pywrapcp.RoutingModel_AddDimensionWithVehicleCapacity}\n",
      "        2    0.000    0.000    0.000    0.000 /opt/homebrew/Cellar/python@3.10/3.10.11/Frameworks/Python.framework/Versions/3.10/lib/python3.10/contextlib.py:76(inner)\n",
      "       10    0.000    0.000    0.000    0.000 /opt/homebrew/lib/python3.10/site-packages/numba/core/typing/typeof.py:32(typeof)\n",
      "        2    0.000    0.000    0.000    0.000 {function SeedSequence.generate_state at 0x10ac760e0}\n",
      "        1    0.000    0.000    0.000    0.000 /Users/faridounet/PhD/TransportersDilemma/assignment.py:386(<listcomp>)\n",
      "       10    0.000    0.000    0.000    0.000 /opt/homebrew/lib/python3.10/site-packages/numba/core/types/abstract.py:60(__call__)\n",
      "      508    0.000    0.000    0.000    0.000 /Users/faridounet/Library/Python/3.10/lib/python/site-packages/ortools/constraint_solver/pywrapcp.py:5612(IsEnd)\n",
      "      504    0.000    0.000    0.000    0.000 {built-in method ortools.constraint_solver._pywrapcp.Assignment_Value}\n",
      "        5    0.000    0.000    0.000    0.000 /opt/homebrew/lib/python3.10/site-packages/numba/typed/typedlist.py:271(_parse_arg)\n",
      "       10    0.000    0.000    0.000    0.000 /opt/homebrew/Cellar/python@3.10/3.10.11/Frameworks/Python.framework/Versions/3.10/lib/python3.10/functools.py:884(wrapper)\n",
      "      504    0.000    0.000    0.000    0.000 {built-in method ortools.constraint_solver._pywrapcp.RoutingModel_NextVar}\n",
      "     1006    0.000    0.000    0.000    0.000 /opt/homebrew/lib/python3.10/site-packages/numpy/core/fromnumeric.py:2157(_sum_dispatcher)\n",
      "        2    0.000    0.000    0.000    0.000 <__array_function__ internals>:177(ix_)\n",
      "        2    0.000    0.000    0.000    0.000 /opt/homebrew/lib/python3.10/site-packages/numpy/lib/index_tricks.py:35(ix_)\n",
      "        5    0.000    0.000    0.000    0.000 /opt/homebrew/lib/python3.10/site-packages/numba/core/dispatcher.py:724(typeof_pyval)\n",
      "        1    0.000    0.000    0.000    0.000 /Users/faridounet/PhD/TransportersDilemma/assignment.py:236(<listcomp>)\n",
      "        1    0.000    0.000    0.000    0.000 /Users/faridounet/PhD/TransportersDilemma/assignment.py:237(<listcomp>)\n",
      "        5    0.000    0.000    0.000    0.000 {built-in method numpy.asarray}\n",
      "      501    0.000    0.000    0.000    0.000 /opt/homebrew/lib/python3.10/site-packages/numpy/core/fromnumeric.py:2302(_any_dispatcher)\n",
      "       10    0.000    0.000    0.000    0.000 /opt/homebrew/lib/python3.10/site-packages/numba/core/types/abstract.py:48(_intern)\n",
      "        5    0.000    0.000    0.000    0.000 /opt/homebrew/lib/python3.10/site-packages/numba/core/typing/typeof.py:267(_typeof_nb_type)\n",
      "      501    0.000    0.000    0.000    0.000 /Users/faridounet/PhD/TransportersDilemma/assignment.py:551(_get_observation)\n",
      "      508    0.000    0.000    0.000    0.000 {built-in method ortools.constraint_solver._pywrapcp.RoutingModel_IsEnd}\n",
      "       46    0.000    0.000    0.000    0.000 /opt/homebrew/lib/python3.10/site-packages/networkx/utils/misc.py:213(pairwise)\n",
      "        5    0.000    0.000    0.000    0.000 /opt/homebrew/lib/python3.10/site-packages/numba/core/types/containers.py:618(__init__)\n",
      "        1    0.000    0.000    0.000    0.000 /Users/faridounet/Library/Python/3.10/lib/python/site-packages/ortools/constraint_solver/pywrapcp.py:4581(DefaultRoutingSearchParameters)\n",
      "        1    0.000    0.000    0.000    0.000 {built-in method ortools.constraint_solver._pywrapcp.DefaultRoutingSearchParameters}\n",
      "        1    0.000    0.000    0.000    0.000 <__array_function__ internals>:177(prod)\n",
      "        2    0.000    0.000    0.000    0.000 /opt/homebrew/lib/python3.10/site-packages/numpy/core/numeric.py:149(ones)\n",
      "        1    0.000    0.000    0.000    0.000 /Users/faridounet/PhD/TransportersDilemma/assignment.py:496(<listcomp>)\n",
      "      512    0.000    0.000    0.000    0.000 /opt/homebrew/lib/python3.10/site-packages/numba/typed/typedlist.py:287(_typed)\n",
      "        1    0.000    0.000    0.000    0.000 /opt/homebrew/lib/python3.10/site-packages/numpy/core/fromnumeric.py:2927(prod)\n",
      "        1    0.000    0.000    0.000    0.000 /Users/faridounet/Library/Python/3.10/lib/python/site-packages/ortools/constraint_solver/pywrapcp.py:4550(__init__)\n",
      "        2    0.000    0.000    0.000    0.000 /opt/homebrew/Cellar/python@3.10/3.10.11/Frameworks/Python.framework/Versions/3.10/lib/python3.10/random.py:826(getrandbits)\n",
      "        1    0.000    0.000    0.000    0.000 <__array_function__ internals>:177(fill_diagonal)\n",
      "        1    0.000    0.000    0.000    0.000 /Users/faridounet/PhD/TransportersDilemma/assignment.py:249(<listcomp>)\n",
      "        1    0.000    0.000    0.000    0.000 /Users/faridounet/PhD/TransportersDilemma/assignment.py:255(<listcomp>)\n",
      "    42/29    0.000    0.000    0.000    0.000 /opt/homebrew/lib/python3.10/site-packages/numba/core/types/abstract.py:120(__eq__)\n",
      "        1    0.000    0.000    0.000    0.000 /Users/faridounet/PhD/TransportersDilemma/assignment.py:250(<listcomp>)\n",
      "        1    0.000    0.000    0.000    0.000 /opt/homebrew/lib/python3.10/site-packages/numba/core/typing/typeof.py:46(typeof_impl)\n",
      "        4    0.000    0.000    0.000    0.000 /opt/homebrew/lib/python3.10/site-packages/numpy/core/_ufunc_config.py:32(seterr)\n",
      "        1    0.000    0.000    0.000    0.000 /opt/homebrew/lib/python3.10/site-packages/numpy/lib/index_tricks.py:779(fill_diagonal)\n",
      "        2    0.000    0.000    0.000    0.000 /opt/homebrew/lib/python3.10/site-packages/numpy/core/_ufunc_config.py:429(__enter__)\n",
      "        2    0.000    0.000    0.000    0.000 {built-in method posix.urandom}\n",
      "    22/10    0.000    0.000    0.000    0.000 /opt/homebrew/lib/python3.10/site-packages/numba/core/types/abstract.py:117(__hash__)\n",
      "        2    0.000    0.000    0.000    0.000 <__array_function__ internals>:177(concatenate)\n",
      "        1    0.000    0.000    0.000    0.000 /Users/faridounet/PhD/TransportersDilemma/assignment.py:245(<listcomp>)\n",
      "        1    0.000    0.000    0.000    0.000 /Users/faridounet/PhD/TransportersDilemma/assignment.py:246(<listcomp>)\n",
      "       10    0.000    0.000    0.000    0.000 /opt/homebrew/Cellar/python@3.10/3.10.11/Frameworks/Python.framework/Versions/3.10/lib/python3.10/functools.py:818(dispatch)\n",
      "       21    0.000    0.000    0.000    0.000 /opt/homebrew/Cellar/python@3.10/3.10.11/Frameworks/Python.framework/Versions/3.10/lib/python3.10/abc.py:117(__instancecheck__)\n",
      "        1    0.000    0.000    0.000    0.000 {built-in method ortools.constraint_solver._pywrapcp.new_RoutingIndexManager}\n",
      "        1    0.000    0.000    0.000    0.000 <class 'networkx.utils.decorators.argmap'> compilation 8:1(argmap_empty_graph_5)\n",
      "        3    0.000    0.000    0.000    0.000 {built-in method numpy.empty}\n",
      "        4    0.000    0.000    0.000    0.000 /opt/homebrew/lib/python3.10/site-packages/numpy/core/numerictypes.py:356(issubdtype)\n",
      "        5    0.000    0.000    0.000    0.000 /opt/homebrew/lib/python3.10/site-packages/numba/typed/typedlist.py:229(__init__)\n",
      "    22/10    0.000    0.000    0.000    0.000 {built-in method builtins.hash}\n",
      "       46    0.000    0.000    0.000    0.000 {built-in method itertools.tee}\n",
      "        4    0.000    0.000    0.000    0.000 /opt/homebrew/lib/python3.10/site-packages/numba/core/typing/typeof.py:131(_typeof_int)\n",
      "       21    0.000    0.000    0.000    0.000 {built-in method _abc._abc_instancecheck}\n",
      "        1    0.000    0.000    0.000    0.000 /opt/homebrew/lib/python3.10/site-packages/networkx/generators/classic.py:430(empty_graph)\n",
      "        1    0.000    0.000    0.000    0.000 /opt/homebrew/lib/python3.10/site-packages/sortedcontainers/sortedlist.py:174(__new__)\n",
      "        1    0.000    0.000    0.000    0.000 /opt/homebrew/lib/python3.10/site-packages/networkx/classes/graph.py:1358(edges)\n",
      "        6    0.000    0.000    0.000    0.000 {method 'format' of 'str' objects}\n",
      "        1    0.000    0.000    0.000    0.000 /opt/homebrew/lib/python3.10/site-packages/networkx/classes/graph.py:332(__init__)\n",
      "        1    0.000    0.000    0.000    0.000 /opt/homebrew/lib/python3.10/site-packages/numba/core/typing/typeof.py:67(_typeof_buffer)\n",
      "        1    0.000    0.000    0.000    0.000 /opt/homebrew/lib/python3.10/site-packages/networkx/classes/reportviews.py:1097(__call__)\n",
      "        4    0.000    0.000    0.000    0.000 /opt/homebrew/lib/python3.10/site-packages/numba/core/types/functions.py:681(__init__)\n",
      "        1    0.000    0.000    0.000    0.000 {built-in method ortools.constraint_solver._pywrapcp.RoutingIndexManager_swiginit}\n",
      "        4    0.000    0.000    0.000    0.000 /Users/faridounet/Library/Python/3.10/lib/python/site-packages/ortools/constraint_solver/pywrapcp.py:5597(Start)\n",
      "        5    0.000    0.000    0.000    0.000 /opt/homebrew/lib/python3.10/site-packages/numba/typed/typedlist.py:50(_make_list)\n",
      "        2    0.000    0.000    0.000    0.000 /opt/homebrew/lib/python3.10/site-packages/numpy/core/_ufunc_config.py:434(__exit__)\n",
      "        8    0.000    0.000    0.000    0.000 /opt/homebrew/lib/python3.10/site-packages/numpy/core/numerictypes.py:282(issubclass_)\n",
      "        4    0.000    0.000    0.000    0.000 /opt/homebrew/lib/python3.10/site-packages/numpy/core/_ufunc_config.py:131(geterr)\n",
      "        4    0.000    0.000    0.000    0.000 /opt/homebrew/lib/python3.10/site-packages/numba/core/utils.py:455(bit_length)\n",
      "        1    0.000    0.000    0.000    0.000 /opt/homebrew/lib/python3.10/site-packages/networkx/classes/graph.py:1481(degree)\n",
      "        1    0.000    0.000    0.000    0.000 /opt/homebrew/lib/python3.10/site-packages/networkx/classes/reportviews.py:1065(__init__)\n",
      "        1    0.000    0.000    0.000    0.000 /opt/homebrew/lib/python3.10/site-packages/numba/core/typing/cffi_utils.py:39(is_cffi_func)\n",
      "        4    0.000    0.000    0.000    0.000 /Users/faridounet/Library/Python/3.10/lib/python/site-packages/ortools/constraint_solver/pywrapcp.py:4677(RegisterTransitCallback)\n",
      "        9    0.000    0.000    0.000    0.000 {built-in method builtins.getattr}\n",
      "        1    0.000    0.000    0.000    0.000 /Users/faridounet/PhD/TransportersDilemma/transporter.py:160(reset)\n",
      "        5    0.000    0.000    0.000    0.000 /opt/homebrew/lib/python3.10/site-packages/numba/typed/typedlist.py:202(__new__)\n",
      "        5    0.000    0.000    0.000    0.000 /opt/homebrew/lib/python3.10/site-packages/numba/core/types/misc.py:52(unliteral)\n",
      "       10    0.000    0.000    0.000    0.000 <string>:1(<lambda>)\n",
      "        1    0.000    0.000    0.000    0.000 /opt/homebrew/lib/python3.10/site-packages/networkx/classes/reportviews.py:417(__init__)\n",
      "        2    0.000    0.000    0.000    0.000 /opt/homebrew/lib/python3.10/site-packages/networkx/classes/graph.py:435(__iter__)\n",
      "       10    0.000    0.000    0.000    0.000 /opt/homebrew/Cellar/python@3.10/3.10.11/Frameworks/Python.framework/Versions/3.10/lib/python3.10/weakref.py:415(__getitem__)\n",
      "        3    0.000    0.000    0.000    0.000 {built-in method numpy.zeros}\n",
      "        1    0.000    0.000    0.000    0.000 /opt/homebrew/lib/python3.10/site-packages/sortedcontainers/sortedlist.py:144(__init__)\n",
      "        4    0.000    0.000    0.000    0.000 /Users/faridounet/Library/Python/3.10/lib/python/site-packages/ortools/constraint_solver/pywrapcp.py:5218(SetArcCostEvaluatorOfVehicle)\n",
      "       16    0.000    0.000    0.000    0.000 {built-in method __new__ of type object at 0x103922718}\n",
      "        1    0.000    0.000    0.000    0.000 /opt/homebrew/lib/python3.10/site-packages/networkx/classes/reportviews.py:760(__init__)\n",
      "        1    0.000    0.000    0.000    0.000 /Users/faridounet/Library/Python/3.10/lib/python/site-packages/cffi/api.py:194(typeof)\n",
      "        3    0.000    0.000    0.000    0.000 /opt/homebrew/lib/python3.10/site-packages/networkx/utils/decorators.py:241(_nodes_or_number)\n",
      "        1    0.000    0.000    0.000    0.000 /opt/homebrew/lib/python3.10/site-packages/networkx/classes/graph.py:374(adj)\n",
      "       46    0.000    0.000    0.000    0.000 {built-in method builtins.next}\n",
      "       30    0.000    0.000    0.000    0.000 /opt/homebrew/lib/python3.10/site-packages/numba/core/types/abstract.py:95(key)\n",
      "        4    0.000    0.000    0.000    0.000 {built-in method ortools.constraint_solver._pywrapcp.RoutingModel_RegisterTransitCallback}\n",
      "        1    0.000    0.000    0.000    0.000 /opt/homebrew/lib/python3.10/site-packages/networkx/classes/graph.py:732(nodes)\n",
      "       10    0.000    0.000    0.000    0.000 {built-in method builtins.hasattr}\n",
      "        5    0.000    0.000    0.000    0.000 {built-in method builtins.any}\n",
      "       12    0.000    0.000    0.000    0.000 {built-in method builtins.issubclass}\n",
      "        1    0.000    0.000    0.000    0.000 /Users/faridounet/PhD/TransportersDilemma/assignment.py:105(<listcomp>)\n",
      "        4    0.000    0.000    0.000    0.000 {built-in method numpy.seterrobj}\n",
      "        1    0.000    0.000    0.000    0.000 /Users/faridounet/Library/Python/3.10/lib/python/site-packages/ortools/constraint_solver/pywrapcp.py:4668(RegisterUnaryTransitCallback)\n",
      "        4    0.000    0.000    0.000    0.000 {method 'reshape' of 'numpy.ndarray' objects}\n",
      "       23    0.000    0.000    0.000    0.000 /opt/homebrew/lib/python3.10/site-packages/numba/core/types/containers.py:630(key)\n",
      "        2    0.000    0.000    0.000    0.000 <frozen importlib._bootstrap>:1053(_handle_fromlist)\n",
      "        1    0.000    0.000    0.000    0.000 /opt/homebrew/lib/python3.10/site-packages/numba/core/types/abstract.py:470(__init__)\n",
      "        1    0.000    0.000    0.000    0.000 {built-in method ortools.constraint_solver._pywrapcp.RoutingModel_swiginit}\n",
      "       10    0.000    0.000    0.000    0.000 /opt/homebrew/lib/python3.10/site-packages/numba/core/types/abstract.py:114(__repr__)\n",
      "        2    0.000    0.000    0.000    0.000 /opt/homebrew/lib/python3.10/site-packages/networkx/classes/graph.py:467(__len__)\n",
      "        2    0.000    0.000    0.000    0.000 {built-in method from_bytes}\n",
      "        8    0.000    0.000    0.000    0.000 {built-in method numpy.geterrobj}\n",
      "        1    0.000    0.000    0.000    0.000 /opt/homebrew/lib/python3.10/site-packages/networkx/classes/reportviews.py:185(__iter__)\n",
      "        1    0.000    0.000    0.000    0.000 /Users/faridounet/PhD/TransportersDilemma/assignment.py:481(__init__)\n",
      "       10    0.000    0.000    0.000    0.000 /opt/homebrew/lib/python3.10/site-packages/numba/core/types/abstract.py:92(__init__)\n",
      "       10    0.000    0.000    0.000    0.000 {built-in method _abc.get_cache_token}\n",
      "        1    0.000    0.000    0.000    0.000 {built-in method ortools.constraint_solver._pywrapcp.RoutingModel_RegisterUnaryTransitCallback}\n",
      "        1    0.000    0.000    0.000    0.000 /opt/homebrew/lib/python3.10/site-packages/numba/core/typing/cffi_utils.py:29(is_ffi_instance)\n",
      "       12    0.000    0.000    0.000    0.000 /opt/homebrew/lib/python3.10/site-packages/numba/core/types/functions.py:696(key)\n",
      "        1    0.000    0.000    0.000    0.000 /opt/homebrew/lib/python3.10/site-packages/networkx/classes/reportviews.py:178(__init__)\n",
      "        1    0.000    0.000    0.000    0.000 /opt/homebrew/lib/python3.10/site-packages/networkx/classes/graph.py:59(__set__)\n",
      "        1    0.000    0.000    0.000    0.000 /Users/faridounet/PhD/TransportersDilemma/transporter.py:236(<listcomp>)\n",
      "        4    0.000    0.000    0.000    0.000 {built-in method ortools.constraint_solver._pywrapcp.RoutingModel_Start}\n",
      "        4    0.000    0.000    0.000    0.000 {built-in method builtins.bin}\n",
      "        4    0.000    0.000    0.000    0.000 {built-in method ortools.constraint_solver._pywrapcp.RoutingModel_SetArcCostEvaluatorOfVehicle}\n",
      "        1    0.000    0.000    0.000    0.000 /Users/faridounet/PhD/TransportersDilemma/transporter.py:132(<listcomp>)\n",
      "        1    0.000    0.000    0.000    0.000 /opt/homebrew/lib/python3.10/site-packages/google/protobuf/internal/well_known_types.py:380(FromSeconds)\n",
      "        4    0.000    0.000    0.000    0.000 {method '__exit__' of '_thread.RLock' objects}\n",
      "        3    0.000    0.000    0.000    0.000 {built-in method builtins.iter}\n",
      "        5    0.000    0.000    0.000    0.000 /opt/homebrew/lib/python3.10/site-packages/numba/typed/typedlist.py:245(<genexpr>)\n",
      "        1    0.000    0.000    0.000    0.000 /opt/homebrew/lib/python3.10/site-packages/numpy/core/fromnumeric.py:2672(_amax_dispatcher)\n",
      "        3    0.000    0.000    0.000    0.000 /opt/homebrew/lib/python3.10/site-packages/numpy/core/multiarray.py:1071(copyto)\n",
      "        3    0.000    0.000    0.000    0.000 /opt/homebrew/lib/python3.10/site-packages/numba/core/types/abstract.py:474(key)\n",
      "        2    0.000    0.000    0.000    0.000 /opt/homebrew/lib/python3.10/site-packages/numpy/core/multiarray.py:148(concatenate)\n",
      "        2    0.000    0.000    0.000    0.000 /opt/homebrew/lib/python3.10/site-packages/networkx/classes/graph.py:1557(is_directed)\n",
      "        2    0.000    0.000    0.000    0.000 /opt/homebrew/lib/python3.10/site-packages/numpy/lib/index_tricks.py:31(_ix__dispatcher)\n",
      "        1    0.000    0.000    0.000    0.000 {method 'disable' of '_lsprof.Profiler' objects}\n",
      "        1    0.000    0.000    0.000    0.000 /Users/faridounet/PhD/TransportersDilemma/assignment.py:110(<listcomp>)\n",
      "        1    0.000    0.000    0.000    0.000 /opt/homebrew/lib/python3.10/site-packages/networkx/classes/reportviews.py:424(__call__)\n",
      "        2    0.000    0.000    0.000    0.000 /opt/homebrew/Cellar/python@3.10/3.10.11/Frameworks/Python.framework/Versions/3.10/lib/python3.10/contextlib.py:63(_recreate_cm)\n",
      "        1    0.000    0.000    0.000    0.000 /opt/homebrew/lib/python3.10/site-packages/networkx/classes/graph.py:37(__set__)\n",
      "        2    0.000    0.000    0.000    0.000 /opt/homebrew/lib/python3.10/site-packages/networkx/classes/graph.py:1553(is_multigraph)\n",
      "        1    0.000    0.000    0.000    0.000 {method 'clear' of 'list' objects}\n",
      "        1    0.000    0.000    0.000    0.000 /opt/homebrew/lib/python3.10/site-packages/numpy/core/fromnumeric.py:2922(_prod_dispatcher)\n",
      "        1    0.000    0.000    0.000    0.000 /opt/homebrew/lib/python3.10/site-packages/numpy/lib/index_tricks.py:775(_fill_diagonal_dispatcher)\n",
      "\n",
      "\n"
     ]
    },
    {
     "data": {
      "text/plain": [
       "<pstats.Stats at 0x141c88490>"
      ]
     },
     "execution_count": 5,
     "metadata": {},
     "output_type": "execute_result"
    }
   ],
   "source": [
    "cProfile.run(\"test_assignment_env(log = False)\", \"my_func_stats\")\n",
    "\n",
    "p = pstats.Stats(\"my_func_stats\")\n",
    "p.sort_stats(\"cumulative\").print_stats()"
   ]
  },
  {
   "cell_type": "code",
   "execution_count": 28,
   "metadata": {},
   "outputs": [],
   "source": [
    "from numba import jit, njit\n",
    "import numpy as np\n",
    "from timeit import timeit\n",
    "\n",
    "@jit\n",
    "def f(l, x, mask):\n",
    "    y = x[mask]\n",
    "    s = 0\n",
    "    for i in range(len(l)):\n",
    "        s += y[i]\n",
    "        \n",
    "\n",
    "def ff(l, x, mask):\n",
    "    y = x[mask]\n",
    "    s = 0\n",
    "    for i in range(len(l)-1):\n",
    "        s += y[i]"
   ]
  },
  {
   "cell_type": "code",
   "execution_count": 29,
   "metadata": {},
   "outputs": [
    {
     "name": "stdout",
     "output_type": "stream",
     "text": [
      "9.34 µs ± 50.6 ns per loop (mean ± std. dev. of 7 runs, 100,000 loops each)\n"
     ]
    }
   ],
   "source": [
    "%%timeit\n",
    "x = np.random.rand(200)\n",
    "l = np.random.randint(20, size=50)\n",
    "mask = np.where(x<.5)\n",
    "ff(l, x, mask)"
   ]
  },
  {
   "cell_type": "code",
   "execution_count": 31,
   "metadata": {},
   "outputs": [
    {
     "name": "stdout",
     "output_type": "stream",
     "text": [
      "6.35 µs ± 12.1 ns per loop (mean ± std. dev. of 7 runs, 100,000 loops each)\n"
     ]
    }
   ],
   "source": [
    "%%timeit\n",
    "x = np.random.rand(200)\n",
    "l = np.random.randint(20, size=50)\n",
    "mask = np.where(x<.5)\n",
    "f(l, x, mask)"
   ]
  },
  {
   "cell_type": "code",
   "execution_count": 2,
   "metadata": {},
   "outputs": [],
   "source": [
    "# res = gp_minimize(loss_fn,                  # the function to minimize\n",
    "#                   [[0,1] for _ in range(len(dims))],      # the bounds on each dimension of x\n",
    "#                   acq_func=\"EI\",      # the acquisition function\n",
    "#                   n_calls=150,         # the number of evaluations of f\n",
    "#                   n_random_starts=3,  # the number of random initialization points\n",
    "#                   noise=0.1**2,       # the noise level (optional)\n",
    "#                   n_jobs=5,\n",
    "#                   random_state=1234)   # the random seed"
   ]
  },
  {
   "cell_type": "code",
   "execution_count": 15,
   "metadata": {},
   "outputs": [
    {
     "name": "stdout",
     "output_type": "stream",
     "text": [
      "[[0, 1, 0], [0, 0], [0, 3, 0], [0, 5, 0]]\n",
      "[2. 0. 2. 2.]\n"
     ]
    }
   ],
   "source": [
    "actions = np.array([1, 0, 1, 0, 1])\n",
    "\n",
    "distance = np.zeros(4)\n",
    "time = np.zeros(4)\n",
    "\n",
    "solutions = [\n",
    "    [0, 1, 0],\n",
    "    [0, 2, 0],\n",
    "    [0, 3, 0],\n",
    "    [0, 4, 5, 0]\n",
    "]\n",
    "\n",
    "distance_matrix = np.ones(len(actions)+1) - np.eye(6)\n",
    "\n",
    "omitted_packages = np.where(actions == 0)[0] + 1 # important to add 1 to ignore the hub's index 0\n",
    "sol = [\n",
    "    [\n",
    "        solutions[m][i]\n",
    "        for i in range(len(solutions[m]))\n",
    "        if solutions[m][i] not in omitted_packages\n",
    "    ]\n",
    "    for m in range(len(solutions))\n",
    "]\n",
    "print(sol)\n",
    "\n",
    "for m in range(len(solutions)):\n",
    "    i = 0\n",
    "    j = 1\n",
    "    while i < len(solutions[m]) and j < len(solutions[m]):\n",
    "        if not solutions[m][j] in omitted_packages:\n",
    "            distance[m] += distance_matrix[solutions[m][i], solutions[m][j]]\n",
    "            i = j\n",
    "            j = i+1\n",
    "        else:\n",
    "            j += 1\n",
    "        # print(j)\n",
    "print(distance)"
   ]
  },
  {
   "cell_type": "code",
   "execution_count": 4,
   "metadata": {},
   "outputs": [
    {
     "data": {
      "text/plain": [
       "array([1, 1, 9])"
      ]
     },
     "execution_count": 4,
     "metadata": {},
     "output_type": "execute_result"
    }
   ],
   "source": [
    "a = np.array([1, 0, 1, 0, 9])\n",
    "a[np.nonzero(a)[0]]\n",
    "# np.where(a == 1)"
   ]
  },
  {
   "cell_type": "code",
   "execution_count": 4,
   "metadata": {},
   "outputs": [
    {
     "data": {
      "text/plain": [
       "(-2511.9999999999973,\n",
       " False,\n",
       " {'solution_found': True,\n",
       "  'costs': 712.0,\n",
       "  'time_per_vehicle': array([1.075, 1.45 , 1.225, 0.7  ]),\n",
       "  'distance_per_vehicle': array([43., 58., 49., 28.]),\n",
       "  'excess_emission': 1.7999999999999972,\n",
       "  'omitted': 0,\n",
       "  'solution': [[0, 39, 5, 6, 22, 47, 44, 27, 20, 10, 37, 11, 15, 24, 35, 0],\n",
       "   [0, 50, 4, 7, 34, 36, 43, 31, 14, 9, 13, 12, 3, 30, 29, 0],\n",
       "   [0, 40, 26, 38, 21, 16, 49, 41, 28, 32, 45, 48, 33, 19, 0],\n",
       "   [0, 17, 23, 2, 18, 8, 1, 25, 42, 46, 0]]})"
      ]
     },
     "execution_count": 4,
     "metadata": {},
     "output_type": "execute_result"
    }
   ],
   "source": [
    "from assignment import AssignmentGame\n",
    "# e = 2*[0] + 2*[0.15] + 6*[0.3]\n",
    "# c = [1 for _ in range(10)]\n",
    "Q = 30\n",
    "game = AssignmentGame(Q=Q)#grid_size=30, max_capacity=50, emissions_KM=e, costs_KM=c, Q=Q)\n",
    "K = 50\n",
    "game.reset(num_packages = K)\n",
    "game.step(np.ones(K, dtype=int))"
   ]
  },
  {
   "cell_type": "code",
   "execution_count": 5,
   "metadata": {},
   "outputs": [],
   "source": [
    "f = lambda x : -game.step(x, call_OR=False)[0]\n",
    "res = gp_minimize(f,                  # the function to minimize\n",
    "                  [[0,1] for _ in range(K)],      # the bounds on each dimension of x\n",
    "                  acq_func=\"EI\",      # the acquisition function\n",
    "                  n_calls=200,         # the number of evaluations of f\n",
    "                  n_random_starts=3,  # the number of random initialization points\n",
    "                  noise=0.1**2,       # the noise level (optional)\n",
    "                  n_jobs=5,\n",
    "                  x0=[1 for _ in range(K)],#np.ones(K, dtype = int),\n",
    "                  random_state=1234)   # the random seed"
   ]
  },
  {
   "cell_type": "code",
   "execution_count": 6,
   "metadata": {},
   "outputs": [
    {
     "data": {
      "text/plain": [
       "[<matplotlib.lines.Line2D at 0x297e4c3d0>]"
      ]
     },
     "execution_count": 6,
     "metadata": {},
     "output_type": "execute_result"
    },
    {
     "data": {
      "image/png": "[encoded data removed]",
      "text/plain": [
       "<Figure size 640x480 with 1 Axes>"
      ]
     },
     "metadata": {},
     "output_type": "display_data"
    }
   ],
   "source": [
    "plt.plot(res['func_vals'])"
   ]
  },
  {
   "cell_type": "code",
   "execution_count": 46,
   "metadata": {},
   "outputs": [
    {
     "data": {
      "text/plain": [
       "177"
      ]
     },
     "execution_count": 46,
     "metadata": {},
     "output_type": "execute_result"
    }
   ],
   "source": [
    "np.argmin(res['func_vals'])"
   ]
  },
  {
   "cell_type": "code",
   "execution_count": null,
   "metadata": {},
   "outputs": [],
   "source": [
    "import numpy.random as rd\n",
    "def rand_neighbor(solution : np.ndarray, nb_changes = 1) :\n",
    "    \"\"\"\n",
    "    Generates new random solution.\n",
    "    :param solution: the solution for which we search a neighbor\n",
    "    :param nb_changes: maximum number of the changes alowed\n",
    "    :return: returns a random neighbor for the solution\n",
    "    \"\"\"\n",
    "    new_solution = solution.astype(bool)\n",
    "    i = rd.choice(len(new_solution), nb_changes, replace=False)\n",
    "    new_solution[i] = ~new_solution[i]\n",
    "    return new_solution.astype(int)\n",
    "\n",
    "def recuit(loss_fn, T_init, T_limit, lamb = .99, var = False, id = 0, log = True, H = 500) :\n",
    "    \"\"\"\n",
    "    This function finds a solution for the steiner problem\n",
    "        using annealing algorithm\n",
    "    :param game: the assignment game\n",
    "    :param T_init: the initial temperature\n",
    "    :param T_limit: the lowest temperature allowed\n",
    "    :return: the solution found and the evolution of the best evaluations\n",
    "    \"\"\"\n",
    "    best = np.ones(len(dims), dtype=int)\n",
    "    solution = best.copy()\n",
    "    T = T_init\n",
    "    eval_best = loss_fn(solution)\n",
    "    eval_solution = eval_best\n",
    "    m = 0\n",
    "    list_best_costs = [eval_best]\n",
    "    flag100 = True\n",
    "\n",
    "    while(T>T_limit):\n",
    "        sol = rand_neighbor(solution)\n",
    "        eval_sol = loss_fn(sol)\n",
    "        \n",
    "        if m%20 == 0 and log:\n",
    "            print(20*'-')\n",
    "            print(m)\n",
    "            print('- searcher ', id)\n",
    "            print('temperature : ', T)\n",
    "            print('cost : ', eval_sol)\n",
    "            print('best cost : ', eval_best)\n",
    "        if eval_sol < eval_best :\n",
    "            best = sol.copy()\n",
    "            eval_best = eval_sol\n",
    "            \n",
    "        if eval_sol < eval_solution :\n",
    "            prob = 1\n",
    "        else :\n",
    "            prob = np.exp((eval_best - eval_sol)/T)\n",
    "        rand = rd.random()\n",
    "        if rand <= prob :\n",
    "            solution = sol\n",
    "            eval_solution = eval_sol\n",
    "        list_best_costs.append(eval_best)\n",
    "        T *= lamb\n",
    "        m += 1\n",
    "        if m >= H:\n",
    "            break\n",
    "        \n",
    "        if(var and flag100 and T<=100):\n",
    "            flag100 = False\n",
    "            lamb = .999\n",
    "        #print(T)\n",
    "\n",
    "    print(f'm ={m}')\n",
    "    print(eval_best)\n",
    "    return best, list_best_costs\n"
   ]
  },
  {
   "cell_type": "code",
   "execution_count": null,
   "metadata": {},
   "outputs": [],
   "source": [
    "best = recuit(f, 20000, 2, )"
   ]
  },
  {
   "cell_type": "code",
   "execution_count": null,
   "metadata": {},
   "outputs": [],
   "source": []
  }
 ],
 "metadata": {
  "kernelspec": {
   "display_name": ".venv_DQVRP",
   "language": "python",
   "name": "python3"
  },
  "language_info": {
   "codemirror_mode": {
    "name": "ipython",
    "version": 3
   },
   "file_extension": ".py",
   "mimetype": "text/x-python",
   "name": "python",
   "nbconvert_exporter": "python",
   "pygments_lexer": "ipython3",
   "version": "3.12.4"
  },
  "orig_nbformat": 4
 },
 "nbformat": 4,
 "nbformat_minor": 2
}
