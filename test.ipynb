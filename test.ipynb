{
 "cells": [
  {
   "cell_type": "code",
   "execution_count": 1,
   "metadata": {},
   "outputs": [],
   "source": [
    "import matplotlib.pyplot as plt\n",
    "import numpy as np\n",
    "from skopt import gp_minimize"
   ]
  },
  {
   "cell_type": "code",
   "execution_count": 2,
   "metadata": {},
   "outputs": [],
   "source": [
    "# res = gp_minimize(loss_fn,                  # the function to minimize\n",
    "#                   [[0,1] for _ in range(len(dims))],      # the bounds on each dimension of x\n",
    "#                   acq_func=\"EI\",      # the acquisition function\n",
    "#                   n_calls=150,         # the number of evaluations of f\n",
    "#                   n_random_starts=3,  # the number of random initialization points\n",
    "#                   noise=0.1**2,       # the noise level (optional)\n",
    "#                   n_jobs=5,\n",
    "#                   random_state=1234)   # the random seed"
   ]
  },
  {
   "cell_type": "code",
   "execution_count": 2,
   "metadata": {},
   "outputs": [
    {
     "data": {
      "text/plain": [
       "array([9, 5, 4, 3, 1])"
      ]
     },
     "execution_count": 2,
     "metadata": {},
     "output_type": "execute_result"
    }
   ],
   "source": [
    "a = [1, 4, 5, 3, 9]\n",
    "np.flip(np.sort(a))"
   ]
  },
  {
   "cell_type": "code",
   "execution_count": 3,
   "metadata": {},
   "outputs": [
    {
     "data": {
      "text/plain": [
       "{}"
      ]
     },
     "execution_count": 3,
     "metadata": {},
     "output_type": "execute_result"
    }
   ],
   "source": [
    "from assignment import AssignmentGame\n",
    "e = 2*[0] + 2*[0.15] + 6*[0.3]\n",
    "c = [1 for _ in range(10)]\n",
    "Q = 300\n",
    "game = AssignmentGame(grid_size=30, max_capacity=50, emissions_KM=e, costs_KM=c, Q=Q)\n",
    "K = 500\n",
    "game.reset(num_packages = K)"
   ]
  },
  {
   "cell_type": "code",
   "execution_count": 4,
   "metadata": {},
   "outputs": [],
   "source": [
    "f = lambda x : -game.step(x, 1)[0]\n",
    "res = gp_minimize(f,                  # the function to minimize\n",
    "                  [[0,1] for _ in range(K)],      # the bounds on each dimension of x\n",
    "                  acq_func=\"EI\",      # the acquisition function\n",
    "                  n_calls=200,         # the number of evaluations of f\n",
    "                  n_random_starts=3,  # the number of random initialization points\n",
    "                  noise=0.1**2,       # the noise level (optional)\n",
    "                  n_jobs=5,\n",
    "                  x0=[1 for _ in range(K)],#np.ones(K, dtype = int),\n",
    "                  random_state=1234)   # the random seed"
   ]
  },
  {
   "cell_type": "code",
   "execution_count": 1,
   "metadata": {},
   "outputs": [
    {
     "ename": "NameError",
     "evalue": "name 'plt' is not defined",
     "output_type": "error",
     "traceback": [
      "\u001b[0;31m---------------------------------------------------------------------------\u001b[0m",
      "\u001b[0;31mNameError\u001b[0m                                 Traceback (most recent call last)",
      "Cell \u001b[0;32mIn[1], line 1\u001b[0m\n\u001b[0;32m----> 1\u001b[0m plt\u001b[39m.\u001b[39mplot(res[\u001b[39m'\u001b[39m\u001b[39mfunc_vals\u001b[39m\u001b[39m'\u001b[39m])\n",
      "\u001b[0;31mNameError\u001b[0m: name 'plt' is not defined"
     ]
    }
   ],
   "source": [
    "plt.plot(res['func_vals'])"
   ]
  },
  {
   "cell_type": "code",
   "execution_count": 46,
   "metadata": {},
   "outputs": [
    {
     "data": {
      "text/plain": [
       "177"
      ]
     },
     "execution_count": 46,
     "metadata": {},
     "output_type": "execute_result"
    }
   ],
   "source": [
    "np.argmin(res['func_vals'])"
   ]
  },
  {
   "cell_type": "code",
   "execution_count": null,
   "metadata": {},
   "outputs": [],
   "source": [
    "import numpy.random as rd\n",
    "def rand_neighbor(solution : np.ndarray, nb_changes = 1) :\n",
    "    \"\"\"\n",
    "    Generates new random solution.\n",
    "    :param solution: the solution for which we search a neighbor\n",
    "    :param nb_changes: maximum number of the changes alowed\n",
    "    :return: returns a random neighbor for the solution\n",
    "    \"\"\"\n",
    "    new_solution = solution.astype(bool)\n",
    "    i = rd.choice(len(new_solution), nb_changes, replace=False)\n",
    "    new_solution[i] = ~new_solution[i]\n",
    "    return new_solution.astype(int)\n",
    "\n",
    "def recuit(loss_fn, T_init, T_limit, lamb = .99, var = False, id = 0, log = True, H = 500) :\n",
    "    \"\"\"\n",
    "    This function finds a solution for the steiner problem\n",
    "        using annealing algorithm\n",
    "    :param game: the assignment game\n",
    "    :param T_init: the initial temperature\n",
    "    :param T_limit: the lowest temperature allowed\n",
    "    :return: the solution found and the evolution of the best evaluations\n",
    "    \"\"\"\n",
    "    best = np.ones(len(dims), dtype=int)\n",
    "    solution = best.copy()\n",
    "    T = T_init\n",
    "    eval_best = loss_fn(solution)\n",
    "    eval_solution = eval_best\n",
    "    m = 0\n",
    "    list_best_costs = [eval_best]\n",
    "    flag100 = True\n",
    "\n",
    "    while(T>T_limit):\n",
    "        sol = rand_neighbor(solution)\n",
    "        eval_sol = loss_fn(sol)\n",
    "        \n",
    "        if m%20 == 0 and log:\n",
    "            print(20*'-')\n",
    "            print(m)\n",
    "            print('- searcher ', id)\n",
    "            print('temperature : ', T)\n",
    "            print('cost : ', eval_sol)\n",
    "            print('best cost : ', eval_best)\n",
    "        if eval_sol < eval_best :\n",
    "            best = sol.copy()\n",
    "            eval_best = eval_sol\n",
    "            \n",
    "        if eval_sol < eval_solution :\n",
    "            prob = 1\n",
    "        else :\n",
    "            prob = np.exp((eval_best - eval_sol)/T)\n",
    "        rand = rd.random()\n",
    "        if rand <= prob :\n",
    "            solution = sol\n",
    "            eval_solution = eval_sol\n",
    "        list_best_costs.append(eval_best)\n",
    "        T *= lamb\n",
    "        m += 1\n",
    "        if m >= H:\n",
    "            break\n",
    "        \n",
    "        if(var and flag100 and T<=100):\n",
    "            flag100 = False\n",
    "            lamb = .999\n",
    "        #print(T)\n",
    "\n",
    "    print(f'm ={m}')\n",
    "    print(eval_best)\n",
    "    return best, list_best_costs\n"
   ]
  },
  {
   "cell_type": "code",
   "execution_count": null,
   "metadata": {},
   "outputs": [],
   "source": [
    "best = recuit(f, 20000, 2, )"
   ]
  },
  {
   "cell_type": "code",
   "execution_count": null,
   "metadata": {},
   "outputs": [],
   "source": []
  }
 ],
 "metadata": {
  "kernelspec": {
   "display_name": "Python 3.10.10 64-bit",
   "language": "python",
   "name": "python3"
  },
  "language_info": {
   "codemirror_mode": {
    "name": "ipython",
    "version": 3
   },
   "file_extension": ".py",
   "mimetype": "text/x-python",
   "name": "python",
   "nbconvert_exporter": "python",
   "pygments_lexer": "ipython3",
   "version": "3.10.11"
  },
  "orig_nbformat": 4,
  "vscode": {
   "interpreter": {
    "hash": "bd385fe162c5ca0c84973b7dd5c518456272446b2b64e67c2a69f949ca7a1754"
   }
  }
 },
 "nbformat": 4,
 "nbformat_minor": 2
}
