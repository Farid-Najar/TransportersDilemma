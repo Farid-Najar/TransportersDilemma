{
 "cells": [
  {
   "cell_type": "code",
   "execution_count": 11,
   "metadata": {},
   "outputs": [],
   "source": [
    "import matplotlib.pyplot as plt\n",
    "import numpy as np\n",
    "from skopt import gp_minimize"
   ]
  },
  {
   "cell_type": "code",
   "execution_count": 9,
   "metadata": {},
   "outputs": [
    {
     "name": "stdout",
     "output_type": "stream",
     "text": [
      "3\n"
     ]
    },
    {
     "name": "stderr",
     "output_type": "stream",
     "text": [
      "/opt/homebrew/lib/python3.10/site-packages/numba/core/ir_utils.py:2147: NumbaPendingDeprecationWarning: \u001b[1m\n",
      "Encountered the use of a type that is scheduled for deprecation: type 'reflected list' found for argument 'x' of function 'f'.\n",
      "\n",
      "For more information visit https://numba.readthedocs.io/en/stable/reference/deprecation.html#deprecation-of-reflection-for-list-and-set-types\n",
      "\u001b[1m\n",
      "File \"../../../../var/folders/6y/xmdymgfj6t79xkdq239jvsmm0000gn/T/ipykernel_32802/7743138.py\", line 4:\u001b[0m\n",
      "\u001b[1m<source missing, REPL/exec in use?>\u001b[0m\n",
      "\u001b[0m\n",
      "  warnings.warn(NumbaPendingDeprecationWarning(msg, loc=loc))\n"
     ]
    }
   ],
   "source": [
    "from numba import njit, jit\n",
    "from timeit import timeit\n",
    "\n",
    "@njit\n",
    "def f(x):\n",
    "    somme = 0\n",
    "    for i in range(len(x)-1):\n",
    "        somme += x[i+1] - x[i]\n",
    "    return somme\n",
    "\n",
    "def ff(x):\n",
    "    somme = 0\n",
    "    for i in range(len(x)-1):\n",
    "        somme += x[i+1] - x[i]\n",
    "    return somme\n",
    "\n",
    "print(f([1,2,3,4]))\n",
    "\n",
    "# print(f.__name__)"
   ]
  },
  {
   "cell_type": "code",
   "execution_count": 13,
   "metadata": {},
   "outputs": [
    {
     "name": "stdout",
     "output_type": "stream",
     "text": [
      "3.66 µs ± 26.5 ns per loop (mean ± std. dev. of 7 runs, 100,000 loops each)\n"
     ]
    }
   ],
   "source": [
    "%%timeit\n",
    "f(np.random.randint(10, size=(50)))"
   ]
  },
  {
   "cell_type": "code",
   "execution_count": 14,
   "metadata": {},
   "outputs": [
    {
     "name": "stdout",
     "output_type": "stream",
     "text": [
      "9.57 µs ± 60.4 ns per loop (mean ± std. dev. of 7 runs, 100,000 loops each)\n"
     ]
    }
   ],
   "source": [
    "%%timeit\n",
    "ff(np.random.randint(10, size=(50)))"
   ]
  },
  {
   "cell_type": "code",
   "execution_count": 6,
   "metadata": {},
   "outputs": [
    {
     "name": "stderr",
     "output_type": "stream",
     "text": [
      "/var/folders/6y/xmdymgfj6t79xkdq239jvsmm0000gn/T/ipykernel_32802/2861914453.py:1: NumbaWarning: \u001b[1m\n",
      "Compilation is falling back to object mode WITH looplifting enabled because Function \"bar\" failed type inference due to: \u001b[1mUntyped global name 'reversed':\u001b[0m \u001b[1m\u001b[1mCannot determine Numba type of <class 'type'>\u001b[0m\n",
      "\u001b[1m\n",
      "File \"../../../../var/folders/6y/xmdymgfj6t79xkdq239jvsmm0000gn/T/ipykernel_32802/2861914453.py\", line 6:\u001b[0m\n",
      "\u001b[1m<source missing, REPL/exec in use?>\u001b[0m\n",
      "\u001b[0m\u001b[0m\n",
      "  @jit\n",
      "/var/folders/6y/xmdymgfj6t79xkdq239jvsmm0000gn/T/ipykernel_32802/2861914453.py:1: NumbaWarning: \u001b[1m\n",
      "Compilation is falling back to object mode WITHOUT looplifting enabled because Function \"bar\" failed type inference due to: \u001b[1m\u001b[1mCannot determine Numba type of <class 'numba.core.dispatcher.LiftedLoop'>\u001b[0m\n",
      "\u001b[1m\n",
      "File \"../../../../var/folders/6y/xmdymgfj6t79xkdq239jvsmm0000gn/T/ipykernel_32802/2861914453.py\", line 4:\u001b[0m\n",
      "\u001b[1m<source missing, REPL/exec in use?>\u001b[0m\n",
      "\u001b[0m\u001b[0m\n",
      "  @jit\n",
      "/opt/homebrew/lib/python3.10/site-packages/numba/core/object_mode_passes.py:151: NumbaWarning: \u001b[1mFunction \"bar\" was compiled in object mode without forceobj=True, but has lifted loops.\n",
      "\u001b[1m\n",
      "File \"../../../../var/folders/6y/xmdymgfj6t79xkdq239jvsmm0000gn/T/ipykernel_32802/2861914453.py\", line 3:\u001b[0m\n",
      "\u001b[1m<source missing, REPL/exec in use?>\u001b[0m\n",
      "\u001b[0m\n",
      "  warnings.warn(errors.NumbaWarning(warn_msg,\n",
      "/opt/homebrew/lib/python3.10/site-packages/numba/core/object_mode_passes.py:161: NumbaDeprecationWarning: \u001b[1m\n",
      "Fall-back from the nopython compilation path to the object mode compilation path has been detected, this is deprecated behaviour.\n",
      "\n",
      "For more information visit https://numba.readthedocs.io/en/stable/reference/deprecation.html#deprecation-of-object-mode-fall-back-behaviour-when-using-jit\n",
      "\u001b[1m\n",
      "File \"../../../../var/folders/6y/xmdymgfj6t79xkdq239jvsmm0000gn/T/ipykernel_32802/2861914453.py\", line 3:\u001b[0m\n",
      "\u001b[1m<source missing, REPL/exec in use?>\u001b[0m\n",
      "\u001b[0m\n",
      "  warnings.warn(errors.NumbaDeprecationWarning(msg,\n",
      "/var/folders/6y/xmdymgfj6t79xkdq239jvsmm0000gn/T/ipykernel_32802/2861914453.py:1: NumbaWarning: \u001b[1m\n",
      "Compilation is falling back to object mode WITHOUT looplifting enabled because Function \"bar\" failed type inference due to: \u001b[1m\u001b[1mnon-precise type pyobject\u001b[0m\n",
      "\u001b[0m\u001b[1mDuring: typing of argument at /var/folders/6y/xmdymgfj6t79xkdq239jvsmm0000gn/T/ipykernel_32802/2861914453.py (4)\u001b[0m\n",
      "\u001b[1m\n",
      "File \"../../../../var/folders/6y/xmdymgfj6t79xkdq239jvsmm0000gn/T/ipykernel_32802/2861914453.py\", line 4:\u001b[0m\n",
      "\u001b[1m<source missing, REPL/exec in use?>\u001b[0m\n",
      "\u001b[0m\n",
      "  @jit\n",
      "/opt/homebrew/lib/python3.10/site-packages/numba/core/object_mode_passes.py:151: NumbaWarning: \u001b[1mFunction \"bar\" was compiled in object mode without forceobj=True.\n",
      "\u001b[1m\n",
      "File \"../../../../var/folders/6y/xmdymgfj6t79xkdq239jvsmm0000gn/T/ipykernel_32802/2861914453.py\", line 4:\u001b[0m\n",
      "\u001b[1m<source missing, REPL/exec in use?>\u001b[0m\n",
      "\u001b[0m\n",
      "  warnings.warn(errors.NumbaWarning(warn_msg,\n",
      "/opt/homebrew/lib/python3.10/site-packages/numba/core/object_mode_passes.py:161: NumbaDeprecationWarning: \u001b[1m\n",
      "Fall-back from the nopython compilation path to the object mode compilation path has been detected, this is deprecated behaviour.\n",
      "\n",
      "For more information visit https://numba.readthedocs.io/en/stable/reference/deprecation.html#deprecation-of-object-mode-fall-back-behaviour-when-using-jit\n",
      "\u001b[1m\n",
      "File \"../../../../var/folders/6y/xmdymgfj6t79xkdq239jvsmm0000gn/T/ipykernel_32802/2861914453.py\", line 4:\u001b[0m\n",
      "\u001b[1m<source missing, REPL/exec in use?>\u001b[0m\n",
      "\u001b[0m\n",
      "  warnings.warn(errors.NumbaDeprecationWarning(msg,\n"
     ]
    },
    {
     "data": {
      "text/plain": [
       "<list_reverseiterator at 0x2891ed750>"
      ]
     },
     "execution_count": 6,
     "metadata": {},
     "output_type": "execute_result"
    }
   ],
   "source": [
    "@jit\n",
    "def bar():\n",
    "    l = []\n",
    "    for x in range(10):\n",
    "        l.append(x)\n",
    "    return reversed(l)\n",
    "\n",
    "bar()"
   ]
  },
  {
   "cell_type": "code",
   "execution_count": 4,
   "metadata": {},
   "outputs": [
    {
     "name": "stdout",
     "output_type": "stream",
     "text": [
      "2\n"
     ]
    }
   ],
   "source": [
    "print(f([1,2,3]))\n"
   ]
  },
  {
   "cell_type": "code",
   "execution_count": 36,
   "metadata": {},
   "outputs": [
    {
     "data": {
      "text/plain": [
       "array([0.])"
      ]
     },
     "execution_count": 36,
     "metadata": {},
     "output_type": "execute_result"
    }
   ],
   "source": [
    "a = np.ones(5)\n",
    "a[2] = 0\n",
    "a[np.where(a == 0)[0]]"
   ]
  },
  {
   "cell_type": "code",
   "execution_count": 2,
   "metadata": {},
   "outputs": [],
   "source": [
    "from a_star import A_Star\n",
    "from assignment import AssignmentGame, test_assignment_env, test_assignment_game\n",
    "import pstats\n",
    "import cProfile\n",
    "from timeit import timeit\n",
    "\n",
    "# def f():\n",
    "#     game = AssignmentGame(\n",
    "#             Q=300,\n",
    "#             grid_size=45,\n",
    "#             max_capacity=125\n",
    "#         )\n",
    "#     game.reset(num_packages = 500)\n",
    "#     res = A_Star(game, 10)\n",
    "game = AssignmentGame(\n",
    "        Q=0,\n",
    "        grid_size=45,\n",
    "        max_capacity=125\n",
    "    )"
   ]
  },
  {
   "cell_type": "code",
   "execution_count": 12,
   "metadata": {},
   "outputs": [
    {
     "data": {
      "text/plain": [
       "array([0., 0., 0., 0., 0., 1., 1., 1., 1., 1.])"
      ]
     },
     "execution_count": 12,
     "metadata": {},
     "output_type": "execute_result"
    }
   ],
   "source": [
    "import numpy as np\n",
    "a = np.ones(10)\n",
    "a[np.arange(5, dtype=int)] = np.zeros(5)\n",
    "a"
   ]
  },
  {
   "cell_type": "code",
   "execution_count": 6,
   "metadata": {},
   "outputs": [
    {
     "data": {
      "text/plain": [
       "{}"
      ]
     },
     "execution_count": 6,
     "metadata": {},
     "output_type": "execute_result"
    }
   ],
   "source": [
    "import pickle\n",
    "\n",
    "fileObject = \"game\"\n",
    "with open('game.pkl','wb') as f:\n",
    "    pickle.dump(game, f)\n",
    "#...\n",
    "with open('game.pkl','rb') as f:\n",
    "    game = pickle.load(f)\n",
    "game.reset()"
   ]
  },
  {
   "cell_type": "code",
   "execution_count": 2,
   "metadata": {},
   "outputs": [
    {
     "name": "stdout",
     "output_type": "stream",
     "text": [
      "2.31 s ± 18.9 ms per loop (mean ± std. dev. of 7 runs, 1 loop each)\n"
     ]
    }
   ],
   "source": [
    "%%timeit\n",
    "test_assignment_env(game, log = False)"
   ]
  },
  {
   "cell_type": "code",
   "execution_count": 3,
   "metadata": {},
   "outputs": [
    {
     "name": "stdout",
     "output_type": "stream",
     "text": [
      "2.74 s ± 24.7 ms per loop (mean ± std. dev. of 7 runs, 1 loop each)\n"
     ]
    }
   ],
   "source": [
    "%%timeit\n",
    "test_assignment_game(game, log = False)"
   ]
  },
  {
   "cell_type": "code",
   "execution_count": 5,
   "metadata": {},
   "outputs": [
    {
     "name": "stdout",
     "output_type": "stream",
     "text": [
      "Tue Oct 17 19:55:26 2023    my_func_stats\n",
      "\n",
      "         6565883 function calls (6565845 primitive calls) in 19.162 seconds\n",
      "\n",
      "   Ordered by: cumulative time\n",
      "\n",
      "   ncalls  tottime  percall  cumtime  percall filename:lineno(function)\n",
      "        1    0.000    0.000   19.162   19.162 {built-in method builtins.exec}\n",
      "        1    0.003    0.003   19.162   19.162 <string>:1(<module>)\n",
      "        1    0.001    0.001   19.159   19.159 /Users/faridounet/PhD/TransportersDilemma/assignment.py:583(test_assignment_env)\n",
      "        1    0.005    0.005   16.806   16.806 /Users/faridounet/PhD/TransportersDilemma/assignment.py:20(__init__)\n",
      "        1   16.751   16.751   16.759   16.759 /opt/homebrew/lib/python3.10/site-packages/networkx/algorithms/shortest_paths/dense.py:13(floyd_warshall_numpy)\n",
      "      500    1.221    0.002    1.286    0.003 /Users/faridounet/PhD/TransportersDilemma/assignment.py:518(step)\n",
      "        1    0.000    0.000    1.065    1.065 /Users/faridounet/PhD/TransportersDilemma/assignment.py:487(reset)\n",
      "        1    0.000    0.000    1.013    1.013 /Users/faridounet/PhD/TransportersDilemma/assignment.py:433(step)\n",
      "        1    0.000    0.000    1.013    1.013 /Users/faridounet/PhD/TransportersDilemma/assignment.py:422(_get_rewards)\n",
      "        1    0.004    0.004    1.013    1.013 /Users/faridounet/PhD/TransportersDilemma/assignment.py:139(_compute_cost)\n",
      "        1    0.007    0.007    1.009    1.009 /Users/faridounet/PhD/TransportersDilemma/transporter.py:208(compute_cost)\n",
      "        1    0.000    0.000    1.001    1.001 /Users/faridounet/PhD/TransportersDilemma/transporter.py:37(solve)\n",
      "        1    0.000    0.000    1.000    1.000 /Users/faridounet/Library/Python/3.10/lib/python/site-packages/ortools/constraint_solver/pywrapcp.py:5377(SolveWithParameters)\n",
      "        1    0.255    0.255    1.000    1.000 {built-in method ortools.constraint_solver._pywrapcp.RoutingModel_SolveWithParameters}\n",
      "  1050533    0.107    0.000    0.730    0.000 /Users/faridounet/PhD/TransportersDilemma/transporter.py:69(<lambda>)\n",
      "  1050533    0.317    0.000    0.623    0.000 /Users/faridounet/PhD/TransportersDilemma/transporter.py:57(distance_callback)\n",
      "  2153104    0.178    0.000    0.314    0.000 /Users/faridounet/Library/Python/3.10/lib/python/site-packages/ortools/constraint_solver/pywrapcp.py:4572(IndexToNode)\n",
      "  2153104    0.136    0.000    0.136    0.000 {built-in method ortools.constraint_solver._pywrapcp.RoutingIndexManager_IndexToNode}\n",
      "      500    0.054    0.000    0.055    0.000 /Users/faridounet/PhD/TransportersDilemma/assignment.py:443(get_d_t)\n",
      "        1    0.000    0.000    0.051    0.051 /Users/faridounet/PhD/TransportersDilemma/assignment.py:376(reset)\n",
      "        1    0.000    0.000    0.051    0.051 /Users/faridounet/PhD/TransportersDilemma/assignment.py:388(<listcomp>)\n",
      "      500    0.051    0.000    0.051    0.000 <string>:2(__init__)\n",
      "    51534    0.008    0.000    0.015    0.000 /Users/faridounet/PhD/TransportersDilemma/transporter.py:79(demand_callback)\n",
      "        5    0.013    0.003    0.013    0.003 {built-in method numpy.array}\n",
      "        1    0.012    0.012    0.012    0.012 /Users/faridounet/PhD/TransportersDilemma/assignment.py:67(<listcomp>)\n",
      "     1517    0.004    0.000    0.012    0.000 {built-in method numpy.core._multiarray_umath.implement_array_function}\n",
      "        1    0.002    0.002    0.008    0.008 /opt/homebrew/lib/python3.10/site-packages/networkx/convert_matrix.py:764(to_numpy_array)\n",
      "     1006    0.001    0.000    0.006    0.000 <__array_function__ internals>:177(sum)\n",
      "     1509    0.001    0.000    0.006    0.000 /opt/homebrew/lib/python3.10/site-packages/numpy/core/fromnumeric.py:69(_wrapreduction)\n",
      "        1    0.000    0.000    0.006    0.006 <class 'networkx.utils.decorators.argmap'> compilation 4:1(argmap_grid_2d_graph_1)\n",
      "        1    0.000    0.000    0.006    0.006 /opt/homebrew/lib/python3.10/site-packages/networkx/generators/lattice.py:34(grid_2d_graph)\n",
      "     1006    0.001    0.000    0.005    0.000 /opt/homebrew/lib/python3.10/site-packages/numpy/core/fromnumeric.py:2162(sum)\n",
      "        2    0.003    0.002    0.005    0.002 /opt/homebrew/lib/python3.10/site-packages/networkx/classes/graph.py:961(add_edges_from)\n",
      "     1509    0.004    0.000    0.004    0.000 {method 'reduce' of 'numpy.ufunc' objects}\n",
      "        1    0.001    0.001    0.004    0.004 /Users/faridounet/PhD/TransportersDilemma/assignment.py:52(<dictcomp>)\n",
      "        1    0.000    0.000    0.003    0.003 /opt/homebrew/lib/python3.10/site-packages/numpy/core/numeric.py:289(full)\n",
      "        3    0.000    0.000    0.003    0.001 <__array_function__ internals>:177(copyto)\n",
      "        1    0.001    0.001    0.003    0.003 /opt/homebrew/lib/python3.10/site-packages/networkx/classes/function.py:680(set_edge_attributes)\n",
      "        1    0.003    0.003    0.003    0.003 /Users/faridounet/PhD/TransportersDilemma/transporter.py:115(__init__)\n",
      "      501    0.000    0.000    0.002    0.000 <__array_function__ internals>:177(any)\n",
      "      501    0.002    0.000    0.002    0.000 /Users/faridounet/PhD/TransportersDilemma/assignment.py:419(_get_costs)\n",
      "     3961    0.001    0.000    0.002    0.000 /opt/homebrew/lib/python3.10/site-packages/networkx/classes/reportviews.py:845(__iter__)\n",
      "     3960    0.002    0.000    0.002    0.000 {method 'binomial' of 'numpy.random.mtrand.RandomState' objects}\n",
      "     3960    0.000    0.000    0.001    0.000 /opt/homebrew/lib/python3.10/site-packages/networkx/classes/graph.py:489(__getitem__)\n",
      "      501    0.000    0.000    0.001    0.000 /opt/homebrew/lib/python3.10/site-packages/numpy/core/fromnumeric.py:2307(any)\n",
      "        2    0.001    0.000    0.001    0.001 /opt/homebrew/lib/python3.10/site-packages/networkx/classes/graph.py:563(add_nodes_from)\n",
      "     3961    0.001    0.000    0.001    0.000 /opt/homebrew/lib/python3.10/site-packages/networkx/classes/reportviews.py:1267(__iter__)\n",
      "      512    0.000    0.000    0.001    0.000 /opt/homebrew/lib/python3.10/site-packages/numba/typed/typedlist.py:342(append)\n",
      "     3960    0.001    0.000    0.001    0.000 /opt/homebrew/lib/python3.10/site-packages/networkx/classes/coreviews.py:80(__getitem__)\n",
      "     2516    0.001    0.000    0.001    0.000 /opt/homebrew/lib/python3.10/site-packages/numba/core/serialize.py:29(_numba_unpickle)\n",
      "        1    0.000    0.000    0.001    0.001 /opt/homebrew/lib/python3.10/site-packages/networkx/classes/graph.py:1910(number_of_edges)\n",
      "        1    0.000    0.000    0.001    0.001 /opt/homebrew/lib/python3.10/site-packages/networkx/classes/graph.py:1867(size)\n",
      "        1    0.000    0.000    0.001    0.001 {built-in method builtins.sum}\n",
      "        1    0.000    0.000    0.001    0.001 <__array_function__ internals>:177(amax)\n",
      "        1    0.000    0.000    0.001    0.001 /opt/homebrew/lib/python3.10/site-packages/numpy/core/fromnumeric.py:2677(amax)\n",
      "    13906    0.001    0.000    0.001    0.000 {method 'update' of 'dict' objects}\n",
      "     2026    0.000    0.000    0.001    0.000 /opt/homebrew/lib/python3.10/site-packages/networkx/classes/graph.py:1903(<genexpr>)\n",
      "     1509    0.000    0.000    0.000    0.000 /opt/homebrew/lib/python3.10/site-packages/numpy/core/fromnumeric.py:70(<dictcomp>)\n",
      "     1981    0.000    0.000    0.000    0.000 /opt/homebrew/lib/python3.10/site-packages/networkx/generators/lattice.py:65(<genexpr>)\n",
      "     2026    0.000    0.000    0.000    0.000 /opt/homebrew/lib/python3.10/site-packages/networkx/classes/reportviews.py:527(__iter__)\n",
      "    12896    0.000    0.000    0.000    0.000 {method 'append' of 'list' objects}\n",
      "        4    0.000    0.000    0.000    0.000 /opt/homebrew/Cellar/python@3.10/3.10.11/Frameworks/Python.framework/Versions/3.10/lib/python3.10/functools.py:961(__get__)\n",
      "     3960    0.000    0.000    0.000    0.000 /opt/homebrew/lib/python3.10/site-packages/networkx/classes/reportviews.py:779(<lambda>)\n",
      "     1981    0.000    0.000    0.000    0.000 /opt/homebrew/lib/python3.10/site-packages/networkx/generators/lattice.py:66(<genexpr>)\n",
      "     3960    0.000    0.000    0.000    0.000 /opt/homebrew/lib/python3.10/site-packages/networkx/classes/coreviews.py:52(__getitem__)\n",
      "        1    0.000    0.000    0.000    0.000 /Users/faridounet/Library/Python/3.10/lib/python/site-packages/ortools/constraint_solver/pywrapcp.py:4660(__init__)\n",
      "        1    0.000    0.000    0.000    0.000 {built-in method ortools.constraint_solver._pywrapcp.new_RoutingModel}\n",
      "        2    0.000    0.000    0.000    0.000 {method 'seed' of 'numpy.random.mtrand.RandomState' objects}\n",
      "     2033    0.000    0.000    0.000    0.000 /opt/homebrew/lib/python3.10/site-packages/numba/typed/typedlist.py:281(_numba_type_)\n",
      "      512    0.000    0.000    0.000    0.000 /opt/homebrew/lib/python3.10/site-packages/numba/typed/typedlist.py:81(_append)\n",
      "     1045    0.000    0.000    0.000    0.000 {built-in method builtins.isinstance}\n",
      "      501    0.000    0.000    0.000    0.000 /Users/faridounet/PhD/TransportersDilemma/assignment.py:416(_get_emissions)\n",
      "     3537    0.000    0.000    0.000    0.000 {method 'items' of 'dict' objects}\n",
      "        5    0.000    0.000    0.000    0.000 /opt/homebrew/lib/python3.10/site-packages/numba/typed/typedlist.py:299(_initialise_list)\n",
      "      502    0.000    0.000    0.000    0.000 {built-in method builtins.max}\n",
      "     3961    0.000    0.000    0.000    0.000 /opt/homebrew/lib/python3.10/site-packages/networkx/classes/coreviews.py:43(__init__)\n",
      "     3978    0.000    0.000    0.000    0.000 {method 'get' of 'dict' objects}\n",
      "6014/6013    0.000    0.000    0.000    0.000 {built-in method builtins.len}\n",
      "        1    0.000    0.000    0.000    0.000 /Users/faridounet/PhD/TransportersDilemma/assignment.py:112(seed)\n",
      "      504    0.000    0.000    0.000    0.000 /Users/faridounet/Library/Python/3.10/lib/python/site-packages/ortools/constraint_solver/pywrapcp.py:3480(Value)\n",
      "      504    0.000    0.000    0.000    0.000 /Users/faridounet/Library/Python/3.10/lib/python/site-packages/ortools/constraint_solver/pywrapcp.py:5635(NextVar)\n",
      "        1    0.000    0.000    0.000    0.000 {method 'choice' of 'numpy.random.mtrand.RandomState' objects}\n",
      "     2026    0.000    0.000    0.000    0.000 /opt/homebrew/lib/python3.10/site-packages/networkx/generators/lattice.py:64(<genexpr>)\n",
      "        1    0.000    0.000    0.000    0.000 /Users/faridounet/Library/Python/3.10/lib/python/site-packages/ortools/constraint_solver/pywrapcp.py:4717(AddDimensionWithVehicleCapacity)\n",
      "        1    0.000    0.000    0.000    0.000 {built-in method ortools.constraint_solver._pywrapcp.RoutingModel_AddDimensionWithVehicleCapacity}\n",
      "        2    0.000    0.000    0.000    0.000 /opt/homebrew/Cellar/python@3.10/3.10.11/Frameworks/Python.framework/Versions/3.10/lib/python3.10/contextlib.py:76(inner)\n",
      "       10    0.000    0.000    0.000    0.000 /opt/homebrew/lib/python3.10/site-packages/numba/core/typing/typeof.py:32(typeof)\n",
      "        2    0.000    0.000    0.000    0.000 {function SeedSequence.generate_state at 0x10ac760e0}\n",
      "        1    0.000    0.000    0.000    0.000 /Users/faridounet/PhD/TransportersDilemma/assignment.py:386(<listcomp>)\n",
      "       10    0.000    0.000    0.000    0.000 /opt/homebrew/lib/python3.10/site-packages/numba/core/types/abstract.py:60(__call__)\n",
      "      508    0.000    0.000    0.000    0.000 /Users/faridounet/Library/Python/3.10/lib/python/site-packages/ortools/constraint_solver/pywrapcp.py:5612(IsEnd)\n",
      "      504    0.000    0.000    0.000    0.000 {built-in method ortools.constraint_solver._pywrapcp.Assignment_Value}\n",
      "        5    0.000    0.000    0.000    0.000 /opt/homebrew/lib/python3.10/site-packages/numba/typed/typedlist.py:271(_parse_arg)\n",
      "       10    0.000    0.000    0.000    0.000 /opt/homebrew/Cellar/python@3.10/3.10.11/Frameworks/Python.framework/Versions/3.10/lib/python3.10/functools.py:884(wrapper)\n",
      "      504    0.000    0.000    0.000    0.000 {built-in method ortools.constraint_solver._pywrapcp.RoutingModel_NextVar}\n",
      "     1006    0.000    0.000    0.000    0.000 /opt/homebrew/lib/python3.10/site-packages/numpy/core/fromnumeric.py:2157(_sum_dispatcher)\n",
      "        2    0.000    0.000    0.000    0.000 <__array_function__ internals>:177(ix_)\n",
      "        2    0.000    0.000    0.000    0.000 /opt/homebrew/lib/python3.10/site-packages/numpy/lib/index_tricks.py:35(ix_)\n",
      "        5    0.000    0.000    0.000    0.000 /opt/homebrew/lib/python3.10/site-packages/numba/core/dispatcher.py:724(typeof_pyval)\n",
      "        1    0.000    0.000    0.000    0.000 /Users/faridounet/PhD/TransportersDilemma/assignment.py:236(<listcomp>)\n",
      "        1    0.000    0.000    0.000    0.000 /Users/faridounet/PhD/TransportersDilemma/assignment.py:237(<listcomp>)\n",
      "        5    0.000    0.000    0.000    0.000 {built-in method numpy.asarray}\n",
      "      501    0.000    0.000    0.000    0.000 /opt/homebrew/lib/python3.10/site-packages/numpy/core/fromnumeric.py:2302(_any_dispatcher)\n",
      "       10    0.000    0.000    0.000    0.000 /opt/homebrew/lib/python3.10/site-packages/numba/core/types/abstract.py:48(_intern)\n",
      "        5    0.000    0.000    0.000    0.000 /opt/homebrew/lib/python3.10/site-packages/numba/core/typing/typeof.py:267(_typeof_nb_type)\n",
      "      501    0.000    0.000    0.000    0.000 /Users/faridounet/PhD/TransportersDilemma/assignment.py:551(_get_observation)\n",
      "      508    0.000    0.000    0.000    0.000 {built-in method ortools.constraint_solver._pywrapcp.RoutingModel_IsEnd}\n",
      "       46    0.000    0.000    0.000    0.000 /opt/homebrew/lib/python3.10/site-packages/networkx/utils/misc.py:213(pairwise)\n",
      "        5    0.000    0.000    0.000    0.000 /opt/homebrew/lib/python3.10/site-packages/numba/core/types/containers.py:618(__init__)\n",
      "        1    0.000    0.000    0.000    0.000 /Users/faridounet/Library/Python/3.10/lib/python/site-packages/ortools/constraint_solver/pywrapcp.py:4581(DefaultRoutingSearchParameters)\n",
      "        1    0.000    0.000    0.000    0.000 {built-in method ortools.constraint_solver._pywrapcp.DefaultRoutingSearchParameters}\n",
      "        1    0.000    0.000    0.000    0.000 <__array_function__ internals>:177(prod)\n",
      "        2    0.000    0.000    0.000    0.000 /opt/homebrew/lib/python3.10/site-packages/numpy/core/numeric.py:149(ones)\n",
      "        1    0.000    0.000    0.000    0.000 /Users/faridounet/PhD/TransportersDilemma/assignment.py:496(<listcomp>)\n",
      "      512    0.000    0.000    0.000    0.000 /opt/homebrew/lib/python3.10/site-packages/numba/typed/typedlist.py:287(_typed)\n",
      "        1    0.000    0.000    0.000    0.000 /opt/homebrew/lib/python3.10/site-packages/numpy/core/fromnumeric.py:2927(prod)\n",
      "        1    0.000    0.000    0.000    0.000 /Users/faridounet/Library/Python/3.10/lib/python/site-packages/ortools/constraint_solver/pywrapcp.py:4550(__init__)\n",
      "        2    0.000    0.000    0.000    0.000 /opt/homebrew/Cellar/python@3.10/3.10.11/Frameworks/Python.framework/Versions/3.10/lib/python3.10/random.py:826(getrandbits)\n",
      "        1    0.000    0.000    0.000    0.000 <__array_function__ internals>:177(fill_diagonal)\n",
      "        1    0.000    0.000    0.000    0.000 /Users/faridounet/PhD/TransportersDilemma/assignment.py:249(<listcomp>)\n",
      "        1    0.000    0.000    0.000    0.000 /Users/faridounet/PhD/TransportersDilemma/assignment.py:255(<listcomp>)\n",
      "    42/29    0.000    0.000    0.000    0.000 /opt/homebrew/lib/python3.10/site-packages/numba/core/types/abstract.py:120(__eq__)\n",
      "        1    0.000    0.000    0.000    0.000 /Users/faridounet/PhD/TransportersDilemma/assignment.py:250(<listcomp>)\n",
      "        1    0.000    0.000    0.000    0.000 /opt/homebrew/lib/python3.10/site-packages/numba/core/typing/typeof.py:46(typeof_impl)\n",
      "        4    0.000    0.000    0.000    0.000 /opt/homebrew/lib/python3.10/site-packages/numpy/core/_ufunc_config.py:32(seterr)\n",
      "        1    0.000    0.000    0.000    0.000 /opt/homebrew/lib/python3.10/site-packages/numpy/lib/index_tricks.py:779(fill_diagonal)\n",
      "        2    0.000    0.000    0.000    0.000 /opt/homebrew/lib/python3.10/site-packages/numpy/core/_ufunc_config.py:429(__enter__)\n",
      "        2    0.000    0.000    0.000    0.000 {built-in method posix.urandom}\n",
      "    22/10    0.000    0.000    0.000    0.000 /opt/homebrew/lib/python3.10/site-packages/numba/core/types/abstract.py:117(__hash__)\n",
      "        2    0.000    0.000    0.000    0.000 <__array_function__ internals>:177(concatenate)\n",
      "        1    0.000    0.000    0.000    0.000 /Users/faridounet/PhD/TransportersDilemma/assignment.py:245(<listcomp>)\n",
      "        1    0.000    0.000    0.000    0.000 /Users/faridounet/PhD/TransportersDilemma/assignment.py:246(<listcomp>)\n",
      "       10    0.000    0.000    0.000    0.000 /opt/homebrew/Cellar/python@3.10/3.10.11/Frameworks/Python.framework/Versions/3.10/lib/python3.10/functools.py:818(dispatch)\n",
      "       21    0.000    0.000    0.000    0.000 /opt/homebrew/Cellar/python@3.10/3.10.11/Frameworks/Python.framework/Versions/3.10/lib/python3.10/abc.py:117(__instancecheck__)\n",
      "        1    0.000    0.000    0.000    0.000 {built-in method ortools.constraint_solver._pywrapcp.new_RoutingIndexManager}\n",
      "        1    0.000    0.000    0.000    0.000 <class 'networkx.utils.decorators.argmap'> compilation 8:1(argmap_empty_graph_5)\n",
      "        3    0.000    0.000    0.000    0.000 {built-in method numpy.empty}\n",
      "        4    0.000    0.000    0.000    0.000 /opt/homebrew/lib/python3.10/site-packages/numpy/core/numerictypes.py:356(issubdtype)\n",
      "        5    0.000    0.000    0.000    0.000 /opt/homebrew/lib/python3.10/site-packages/numba/typed/typedlist.py:229(__init__)\n",
      "    22/10    0.000    0.000    0.000    0.000 {built-in method builtins.hash}\n",
      "       46    0.000    0.000    0.000    0.000 {built-in method itertools.tee}\n",
      "        4    0.000    0.000    0.000    0.000 /opt/homebrew/lib/python3.10/site-packages/numba/core/typing/typeof.py:131(_typeof_int)\n",
      "       21    0.000    0.000    0.000    0.000 {built-in method _abc._abc_instancecheck}\n",
      "        1    0.000    0.000    0.000    0.000 /opt/homebrew/lib/python3.10/site-packages/networkx/generators/classic.py:430(empty_graph)\n",
      "        1    0.000    0.000    0.000    0.000 /opt/homebrew/lib/python3.10/site-packages/sortedcontainers/sortedlist.py:174(__new__)\n",
      "        1    0.000    0.000    0.000    0.000 /opt/homebrew/lib/python3.10/site-packages/networkx/classes/graph.py:1358(edges)\n",
      "        6    0.000    0.000    0.000    0.000 {method 'format' of 'str' objects}\n",
      "        1    0.000    0.000    0.000    0.000 /opt/homebrew/lib/python3.10/site-packages/networkx/classes/graph.py:332(__init__)\n",
      "        1    0.000    0.000    0.000    0.000 /opt/homebrew/lib/python3.10/site-packages/numba/core/typing/typeof.py:67(_typeof_buffer)\n",
      "        1    0.000    0.000    0.000    0.000 /opt/homebrew/lib/python3.10/site-packages/networkx/classes/reportviews.py:1097(__call__)\n",
      "        4    0.000    0.000    0.000    0.000 /opt/homebrew/lib/python3.10/site-packages/numba/core/types/functions.py:681(__init__)\n",
      "        1    0.000    0.000    0.000    0.000 {built-in method ortools.constraint_solver._pywrapcp.RoutingIndexManager_swiginit}\n",
      "        4    0.000    0.000    0.000    0.000 /Users/faridounet/Library/Python/3.10/lib/python/site-packages/ortools/constraint_solver/pywrapcp.py:5597(Start)\n",
      "        5    0.000    0.000    0.000    0.000 /opt/homebrew/lib/python3.10/site-packages/numba/typed/typedlist.py:50(_make_list)\n",
      "        2    0.000    0.000    0.000    0.000 /opt/homebrew/lib/python3.10/site-packages/numpy/core/_ufunc_config.py:434(__exit__)\n",
      "        8    0.000    0.000    0.000    0.000 /opt/homebrew/lib/python3.10/site-packages/numpy/core/numerictypes.py:282(issubclass_)\n",
      "        4    0.000    0.000    0.000    0.000 /opt/homebrew/lib/python3.10/site-packages/numpy/core/_ufunc_config.py:131(geterr)\n",
      "        4    0.000    0.000    0.000    0.000 /opt/homebrew/lib/python3.10/site-packages/numba/core/utils.py:455(bit_length)\n",
      "        1    0.000    0.000    0.000    0.000 /opt/homebrew/lib/python3.10/site-packages/networkx/classes/graph.py:1481(degree)\n",
      "        1    0.000    0.000    0.000    0.000 /opt/homebrew/lib/python3.10/site-packages/networkx/classes/reportviews.py:1065(__init__)\n",
      "        1    0.000    0.000    0.000    0.000 /opt/homebrew/lib/python3.10/site-packages/numba/core/typing/cffi_utils.py:39(is_cffi_func)\n",
      "        4    0.000    0.000    0.000    0.000 /Users/faridounet/Library/Python/3.10/lib/python/site-packages/ortools/constraint_solver/pywrapcp.py:4677(RegisterTransitCallback)\n",
      "        9    0.000    0.000    0.000    0.000 {built-in method builtins.getattr}\n",
      "        1    0.000    0.000    0.000    0.000 /Users/faridounet/PhD/TransportersDilemma/transporter.py:160(reset)\n",
      "        5    0.000    0.000    0.000    0.000 /opt/homebrew/lib/python3.10/site-packages/numba/typed/typedlist.py:202(__new__)\n",
      "        5    0.000    0.000    0.000    0.000 /opt/homebrew/lib/python3.10/site-packages/numba/core/types/misc.py:52(unliteral)\n",
      "       10    0.000    0.000    0.000    0.000 <string>:1(<lambda>)\n",
      "        1    0.000    0.000    0.000    0.000 /opt/homebrew/lib/python3.10/site-packages/networkx/classes/reportviews.py:417(__init__)\n",
      "        2    0.000    0.000    0.000    0.000 /opt/homebrew/lib/python3.10/site-packages/networkx/classes/graph.py:435(__iter__)\n",
      "       10    0.000    0.000    0.000    0.000 /opt/homebrew/Cellar/python@3.10/3.10.11/Frameworks/Python.framework/Versions/3.10/lib/python3.10/weakref.py:415(__getitem__)\n",
      "        3    0.000    0.000    0.000    0.000 {built-in method numpy.zeros}\n",
      "        1    0.000    0.000    0.000    0.000 /opt/homebrew/lib/python3.10/site-packages/sortedcontainers/sortedlist.py:144(__init__)\n",
      "        4    0.000    0.000    0.000    0.000 /Users/faridounet/Library/Python/3.10/lib/python/site-packages/ortools/constraint_solver/pywrapcp.py:5218(SetArcCostEvaluatorOfVehicle)\n",
      "       16    0.000    0.000    0.000    0.000 {built-in method __new__ of type object at 0x103922718}\n",
      "        1    0.000    0.000    0.000    0.000 /opt/homebrew/lib/python3.10/site-packages/networkx/classes/reportviews.py:760(__init__)\n",
      "        1    0.000    0.000    0.000    0.000 /Users/faridounet/Library/Python/3.10/lib/python/site-packages/cffi/api.py:194(typeof)\n",
      "        3    0.000    0.000    0.000    0.000 /opt/homebrew/lib/python3.10/site-packages/networkx/utils/decorators.py:241(_nodes_or_number)\n",
      "        1    0.000    0.000    0.000    0.000 /opt/homebrew/lib/python3.10/site-packages/networkx/classes/graph.py:374(adj)\n",
      "       46    0.000    0.000    0.000    0.000 {built-in method builtins.next}\n",
      "       30    0.000    0.000    0.000    0.000 /opt/homebrew/lib/python3.10/site-packages/numba/core/types/abstract.py:95(key)\n",
      "        4    0.000    0.000    0.000    0.000 {built-in method ortools.constraint_solver._pywrapcp.RoutingModel_RegisterTransitCallback}\n",
      "        1    0.000    0.000    0.000    0.000 /opt/homebrew/lib/python3.10/site-packages/networkx/classes/graph.py:732(nodes)\n",
      "       10    0.000    0.000    0.000    0.000 {built-in method builtins.hasattr}\n",
      "        5    0.000    0.000    0.000    0.000 {built-in method builtins.any}\n",
      "       12    0.000    0.000    0.000    0.000 {built-in method builtins.issubclass}\n",
      "        1    0.000    0.000    0.000    0.000 /Users/faridounet/PhD/TransportersDilemma/assignment.py:105(<listcomp>)\n",
      "        4    0.000    0.000    0.000    0.000 {built-in method numpy.seterrobj}\n",
      "        1    0.000    0.000    0.000    0.000 /Users/faridounet/Library/Python/3.10/lib/python/site-packages/ortools/constraint_solver/pywrapcp.py:4668(RegisterUnaryTransitCallback)\n",
      "        4    0.000    0.000    0.000    0.000 {method 'reshape' of 'numpy.ndarray' objects}\n",
      "       23    0.000    0.000    0.000    0.000 /opt/homebrew/lib/python3.10/site-packages/numba/core/types/containers.py:630(key)\n",
      "        2    0.000    0.000    0.000    0.000 <frozen importlib._bootstrap>:1053(_handle_fromlist)\n",
      "        1    0.000    0.000    0.000    0.000 /opt/homebrew/lib/python3.10/site-packages/numba/core/types/abstract.py:470(__init__)\n",
      "        1    0.000    0.000    0.000    0.000 {built-in method ortools.constraint_solver._pywrapcp.RoutingModel_swiginit}\n",
      "       10    0.000    0.000    0.000    0.000 /opt/homebrew/lib/python3.10/site-packages/numba/core/types/abstract.py:114(__repr__)\n",
      "        2    0.000    0.000    0.000    0.000 /opt/homebrew/lib/python3.10/site-packages/networkx/classes/graph.py:467(__len__)\n",
      "        2    0.000    0.000    0.000    0.000 {built-in method from_bytes}\n",
      "        8    0.000    0.000    0.000    0.000 {built-in method numpy.geterrobj}\n",
      "        1    0.000    0.000    0.000    0.000 /opt/homebrew/lib/python3.10/site-packages/networkx/classes/reportviews.py:185(__iter__)\n",
      "        1    0.000    0.000    0.000    0.000 /Users/faridounet/PhD/TransportersDilemma/assignment.py:481(__init__)\n",
      "       10    0.000    0.000    0.000    0.000 /opt/homebrew/lib/python3.10/site-packages/numba/core/types/abstract.py:92(__init__)\n",
      "       10    0.000    0.000    0.000    0.000 {built-in method _abc.get_cache_token}\n",
      "        1    0.000    0.000    0.000    0.000 {built-in method ortools.constraint_solver._pywrapcp.RoutingModel_RegisterUnaryTransitCallback}\n",
      "        1    0.000    0.000    0.000    0.000 /opt/homebrew/lib/python3.10/site-packages/numba/core/typing/cffi_utils.py:29(is_ffi_instance)\n",
      "       12    0.000    0.000    0.000    0.000 /opt/homebrew/lib/python3.10/site-packages/numba/core/types/functions.py:696(key)\n",
      "        1    0.000    0.000    0.000    0.000 /opt/homebrew/lib/python3.10/site-packages/networkx/classes/reportviews.py:178(__init__)\n",
      "        1    0.000    0.000    0.000    0.000 /opt/homebrew/lib/python3.10/site-packages/networkx/classes/graph.py:59(__set__)\n",
      "        1    0.000    0.000    0.000    0.000 /Users/faridounet/PhD/TransportersDilemma/transporter.py:236(<listcomp>)\n",
      "        4    0.000    0.000    0.000    0.000 {built-in method ortools.constraint_solver._pywrapcp.RoutingModel_Start}\n",
      "        4    0.000    0.000    0.000    0.000 {built-in method builtins.bin}\n",
      "        4    0.000    0.000    0.000    0.000 {built-in method ortools.constraint_solver._pywrapcp.RoutingModel_SetArcCostEvaluatorOfVehicle}\n",
      "        1    0.000    0.000    0.000    0.000 /Users/faridounet/PhD/TransportersDilemma/transporter.py:132(<listcomp>)\n",
      "        1    0.000    0.000    0.000    0.000 /opt/homebrew/lib/python3.10/site-packages/google/protobuf/internal/well_known_types.py:380(FromSeconds)\n",
      "        4    0.000    0.000    0.000    0.000 {method '__exit__' of '_thread.RLock' objects}\n",
      "        3    0.000    0.000    0.000    0.000 {built-in method builtins.iter}\n",
      "        5    0.000    0.000    0.000    0.000 /opt/homebrew/lib/python3.10/site-packages/numba/typed/typedlist.py:245(<genexpr>)\n",
      "        1    0.000    0.000    0.000    0.000 /opt/homebrew/lib/python3.10/site-packages/numpy/core/fromnumeric.py:2672(_amax_dispatcher)\n",
      "        3    0.000    0.000    0.000    0.000 /opt/homebrew/lib/python3.10/site-packages/numpy/core/multiarray.py:1071(copyto)\n",
      "        3    0.000    0.000    0.000    0.000 /opt/homebrew/lib/python3.10/site-packages/numba/core/types/abstract.py:474(key)\n",
      "        2    0.000    0.000    0.000    0.000 /opt/homebrew/lib/python3.10/site-packages/numpy/core/multiarray.py:148(concatenate)\n",
      "        2    0.000    0.000    0.000    0.000 /opt/homebrew/lib/python3.10/site-packages/networkx/classes/graph.py:1557(is_directed)\n",
      "        2    0.000    0.000    0.000    0.000 /opt/homebrew/lib/python3.10/site-packages/numpy/lib/index_tricks.py:31(_ix__dispatcher)\n",
      "        1    0.000    0.000    0.000    0.000 {method 'disable' of '_lsprof.Profiler' objects}\n",
      "        1    0.000    0.000    0.000    0.000 /Users/faridounet/PhD/TransportersDilemma/assignment.py:110(<listcomp>)\n",
      "        1    0.000    0.000    0.000    0.000 /opt/homebrew/lib/python3.10/site-packages/networkx/classes/reportviews.py:424(__call__)\n",
      "        2    0.000    0.000    0.000    0.000 /opt/homebrew/Cellar/python@3.10/3.10.11/Frameworks/Python.framework/Versions/3.10/lib/python3.10/contextlib.py:63(_recreate_cm)\n",
      "        1    0.000    0.000    0.000    0.000 /opt/homebrew/lib/python3.10/site-packages/networkx/classes/graph.py:37(__set__)\n",
      "        2    0.000    0.000    0.000    0.000 /opt/homebrew/lib/python3.10/site-packages/networkx/classes/graph.py:1553(is_multigraph)\n",
      "        1    0.000    0.000    0.000    0.000 {method 'clear' of 'list' objects}\n",
      "        1    0.000    0.000    0.000    0.000 /opt/homebrew/lib/python3.10/site-packages/numpy/core/fromnumeric.py:2922(_prod_dispatcher)\n",
      "        1    0.000    0.000    0.000    0.000 /opt/homebrew/lib/python3.10/site-packages/numpy/lib/index_tricks.py:775(_fill_diagonal_dispatcher)\n",
      "\n",
      "\n"
     ]
    },
    {
     "data": {
      "text/plain": [
       "<pstats.Stats at 0x141c88490>"
      ]
     },
     "execution_count": 5,
     "metadata": {},
     "output_type": "execute_result"
    }
   ],
   "source": [
    "cProfile.run(\"test_assignment_env(log = False)\", \"my_func_stats\")\n",
    "\n",
    "p = pstats.Stats(\"my_func_stats\")\n",
    "p.sort_stats(\"cumulative\").print_stats()"
   ]
  },
  {
   "cell_type": "code",
   "execution_count": 28,
   "metadata": {},
   "outputs": [],
   "source": [
    "from numba import jit, njit\n",
    "import numpy as np\n",
    "from timeit import timeit\n",
    "\n",
    "@jit\n",
    "def f(l, x, mask):\n",
    "    y = x[mask]\n",
    "    s = 0\n",
    "    for i in range(len(l)):\n",
    "        s += y[i]\n",
    "        \n",
    "\n",
    "def ff(l, x, mask):\n",
    "    y = x[mask]\n",
    "    s = 0\n",
    "    for i in range(len(l)-1):\n",
    "        s += y[i]"
   ]
  },
  {
   "cell_type": "code",
   "execution_count": 29,
   "metadata": {},
   "outputs": [
    {
     "name": "stdout",
     "output_type": "stream",
     "text": [
      "9.34 µs ± 50.6 ns per loop (mean ± std. dev. of 7 runs, 100,000 loops each)\n"
     ]
    }
   ],
   "source": [
    "%%timeit\n",
    "x = np.random.rand(200)\n",
    "l = np.random.randint(20, size=50)\n",
    "mask = np.where(x<.5)\n",
    "ff(l, x, mask)"
   ]
  },
  {
   "cell_type": "code",
   "execution_count": 31,
   "metadata": {},
   "outputs": [
    {
     "name": "stdout",
     "output_type": "stream",
     "text": [
      "6.35 µs ± 12.1 ns per loop (mean ± std. dev. of 7 runs, 100,000 loops each)\n"
     ]
    }
   ],
   "source": [
    "%%timeit\n",
    "x = np.random.rand(200)\n",
    "l = np.random.randint(20, size=50)\n",
    "mask = np.where(x<.5)\n",
    "f(l, x, mask)"
   ]
  },
  {
   "cell_type": "code",
   "execution_count": 2,
   "metadata": {},
   "outputs": [],
   "source": [
    "# res = gp_minimize(loss_fn,                  # the function to minimize\n",
    "#                   [[0,1] for _ in range(len(dims))],      # the bounds on each dimension of x\n",
    "#                   acq_func=\"EI\",      # the acquisition function\n",
    "#                   n_calls=150,         # the number of evaluations of f\n",
    "#                   n_random_starts=3,  # the number of random initialization points\n",
    "#                   noise=0.1**2,       # the noise level (optional)\n",
    "#                   n_jobs=5,\n",
    "#                   random_state=1234)   # the random seed"
   ]
  },
  {
   "cell_type": "code",
   "execution_count": 15,
   "metadata": {},
   "outputs": [
    {
     "name": "stdout",
     "output_type": "stream",
     "text": [
      "[[0, 1, 0], [0, 0], [0, 3, 0], [0, 5, 0]]\n",
      "[2. 0. 2. 2.]\n"
     ]
    }
   ],
   "source": [
    "actions = np.array([1, 0, 1, 0, 1])\n",
    "\n",
    "distance = np.zeros(4)\n",
    "time = np.zeros(4)\n",
    "\n",
    "solutions = [\n",
    "    [0, 1, 0],\n",
    "    [0, 2, 0],\n",
    "    [0, 3, 0],\n",
    "    [0, 4, 5, 0]\n",
    "]\n",
    "\n",
    "distance_matrix = np.ones(len(actions)+1) - np.eye(6)\n",
    "\n",
    "omitted_packages = np.where(actions == 0)[0] + 1 # important to add 1 to ignore the hub's index 0\n",
    "sol = [\n",
    "    [\n",
    "        solutions[m][i]\n",
    "        for i in range(len(solutions[m]))\n",
    "        if solutions[m][i] not in omitted_packages\n",
    "    ]\n",
    "    for m in range(len(solutions))\n",
    "]\n",
    "print(sol)\n",
    "\n",
    "for m in range(len(solutions)):\n",
    "    i = 0\n",
    "    j = 1\n",
    "    while i < len(solutions[m]) and j < len(solutions[m]):\n",
    "        if not solutions[m][j] in omitted_packages:\n",
    "            distance[m] += distance_matrix[solutions[m][i], solutions[m][j]]\n",
    "            i = j\n",
    "            j = i+1\n",
    "        else:\n",
    "            j += 1\n",
    "        # print(j)\n",
    "print(distance)"
   ]
  },
  {
   "cell_type": "code",
   "execution_count": 4,
   "metadata": {},
   "outputs": [
    {
     "data": {
      "text/plain": [
       "array([1, 1, 9])"
      ]
     },
     "execution_count": 4,
     "metadata": {},
     "output_type": "execute_result"
    }
   ],
   "source": [
    "a = np.array([1, 0, 1, 0, 9])\n",
    "a[np.nonzero(a)[0]]\n",
    "# np.where(a == 1)"
   ]
  },
  {
   "cell_type": "code",
   "execution_count": 4,
   "metadata": {},
   "outputs": [
    {
     "data": {
      "text/plain": [
       "(-2511.9999999999973,\n",
       " False,\n",
       " {'solution_found': True,\n",
       "  'costs': 712.0,\n",
       "  'time_per_vehicle': array([1.075, 1.45 , 1.225, 0.7  ]),\n",
       "  'distance_per_vehicle': array([43., 58., 49., 28.]),\n",
       "  'excess_emission': 1.7999999999999972,\n",
       "  'omitted': 0,\n",
       "  'solution': [[0, 39, 5, 6, 22, 47, 44, 27, 20, 10, 37, 11, 15, 24, 35, 0],\n",
       "   [0, 50, 4, 7, 34, 36, 43, 31, 14, 9, 13, 12, 3, 30, 29, 0],\n",
       "   [0, 40, 26, 38, 21, 16, 49, 41, 28, 32, 45, 48, 33, 19, 0],\n",
       "   [0, 17, 23, 2, 18, 8, 1, 25, 42, 46, 0]]})"
      ]
     },
     "execution_count": 4,
     "metadata": {},
     "output_type": "execute_result"
    }
   ],
   "source": [
    "from assignment import AssignmentGame\n",
    "# e = 2*[0] + 2*[0.15] + 6*[0.3]\n",
    "# c = [1 for _ in range(10)]\n",
    "Q = 30\n",
    "game = AssignmentGame(Q=Q)#grid_size=30, max_capacity=50, emissions_KM=e, costs_KM=c, Q=Q)\n",
    "K = 50\n",
    "game.reset(num_packages = K)\n",
    "game.step(np.ones(K, dtype=int))"
   ]
  },
  {
   "cell_type": "code",
   "execution_count": 5,
   "metadata": {},
   "outputs": [],
   "source": [
    "f = lambda x : -game.step(x, call_OR=False)[0]\n",
    "res = gp_minimize(f,                  # the function to minimize\n",
    "                  [[0,1] for _ in range(K)],      # the bounds on each dimension of x\n",
    "                  acq_func=\"EI\",      # the acquisition function\n",
    "                  n_calls=200,         # the number of evaluations of f\n",
    "                  n_random_starts=3,  # the number of random initialization points\n",
    "                  noise=0.1**2,       # the noise level (optional)\n",
    "                  n_jobs=5,\n",
    "                  x0=[1 for _ in range(K)],#np.ones(K, dtype = int),\n",
    "                  random_state=1234)   # the random seed"
   ]
  },
  {
   "cell_type": "code",
   "execution_count": 6,
   "metadata": {},
   "outputs": [
    {
     "data": {
      "text/plain": [
       "[<matplotlib.lines.Line2D at 0x297e4c3d0>]"
      ]
     },
     "execution_count": 6,
     "metadata": {},
     "output_type": "execute_result"
    },
    {
     "data": {
      "image/png": "[encoded data removed]",
      "text/plain": [
       "<Figure size 640x480 with 1 Axes>"
      ]
     },
     "metadata": {},
     "output_type": "display_data"
    }
   ],
   "source": [
    "plt.plot(res['func_vals'])"
   ]
  },
  {
   "cell_type": "code",
   "execution_count": 46,
   "metadata": {},
   "outputs": [
    {
     "data": {
      "text/plain": [
       "177"
      ]
     },
     "execution_count": 46,
     "metadata": {},
     "output_type": "execute_result"
    }
   ],
   "source": [
    "np.argmin(res['func_vals'])"
   ]
  },
  {
   "cell_type": "code",
   "execution_count": null,
   "metadata": {},
   "outputs": [],
   "source": [
    "import numpy.random as rd\n",
    "def rand_neighbor(solution : np.ndarray, nb_changes = 1) :\n",
    "    \"\"\"\n",
    "    Generates new random solution.\n",
    "    :param solution: the solution for which we search a neighbor\n",
    "    :param nb_changes: maximum number of the changes alowed\n",
    "    :return: returns a random neighbor for the solution\n",
    "    \"\"\"\n",
    "    new_solution = solution.astype(bool)\n",
    "    i = rd.choice(len(new_solution), nb_changes, replace=False)\n",
    "    new_solution[i] = ~new_solution[i]\n",
    "    return new_solution.astype(int)\n",
    "\n",
    "def recuit(loss_fn, T_init, T_limit, lamb = .99, var = False, id = 0, log = True, H = 500) :\n",
    "    \"\"\"\n",
    "    This function finds a solution for the steiner problem\n",
    "        using annealing algorithm\n",
    "    :param game: the assignment game\n",
    "    :param T_init: the initial temperature\n",
    "    :param T_limit: the lowest temperature allowed\n",
    "    :return: the solution found and the evolution of the best evaluations\n",
    "    \"\"\"\n",
    "    best = np.ones(len(dims), dtype=int)\n",
    "    solution = best.copy()\n",
    "    T = T_init\n",
    "    eval_best = loss_fn(solution)\n",
    "    eval_solution = eval_best\n",
    "    m = 0\n",
    "    list_best_costs = [eval_best]\n",
    "    flag100 = True\n",
    "\n",
    "    while(T>T_limit):\n",
    "        sol = rand_neighbor(solution)\n",
    "        eval_sol = loss_fn(sol)\n",
    "        \n",
    "        if m%20 == 0 and log:\n",
    "            print(20*'-')\n",
    "            print(m)\n",
    "            print('- searcher ', id)\n",
    "            print('temperature : ', T)\n",
    "            print('cost : ', eval_sol)\n",
    "            print('best cost : ', eval_best)\n",
    "        if eval_sol < eval_best :\n",
    "            best = sol.copy()\n",
    "            eval_best = eval_sol\n",
    "            \n",
    "        if eval_sol < eval_solution :\n",
    "            prob = 1\n",
    "        else :\n",
    "            prob = np.exp((eval_best - eval_sol)/T)\n",
    "        rand = rd.random()\n",
    "        if rand <= prob :\n",
    "            solution = sol\n",
    "            eval_solution = eval_sol\n",
    "        list_best_costs.append(eval_best)\n",
    "        T *= lamb\n",
    "        m += 1\n",
    "        if m >= H:\n",
    "            break\n",
    "        \n",
    "        if(var and flag100 and T<=100):\n",
    "            flag100 = False\n",
    "            lamb = .999\n",
    "        #print(T)\n",
    "\n",
    "    print(f'm ={m}')\n",
    "    print(eval_best)\n",
    "    return best, list_best_costs\n"
   ]
  },
  {
   "cell_type": "code",
   "execution_count": null,
   "metadata": {},
   "outputs": [],
   "source": [
    "best = recuit(f, 20000, 2, )"
   ]
  },
  {
   "cell_type": "code",
   "execution_count": null,
   "metadata": {},
   "outputs": [],
   "source": []
  }
 ],
 "metadata": {
  "kernelspec": {
   "display_name": "Python 3.10.10 64-bit",
   "language": "python",
   "name": "python3"
  },
  "language_info": {
   "codemirror_mode": {
    "name": "ipython",
    "version": 3
   },
   "file_extension": ".py",
   "mimetype": "text/x-python",
   "name": "python",
   "nbconvert_exporter": "python",
   "pygments_lexer": "ipython3",
   "version": "3.10.11"
  },
  "orig_nbformat": 4,
  "vscode": {
   "interpreter": {
    "hash": "bd385fe162c5ca0c84973b7dd5c518456272446b2b64e67c2a69f949ca7a1754"
   }
  }
 },
 "nbformat": 4,
 "nbformat_minor": 2
}
