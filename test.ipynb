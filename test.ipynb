{
 "cells": [
  {
   "cell_type": "code",
   "execution_count": 24,
   "metadata": {},
   "outputs": [],
   "source": [
    "import matplotlib.pyplot as plt\n",
    "import networkx as nx\n",
    "import numpy as np\n"
   ]
  },
  {
   "cell_type": "code",
   "execution_count": 58,
   "metadata": {},
   "outputs": [
    {
     "name": "stdout",
     "output_type": "stream",
     "text": [
      "[0 0 0]\n",
      "[1 1 0]\n"
     ]
    }
   ],
   "source": [
    "a = np.zeros(3, dtype=int)\n",
    "b = a.astype(bool)\n",
    "b[[0,1]] = ~b[[0,1]]\n",
    "print(a)\n",
    "print(b.astype(int))"
   ]
  },
  {
   "cell_type": "code",
   "execution_count": 48,
   "metadata": {},
   "outputs": [
    {
     "data": {
      "text/plain": [
       "0"
      ]
     },
     "execution_count": 48,
     "metadata": {},
     "output_type": "execute_result"
    }
   ],
   "source": [
    "int(False)"
   ]
  },
  {
   "cell_type": "code",
   "execution_count": 26,
   "metadata": {},
   "outputs": [
    {
     "data": {
      "text/plain": [
       "{((0, 0), (1, 0)): {'distance': 1.0391277183593606},\n",
       " ((0, 0), (0, 1)): {'distance': 1.0652148631775509},\n",
       " ((0, 1), (1, 1)): {'distance': 0.9816899184424654},\n",
       " ((0, 1), (0, 2)): {'distance': 0.8948739553943316},\n",
       " ((0, 2), (1, 2)): {'distance': 1.0297268235119934},\n",
       " ((0, 2), (0, 3)): {'distance': 1.1082343560844965},\n",
       " ((0, 3), (1, 3)): {'distance': 1.0005109809151447},\n",
       " ((0, 3), (0, 4)): {'distance': 1.0810980466926932},\n",
       " ((0, 4), (1, 4)): {'distance': 1.0824421315836774},\n",
       " ((0, 4), (0, 5)): {'distance': 0.9690194215854107},\n",
       " ((0, 5), (1, 5)): {'distance': 1.0617461897330398},\n",
       " ((0, 5), (0, 6)): {'distance': 1.0858606324894444},\n",
       " ((0, 6), (1, 6)): {'distance': 1.095468977554633},\n",
       " ((0, 6), (0, 7)): {'distance': 0.9313239186354124},\n",
       " ((0, 7), (1, 7)): {'distance': 1.0088293213739141},\n",
       " ((0, 7), (0, 8)): {'distance': 0.9390491469606256},\n",
       " ((0, 8), (1, 8)): {'distance': 0.956272053635358},\n",
       " ((0, 8), (0, 9)): {'distance': 0.9459941389543696},\n",
       " ((0, 9), (1, 9)): {'distance': 0.8943715682938619},\n",
       " ((1, 0), (2, 0)): {'distance': 0.9958532034711921},\n",
       " ((1, 0), (1, 1)): {'distance': 1.0403869686258265},\n",
       " ((1, 1), (2, 1)): {'distance': 1.0154791820911084},\n",
       " ((1, 1), (1, 2)): {'distance': 0.8316339153927125},\n",
       " ((1, 2), (2, 2)): {'distance': 1.0161631020152542},\n",
       " ((1, 2), (1, 3)): {'distance': 1.0849147057782862},\n",
       " ((1, 3), (2, 3)): {'distance': 1.169567428779398},\n",
       " ((1, 3), (1, 4)): {'distance': 0.9217798619969945},\n",
       " ((1, 4), (2, 4)): {'distance': 1.1289776609201718},\n",
       " ((1, 4), (1, 5)): {'distance': 0.9983034406578891},\n",
       " ((1, 5), (2, 5)): {'distance': 0.9919638400466038},\n",
       " ((1, 5), (1, 6)): {'distance': 1.0156441248114125},\n",
       " ((1, 6), (2, 6)): {'distance': 1.013500793744615},\n",
       " ((1, 6), (1, 7)): {'distance': 0.9628037028209004},\n",
       " ((1, 7), (2, 7)): {'distance': 0.9650173584972462},\n",
       " ((1, 7), (1, 8)): {'distance': 1.1278202165839788},\n",
       " ((1, 8), (2, 8)): {'distance': 0.9382250209536765},\n",
       " ((1, 8), (1, 9)): {'distance': 0.9918682242250974},\n",
       " ((1, 9), (2, 9)): {'distance': 0.7725868223834202},\n",
       " ((2, 0), (3, 0)): {'distance': 1.03174959823143},\n",
       " ((2, 0), (2, 1)): {'distance': 0.9319140590313935},\n",
       " ((2, 1), (3, 1)): {'distance': 0.9033596204136809},\n",
       " ((2, 1), (2, 2)): {'distance': 1.0748416769368623},\n",
       " ((2, 2), (3, 2)): {'distance': 1.0502328461789656},\n",
       " ((2, 2), (2, 3)): {'distance': 0.9746566427805363},\n",
       " ((2, 3), (3, 3)): {'distance': 0.9885197318758969},\n",
       " ((2, 3), (2, 4)): {'distance': 1.1788064654967556},\n",
       " ((2, 4), (3, 4)): {'distance': 1.1504695342549829},\n",
       " ((2, 4), (2, 5)): {'distance': 1.054249369656524},\n",
       " ((2, 5), (3, 5)): {'distance': 1.0966439613169283},\n",
       " ((2, 5), (2, 6)): {'distance': 0.9110056387887929},\n",
       " ((2, 6), (3, 6)): {'distance': 1.0236268636742},\n",
       " ((2, 6), (2, 7)): {'distance': 0.9226816804658718},\n",
       " ((2, 7), (3, 7)): {'distance': 0.9312388815613298},\n",
       " ((2, 7), (2, 8)): {'distance': 0.9076134286772423},\n",
       " ((2, 8), (3, 8)): {'distance': 0.9076948378187227},\n",
       " ((2, 8), (2, 9)): {'distance': 1.1324035557134653},\n",
       " ((2, 9), (3, 9)): {'distance': 1.110947133836088},\n",
       " ((3, 0), (4, 0)): {'distance': 0.8456005794898476},\n",
       " ((3, 0), (3, 1)): {'distance': 0.9651947983978034},\n",
       " ((3, 1), (4, 1)): {'distance': 1.0966292448018036},\n",
       " ((3, 1), (3, 2)): {'distance': 0.8836648712393395},\n",
       " ((3, 2), (4, 2)): {'distance': 0.9920514118502176},\n",
       " ((3, 2), (3, 3)): {'distance': 0.7840245056932662},\n",
       " ((3, 3), (4, 3)): {'distance': 1.0453145972580649},\n",
       " ((3, 3), (3, 4)): {'distance': 0.9741415559976346},\n",
       " ((3, 4), (4, 4)): {'distance': 0.9495042557747069},\n",
       " ((3, 4), (3, 5)): {'distance': 0.9997601587786759},\n",
       " ((3, 5), (4, 5)): {'distance': 0.9148429879854485},\n",
       " ((3, 5), (3, 6)): {'distance': 0.813318087936095},\n",
       " ((3, 6), (4, 6)): {'distance': 0.9912142666479401},\n",
       " ((3, 6), (3, 7)): {'distance': 0.9429449249906201},\n",
       " ((3, 7), (4, 7)): {'distance': 1.0487214568198893},\n",
       " ((3, 7), (3, 8)): {'distance': 0.9449201100696037},\n",
       " ((3, 8), (4, 8)): {'distance': 1.0504965825028625},\n",
       " ((3, 8), (3, 9)): {'distance': 1.0670973701339581},\n",
       " ((3, 9), (4, 9)): {'distance': 0.9297544635496178},\n",
       " ((4, 0), (5, 0)): {'distance': 1.0487680032016509},\n",
       " ((4, 0), (4, 1)): {'distance': 0.8731122715312871},\n",
       " ((4, 1), (5, 1)): {'distance': 1.1472439543361446},\n",
       " ((4, 1), (4, 2)): {'distance': 1.1302467082245167},\n",
       " ((4, 2), (5, 2)): {'distance': 1.0340126630912072},\n",
       " ((4, 2), (4, 3)): {'distance': 1.0845269825823827},\n",
       " ((4, 3), (5, 3)): {'distance': 1.0808928394910313},\n",
       " ((4, 3), (4, 4)): {'distance': 0.9686270274031193},\n",
       " ((4, 4), (5, 4)): {'distance': 1.0160843113306182},\n",
       " ((4, 4), (4, 5)): {'distance': 0.8706389165215558},\n",
       " ((4, 5), (5, 5)): {'distance': 0.9057792392237406},\n",
       " ((4, 5), (4, 6)): {'distance': 0.9778033450985794},\n",
       " ((4, 6), (5, 6)): {'distance': 0.8997706697088181},\n",
       " ((4, 6), (4, 7)): {'distance': 1.143324761865087},\n",
       " ((4, 7), (5, 7)): {'distance': 1.0232907348449114},\n",
       " ((4, 7), (4, 8)): {'distance': 0.9489192274620667},\n",
       " ((4, 8), (5, 8)): {'distance': 1.0212859402858085},\n",
       " ((4, 8), (4, 9)): {'distance': 0.9547527228985166},\n",
       " ((4, 9), (5, 9)): {'distance': 0.9481225875592979},\n",
       " ((5, 0), (6, 0)): {'distance': 1.059774001112735},\n",
       " ((5, 0), (5, 1)): {'distance': 0.8335886445465673},\n",
       " ((5, 1), (6, 1)): {'distance': 0.9752723345952656},\n",
       " ((5, 1), (5, 2)): {'distance': 1.0670639677299432},\n",
       " ((5, 2), (6, 2)): {'distance': 1.3250733458816284},\n",
       " ((5, 2), (5, 3)): {'distance': 0.9722807335260053},\n",
       " ((5, 3), (6, 3)): {'distance': 1.0735304633807823},\n",
       " ((5, 3), (5, 4)): {'distance': 1.0859761909452519},\n",
       " ((5, 4), (6, 4)): {'distance': 0.8487914201909266},\n",
       " ((5, 4), (5, 5)): {'distance': 0.9637785819236304},\n",
       " ((5, 5), (6, 5)): {'distance': 1.0650200414414073},\n",
       " ((5, 5), (5, 6)): {'distance': 0.9677776217050437},\n",
       " ((5, 6), (6, 6)): {'distance': 0.9800340266477319},\n",
       " ((5, 6), (5, 7)): {'distance': 1.0384842344737477},\n",
       " ((5, 7), (6, 7)): {'distance': 1.2154051701644522},\n",
       " ((5, 7), (5, 8)): {'distance': 0.9651843994838917},\n",
       " ((5, 8), (6, 8)): {'distance': 0.9696344680374971},\n",
       " ((5, 8), (5, 9)): {'distance': 1.139801953215797},\n",
       " ((5, 9), (6, 9)): {'distance': 0.9723524240092337},\n",
       " ((6, 0), (7, 0)): {'distance': 0.9663023010355105},\n",
       " ((6, 0), (6, 1)): {'distance': 1.1012038625399},\n",
       " ((6, 1), (7, 1)): {'distance': 0.9853777611262116},\n",
       " ((6, 1), (6, 2)): {'distance': 1.1415433087572462},\n",
       " ((6, 2), (7, 2)): {'distance': 1.0793737446186737},\n",
       " ((6, 2), (6, 3)): {'distance': 0.8790563499436841},\n",
       " ((6, 3), (7, 3)): {'distance': 0.9986756576359366},\n",
       " ((6, 3), (6, 4)): {'distance': 0.9312693999325282},\n",
       " ((6, 4), (7, 4)): {'distance': 1.1261002146668952},\n",
       " ((6, 4), (6, 5)): {'distance': 1.0360168228043027},\n",
       " ((6, 5), (7, 5)): {'distance': 0.8678954345814947},\n",
       " ((6, 5), (6, 6)): {'distance': 1.0718400594780797},\n",
       " ((6, 6), (7, 6)): {'distance': 1.2727264619941427},\n",
       " ((6, 6), (6, 7)): {'distance': 0.9434311838689575},\n",
       " ((6, 7), (7, 7)): {'distance': 1.0538095139529238},\n",
       " ((6, 7), (6, 8)): {'distance': 0.9840524851276867},\n",
       " ((6, 8), (7, 8)): {'distance': 0.9618662272667723},\n",
       " ((6, 8), (6, 9)): {'distance': 1.0096306518664804},\n",
       " ((6, 9), (7, 9)): {'distance': 1.201497721977537},\n",
       " ((7, 0), (8, 0)): {'distance': 1.1447939122700954},\n",
       " ((7, 0), (7, 1)): {'distance': 0.9716382874776753},\n",
       " ((7, 1), (8, 1)): {'distance': 1.0243126626736505},\n",
       " ((7, 1), (7, 2)): {'distance': 1.0418408298228437},\n",
       " ((7, 2), (8, 2)): {'distance': 1.0444339089488905},\n",
       " ((7, 2), (7, 3)): {'distance': 1.1054548464833551},\n",
       " ((7, 3), (8, 3)): {'distance': 0.9129193735348446},\n",
       " ((7, 3), (7, 4)): {'distance': 1.1512502823458262},\n",
       " ((7, 4), (8, 4)): {'distance': 1.1500785862802119},\n",
       " ((7, 4), (7, 5)): {'distance': 0.9528100751871522},\n",
       " ((7, 5), (8, 5)): {'distance': 0.8557788292658045},\n",
       " ((7, 5), (7, 6)): {'distance': 0.9708139631258079},\n",
       " ((7, 6), (8, 6)): {'distance': 1.0530027383910625},\n",
       " ((7, 6), (7, 7)): {'distance': 1.061465494193105},\n",
       " ((7, 7), (8, 7)): {'distance': 0.9370966224697933},\n",
       " ((7, 7), (7, 8)): {'distance': 0.9048827618132422},\n",
       " ((7, 8), (8, 8)): {'distance': 1.0829588913938994},\n",
       " ((7, 8), (7, 9)): {'distance': 1.250954429231498},\n",
       " ((7, 9), (8, 9)): {'distance': 0.8188857810382892},\n",
       " ((8, 0), (9, 0)): {'distance': 1.0126302180464481},\n",
       " ((8, 0), (8, 1)): {'distance': 0.882668602135348},\n",
       " ((8, 1), (9, 1)): {'distance': 1.0683778538070194},\n",
       " ((8, 1), (8, 2)): {'distance': 1.0178895387464226},\n",
       " ((8, 2), (9, 2)): {'distance': 1.046489688966024},\n",
       " ((8, 2), (8, 3)): {'distance': 1.0648426712918682},\n",
       " ((8, 3), (9, 3)): {'distance': 1.0415114682297115},\n",
       " ((8, 3), (8, 4)): {'distance': 0.8612414960893917},\n",
       " ((8, 4), (9, 4)): {'distance': 1.083254183343305},\n",
       " ((8, 4), (8, 5)): {'distance': 1.0913806505670458},\n",
       " ((8, 5), (9, 5)): {'distance': 0.9657473810088744},\n",
       " ((8, 5), (8, 6)): {'distance': 1.1020484595470899},\n",
       " ((8, 6), (9, 6)): {'distance': 0.8539830534371785},\n",
       " ((8, 6), (8, 7)): {'distance': 0.85109223877437},\n",
       " ((8, 7), (9, 7)): {'distance': 1.0490795949782294},\n",
       " ((8, 7), (8, 8)): {'distance': 0.9365554038146952},\n",
       " ((8, 8), (9, 8)): {'distance': 0.9071532853544668},\n",
       " ((8, 8), (8, 9)): {'distance': 0.9174911093780964},\n",
       " ((8, 9), (9, 9)): {'distance': 1.0019714538396798},\n",
       " ((9, 0), (9, 1)): {'distance': 0.9864504783306631},\n",
       " ((9, 1), (9, 2)): {'distance': 1.089388934632408},\n",
       " ((9, 2), (9, 3)): {'distance': 1.020841031655427},\n",
       " ((9, 3), (9, 4)): {'distance': 1.1588749623087664},\n",
       " ((9, 4), (9, 5)): {'distance': 0.8361572184016316},\n",
       " ((9, 5), (9, 6)): {'distance': 0.8811085116173958},\n",
       " ((9, 6), (9, 7)): {'distance': 0.8152900696830486},\n",
       " ((9, 7), (9, 8)): {'distance': 0.7985196860725954},\n",
       " ((9, 8), (9, 9)): {'distance': 0.9546458761075468}}"
      ]
     },
     "execution_count": 26,
     "metadata": {},
     "output_type": "execute_result"
    }
   ],
   "source": [
    "G = nx.grid_2d_graph(10, 10)\n",
    "distances = {\n",
    "    e : {\n",
    "        'distance' : np.random.normal(1, 0.1)\n",
    "    }\n",
    "    for e in G.edges\n",
    "}\n",
    "nx.set_edge_attributes(G, distances)\n",
    "d_matrix = nx.floyd_warshall_numpy(G, weight = 'distance')\n",
    "# nx.floyd_warshall_numpy(G)"
   ]
  },
  {
   "cell_type": "code",
   "execution_count": 31,
   "metadata": {},
   "outputs": [],
   "source": []
  },
  {
   "cell_type": "code",
   "execution_count": 32,
   "metadata": {},
   "outputs": [
    {
     "data": {
      "text/plain": [
       "array([[ 0.        ,  1.06521486,  1.96008882, ..., 14.68884821,\n",
       "        15.4873679 , 16.44201378],\n",
       "       [ 1.06521486,  0.        ,  0.89487396, ..., 13.71912233,\n",
       "        14.51764202, 15.4722879 ],\n",
       "       [ 1.96008882,  0.89487396,  0.        , ..., 13.03105151,\n",
       "        13.8295712 , 14.78421707],\n",
       "       ...,\n",
       "       [14.68884821, 13.71912233, 13.03105151, ...,  0.        ,\n",
       "         0.79851969,  1.75316556],\n",
       "       [15.4873679 , 14.51764202, 13.8295712 , ...,  0.79851969,\n",
       "         0.        ,  0.95464588],\n",
       "       [16.44201378, 15.4722879 , 14.78421707, ...,  1.75316556,\n",
       "         0.95464588,  0.        ]])"
      ]
     },
     "execution_count": 32,
     "metadata": {},
     "output_type": "execute_result"
    }
   ],
   "source": [
    "d_matrix"
   ]
  },
  {
   "cell_type": "code",
   "execution_count": 8,
   "metadata": {},
   "outputs": [
    {
     "data": {
      "image/png": "[encoded data removed]",
      "text/plain": [
       "<Figure size 640x480 with 1 Axes>"
      ]
     },
     "metadata": {},
     "output_type": "display_data"
    }
   ],
   "source": [
    "G = nx.complete_bipartite_graph(2, 2)\n",
    "top = nx.bipartite.sets(G)[0]\n",
    "pos = nx.bipartite_layout(G, top)\n",
    "nx.draw(G, pos)"
   ]
  },
  {
   "cell_type": "code",
   "execution_count": 3,
   "metadata": {},
   "outputs": [
    {
     "name": "stdout",
     "output_type": "stream",
     "text": [
      "transporter 1 total profit 2.2666666666666586\n"
     ]
    },
    {
     "data": {
      "image/png": "[encoded data removed]",
      "text/plain": [
       "<Figure size 640x480 with 1 Axes>"
      ]
     },
     "metadata": {},
     "output_type": "display_data"
    },
    {
     "data": {
      "image/png": "[encoded data removed]",
      "text/plain": [
       "<Figure size 640x480 with 1 Axes>"
      ]
     },
     "metadata": {},
     "output_type": "display_data"
    }
   ],
   "source": [
    "rewards = []\n",
    "env.reset()\n",
    "env.render()\n",
    "done = False\n",
    "while not done:\n",
    "    action = 1\n",
    "    _, r, d, *_ = env.step(action)\n",
    "    done = d\n",
    "    rewards.append(r)\n",
    "env.render()\n",
    "t1_r = [r for r in rewards]\n",
    "# t2_r = [r[1] for r in rewards]\n",
    "print('transporter 1 total profit', sum(t1_r))\n",
    "# print('transporter 2 total profit', sum(t2_r))"
   ]
  },
  {
   "cell_type": "code",
   "execution_count": null,
   "metadata": {},
   "outputs": [],
   "source": []
  }
 ],
 "metadata": {
  "kernelspec": {
   "display_name": "Python 3.10.10 64-bit",
   "language": "python",
   "name": "python3"
  },
  "language_info": {
   "codemirror_mode": {
    "name": "ipython",
    "version": 3
   },
   "file_extension": ".py",
   "mimetype": "text/x-python",
   "name": "python",
   "nbconvert_exporter": "python",
   "pygments_lexer": "ipython3",
   "version": "3.10.11"
  },
  "orig_nbformat": 4,
  "vscode": {
   "interpreter": {
    "hash": "bd385fe162c5ca0c84973b7dd5c518456272446b2b64e67c2a69f949ca7a1754"
   }
  }
 },
 "nbformat": 4,
 "nbformat_minor": 2
}
