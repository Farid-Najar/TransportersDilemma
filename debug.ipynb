{
 "cells": [
  {
   "cell_type": "code",
   "execution_count": 1,
   "metadata": {},
   "outputs": [
    {
     "name": "stdout",
     "output_type": "stream",
     "text": [
      "pygame 2.5.2 (SDL 2.28.3, Python 3.10.11)\n",
      "Hello from the pygame community. https://www.pygame.org/contribute.html\n"
     ]
    }
   ],
   "source": [
    "import pickle\n",
    "import numpy as np\n",
    "import matplotlib.pyplot as plt\n",
    "from stable_baselines3.common.results_plotter import load_results, ts2xy\n",
    "from stable_baselines3.common import results_plotter\n",
    "import matplotlib.pyplot as plt\n",
    "import numpy as np\n",
    "from copy import deepcopy\n",
    "\n",
    "import sys\n",
    "# direc = os.path.dirname(__file__)\n",
    "# pri&\n",
    "# caution: path[0] is reserved for script path (or '' in REPL)\n",
    "# print(str(path)+'/ppo')\n",
    "sys.path.insert(1, '/Users/faridounet/PhD/TransportersDilemma')\n",
    "from a_star import A_Star\n",
    "from SA_baseline import recuit\n",
    "from greedy_baseline import baseline\n",
    "from assignment import RemoveActionEnv, AssignmentEnv, GameEnv\n",
    "import pickle\n",
    "from shortcut import multi_types\n",
    "import numpy as np\n",
    "import matplotlib.pyplot as plt\n",
    "import collections\n",
    "\n",
    "from shortcut import multi_types\n",
    "from GameLearning import LRI, GameLearning, EXP3\n",
    "from SA_baseline import recuit\n",
    "from a_star import A_Star\n",
    "from greedy_baseline import baseline, greedy\n",
    "\n",
    "np.random.seed(42)"
   ]
  },
  {
   "cell_type": "code",
   "execution_count": 9,
   "metadata": {},
   "outputs": [],
   "source": [
    "def DP(env : RemoveActionEnv, excess, log = False):\n",
    "    \n",
    "    rtes = np.array([\n",
    "        [\n",
    "            env._env.initial_routes[m, i] \n",
    "            for i in range(0, len(env._env.initial_routes[m]), 2)\n",
    "        ]\n",
    "        for m in range(len(env._env.initial_routes))\n",
    "    ], dtype=int)\n",
    "\n",
    "\n",
    "    # print(env._env.distance_matrix)\n",
    "    # print(CM)\n",
    "    coeff = env._env._game.emissions_KM\n",
    "    # CM = np.array([\n",
    "    #     env._env.distance_matrix*coeff[i]\n",
    "    #     for i in range(len(coeff))\n",
    "    # ]).copy()\n",
    "    a = multi_types(env._env.distance_matrix, rtes, coeff, excess)\n",
    "\n",
    "\n",
    "    _, r, *_, info = env.step(a)\n",
    "    \n",
    "    if log:\n",
    "        print(env.destinations)\n",
    "        print(env._env.distance_matrix)\n",
    "    info['rtes'] = rtes\n",
    "    return a, r, info\n",
    "\n",
    "def SA(env, log = False):\n",
    "    \n",
    "    if log:\n",
    "        print(env.destinations)\n",
    "        print(env._env.distance_matrix)\n",
    "    T_init = 5_000\n",
    "    T_limit = 1\n",
    "    lamb = 0.9999\n",
    "    T = 100_000\n",
    "\n",
    "    action_SA, *_ = recuit(deepcopy(env._env), T_init, T_limit, lamb, H=T)\n",
    "            # res = recuit_multiple(game, T_init = T_init, T_limit = T_limit, lamb = lamb, log=log, H=T)\n",
    "    a = np.where(action_SA == 0)[0]\n",
    "\n",
    "    # CM = np.array([\n",
    "    #     env._env.distance_matrix*coeff[i]\n",
    "    #     for i in range(len(coeff))\n",
    "    # ]).copy()\n",
    "\n",
    "    # env = RemoveActionEnv(game = g, saved_routes = routes, saved_dests=dests, \n",
    "    #                       obs_mode='elimination_gain', \n",
    "    #                       action_mode = 'destinations',\n",
    "    #                         change_instance = True, rewards_mode='normalized_terminal', instance_id = 89)\n",
    "\n",
    "    _, r, *_, info = env.step(a)\n",
    "    info['initial routes'] = env._env.initial_routes\n",
    "    if log:\n",
    "        print(env.destinations)\n",
    "        print(env._env.distance_matrix)\n",
    "    \n",
    "    return a, r, info"
   ]
  },
  {
   "cell_type": "code",
   "execution_count": 3,
   "metadata": {},
   "outputs": [],
   "source": [
    "K = 50\n",
    "with open(f'RL/game_K{K}.pkl', 'rb') as f:\n",
    "    g = pickle.load(f)\n",
    "routes = np.load(f'RL/routes_K{K}.npy')\n",
    "dests = np.load(f'RL/destinations_K{K}.npy')\n",
    "\n",
    "with open(f'res_compare_EG_A*_SA_K{K}_n100.pkl', 'rb') as f:\n",
    "    data = pickle.load(f)\n",
    "    \n",
    "if K == 100:\n",
    "    g.Q = 40\n",
    "    \n",
    "if K == 15:\n",
    "    g.Q = 20"
   ]
  },
  {
   "cell_type": "code",
   "execution_count": 4,
   "metadata": {},
   "outputs": [
    {
     "name": "stdout",
     "output_type": "stream",
     "text": [
      "res_A\n",
      "23\n",
      "[ 4 14 17 24 30 32 38 40 43 47]\n",
      "res_A\n",
      "48\n",
      "[ 2  3  4  7 10 19 22 24 35 39 41 43 44]\n",
      "res_A\n",
      "72\n",
      "[ 0  1  2  3  7  8 10 13 15 16 22 23 26 28 32 35 39 40 41 47]\n"
     ]
    }
   ],
   "source": [
    "# On recalcule les rewards\n",
    "rewards = []\n",
    "for k in data.keys():\n",
    "    rs = np.zeros(len(data[k]))\n",
    "    for i in data[k].keys():\n",
    "        sol = data[k][i]['sol']\n",
    "        env = RemoveActionEnv(game = g, saved_routes = routes, saved_dests=dests, \n",
    "                      obs_mode='elimination_gain', \n",
    "                      action_mode = 'destinations',\n",
    "                        change_instance = True, rewards_mode='normalized_terminal', instance_id = int(i))\n",
    "        env.reset()\n",
    "        _, r, *_ = env.step(sol)\n",
    "        if r == 0:\n",
    "            print(k)\n",
    "            print(i)\n",
    "            print(sol)\n",
    "        rs[i] = r\n",
    "    rewards.append(rs)"
   ]
  },
  {
   "cell_type": "code",
   "execution_count": 5,
   "metadata": {},
   "outputs": [
    {
     "data": {
      "image/png": "[encoded data removed]",
      "text/plain": [
       "<Figure size 640x480 with 1 Axes>"
      ]
     },
     "metadata": {},
     "output_type": "display_data"
    }
   ],
   "source": [
    "# affichage\n",
    "rr = []\n",
    "for rs in rewards:\n",
    "    rr.append(rs/(rewards[0]))\n",
    "    \n",
    "plt.boxplot(\n",
    "        rr,\n",
    "        patch_artist=True,\n",
    "        )\n",
    "plt.show()"
   ]
  },
  {
   "cell_type": "code",
   "execution_count": 6,
   "metadata": {},
   "outputs": [
    {
     "name": "stdout",
     "output_type": "stream",
     "text": [
      "(array([14, 57, 90]),)\n",
      "(array([], dtype=int64),)\n",
      "(array([], dtype=int64),)\n"
     ]
    }
   ],
   "source": [
    "# On regarde ou la DP sous-performe\n",
    "print(np.where(rr[1]>1))\n",
    "print(np.where(rr[2]>1))\n",
    "print(np.where(rr[3]>1))"
   ]
  },
  {
   "cell_type": "code",
   "execution_count": 7,
   "metadata": {},
   "outputs": [],
   "source": [
    "# On cible une instance\n",
    "instance = 14"
   ]
  },
  {
   "cell_type": "code",
   "execution_count": 8,
   "metadata": {},
   "outputs": [
    {
     "name": "stdout",
     "output_type": "stream",
     "text": [
      "instance info :\n",
      "{'solution_found': False, 'costs': 155.0, 'time_per_vehicle': array([0., 0., 0., 0.]), 'distance_per_vehicle': array([30., 65., 10., 50.]), 'excess_emission': -0.5, 'omitted': array([10, 23, 40, 43, 44, 45, 46, 47, 48, 49, 50])}\n",
      "la solution calculee à nouveau :  [10 47 48 45 49 50 46 44 43 40 23]\n",
      "reward obtenue par la solution calculee à nouveau :  0.7386666666666667\n",
      "la solution calculee dans la sim :  [10 47 48 45 49 50 46 44 43 40 23]\n",
      "reward obtenue par la solution calculee dans la sim :  0.7386666666666667\n"
     ]
    }
   ],
   "source": [
    "# On reessaye la DP\n",
    "env = RemoveActionEnv(game = g, saved_routes = routes, saved_dests=dests, \n",
    "                      obs_mode='elimination_gain', \n",
    "                      action_mode = 'destinations',\n",
    "                        change_instance = False, rewards_mode='normalized_terminal', instance_id = instance)\n",
    "_, info = env.reset()\n",
    "excess = info['excess_emission']\n",
    "\n",
    "rtes = np.array([\n",
    "    [\n",
    "        env._env.initial_routes[m, i] \n",
    "        for i in range(0, len(env._env.initial_routes[m]), 2)\n",
    "    ]\n",
    "    for m in range(len(env._env.initial_routes))\n",
    "], dtype=int)\n",
    "\n",
    "\n",
    "# print(env._env.distance_matrix)\n",
    "# print(CM)\n",
    "coeff = env._env._game.emissions_KM\n",
    "# CM = np.array([\n",
    "#     env._env.distance_matrix*coeff[i]\n",
    "#     for i in range(len(coeff))\n",
    "# ]).copy()\n",
    "a = multi_types(env._env.distance_matrix, rtes, coeff, excess)\n",
    "\n",
    "\n",
    "_, r, *_, info = env.step(a)\n",
    "\n",
    "print('instance info :')\n",
    "print(info)\n",
    "\n",
    "print('la solution calculee à nouveau : ', a +1)\n",
    "print('reward obtenue par la solution calculee à nouveau : ', r)\n",
    "\n",
    "print('la solution calculee dans la sim : ', data['res_DP'][instance]['sol'] + 1)\n",
    "print('reward obtenue par la solution calculee dans la sim : ', rewards[0][instance])\n"
   ]
  },
  {
   "cell_type": "code",
   "execution_count": 9,
   "metadata": {},
   "outputs": [
    {
     "name": "stdout",
     "output_type": "stream",
     "text": [
      "[[ 0 34 35 36 37 30 28 27 26 25 29  0  0  0  0  0  0]\n",
      " [ 0 33 20 21 22 14 10  9  5  4  3  2 13  8 19 18  0]\n",
      " [ 0 42 41 47 48 45 49 50 46 44 43 39  0  0  0  0  0]\n",
      " [ 0 38 32 40 31 23 15 11  1  7  6 12 16 17 24  0  0]]\n"
     ]
    }
   ],
   "source": [
    "print(rtes)"
   ]
  },
  {
   "cell_type": "code",
   "execution_count": 10,
   "metadata": {},
   "outputs": [
    {
     "name": "stdout",
     "output_type": "stream",
     "text": [
      "la solution calculee à nouveau :  [40 41 43 44 45 46 47 48 49 50]\n",
      "reward obtenue par la solution calculee à nouveau :  0.7573333333333333\n",
      "la solution calculee dans la sim :  [23 40 43 44 45 46 47 48 49 50]\n",
      "reward obtenue par la solution calculee dans la sim :  0.7573333333333333\n"
     ]
    }
   ],
   "source": [
    "env = RemoveActionEnv(game = g, saved_routes = routes, saved_dests=dests, \n",
    "                    obs_mode='elimination_gain', \n",
    "                    action_mode = 'destinations',\n",
    "                    change_instance = False, rewards_mode='normalized_terminal', instance_id = instance\n",
    ")\n",
    "_, info = env.reset()\n",
    "excess = info['excess_emission']\n",
    "T_init = 5_000\n",
    "T_limit = 1\n",
    "lamb = 0.9999\n",
    "T = 100_000\n",
    "\n",
    "action_SA, *_ = recuit(deepcopy(env._env), T_init, T_limit, lamb, H=T)\n",
    "        # res = recuit_multiple(game, T_init = T_init, T_limit = T_limit, lamb = lamb, log=log, H=T)\n",
    "a = np.where(action_SA == 0)[0]\n",
    "\n",
    "# CM = np.array([\n",
    "#     env._env.distance_matrix*coeff[i]\n",
    "#     for i in range(len(coeff))\n",
    "# ]).copy()\n",
    "\n",
    "# env = RemoveActionEnv(game = g, saved_routes = routes, saved_dests=dests, \n",
    "#                       obs_mode='elimination_gain', \n",
    "#                       action_mode = 'destinations',\n",
    "#                         change_instance = True, rewards_mode='normalized_terminal', instance_id = 89)\n",
    "\n",
    "env.reset()\n",
    "_, r, *_, info = env.step(a)\n",
    "print('la solution calculee à nouveau : ', a + 1)\n",
    "print('reward obtenue par la solution calculee à nouveau : ', r)\n",
    "\n",
    "print('la solution calculee dans la sim : ', data['res_SA'][instance]['sol'] +1)\n",
    "print('reward obtenue par la solution calculee dans la sim : ', rewards[1][instance])"
   ]
  },
  {
   "cell_type": "code",
   "execution_count": 6,
   "metadata": {},
   "outputs": [
    {
     "data": {
      "text/plain": [
       "(array([1.        , 0.75      , 0.        , 0.25016661, 0.25      ,\n",
       "        0.75049983, 0.50033322, 0.33355548, 0.5       , 0.25      ]),\n",
       " {'solution_found': True,\n",
       "  'costs': 63.0,\n",
       "  'time_per_vehicle': <function time.time>,\n",
       "  'distance_per_vehicle': array([33., 30.]),\n",
       "  'excess_emission': 7.300000000000001,\n",
       "  'omitted': array([], dtype=int64)})"
      ]
     },
     "execution_count": 6,
     "metadata": {},
     "output_type": "execute_result"
    }
   ],
   "source": [
    "from assignment import AssignmentGame\n",
    "\n",
    "K = 10\n",
    "with open(f'RL/game_K{K}.pkl', 'rb') as f:\n",
    "    g = pickle.load(f)\n",
    "routes = np.load(f'RL/routes_K{K}.npy')\n",
    "dests = np.load(f'RL/destinations_K{K}.npy')\n",
    "\n",
    "\n",
    "# g = AssignmentGame(\n",
    "#             grid_size=12,\n",
    "#             max_capacity=1,\n",
    "#             Q = 7,\n",
    "#             K=2,\n",
    "#             emissions_KM = [.1, .3],\n",
    "#             costs_KM = [1, 1],\n",
    "#             seed=42\n",
    "#         )\n",
    "\n",
    "env = RemoveActionEnv(game = g, saved_routes = routes, saved_dests=dests, \n",
    "                      obs_mode='elimination_gain', \n",
    "                      action_mode = 'destinations',\n",
    "                        change_instance = True, rewards_mode='normalized_terminal', instance_id = 0)\n",
    "# env = RemoveActionEnv(game = g)\n",
    "env.reset()"
   ]
  },
  {
   "cell_type": "code",
   "execution_count": 7,
   "metadata": {},
   "outputs": [
    {
     "data": {
      "text/plain": [
       "(array([1.        , 0.75      , 0.        , 0.25016661, 0.25      ,\n",
       "        0.75049983, 0.50033322, 0.33355548, 0.5       , 0.25      ]),\n",
       " 0.0,\n",
       " False,\n",
       " False,\n",
       " {'solution_found': False,\n",
       "  'costs': 63.0,\n",
       "  'time_per_vehicle': array([0., 0.]),\n",
       "  'distance_per_vehicle': array([33., 30.]),\n",
       "  'excess_emission': 7.300000000000001,\n",
       "  'omitted': array([], dtype=int64)})"
      ]
     },
     "execution_count": 7,
     "metadata": {},
     "output_type": "execute_result"
    }
   ],
   "source": [
    "env.step([])"
   ]
  },
  {
   "cell_type": "code",
   "execution_count": 11,
   "metadata": {},
   "outputs": [
    {
     "name": "stdout",
     "output_type": "stream",
     "text": [
      "++++++++++++++++++++++++++++++++++++++++++++++++++\n",
      "21\n",
      "instance info :\n",
      "{'solution_found': True, 'costs': 51.0, 'time_per_vehicle': <built-in function time>, 'distance_per_vehicle': array([35., 16.]), 'excess_emission': 3.3000000000000007, 'omitted': array([], dtype=int64)}\n",
      "routes : \n",
      " [[ 0  3  4  9  5 10  0]\n",
      " [ 0  8  1  2  6  7  0]]\n",
      "----------\n",
      "la solution DP :  [3 8 6 7]\n",
      "reward DP :  0.5\n",
      "info DP :  {'solution_found': False, 'costs': 31.0, 'time_per_vehicle': array([0., 0.]), 'distance_per_vehicle': array([26.,  5.]), 'excess_emission': -0.9000000000000004, 'omitted': array([3, 6, 7, 8]), 'rtes': array([[ 0,  3,  4,  9,  5, 10,  0],\n",
      "       [ 0,  8,  1,  2,  6,  7,  0]])}\n",
      "la solution SA :  [3 6 7]\n",
      "reward SA :  0.5903225806451613\n",
      "info DP :  {'solution_found': False, 'costs': 34.0, 'time_per_vehicle': array([0., 0.]), 'distance_per_vehicle': array([26.,  8.]), 'excess_emission': 0.0, 'omitted': array([3, 6, 7]), 'initial routes': array([[0.0000e+00, 9.0090e+03, 3.0000e+00, 6.0060e+03, 4.0000e+00,\n",
      "        2.0020e+03, 9.0000e+00, 5.0050e+03, 5.0000e+00, 2.0020e+03,\n",
      "        1.0000e+01, 1.1011e+04, 0.0000e+00],\n",
      "       [0.0000e+00, 9.0030e+03, 8.0000e+00, 6.0020e+03, 1.0000e+00,\n",
      "        6.0020e+03, 2.0000e+00, 6.0020e+03, 6.0000e+00, 9.0030e+03,\n",
      "        7.0000e+00, 1.2004e+04, 0.0000e+00]])}\n",
      "++++++++++++++++++++++++++++++++++++++++++++++++++\n",
      "++++++++++++++++++++++++++++++++++++++++++++++++++\n",
      "22\n",
      "instance info :\n",
      "{'solution_found': True, 'costs': 60.0, 'time_per_vehicle': <built-in function time>, 'distance_per_vehicle': array([38., 22.]), 'excess_emission': 5.4, 'omitted': array([], dtype=int64)}\n",
      "routes : \n",
      " [[ 0 10  9  4  1  7  0]\n",
      " [ 0  8  3  5  2  6  0]]\n",
      "----------\n",
      "la solution DP :  [10  8  3  5  2]\n",
      "reward DP :  0.3967741935483871\n",
      "info DP :  {'solution_found': False, 'costs': 32.0, 'time_per_vehicle': array([0., 0.]), 'distance_per_vehicle': array([28.,  4.]), 'excess_emission': -1.0, 'omitted': array([ 2,  3,  5,  8, 10]), 'rtes': array([[ 0, 10,  9,  4,  1,  7,  0],\n",
      "       [ 0,  8,  3,  5,  2,  6,  0]])}\n",
      "la solution SA :  [2 3 5 8]\n",
      "reward SA :  0.4645161290322581\n",
      "info DP :  {'solution_found': False, 'costs': 42.0, 'time_per_vehicle': array([0., 0.]), 'distance_per_vehicle': array([38.,  4.]), 'excess_emission': 0.0, 'omitted': array([2, 3, 5, 8]), 'initial routes': array([[0.0000e+00, 1.3013e+04, 1.0000e+01, 8.0080e+03, 9.0000e+00,\n",
      "        2.0020e+03, 4.0000e+00, 5.0050e+03, 1.0000e+00, 3.0030e+03,\n",
      "        7.0000e+00, 7.0070e+03, 0.0000e+00],\n",
      "       [0.0000e+00, 3.0010e+04, 8.0000e+00, 6.0020e+03, 3.0000e+00,\n",
      "        3.0010e+03, 5.0000e+00, 1.2004e+04, 2.0000e+00, 9.0030e+03,\n",
      "        6.0000e+00, 6.0020e+03, 0.0000e+00]])}\n",
      "++++++++++++++++++++++++++++++++++++++++++++++++++\n"
     ]
    },
    {
     "ename": "KeyboardInterrupt",
     "evalue": "",
     "output_type": "error",
     "traceback": [
      "\u001b[0;31m---------------------------------------------------------------------------\u001b[0m",
      "\u001b[0;31mKeyboardInterrupt\u001b[0m                         Traceback (most recent call last)",
      "Cell \u001b[0;32mIn[11], line 9\u001b[0m\n\u001b[1;32m      7\u001b[0m \u001b[38;5;241m*\u001b[39m_, info \u001b[38;5;241m=\u001b[39m env\u001b[38;5;241m.\u001b[39mreset()\n\u001b[1;32m      8\u001b[0m aDP, rDP, infoDP \u001b[38;5;241m=\u001b[39m DP(deepcopy(env), info[\u001b[38;5;124m'\u001b[39m\u001b[38;5;124mexcess_emission\u001b[39m\u001b[38;5;124m'\u001b[39m])\n\u001b[0;32m----> 9\u001b[0m aSA, rSA, infoSA \u001b[38;5;241m=\u001b[39m \u001b[43mSA\u001b[49m\u001b[43m(\u001b[49m\u001b[43mdeepcopy\u001b[49m\u001b[43m(\u001b[49m\u001b[43menv\u001b[49m\u001b[43m)\u001b[49m\u001b[43m)\u001b[49m\n\u001b[1;32m     11\u001b[0m \u001b[38;5;28;01mif\u001b[39;00m rSA\u001b[38;5;241m>\u001b[39mrDP:\n\u001b[1;32m     12\u001b[0m     \u001b[38;5;28mprint\u001b[39m(\u001b[38;5;241m50\u001b[39m\u001b[38;5;241m*\u001b[39m\u001b[38;5;124m'\u001b[39m\u001b[38;5;124m+\u001b[39m\u001b[38;5;124m'\u001b[39m)\n",
      "Cell \u001b[0;32mIn[9], line 40\u001b[0m, in \u001b[0;36mSA\u001b[0;34m(env, log)\u001b[0m\n\u001b[1;32m     37\u001b[0m lamb \u001b[38;5;241m=\u001b[39m \u001b[38;5;241m0.9999\u001b[39m\n\u001b[1;32m     38\u001b[0m T \u001b[38;5;241m=\u001b[39m \u001b[38;5;241m100_000\u001b[39m\n\u001b[0;32m---> 40\u001b[0m action_SA, \u001b[38;5;241m*\u001b[39m_ \u001b[38;5;241m=\u001b[39m \u001b[43mrecuit\u001b[49m\u001b[43m(\u001b[49m\u001b[43mdeepcopy\u001b[49m\u001b[43m(\u001b[49m\u001b[43menv\u001b[49m\u001b[38;5;241;43m.\u001b[39;49m\u001b[43m_env\u001b[49m\u001b[43m)\u001b[49m\u001b[43m,\u001b[49m\u001b[43m \u001b[49m\u001b[43mT_init\u001b[49m\u001b[43m,\u001b[49m\u001b[43m \u001b[49m\u001b[43mT_limit\u001b[49m\u001b[43m,\u001b[49m\u001b[43m \u001b[49m\u001b[43mlamb\u001b[49m\u001b[43m,\u001b[49m\u001b[43m \u001b[49m\u001b[43mH\u001b[49m\u001b[38;5;241;43m=\u001b[39;49m\u001b[43mT\u001b[49m\u001b[43m)\u001b[49m\n\u001b[1;32m     41\u001b[0m         \u001b[38;5;66;03m# res = recuit_multiple(game, T_init = T_init, T_limit = T_limit, lamb = lamb, log=log, H=T)\u001b[39;00m\n\u001b[1;32m     42\u001b[0m a \u001b[38;5;241m=\u001b[39m np\u001b[38;5;241m.\u001b[39mwhere(action_SA \u001b[38;5;241m==\u001b[39m \u001b[38;5;241m0\u001b[39m)[\u001b[38;5;241m0\u001b[39m]\n",
      "File \u001b[0;32m~/PhD/TransportersDilemma/SA_baseline.py:36\u001b[0m, in \u001b[0;36mrecuit\u001b[0;34m(game, T_init, T_limit, lamb, var, id, log, H)\u001b[0m\n\u001b[1;32m     33\u001b[0m \u001b[38;5;28;01mwhile\u001b[39;00m(T\u001b[38;5;241m>\u001b[39mT_limit):\n\u001b[1;32m     34\u001b[0m     \u001b[38;5;66;03m# infos['T'].append(T)\u001b[39;00m\n\u001b[1;32m     35\u001b[0m     sol \u001b[38;5;241m=\u001b[39m rand_neighbor(solution)\n\u001b[0;32m---> 36\u001b[0m     eval_sol, info \u001b[38;5;241m=\u001b[39m \u001b[43meval_annealing\u001b[49m\u001b[43m(\u001b[49m\u001b[43msol\u001b[49m\u001b[43m,\u001b[49m\u001b[43m \u001b[49m\u001b[43mgame\u001b[49m\u001b[43m)\u001b[49m\n\u001b[1;32m     37\u001b[0m     \u001b[38;5;66;03m# infos['history'].append(info)\u001b[39;00m\n\u001b[1;32m     39\u001b[0m     \u001b[38;5;28;01mif\u001b[39;00m m\u001b[38;5;241m%\u001b[39m\u001b[38;5;241m20\u001b[39m \u001b[38;5;241m==\u001b[39m \u001b[38;5;241m0\u001b[39m \u001b[38;5;129;01mand\u001b[39;00m log:\n",
      "File \u001b[0;32m~/PhD/TransportersDilemma/SA_baseline.py:128\u001b[0m, in \u001b[0;36meval_annealing\u001b[0;34m(sol, game, malus)\u001b[0m\n\u001b[1;32m    119\u001b[0m \u001b[38;5;28;01mdef\u001b[39;00m \u001b[38;5;21meval_annealing\u001b[39m(sol, game : AssignmentEnv, malus \u001b[38;5;241m=\u001b[39m \u001b[38;5;241m500\u001b[39m):\n\u001b[1;32m    120\u001b[0m \u001b[38;5;250m    \u001b[39m\u001b[38;5;124;03m\"\"\"\u001b[39;00m\n\u001b[1;32m    121\u001b[0m \u001b[38;5;124;03m    This evaluates the solution of the algorithm.\u001b[39;00m\n\u001b[1;32m    122\u001b[0m \u001b[38;5;124;03m    :param sol: the solution which is list of booleans\u001b[39;00m\n\u001b[0;32m   (...)\u001b[0m\n\u001b[1;32m    126\u001b[0m \u001b[38;5;124;03m    :return: the evaluation of the solution that is an integer\u001b[39;00m\n\u001b[1;32m    127\u001b[0m \u001b[38;5;124;03m    \"\"\"\u001b[39;00m\n\u001b[0;32m--> 128\u001b[0m     _, r, d, _, info \u001b[38;5;241m=\u001b[39m \u001b[43mgame\u001b[49m\u001b[38;5;241;43m.\u001b[39;49m\u001b[43mstep\u001b[49m\u001b[43m(\u001b[49m\u001b[43msol\u001b[49m\u001b[43m)\u001b[49m\n\u001b[1;32m    129\u001b[0m     info[\u001b[38;5;124m'\u001b[39m\u001b[38;5;124mdone\u001b[39m\u001b[38;5;124m'\u001b[39m] \u001b[38;5;241m=\u001b[39m d\n\u001b[1;32m    130\u001b[0m     \u001b[38;5;66;03m# with open('log.txt', 'w+') as f:\u001b[39;00m\n\u001b[1;32m    131\u001b[0m     \u001b[38;5;66;03m#     f.write(str(info))\u001b[39;00m\n",
      "File \u001b[0;32m~/PhD/TransportersDilemma/assignment.py:919\u001b[0m, in \u001b[0;36mAssignmentEnv.step\u001b[0;34m(self, action)\u001b[0m\n\u001b[1;32m    912\u001b[0m     \u001b[38;5;28mself\u001b[39m\u001b[38;5;241m.\u001b[39mobservation[:routes\u001b[38;5;241m.\u001b[39msize] \u001b[38;5;241m=\u001b[39m routes\u001b[38;5;241m.\u001b[39mreshape(\u001b[38;5;241m-\u001b[39m\u001b[38;5;241m1\u001b[39m)\n\u001b[1;32m    915\u001b[0m \u001b[38;5;66;03m# if self.obs_mode == 'elimination_gain':\u001b[39;00m\n\u001b[1;32m    916\u001b[0m \u001b[38;5;66;03m#     self.observation[action == 0] = 0.\u001b[39;00m\n\u001b[1;32m    917\u001b[0m     \n\u001b[1;32m    918\u001b[0m \u001b[38;5;66;03m# print(self.observation.shape)\u001b[39;00m\n\u001b[0;32m--> 919\u001b[0m costs \u001b[38;5;241m=\u001b[39m \u001b[38;5;28;43mself\u001b[39;49m\u001b[38;5;241;43m.\u001b[39;49m\u001b[43m_game\u001b[49m\u001b[38;5;241;43m.\u001b[39;49m\u001b[43m_get_costs\u001b[49m\u001b[43m(\u001b[49m\u001b[43mdistance\u001b[49m\u001b[43m,\u001b[49m\u001b[43m \u001b[49m\u001b[43mtime\u001b[49m\u001b[43m)\u001b[49m\n\u001b[1;32m    920\u001b[0m emissions \u001b[38;5;241m=\u001b[39m \u001b[38;5;28mself\u001b[39m\u001b[38;5;241m.\u001b[39m_game\u001b[38;5;241m.\u001b[39m_get_emissions(distance, time)\n\u001b[1;32m    921\u001b[0m total_costs \u001b[38;5;241m=\u001b[39m     np\u001b[38;5;241m.\u001b[39msum(costs)\n",
      "\u001b[0;31mKeyboardInterrupt\u001b[0m: "
     ]
    }
   ],
   "source": [
    "instance = 20\n",
    "env = RemoveActionEnv(game = g, saved_routes = routes, saved_dests=dests, \n",
    "                      obs_mode='elimination_gain', \n",
    "                      action_mode = 'destinations',\n",
    "                        change_instance = True, rewards_mode='normalized_terminal', instance_id = instance)\n",
    "for i in range(instance, 1000):\n",
    "    *_, info = env.reset()\n",
    "    aDP, rDP, infoDP = DP(deepcopy(env), info['excess_emission'])\n",
    "    aSA, rSA, infoSA = SA(deepcopy(env))\n",
    "    \n",
    "    if rSA>rDP:\n",
    "        print(50*'+')\n",
    "        print(i)\n",
    "        print('instance info :')\n",
    "        print(info)\n",
    "        print('routes : \\n', infoDP['rtes'])\n",
    "        print(10*'-')\n",
    "        print('la solution DP : ', aDP +1)\n",
    "        print('reward DP : ', rDP)\n",
    "        print('info DP : ', infoDP)\n",
    "\n",
    "        print('la solution SA : ', aSA +1)\n",
    "        print('reward SA : ', rSA)\n",
    "        print('info DP : ', infoSA)\n",
    "        \n",
    "        print(50*'+')"
   ]
  }
 ],
 "metadata": {
  "kernelspec": {
   "display_name": "Python 3",
   "language": "python",
   "name": "python3"
  },
  "language_info": {
   "codemirror_mode": {
    "name": "ipython",
    "version": 3
   },
   "file_extension": ".py",
   "mimetype": "text/x-python",
   "name": "python",
   "nbconvert_exporter": "python",
   "pygments_lexer": "ipython3",
   "version": "3.10.11"
  }
 },
 "nbformat": 4,
 "nbformat_minor": 2
}
