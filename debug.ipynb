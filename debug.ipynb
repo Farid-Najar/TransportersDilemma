{
 "cells": [
  {
   "cell_type": "code",
   "execution_count": 1,
   "metadata": {},
   "outputs": [
    {
     "name": "stdout",
     "output_type": "stream",
     "text": [
      "pygame 2.5.2 (SDL 2.28.3, Python 3.10.11)\n",
      "Hello from the pygame community. https://www.pygame.org/contribute.html\n"
     ]
    }
   ],
   "source": [
    "import pickle\n",
    "import numpy as np\n",
    "import matplotlib.pyplot as plt\n",
    "from stable_baselines3.common.results_plotter import load_results, ts2xy\n",
    "from stable_baselines3.common import results_plotter\n",
    "import matplotlib.pyplot as plt\n",
    "import numpy as np\n",
    "from copy import deepcopy\n",
    "\n",
    "import sys\n",
    "# direc = os.path.dirname(__file__)\n",
    "# pri&\n",
    "# caution: path[0] is reserved for script path (or '' in REPL)\n",
    "# print(str(path)+'/ppo')\n",
    "sys.path.insert(1, '/Users/faridounet/PhD/TransportersDilemma')\n",
    "from a_star import A_Star\n",
    "from SA_baseline import recuit\n",
    "from greedy_baseline import baseline\n",
    "from assignment import RemoveActionEnv, AssignmentEnv, GameEnv\n",
    "import pickle\n",
    "from shortcut import multi_types\n",
    "import numpy as np\n",
    "import matplotlib.pyplot as plt\n",
    "import collections\n",
    "\n",
    "from shortcut import multi_types\n",
    "from GameLearning import LRI, GameLearning, EXP3\n",
    "from SA_baseline import recuit\n",
    "from a_star import A_Star\n",
    "from greedy_baseline import baseline, greedy\n",
    "\n",
    "np.random.seed(42)"
   ]
  },
  {
   "cell_type": "code",
   "execution_count": 2,
   "metadata": {},
   "outputs": [],
   "source": [
    "K = 100\n",
    "with open(f'RL/game_K{K}.pkl', 'rb') as f:\n",
    "    g = pickle.load(f)\n",
    "routes = np.load(f'RL/routes_K{K}.npy')\n",
    "dests = np.load(f'RL/destinations_K{K}.npy')\n",
    "\n",
    "with open(f'res_compare_EG_A*_SA_K{K}_n100.pkl', 'rb') as f:\n",
    "    data = pickle.load(f)\n",
    "    \n",
    "if K == 100:\n",
    "    g.Q = 40"
   ]
  },
  {
   "cell_type": "code",
   "execution_count": 3,
   "metadata": {},
   "outputs": [
    {
     "name": "stdout",
     "output_type": "stream",
     "text": [
      "res_A\n",
      "10\n",
      "[ 0  7  8 15 16 17 21 23 24 30 31 39 49 53 62 63 82 89 92 93]\n"
     ]
    }
   ],
   "source": [
    "# On recalcule les rewards\n",
    "rewards = []\n",
    "for k in data.keys():\n",
    "    rs = np.zeros(len(data[k]))\n",
    "    for i in data[k].keys():\n",
    "        sol = data[k][i]['sol']\n",
    "        env = RemoveActionEnv(game = g, saved_routes = routes, saved_dests=dests, \n",
    "                      obs_mode='elimination_gain', \n",
    "                      action_mode = 'destinations',\n",
    "                        change_instance = True, rewards_mode='normalized_terminal', instance_id = int(i))\n",
    "        env.reset()\n",
    "        _, r, *_ = env.step(sol)\n",
    "        if r == 0:\n",
    "            print(k)\n",
    "            print(i)\n",
    "            print(sol)\n",
    "        rs[i] = r\n",
    "    rewards.append(rs)"
   ]
  },
  {
   "cell_type": "code",
   "execution_count": 4,
   "metadata": {},
   "outputs": [
    {
     "data": {
      "image/png": "[encoded data removed]",
      "text/plain": [
       "<Figure size 640x480 with 1 Axes>"
      ]
     },
     "metadata": {},
     "output_type": "display_data"
    }
   ],
   "source": [
    "# affichage\n",
    "rr = []\n",
    "for rs in rewards:\n",
    "    rr.append(rs/(rewards[0]))\n",
    "    \n",
    "plt.boxplot(\n",
    "        rr,\n",
    "        patch_artist=True,\n",
    "        )\n",
    "plt.show()"
   ]
  },
  {
   "cell_type": "code",
   "execution_count": 6,
   "metadata": {},
   "outputs": [
    {
     "name": "stdout",
     "output_type": "stream",
     "text": [
      "(array([19, 21, 42, 50, 53, 56, 59, 77, 81]),)\n",
      "(array([19, 50, 59, 66, 77, 80, 81, 88, 89]),)\n",
      "(array([19, 50, 59, 66, 77, 80, 81, 88, 89]),)\n"
     ]
    }
   ],
   "source": [
    "# On regarde ou la DP sous-performe\n",
    "print(np.where(rr[1]>1))\n",
    "print(np.where(rr[2]>1))\n",
    "print(np.where(rr[3]>1))"
   ]
  },
  {
   "cell_type": "code",
   "execution_count": 10,
   "metadata": {},
   "outputs": [],
   "source": [
    "# On cible une instance\n",
    "instance = 19"
   ]
  },
  {
   "cell_type": "code",
   "execution_count": 12,
   "metadata": {},
   "outputs": [
    {
     "name": "stdout",
     "output_type": "stream",
     "text": [
      "trouve assez de packets avec le camion : 9 17.0\n",
      "trouve assez de packets avec le camion : 2 7.0\n",
      "trouve assez de packets avec le camion : 3 7.0\n",
      "max ommited: [25  9  2  3]\n",
      "solution de taille 3 [0 0 1 2] valeur 8.0\n",
      "la solution calculee à nouveau :  [36 67 59]\n",
      "reward obtenue par la solution calculee à nouveau :  0.9265573770491803\n",
      "la solution calculee dans la sim :  [36 67 59]\n",
      "reward obtenue par la solution calculee dans la sim :  0.9265573770491803\n"
     ]
    }
   ],
   "source": [
    "# On reessaye la DP\n",
    "env = RemoveActionEnv(game = g, saved_routes = routes, saved_dests=dests, \n",
    "                      obs_mode='elimination_gain', \n",
    "                      action_mode = 'destinations',\n",
    "                        change_instance = False, rewards_mode='normalized_terminal', instance_id = instance)\n",
    "_, info = env.reset()\n",
    "excess = info['excess_emission']\n",
    "\n",
    "rtes = np.array([\n",
    "    [\n",
    "        env._env.initial_routes[m, i] \n",
    "        for i in range(0, len(env._env.initial_routes[m]), 2)\n",
    "    ]\n",
    "    for m in range(len(env._env.initial_routes))\n",
    "], dtype=int)\n",
    "\n",
    "\n",
    "# print(env._env.distance_matrix)\n",
    "# print(CM)\n",
    "coeff = env._env._game.emissions_KM\n",
    "# CM = np.array([\n",
    "#     env._env.distance_matrix*coeff[i]\n",
    "#     for i in range(len(coeff))\n",
    "# ]).copy()\n",
    "a = multi_types(env._env.distance_matrix, rtes, coeff, excess)\n",
    "\n",
    "\n",
    "_, r, *_ = env.step(a)\n",
    "print('la solution calculee à nouveau : ', a)\n",
    "print('reward obtenue par la solution calculee à nouveau : ', r)\n",
    "\n",
    "print('la solution calculee dans la sim : ', data['res_DP'][instance]['sol'])\n",
    "print('reward obtenue par la solution calculee dans la sim : ', rewards[0][instance])\n"
   ]
  },
  {
   "cell_type": "code",
   "execution_count": 14,
   "metadata": {},
   "outputs": [
    {
     "name": "stdout",
     "output_type": "stream",
     "text": [
      "m = 85168\n",
      "388.0\n",
      "la solution calculee à nouveau :  [36 83]\n",
      "reward obtenue par la solution calculee à nouveau :  0.9363934426229508\n",
      "la solution calculee dans la sim :  [74 83]\n",
      "reward obtenue par la solution calculee dans la sim :  0.9362295081967213\n"
     ]
    }
   ],
   "source": [
    "env = RemoveActionEnv(game = g, saved_routes = routes, saved_dests=dests, \n",
    "                    obs_mode='elimination_gain', \n",
    "                    action_mode = 'destinations',\n",
    "                    change_instance = False, rewards_mode='normalized_terminal', instance_id = instance\n",
    ")\n",
    "_, info = env.reset()\n",
    "excess = info['excess_emission']\n",
    "T_init = 5_000\n",
    "T_limit = 1\n",
    "lamb = 0.9999\n",
    "T = 100_000\n",
    "\n",
    "action_SA, *_ = recuit(deepcopy(env._env), T_init, T_limit, lamb, H=T)\n",
    "        # res = recuit_multiple(game, T_init = T_init, T_limit = T_limit, lamb = lamb, log=log, H=T)\n",
    "a = np.where(action_SA == 0)[0]\n",
    "\n",
    "# CM = np.array([\n",
    "#     env._env.distance_matrix*coeff[i]\n",
    "#     for i in range(len(coeff))\n",
    "# ]).copy()\n",
    "\n",
    "# env = RemoveActionEnv(game = g, saved_routes = routes, saved_dests=dests, \n",
    "#                       obs_mode='elimination_gain', \n",
    "#                       action_mode = 'destinations',\n",
    "#                         change_instance = True, rewards_mode='normalized_terminal', instance_id = 89)\n",
    "\n",
    "env.reset()\n",
    "_, r, *_, info = env.step(a)\n",
    "print('la solution calculee à nouveau : ', a)\n",
    "print('reward obtenue par la solution calculee à nouveau : ', r)\n",
    "\n",
    "print('la solution calculee dans la sim : ', data['res_SA'][instance]['sol'])\n",
    "print('reward obtenue par la solution calculee dans la sim : ', rewards[1][instance])"
   ]
  }
 ],
 "metadata": {
  "kernelspec": {
   "display_name": "Python 3",
   "language": "python",
   "name": "python3"
  },
  "language_info": {
   "codemirror_mode": {
    "name": "ipython",
    "version": 3
   },
   "file_extension": ".py",
   "mimetype": "text/x-python",
   "name": "python",
   "nbconvert_exporter": "python",
   "pygments_lexer": "ipython3",
   "version": "3.10.11"
  }
 },
 "nbformat": 4,
 "nbformat_minor": 2
}
