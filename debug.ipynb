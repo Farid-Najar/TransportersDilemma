{
 "cells": [
  {
   "cell_type": "code",
   "execution_count": 1,
   "metadata": {},
   "outputs": [
    {
     "name": "stdout",
     "output_type": "stream",
     "text": [
      "pygame 2.5.2 (SDL 2.28.3, Python 3.10.11)\n",
      "Hello from the pygame community. https://www.pygame.org/contribute.html\n"
     ]
    }
   ],
   "source": [
    "import pickle\n",
    "import numpy as np\n",
    "import matplotlib.pyplot as plt\n",
    "from stable_baselines3.common.results_plotter import load_results, ts2xy\n",
    "from stable_baselines3.common import results_plotter\n",
    "import matplotlib.pyplot as plt\n",
    "import numpy as np\n",
    "from copy import deepcopy\n",
    "\n",
    "import sys\n",
    "# direc = os.path.dirname(__file__)\n",
    "# pri&\n",
    "# caution: path[0] is reserved for script path (or '' in REPL)\n",
    "# print(str(path)+'/ppo')\n",
    "sys.path.insert(1, '/Users/faridounet/PhD/TransportersDilemma')\n",
    "from a_star import A_Star\n",
    "from SA_baseline import recuit\n",
    "from greedy_baseline import baseline\n",
    "from assignment import RemoveActionEnv, AssignmentEnv, GameEnv\n",
    "import pickle\n",
    "from shortcut import multi_types\n",
    "import numpy as np\n",
    "import matplotlib.pyplot as plt\n",
    "import collections\n",
    "\n",
    "from shortcut import multi_types\n",
    "from GameLearning import LRI, GameLearning, EXP3\n",
    "from SA_baseline import recuit\n",
    "from a_star import A_Star\n",
    "from greedy_baseline import baseline, greedy\n",
    "\n",
    "np.random.seed(42)"
   ]
  },
  {
   "cell_type": "code",
   "execution_count": 2,
   "metadata": {},
   "outputs": [],
   "source": [
    "def DP(env : RemoveActionEnv, excess, log = False):\n",
    "    \n",
    "    rtes = np.array([\n",
    "        [\n",
    "            env._env.initial_routes[m, i] \n",
    "            for i in range(0, len(env._env.initial_routes[m]), 2)\n",
    "        ]\n",
    "        for m in range(len(env._env.initial_routes))\n",
    "    ], dtype=int)\n",
    "\n",
    "\n",
    "    # print(env._env.distance_matrix)\n",
    "    # print(CM)\n",
    "    coeff = env._env._game.emissions_KM\n",
    "    # CM = np.array([\n",
    "    #     env._env.distance_matrix*coeff[i]\n",
    "    #     for i in range(len(coeff))\n",
    "    # ]).copy()\n",
    "    a = multi_types(env._env.distance_matrix, rtes, coeff, excess)\n",
    "\n",
    "\n",
    "    _, r, *_, info = env.step(a)\n",
    "    \n",
    "    if log:\n",
    "        print(env.destinations)\n",
    "        print(env._env.distance_matrix)\n",
    "    info['rtes'] = rtes\n",
    "    return a, r, info\n",
    "\n",
    "def SA(env, log = False):\n",
    "    \n",
    "    if log:\n",
    "        print(env.destinations)\n",
    "        print(env._env.distance_matrix)\n",
    "    T_init = 5_000\n",
    "    T_limit = 1\n",
    "    lamb = 0.9999\n",
    "    T = 100_000\n",
    "\n",
    "    action_SA, *_ = recuit(deepcopy(env._env), T_init, T_limit, lamb, H=T)\n",
    "            # res = recuit_multiple(game, T_init = T_init, T_limit = T_limit, lamb = lamb, log=log, H=T)\n",
    "    a = np.where(action_SA == 0)[0]\n",
    "\n",
    "    # CM = np.array([\n",
    "    #     env._env.distance_matrix*coeff[i]\n",
    "    #     for i in range(len(coeff))\n",
    "    # ]).copy()\n",
    "\n",
    "    # env = RemoveActionEnv(game = g, saved_routes = routes, saved_dests=dests, \n",
    "    #                       obs_mode='elimination_gain', \n",
    "    #                       action_mode = 'destinations',\n",
    "    #                         change_instance = True, rewards_mode='normalized_terminal', instance_id = 89)\n",
    "\n",
    "    _, r, *_, info = env.step(a)\n",
    "    info['initial routes'] = env._env.initial_routes\n",
    "    if log:\n",
    "        print(env.destinations)\n",
    "        print(env._env.distance_matrix)\n",
    "    \n",
    "    return a, r, info"
   ]
  },
  {
   "cell_type": "code",
   "execution_count": 3,
   "metadata": {},
   "outputs": [],
   "source": [
    "K = 250\n",
    "with open(f'RL/game_K{K}.pkl', 'rb') as f:\n",
    "    g = pickle.load(f)\n",
    "routes = np.load(f'RL/routes_K{K}.npy')\n",
    "dests = np.load(f'RL/destinations_K{K}.npy')\n",
    "\n",
    "with open(f'res_compare_EG_A*_SA_K{K}_n100.pkl', 'rb') as f:\n",
    "    data = pickle.load(f)\n",
    "    \n",
    "if K == 100:\n",
    "    g.Q = 40\n",
    "    \n",
    "if K == 15:\n",
    "    g.Q = 20"
   ]
  },
  {
   "cell_type": "code",
   "execution_count": 4,
   "metadata": {},
   "outputs": [],
   "source": [
    "# On recalcule les rewards\n",
    "rewards = []\n",
    "for k in data.keys():\n",
    "    rs = np.zeros(len(data[k]))\n",
    "    for i in data[k].keys():\n",
    "        sol = data[k][i]['sol']\n",
    "        env = RemoveActionEnv(game = g, saved_routes = routes, saved_dests=dests, \n",
    "                      obs_mode='elimination_gain', \n",
    "                      action_mode = 'destinations',\n",
    "                        change_instance = True, rewards_mode='normalized_terminal', instance_id = int(i))\n",
    "        env.reset()\n",
    "        _, r, *_ = env.step(sol)\n",
    "        if r == 0:\n",
    "            print(k)\n",
    "            print(i)\n",
    "            print(sol)\n",
    "        rs[i] = r\n",
    "    rewards.append(rs)"
   ]
  },
  {
   "cell_type": "code",
   "execution_count": 9,
   "metadata": {},
   "outputs": [
    {
     "data": {
      "image/png": "[encoded data removed]",
      "text/plain": [
       "<Figure size 640x480 with 1 Axes>"
      ]
     },
     "metadata": {},
     "output_type": "display_data"
    }
   ],
   "source": [
    "# affichage\n",
    "rr = []\n",
    "for rs in rewards:\n",
    "    rr.append((rewards[0])/rs)\n",
    "    \n",
    "plt.boxplot(\n",
    "        rr,\n",
    "        patch_artist=True,\n",
    "        )\n",
    "plt.show()"
   ]
  },
  {
   "cell_type": "code",
   "execution_count": 12,
   "metadata": {},
   "outputs": [
    {
     "name": "stdout",
     "output_type": "stream",
     "text": [
      "[0.         0.01702381 0.00014617 0.00014617]\n"
     ]
    }
   ],
   "source": [
    "print((np.mean(rr, axis=1) - 1)*100)"
   ]
  },
  {
   "cell_type": "code",
   "execution_count": 6,
   "metadata": {},
   "outputs": [
    {
     "name": "stdout",
     "output_type": "stream",
     "text": [
      "(array([], dtype=int64),)\n",
      "(array([], dtype=int64),)\n",
      "(array([], dtype=int64),)\n"
     ]
    }
   ],
   "source": [
    "# On regarde ou la DP sous-performe\n",
    "print(np.where(rr[1]>1))\n",
    "print(np.where(rr[2]>1))\n",
    "print(np.where(rr[3]>1))"
   ]
  },
  {
   "cell_type": "code",
   "execution_count": 4,
   "metadata": {},
   "outputs": [],
   "source": [
    "# On cible une instance\n",
    "instance = 10"
   ]
  },
  {
   "cell_type": "code",
   "execution_count": 5,
   "metadata": {},
   "outputs": [
    {
     "name": "stdout",
     "output_type": "stream",
     "text": [
      "instance info :\n",
      "{'solution_found': False, 'costs': 145.0, 'time_per_vehicle': array([0., 0., 0., 0.]), 'distance_per_vehicle': array([40., 34., 41., 30.]), 'excess_emission': -0.3000000000000007, 'omitted': array([43, 44, 45])}\n",
      "la solution calculee à nouveau :  [45 43 44]\n",
      "reward obtenue par la solution calculee à nouveau :  0.8521212121212122\n",
      "la solution calculee dans la sim :  [ 1 25 40  9 37  2 23  5 41  8]\n"
     ]
    },
    {
     "ename": "NameError",
     "evalue": "name 'rewards' is not defined",
     "output_type": "error",
     "traceback": [
      "\u001b[0;31m---------------------------------------------------------------------------\u001b[0m",
      "\u001b[0;31mNameError\u001b[0m                                 Traceback (most recent call last)",
      "Cell \u001b[0;32mIn[5], line 37\u001b[0m\n\u001b[1;32m     34\u001b[0m \u001b[38;5;28mprint\u001b[39m(\u001b[38;5;124m'\u001b[39m\u001b[38;5;124mreward obtenue par la solution calculee à nouveau : \u001b[39m\u001b[38;5;124m'\u001b[39m, r)\n\u001b[1;32m     36\u001b[0m \u001b[38;5;28mprint\u001b[39m(\u001b[38;5;124m'\u001b[39m\u001b[38;5;124mla solution calculee dans la sim : \u001b[39m\u001b[38;5;124m'\u001b[39m, data[\u001b[38;5;124m'\u001b[39m\u001b[38;5;124mres_DP\u001b[39m\u001b[38;5;124m'\u001b[39m][instance][\u001b[38;5;124m'\u001b[39m\u001b[38;5;124msol\u001b[39m\u001b[38;5;124m'\u001b[39m] \u001b[38;5;241m+\u001b[39m \u001b[38;5;241m1\u001b[39m)\n\u001b[0;32m---> 37\u001b[0m \u001b[38;5;28mprint\u001b[39m(\u001b[38;5;124m'\u001b[39m\u001b[38;5;124mreward obtenue par la solution calculee dans la sim : \u001b[39m\u001b[38;5;124m'\u001b[39m, \u001b[43mrewards\u001b[49m[\u001b[38;5;241m0\u001b[39m][instance])\n",
      "\u001b[0;31mNameError\u001b[0m: name 'rewards' is not defined"
     ]
    }
   ],
   "source": [
    "# On reessaye la DP\n",
    "env = RemoveActionEnv(game = g, saved_routes = routes, saved_dests=dests, \n",
    "                      obs_mode='elimination_gain', \n",
    "                      action_mode = 'destinations',\n",
    "                        change_instance = False, rewards_mode='normalized_terminal', instance_id = instance)\n",
    "_, info = env.reset()\n",
    "excess = info['excess_emission']\n",
    "\n",
    "rtes = np.array([\n",
    "    [\n",
    "        env._env.initial_routes[m, i] \n",
    "        for i in range(0, len(env._env.initial_routes[m]), 2)\n",
    "    ]\n",
    "    for m in range(len(env._env.initial_routes))\n",
    "], dtype=int)\n",
    "\n",
    "\n",
    "# print(env._env.distance_matrix)\n",
    "# print(CM)\n",
    "coeff = env._env._game.emissions_KM\n",
    "# CM = np.array([\n",
    "#     env._env.distance_matrix*coeff[i]\n",
    "#     for i in range(len(coeff))\n",
    "# ]).copy()\n",
    "a = multi_types(env._env.distance_matrix, rtes, coeff, excess)\n",
    "\n",
    "\n",
    "_, r, *_, info = env.step(a)\n",
    "\n",
    "print('instance info :')\n",
    "print(info)\n",
    "\n",
    "print('la solution calculee à nouveau : ', a +1)\n",
    "print('reward obtenue par la solution calculee à nouveau : ', r)\n",
    "\n",
    "print('la solution calculee dans la sim : ', data['res_DP'][instance]['sol'] + 1)\n",
    "print('reward obtenue par la solution calculee dans la sim : ', rewards[0][instance])\n"
   ]
  },
  {
   "cell_type": "code",
   "execution_count": 9,
   "metadata": {},
   "outputs": [
    {
     "name": "stdout",
     "output_type": "stream",
     "text": [
      "[[ 0 34 35 36 37 30 28 27 26 25 29  0  0  0  0  0  0]\n",
      " [ 0 33 20 21 22 14 10  9  5  4  3  2 13  8 19 18  0]\n",
      " [ 0 42 41 47 48 45 49 50 46 44 43 39  0  0  0  0  0]\n",
      " [ 0 38 32 40 31 23 15 11  1  7  6 12 16 17 24  0  0]]\n"
     ]
    }
   ],
   "source": [
    "print(rtes)"
   ]
  },
  {
   "cell_type": "code",
   "execution_count": 10,
   "metadata": {},
   "outputs": [
    {
     "name": "stdout",
     "output_type": "stream",
     "text": [
      "la solution calculee à nouveau :  [40 41 43 44 45 46 47 48 49 50]\n",
      "reward obtenue par la solution calculee à nouveau :  0.7573333333333333\n",
      "la solution calculee dans la sim :  [23 40 43 44 45 46 47 48 49 50]\n",
      "reward obtenue par la solution calculee dans la sim :  0.7573333333333333\n"
     ]
    }
   ],
   "source": [
    "env = RemoveActionEnv(game = g, saved_routes = routes, saved_dests=dests, \n",
    "                    obs_mode='elimination_gain', \n",
    "                    action_mode = 'destinations',\n",
    "                    change_instance = False, rewards_mode='normalized_terminal', instance_id = instance\n",
    ")\n",
    "_, info = env.reset()\n",
    "excess = info['excess_emission']\n",
    "T_init = 5_000\n",
    "T_limit = 1\n",
    "lamb = 0.9999\n",
    "T = 100_000\n",
    "\n",
    "action_SA, *_ = recuit(deepcopy(env._env), T_init, T_limit, lamb, H=T)\n",
    "        # res = recuit_multiple(game, T_init = T_init, T_limit = T_limit, lamb = lamb, log=log, H=T)\n",
    "a = np.where(action_SA == 0)[0]\n",
    "\n",
    "# CM = np.array([\n",
    "#     env._env.distance_matrix*coeff[i]\n",
    "#     for i in range(len(coeff))\n",
    "# ]).copy()\n",
    "\n",
    "# env = RemoveActionEnv(game = g, saved_routes = routes, saved_dests=dests, \n",
    "#                       obs_mode='elimination_gain', \n",
    "#                       action_mode = 'destinations',\n",
    "#                         change_instance = True, rewards_mode='normalized_terminal', instance_id = 89)\n",
    "\n",
    "env.reset()\n",
    "_, r, *_, info = env.step(a)\n",
    "print('la solution calculee à nouveau : ', a + 1)\n",
    "print('reward obtenue par la solution calculee à nouveau : ', r)\n",
    "\n",
    "print('la solution calculee dans la sim : ', data['res_SA'][instance]['sol'] +1)\n",
    "print('reward obtenue par la solution calculee dans la sim : ', rewards[1][instance])"
   ]
  },
  {
   "cell_type": "code",
   "execution_count": 9,
   "metadata": {},
   "outputs": [
    {
     "data": {
      "text/plain": [
       "(array([2.50000000e-01, 2.50000000e-01, 2.50000000e-01, 8.33888704e-02,\n",
       "        2.50000000e-01, 2.50000000e-01, 8.33055648e-05, 0.00000000e+00,\n",
       "        5.00000000e-01, 5.00000000e-01, 0.00000000e+00, 2.50000000e-01,\n",
       "        0.00000000e+00, 0.00000000e+00, 8.33888704e-02, 8.33055648e-05,\n",
       "        2.50000000e-01, 0.00000000e+00, 8.33888704e-02, 2.50000000e-01,\n",
       "        0.00000000e+00, 0.00000000e+00, 0.00000000e+00, 2.50000000e-01,\n",
       "        1.00000000e+00, 0.00000000e+00, 0.00000000e+00, 2.50000000e-01,\n",
       "        8.33055648e-05, 8.33055648e-05, 0.00000000e+00, 2.50000000e-01,\n",
       "        0.00000000e+00, 2.49916694e-04, 2.50000000e-01, 8.33055648e-05,\n",
       "        2.50000000e-01, 0.00000000e+00, 8.33888704e-02, 8.33888704e-02,\n",
       "        8.33055648e-05, 0.00000000e+00, 0.00000000e+00, 0.00000000e+00,\n",
       "        0.00000000e+00, 2.50000000e-01, 0.00000000e+00, 0.00000000e+00,\n",
       "        8.33888704e-02, 3.33555482e-01, 0.00000000e+00, 2.50000000e-01,\n",
       "        2.50000000e-01, 0.00000000e+00, 8.33888704e-02, 2.50000000e-01,\n",
       "        0.00000000e+00, 1.66777741e-01, 0.00000000e+00, 8.33055648e-05,\n",
       "        0.00000000e+00, 2.50000000e-01, 8.33055648e-05, 0.00000000e+00,\n",
       "        0.00000000e+00, 8.33888704e-02, 0.00000000e+00, 0.00000000e+00,\n",
       "        8.33055648e-05, 0.00000000e+00, 0.00000000e+00, 0.00000000e+00,\n",
       "        2.50000000e-01, 0.00000000e+00, 0.00000000e+00, 2.50000000e-01,\n",
       "        0.00000000e+00, 5.00000000e-01, 0.00000000e+00, 8.33888704e-02,\n",
       "        8.33055648e-05, 0.00000000e+00, 0.00000000e+00, 2.50000000e-01,\n",
       "        0.00000000e+00, 2.50000000e-01, 0.00000000e+00, 0.00000000e+00,\n",
       "        0.00000000e+00, 0.00000000e+00, 2.50000000e-01, 0.00000000e+00,\n",
       "        0.00000000e+00, 0.00000000e+00, 0.00000000e+00, 0.00000000e+00,\n",
       "        0.00000000e+00, 0.00000000e+00, 0.00000000e+00, 0.00000000e+00]),\n",
       " {'solution_found': True,\n",
       "  'costs': 195.0,\n",
       "  'time_per_vehicle': <function time.time>,\n",
       "  'distance_per_vehicle': array([44., 46., 60., 45.]),\n",
       "  'excess_emission': -3.8999999999999986,\n",
       "  'omitted': array([], dtype=int64)})"
      ]
     },
     "execution_count": 9,
     "metadata": {},
     "output_type": "execute_result"
    }
   ],
   "source": [
    "from assignment import AssignmentGame\n",
    "\n",
    "K = 100\n",
    "with open(f'RL/game_K{K}.pkl', 'rb') as f:\n",
    "    g = pickle.load(f)\n",
    "routes = np.load(f'RL/routes_K{K}.npy')\n",
    "dests = np.load(f'RL/destinations_K{K}.npy')\n",
    "\n",
    "\n",
    "# g = AssignmentGame(\n",
    "#             grid_size=12,\n",
    "#             max_capacity=1,\n",
    "#             Q = 7,\n",
    "#             K=2,\n",
    "#             emissions_KM = [.1, .3],\n",
    "#             costs_KM = [1, 1],\n",
    "#             seed=42\n",
    "#         )\n",
    "\n",
    "env = RemoveActionEnv(game = g, saved_routes = routes, saved_dests=dests, \n",
    "                      obs_mode='elimination_gain', \n",
    "                      action_mode = 'destinations',\n",
    "                        change_instance = True, rewards_mode='normalized_terminal', instance_id = 0)\n",
    "# env = RemoveActionEnv(game = g)\n",
    "env.reset()"
   ]
  },
  {
   "cell_type": "code",
   "execution_count": 10,
   "metadata": {},
   "outputs": [
    {
     "data": {
      "text/plain": [
       "(array([2.50000000e-01, 2.50000000e-01, 2.50000000e-01, 8.33888704e-02,\n",
       "        2.50000000e-01, 2.50000000e-01, 8.33055648e-05, 0.00000000e+00,\n",
       "        5.00000000e-01, 5.00000000e-01, 0.00000000e+00, 2.50000000e-01,\n",
       "        0.00000000e+00, 0.00000000e+00, 8.33888704e-02, 8.33055648e-05,\n",
       "        2.50000000e-01, 0.00000000e+00, 8.33888704e-02, 2.50000000e-01,\n",
       "        0.00000000e+00, 0.00000000e+00, 0.00000000e+00, 2.50000000e-01,\n",
       "        1.00000000e+00, 0.00000000e+00, 0.00000000e+00, 2.50000000e-01,\n",
       "        8.33055648e-05, 8.33055648e-05, 0.00000000e+00, 2.50000000e-01,\n",
       "        0.00000000e+00, 2.49916694e-04, 2.50000000e-01, 8.33055648e-05,\n",
       "        2.50000000e-01, 0.00000000e+00, 8.33888704e-02, 8.33888704e-02,\n",
       "        8.33055648e-05, 0.00000000e+00, 0.00000000e+00, 0.00000000e+00,\n",
       "        0.00000000e+00, 2.50000000e-01, 0.00000000e+00, 0.00000000e+00,\n",
       "        8.33888704e-02, 3.33555482e-01, 0.00000000e+00, 2.50000000e-01,\n",
       "        2.50000000e-01, 0.00000000e+00, 8.33888704e-02, 2.50000000e-01,\n",
       "        0.00000000e+00, 1.66777741e-01, 0.00000000e+00, 8.33055648e-05,\n",
       "        0.00000000e+00, 2.50000000e-01, 8.33055648e-05, 0.00000000e+00,\n",
       "        0.00000000e+00, 8.33888704e-02, 0.00000000e+00, 0.00000000e+00,\n",
       "        8.33055648e-05, 0.00000000e+00, 0.00000000e+00, 0.00000000e+00,\n",
       "        2.50000000e-01, 0.00000000e+00, 0.00000000e+00, 2.50000000e-01,\n",
       "        0.00000000e+00, 5.00000000e-01, 0.00000000e+00, 8.33888704e-02,\n",
       "        8.33055648e-05, 0.00000000e+00, 0.00000000e+00, 2.50000000e-01,\n",
       "        0.00000000e+00, 2.50000000e-01, 0.00000000e+00, 0.00000000e+00,\n",
       "        0.00000000e+00, 0.00000000e+00, 2.50000000e-01, 0.00000000e+00,\n",
       "        0.00000000e+00, 0.00000000e+00, 0.00000000e+00, 0.00000000e+00,\n",
       "        0.00000000e+00, 0.00000000e+00, 0.00000000e+00, 0.00000000e+00]),\n",
       " 0.9442857142857143,\n",
       " True,\n",
       " True,\n",
       " {'solution_found': False,\n",
       "  'costs': 195.0,\n",
       "  'time_per_vehicle': array([0., 0., 0., 0.]),\n",
       "  'distance_per_vehicle': array([44., 46., 60., 45.]),\n",
       "  'excess_emission': -3.8999999999999986,\n",
       "  'omitted': array([], dtype=int64)})"
      ]
     },
     "execution_count": 10,
     "metadata": {},
     "output_type": "execute_result"
    }
   ],
   "source": [
    "env.step([])"
   ]
  },
  {
   "cell_type": "code",
   "execution_count": 11,
   "metadata": {},
   "outputs": [
    {
     "name": "stdout",
     "output_type": "stream",
     "text": [
      "1000\n"
     ]
    }
   ],
   "source": [
    "print(len(dests))"
   ]
  },
  {
   "cell_type": "code",
   "execution_count": 12,
   "metadata": {},
   "outputs": [
    {
     "name": "stdout",
     "output_type": "stream",
     "text": [
      "[]\n"
     ]
    }
   ],
   "source": [
    "delete = [l for l in range(len(dests)) if not dests[l].any()]\n",
    "print(delete)"
   ]
  },
  {
   "cell_type": "code",
   "execution_count": 37,
   "metadata": {},
   "outputs": [
    {
     "name": "stdout",
     "output_type": "stream",
     "text": [
      "[29, 34, 40]\n"
     ]
    }
   ],
   "source": [
    "delete = [l for l in range(len(dests)) if len(dests[l]) != len(set(dests[l]))]\n",
    "print(delete)"
   ]
  },
  {
   "cell_type": "code",
   "execution_count": 36,
   "metadata": {},
   "outputs": [
    {
     "name": "stdout",
     "output_type": "stream",
     "text": [
      "[  0.   3.   6.  17.  19.  20.  21.  27.  28.  30.  32.  35.  45.  47.\n",
      "  49.  55.  57.  58.  61.  62.  63.  64.  65.  71.  76.  81.  85.  86.\n",
      "  89.  94.  97.  99. 105. 108. 109. 115. 117. 118. 119. 122. 125. 129.\n",
      " 130. 131. 132. 134. 136. 140. 142. 143.]\n"
     ]
    }
   ],
   "source": [
    "print(dests[951])"
   ]
  },
  {
   "cell_type": "code",
   "execution_count": 32,
   "metadata": {},
   "outputs": [],
   "source": [
    "dez = np.delete(dests, delete, 0)"
   ]
  },
  {
   "cell_type": "code",
   "execution_count": 33,
   "metadata": {},
   "outputs": [
    {
     "data": {
      "text/plain": [
       "[]"
      ]
     },
     "execution_count": 33,
     "metadata": {},
     "output_type": "execute_result"
    }
   ],
   "source": [
    "[l for l in range(len(dez)) if not dez[l].any()]"
   ]
  },
  {
   "cell_type": "code",
   "execution_count": 10,
   "metadata": {},
   "outputs": [
    {
     "ename": "KeyboardInterrupt",
     "evalue": "",
     "output_type": "error",
     "traceback": [
      "\u001b[0;31m---------------------------------------------------------------------------\u001b[0m",
      "\u001b[0;31mKeyboardInterrupt\u001b[0m                         Traceback (most recent call last)",
      "Cell \u001b[0;32mIn[10], line 9\u001b[0m\n\u001b[1;32m      7\u001b[0m \u001b[38;5;241m*\u001b[39m_, info \u001b[38;5;241m=\u001b[39m env\u001b[38;5;241m.\u001b[39mreset()\n\u001b[1;32m      8\u001b[0m aDP, rDP, infoDP \u001b[38;5;241m=\u001b[39m DP(deepcopy(env), info[\u001b[38;5;124m'\u001b[39m\u001b[38;5;124mexcess_emission\u001b[39m\u001b[38;5;124m'\u001b[39m])\n\u001b[0;32m----> 9\u001b[0m aSA, rSA, infoSA \u001b[38;5;241m=\u001b[39m \u001b[43mSA\u001b[49m\u001b[43m(\u001b[49m\u001b[43mdeepcopy\u001b[49m\u001b[43m(\u001b[49m\u001b[43menv\u001b[49m\u001b[43m)\u001b[49m\u001b[43m)\u001b[49m\n\u001b[1;32m     11\u001b[0m \u001b[38;5;28;01mif\u001b[39;00m rSA\u001b[38;5;241m>\u001b[39mrDP:\n\u001b[1;32m     12\u001b[0m     \u001b[38;5;28mprint\u001b[39m(\u001b[38;5;241m50\u001b[39m\u001b[38;5;241m*\u001b[39m\u001b[38;5;124m'\u001b[39m\u001b[38;5;124m+\u001b[39m\u001b[38;5;124m'\u001b[39m)\n",
      "Cell \u001b[0;32mIn[2], line 40\u001b[0m, in \u001b[0;36mSA\u001b[0;34m(env, log)\u001b[0m\n\u001b[1;32m     37\u001b[0m lamb \u001b[38;5;241m=\u001b[39m \u001b[38;5;241m0.9999\u001b[39m\n\u001b[1;32m     38\u001b[0m T \u001b[38;5;241m=\u001b[39m \u001b[38;5;241m100_000\u001b[39m\n\u001b[0;32m---> 40\u001b[0m action_SA, \u001b[38;5;241m*\u001b[39m_ \u001b[38;5;241m=\u001b[39m \u001b[43mrecuit\u001b[49m\u001b[43m(\u001b[49m\u001b[43mdeepcopy\u001b[49m\u001b[43m(\u001b[49m\u001b[43menv\u001b[49m\u001b[38;5;241;43m.\u001b[39;49m\u001b[43m_env\u001b[49m\u001b[43m)\u001b[49m\u001b[43m,\u001b[49m\u001b[43m \u001b[49m\u001b[43mT_init\u001b[49m\u001b[43m,\u001b[49m\u001b[43m \u001b[49m\u001b[43mT_limit\u001b[49m\u001b[43m,\u001b[49m\u001b[43m \u001b[49m\u001b[43mlamb\u001b[49m\u001b[43m,\u001b[49m\u001b[43m \u001b[49m\u001b[43mH\u001b[49m\u001b[38;5;241;43m=\u001b[39;49m\u001b[43mT\u001b[49m\u001b[43m)\u001b[49m\n\u001b[1;32m     41\u001b[0m         \u001b[38;5;66;03m# res = recuit_multiple(game, T_init = T_init, T_limit = T_limit, lamb = lamb, log=log, H=T)\u001b[39;00m\n\u001b[1;32m     42\u001b[0m a \u001b[38;5;241m=\u001b[39m np\u001b[38;5;241m.\u001b[39mwhere(action_SA \u001b[38;5;241m==\u001b[39m \u001b[38;5;241m0\u001b[39m)[\u001b[38;5;241m0\u001b[39m]\n",
      "File \u001b[0;32m~/PhD/TransportersDilemma/SA_baseline.py:36\u001b[0m, in \u001b[0;36mrecuit\u001b[0;34m(game, T_init, T_limit, lamb, var, id, log, H)\u001b[0m\n\u001b[1;32m     33\u001b[0m \u001b[38;5;28;01mwhile\u001b[39;00m(T\u001b[38;5;241m>\u001b[39mT_limit):\n\u001b[1;32m     34\u001b[0m     \u001b[38;5;66;03m# infos['T'].append(T)\u001b[39;00m\n\u001b[1;32m     35\u001b[0m     sol \u001b[38;5;241m=\u001b[39m rand_neighbor(solution)\n\u001b[0;32m---> 36\u001b[0m     eval_sol, info \u001b[38;5;241m=\u001b[39m \u001b[43meval_annealing\u001b[49m\u001b[43m(\u001b[49m\u001b[43msol\u001b[49m\u001b[43m,\u001b[49m\u001b[43m \u001b[49m\u001b[43mgame\u001b[49m\u001b[43m)\u001b[49m\n\u001b[1;32m     37\u001b[0m     \u001b[38;5;66;03m# infos['history'].append(info)\u001b[39;00m\n\u001b[1;32m     39\u001b[0m     \u001b[38;5;28;01mif\u001b[39;00m m\u001b[38;5;241m%\u001b[39m\u001b[38;5;241m20\u001b[39m \u001b[38;5;241m==\u001b[39m \u001b[38;5;241m0\u001b[39m \u001b[38;5;129;01mand\u001b[39;00m log:\n",
      "File \u001b[0;32m~/PhD/TransportersDilemma/SA_baseline.py:128\u001b[0m, in \u001b[0;36meval_annealing\u001b[0;34m(sol, game, malus)\u001b[0m\n\u001b[1;32m    119\u001b[0m \u001b[38;5;28;01mdef\u001b[39;00m \u001b[38;5;21meval_annealing\u001b[39m(sol, game : AssignmentEnv, malus \u001b[38;5;241m=\u001b[39m \u001b[38;5;241m500\u001b[39m):\n\u001b[1;32m    120\u001b[0m \u001b[38;5;250m    \u001b[39m\u001b[38;5;124;03m\"\"\"\u001b[39;00m\n\u001b[1;32m    121\u001b[0m \u001b[38;5;124;03m    This evaluates the solution of the algorithm.\u001b[39;00m\n\u001b[1;32m    122\u001b[0m \u001b[38;5;124;03m    :param sol: the solution which is list of booleans\u001b[39;00m\n\u001b[0;32m   (...)\u001b[0m\n\u001b[1;32m    126\u001b[0m \u001b[38;5;124;03m    :return: the evaluation of the solution that is an integer\u001b[39;00m\n\u001b[1;32m    127\u001b[0m \u001b[38;5;124;03m    \"\"\"\u001b[39;00m\n\u001b[0;32m--> 128\u001b[0m     _, r, d, _, info \u001b[38;5;241m=\u001b[39m \u001b[43mgame\u001b[49m\u001b[38;5;241;43m.\u001b[39;49m\u001b[43mstep\u001b[49m\u001b[43m(\u001b[49m\u001b[43msol\u001b[49m\u001b[43m)\u001b[49m\n\u001b[1;32m    129\u001b[0m     info[\u001b[38;5;124m'\u001b[39m\u001b[38;5;124mdone\u001b[39m\u001b[38;5;124m'\u001b[39m] \u001b[38;5;241m=\u001b[39m d\n\u001b[1;32m    130\u001b[0m     \u001b[38;5;66;03m# with open('log.txt', 'w+') as f:\u001b[39;00m\n\u001b[1;32m    131\u001b[0m     \u001b[38;5;66;03m#     f.write(str(info))\u001b[39;00m\n",
      "File \u001b[0;32m~/PhD/TransportersDilemma/assignment.py:942\u001b[0m, in \u001b[0;36mAssignmentEnv.step\u001b[0;34m(self, action)\u001b[0m\n\u001b[1;32m    937\u001b[0m     r \u001b[38;5;241m=\u001b[39m \u001b[38;5;28mself\u001b[39m\u001b[38;5;241m.\u001b[39mobservation\u001b[38;5;241m.\u001b[39mcopy()\u001b[38;5;241m/\u001b[39mnp\u001b[38;5;241m.\u001b[39mmax(\u001b[38;5;28mself\u001b[39m\u001b[38;5;241m.\u001b[39mobservation) \u001b[38;5;241m+\u001b[39m (info[\u001b[38;5;124m'\u001b[39m\u001b[38;5;124mLCF\u001b[39m\u001b[38;5;124m'\u001b[39m][alpha] \u001b[38;5;241m-\u001b[39m np\u001b[38;5;241m.\u001b[39mmin(info[\u001b[38;5;124m'\u001b[39m\u001b[38;5;124mLCF\u001b[39m\u001b[38;5;124m'\u001b[39m]))\u001b[38;5;241m/\u001b[39m(np\u001b[38;5;241m.\u001b[39mmax(info[\u001b[38;5;124m'\u001b[39m\u001b[38;5;124mLCF\u001b[39m\u001b[38;5;124m'\u001b[39m]) \u001b[38;5;241m-\u001b[39m np\u001b[38;5;241m.\u001b[39mmin(info[\u001b[38;5;124m'\u001b[39m\u001b[38;5;124mLCF\u001b[39m\u001b[38;5;124m'\u001b[39m]))\u001b[38;5;66;03m#np.maximum(0, info['LCF'][alpha] - info['GCF']/self._game.num_packages)\u001b[39;00m\n\u001b[1;32m    939\u001b[0m \u001b[38;5;66;03m#total_costs + max(0, total_emissions - self._game.Q)*self._game.CO2_penalty\u001b[39;00m\n\u001b[1;32m    940\u001b[0m \u001b[38;5;66;03m# + omission_penalty\u001b[39;00m\n\u001b[0;32m--> 942\u001b[0m info[\u001b[38;5;124m'\u001b[39m\u001b[38;5;124msolution_found\u001b[39m\u001b[38;5;124m'\u001b[39m] \u001b[38;5;241m=\u001b[39m \u001b[43mnp\u001b[49m\u001b[38;5;241;43m.\u001b[39;49m\u001b[43many\u001b[49m\u001b[43m(\u001b[49m\u001b[43mtime\u001b[49m\u001b[43m \u001b[49m\u001b[38;5;241;43m!=\u001b[39;49m\u001b[43m \u001b[49m\u001b[38;5;241;43m0\u001b[39;49m\u001b[43m)\u001b[49m\n\u001b[1;32m    943\u001b[0m info[\u001b[38;5;124m'\u001b[39m\u001b[38;5;124mcosts\u001b[39m\u001b[38;5;124m'\u001b[39m] \u001b[38;5;241m=\u001b[39m total_costs\n\u001b[1;32m    944\u001b[0m info[\u001b[38;5;124m'\u001b[39m\u001b[38;5;124mtime_per_vehicle\u001b[39m\u001b[38;5;124m'\u001b[39m] \u001b[38;5;241m=\u001b[39m time\n",
      "File \u001b[0;32m/opt/homebrew/lib/python3.10/site-packages/numpy/core/fromnumeric.py:2412\u001b[0m, in \u001b[0;36many\u001b[0;34m(a, axis, out, keepdims, where)\u001b[0m\n\u001b[1;32m   2322\u001b[0m \u001b[38;5;129m@array_function_dispatch\u001b[39m(_any_dispatcher)\n\u001b[1;32m   2323\u001b[0m \u001b[38;5;28;01mdef\u001b[39;00m \u001b[38;5;21many\u001b[39m(a, axis\u001b[38;5;241m=\u001b[39m\u001b[38;5;28;01mNone\u001b[39;00m, out\u001b[38;5;241m=\u001b[39m\u001b[38;5;28;01mNone\u001b[39;00m, keepdims\u001b[38;5;241m=\u001b[39mnp\u001b[38;5;241m.\u001b[39m_NoValue, \u001b[38;5;241m*\u001b[39m, where\u001b[38;5;241m=\u001b[39mnp\u001b[38;5;241m.\u001b[39m_NoValue):\n\u001b[1;32m   2324\u001b[0m \u001b[38;5;250m    \u001b[39m\u001b[38;5;124;03m\"\"\"\u001b[39;00m\n\u001b[1;32m   2325\u001b[0m \u001b[38;5;124;03m    Test whether any array element along a given axis evaluates to True.\u001b[39;00m\n\u001b[1;32m   2326\u001b[0m \n\u001b[0;32m   (...)\u001b[0m\n\u001b[1;32m   2410\u001b[0m \n\u001b[1;32m   2411\u001b[0m \u001b[38;5;124;03m    \"\"\"\u001b[39;00m\n\u001b[0;32m-> 2412\u001b[0m     \u001b[38;5;28;01mreturn\u001b[39;00m \u001b[43m_wrapreduction\u001b[49m\u001b[43m(\u001b[49m\u001b[43ma\u001b[49m\u001b[43m,\u001b[49m\u001b[43m \u001b[49m\u001b[43mnp\u001b[49m\u001b[38;5;241;43m.\u001b[39;49m\u001b[43mlogical_or\u001b[49m\u001b[43m,\u001b[49m\u001b[43m \u001b[49m\u001b[38;5;124;43m'\u001b[39;49m\u001b[38;5;124;43many\u001b[39;49m\u001b[38;5;124;43m'\u001b[39;49m\u001b[43m,\u001b[49m\u001b[43m \u001b[49m\u001b[43maxis\u001b[49m\u001b[43m,\u001b[49m\u001b[43m \u001b[49m\u001b[38;5;28;43;01mNone\u001b[39;49;00m\u001b[43m,\u001b[49m\u001b[43m \u001b[49m\u001b[43mout\u001b[49m\u001b[43m,\u001b[49m\n\u001b[1;32m   2413\u001b[0m \u001b[43m                          \u001b[49m\u001b[43mkeepdims\u001b[49m\u001b[38;5;241;43m=\u001b[39;49m\u001b[43mkeepdims\u001b[49m\u001b[43m,\u001b[49m\u001b[43m \u001b[49m\u001b[43mwhere\u001b[49m\u001b[38;5;241;43m=\u001b[39;49m\u001b[43mwhere\u001b[49m\u001b[43m)\u001b[49m\n",
      "File \u001b[0;32m/opt/homebrew/lib/python3.10/site-packages/numpy/core/fromnumeric.py:72\u001b[0m, in \u001b[0;36m_wrapreduction\u001b[0;34m(obj, ufunc, method, axis, dtype, out, **kwargs)\u001b[0m\n\u001b[1;32m     71\u001b[0m \u001b[38;5;28;01mdef\u001b[39;00m \u001b[38;5;21m_wrapreduction\u001b[39m(obj, ufunc, method, axis, dtype, out, \u001b[38;5;241m*\u001b[39m\u001b[38;5;241m*\u001b[39mkwargs):\n\u001b[0;32m---> 72\u001b[0m     passkwargs \u001b[38;5;241m=\u001b[39m {k: v \u001b[38;5;28;01mfor\u001b[39;00m k, v \u001b[38;5;129;01min\u001b[39;00m \u001b[43mkwargs\u001b[49m\u001b[38;5;241;43m.\u001b[39;49m\u001b[43mitems\u001b[49m\u001b[43m(\u001b[49m\u001b[43m)\u001b[49m\n\u001b[1;32m     73\u001b[0m                   \u001b[38;5;28;01mif\u001b[39;00m v \u001b[38;5;129;01mis\u001b[39;00m \u001b[38;5;129;01mnot\u001b[39;00m np\u001b[38;5;241m.\u001b[39m_NoValue}\n\u001b[1;32m     75\u001b[0m     \u001b[38;5;28;01mif\u001b[39;00m \u001b[38;5;28mtype\u001b[39m(obj) \u001b[38;5;129;01mis\u001b[39;00m \u001b[38;5;129;01mnot\u001b[39;00m mu\u001b[38;5;241m.\u001b[39mndarray:\n\u001b[1;32m     76\u001b[0m         \u001b[38;5;28;01mtry\u001b[39;00m:\n",
      "\u001b[0;31mKeyboardInterrupt\u001b[0m: "
     ]
    }
   ],
   "source": [
    "instance = 0\n",
    "env = RemoveActionEnv(game = g, saved_routes = routes, saved_dests=dests, \n",
    "                      obs_mode='elimination_gain', \n",
    "                      action_mode = 'destinations',\n",
    "                        change_instance = True, rewards_mode='normalized_terminal', instance_id = instance)\n",
    "for i in range(instance, 1000):\n",
    "    *_, info = env.reset()\n",
    "    aDP, rDP, infoDP = DP(deepcopy(env), info['excess_emission'])\n",
    "    aSA, rSA, infoSA = SA(deepcopy(env))\n",
    "    \n",
    "    if rSA>rDP:\n",
    "        print(50*'+')\n",
    "        print(i)\n",
    "        print('instance info :')\n",
    "        print(info)\n",
    "        print('routes : \\n', infoDP['rtes'])\n",
    "        print(10*'-')\n",
    "        print('la solution DP : ', aDP +1)\n",
    "        print('reward DP : ', rDP)\n",
    "        print('info DP : ', infoDP)\n",
    "\n",
    "        print('la solution SA : ', aSA +1)\n",
    "        print('reward SA : ', rSA)\n",
    "        print('info SA : ', infoSA)\n",
    "        \n",
    "        print(50*'+')"
   ]
  },
  {
   "cell_type": "code",
   "execution_count": null,
   "metadata": {},
   "outputs": [],
   "source": []
  }
 ],
 "metadata": {
  "kernelspec": {
   "display_name": "Python 3",
   "language": "python",
   "name": "python3"
  },
  "language_info": {
   "codemirror_mode": {
    "name": "ipython",
    "version": 3
   },
   "file_extension": ".py",
   "mimetype": "text/x-python",
   "name": "python",
   "nbconvert_exporter": "python",
   "pygments_lexer": "ipython3",
   "version": "3.10.11"
  }
 },
 "nbformat": 4,
 "nbformat_minor": 2
}
