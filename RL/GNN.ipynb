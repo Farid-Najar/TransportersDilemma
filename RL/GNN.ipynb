{
 "cells": [
  {
   "cell_type": "code",
   "execution_count": 1,
   "metadata": {},
   "outputs": [],
   "source": [
    "import sys\n",
    "import os\n",
    "from copy import deepcopy\n",
    "# direc = os.path.dirname(__file__)\n",
    "# pri&\n",
    "# caution: path[0] is reserved for script path (or '' in REPL)\n",
    "# print(str(path)+'/ppo')\n",
    "sys.path.insert(1, '/Users/faridounet/PhD/TransportersDilemma')\n",
    "import numpy as np\n",
    "\n",
    "import seaborn as sns\n",
    "import matplotlib.pyplot as plt \n",
    "\n",
    "from sb3_contrib.ppo_mask import MaskablePPO\n",
    "# from stable_baselines3 import PPO\n",
    "from assignment import NormalizedEnv, RemoveActionEnv, AssignmentGame\n",
    "from a_star import A_Star\n",
    "from SA_baseline import recuit\n",
    "from greedy_baseline import baseline\n",
    "from sb3_contrib.common.maskable.utils import get_action_masks\n",
    "import pickle\n",
    "\n",
    "i_id = 0\n",
    "K = 100\n",
    "with open(f'game_K{K}.pkl', 'rb') as f:\n",
    "    g = pickle.load(f)\n",
    "routes = np.load(f'routes_K{K}.npy')\n",
    "dests = np.load(f'destinations_K{K}.npy')\n",
    "env = RemoveActionEnv(game = g, saved_routes = routes, saved_dests=dests, \n",
    "                    #   obs_mode='action', \n",
    "                    action_mode = 'all_nodes',\n",
    "                      change_instance = False, rewards_mode='normalized_terminal', instance_id = i_id)"
   ]
  },
  {
   "cell_type": "code",
   "execution_count": 4,
   "metadata": {},
   "outputs": [],
   "source": [
    "\n",
    "edge_index = torch.tensor([\n",
    "    list(p) for p in permutations(range(len(g.distance_matrix)), 2)\n",
    "], dtype=torch.long)\n",
    "x = torch.zeros(\n",
    "    len(g.distance_matrix),\n",
    "    dtype=torch.float\n",
    ").reshape((-1, 1))\n",
    "\n",
    "data = Data(x=x, edge_index=edge_index.t().contiguous())"
   ]
  },
  {
   "cell_type": "code",
   "execution_count": 7,
   "metadata": {},
   "outputs": [
    {
     "name": "stdout",
     "output_type": "stream",
     "text": [
      "Data(x=[225, 1], edge_index=[2, 50400])\n"
     ]
    },
    {
     "data": {
      "text/plain": [
       "True"
      ]
     },
     "execution_count": 7,
     "metadata": {},
     "output_type": "execute_result"
    }
   ],
   "source": [
    "print(data)\n",
    "data.validate(raise_on_error=True)"
   ]
  },
  {
   "cell_type": "code",
   "execution_count": 8,
   "metadata": {},
   "outputs": [
    {
     "data": {
      "text/plain": [
       "False"
      ]
     },
     "execution_count": 8,
     "metadata": {},
     "output_type": "execute_result"
    }
   ],
   "source": [
    "data.has_self_loops()"
   ]
  },
  {
   "cell_type": "code",
   "execution_count": 5,
   "metadata": {},
   "outputs": [
    {
     "name": "stdout",
     "output_type": "stream",
     "text": [
      "<itertools.permutations object at 0x127fbeed0>\n",
      "[1, 2]\n",
      "[1, 3]\n",
      "[2, 1]\n",
      "[2, 3]\n",
      "[3, 1]\n",
      "[3, 2]\n"
     ]
    }
   ],
   "source": [
    "perm = permutations([1, 2, 3], 2)\n",
    "print(perm)\n",
    " \n",
    "# Print the obtained permutations \n",
    "for i in list(perm): \n",
    "    print (list(i))"
   ]
  }
 ],
 "metadata": {
  "kernelspec": {
   "display_name": "Python 3.10.11 64-bit",
   "language": "python",
   "name": "python3"
  },
  "language_info": {
   "codemirror_mode": {
    "name": "ipython",
    "version": 3
   },
   "file_extension": ".py",
   "mimetype": "text/x-python",
   "name": "python",
   "nbconvert_exporter": "python",
   "pygments_lexer": "ipython3",
   "version": "3.10.11"
  },
  "orig_nbformat": 4,
  "vscode": {
   "interpreter": {
    "hash": "bd385fe162c5ca0c84973b7dd5c518456272446b2b64e67c2a69f949ca7a1754"
   }
  }
 },
 "nbformat": 4,
 "nbformat_minor": 2
}
