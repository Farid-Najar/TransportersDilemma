{
 "cells": [
  {
   "cell_type": "code",
   "execution_count": 6,
   "metadata": {},
   "outputs": [],
   "source": [
    "from copy import deepcopy\n",
    "l=[1,2,3]"
   ]
  },
  {
   "cell_type": "code",
   "execution_count": 3,
   "metadata": {},
   "outputs": [],
   "source": [
    "from numba import njit\n",
    "\n",
    "@njit\n",
    "def f(x):\n",
    "    d = dict()\n",
    "    d[0] = x\n",
    "    \n",
    "f(5)"
   ]
  },
  {
   "cell_type": "code",
   "execution_count": 5,
   "metadata": {},
   "outputs": [
    {
     "ename": "FileNotFoundError",
     "evalue": "[Errno 2] No such file or directory: 'assignment.py'",
     "output_type": "error",
     "traceback": [
      "\u001b[0;31m---------------------------------------------------------------------------\u001b[0m",
      "\u001b[0;31mFileNotFoundError\u001b[0m                         Traceback (most recent call last)",
      "Cell \u001b[0;32mIn[5], line 3\u001b[0m\n\u001b[1;32m      1\u001b[0m \u001b[39mimport\u001b[39;00m \u001b[39mpy_compile\u001b[39;00m\n\u001b[0;32m----> 3\u001b[0m py_compile\u001b[39m.\u001b[39;49mcompile(\u001b[39m\"\u001b[39;49m\u001b[39massignment.py\u001b[39;49m\u001b[39m\"\u001b[39;49m)\n",
      "File \u001b[0;32m/opt/homebrew/Cellar/python@3.10/3.10.11/Frameworks/Python.framework/Versions/3.10/lib/python3.10/py_compile.py:142\u001b[0m, in \u001b[0;36mcompile\u001b[0;34m(file, cfile, dfile, doraise, optimize, invalidation_mode, quiet)\u001b[0m\n\u001b[1;32m    140\u001b[0m     \u001b[39mraise\u001b[39;00m \u001b[39mFileExistsError\u001b[39;00m(msg\u001b[39m.\u001b[39mformat(cfile))\n\u001b[1;32m    141\u001b[0m loader \u001b[39m=\u001b[39m importlib\u001b[39m.\u001b[39mmachinery\u001b[39m.\u001b[39mSourceFileLoader(\u001b[39m'\u001b[39m\u001b[39m<py_compile>\u001b[39m\u001b[39m'\u001b[39m, file)\n\u001b[0;32m--> 142\u001b[0m source_bytes \u001b[39m=\u001b[39m loader\u001b[39m.\u001b[39;49mget_data(file)\n\u001b[1;32m    143\u001b[0m \u001b[39mtry\u001b[39;00m:\n\u001b[1;32m    144\u001b[0m     code \u001b[39m=\u001b[39m loader\u001b[39m.\u001b[39msource_to_code(source_bytes, dfile \u001b[39mor\u001b[39;00m file,\n\u001b[1;32m    145\u001b[0m                                  _optimize\u001b[39m=\u001b[39moptimize)\n",
      "File \u001b[0;32m<frozen importlib._bootstrap_external>:1073\u001b[0m, in \u001b[0;36mget_data\u001b[0;34m(self, path)\u001b[0m\n",
      "\u001b[0;31mFileNotFoundError\u001b[0m: [Errno 2] No such file or directory: 'assignment.py'"
     ]
    }
   ],
   "source": []
  },
  {
   "cell_type": "code",
   "execution_count": 10,
   "metadata": {},
   "outputs": [
    {
     "name": "stdout",
     "output_type": "stream",
     "text": [
      "None\n",
      "[2, 3]\n",
      "[1, 2, 3]\n"
     ]
    }
   ],
   "source": [
    "ll = deepcopy(l)\n",
    "ll.remove(1)\n",
    "print(deepcopy(l).remove(1))\n",
    "print(ll)\n",
    "print(l)"
   ]
  },
  {
   "cell_type": "code",
   "execution_count": 1,
   "metadata": {},
   "outputs": [],
   "source": [
    "# from transporter_env import TransportEnv, MAT, OneDynamicTransporter\n",
    "import matplotlib.pyplot as plt\n",
    "\n",
    "\n",
    "# env = MAT(max_capacity=10)#size=12, transporters_hubs=(27, 116), horizon=128)\n",
    "# env = OneDynamicTransporter()"
   ]
  },
  {
   "cell_type": "code",
   "execution_count": 1,
   "metadata": {},
   "outputs": [
    {
     "data": {
      "application/vnd.jupyter.widget-view+json": {
       "model_id": "a2626b1ff8644add853f9f3a2378f473",
       "version_major": 2,
       "version_minor": 0
      },
      "text/plain": [
       "Output()"
      ]
     },
     "metadata": {},
     "output_type": "display_data"
    },
    {
     "name": "stdout",
     "output_type": "stream",
     "text": [
      "Using cpu device\n",
      "Wrapping the env with a `Monitor` wrapper\n",
      "Wrapping the env in a DummyVecEnv.\n"
     ]
    },
    {
     "name": "stderr",
     "output_type": "stream",
     "text": [
      "/opt/homebrew/lib/python3.10/site-packages/stable_baselines3/common/callbacks.py:682: TqdmExperimentalWarning: rich is experimental/alpha\n",
      "  self.pbar = tqdm(total=self.locals[\"total_timesteps\"] - self.model.num_timesteps)\n"
     ]
    },
    {
     "data": {
      "text/html": [
       "<pre style=\"white-space:pre;overflow-x:auto;line-height:normal;font-family:Menlo,'DejaVu Sans Mono',consolas,'Courier New',monospace\"></pre>\n"
      ],
      "text/plain": []
     },
     "metadata": {},
     "output_type": "display_data"
    },
    {
     "data": {
      "text/html": [
       "<pre style=\"white-space:pre;overflow-x:auto;line-height:normal;font-family:Menlo,'DejaVu Sans Mono',consolas,'Courier New',monospace\">\n",
       "</pre>\n"
      ],
      "text/plain": [
       "\n"
      ]
     },
     "metadata": {},
     "output_type": "display_data"
    },
    {
     "name": "stdout",
     "output_type": "stream",
     "text": [
      "Wrapping the env with a `Monitor` wrapper\n",
      "Wrapping the env in a DummyVecEnv.\n"
     ]
    }
   ],
   "source": [
    "import gymnasium as gym\n",
    "\n",
    "from stable_baselines3 import PPO\n",
    "from stable_baselines3.common.evaluation import evaluate_policy\n",
    "\n",
    "\n",
    "# Create environment\n",
    "env = gym.make(\"CartPole-v1\", render_mode=\"rgb_array\")\n",
    "\n",
    "# Instantiate the agent\n",
    "model = PPO(\"MlpPolicy\", env, verbose=1)\n",
    "# Train the agent and display a progress bar\n",
    "model.learn(total_timesteps=int(2e5), progress_bar=True)\n",
    "# Save the agent\n",
    "model.save(\"ppo\")\n",
    "del model  # delete trained model to demonstrate loading\n",
    "\n",
    "# Load the trained agent\n",
    "# NOTE: if you have loading issue, you can pass `print_system_info=True`\n",
    "# to compare the system on which the model was trained vs the current one\n",
    "# model = DQN.load(\"dqn_lunar\", env=env, print_system_info=True)\n",
    "model = PPO.load(\"ppo\", env=env)\n",
    "\n",
    "# Evaluate the agent\n",
    "# NOTE: If you use wrappers with your environment that modify rewards,\n",
    "#       this will be reflected here. To evaluate with original rewards,\n",
    "#       wrap environment in a \"Monitor\" wrapper before other wrappers.\n",
    "mean_reward, std_reward = evaluate_policy(model, model.get_env(), n_eval_episodes=10)"
   ]
  },
  {
   "cell_type": "code",
   "execution_count": 2,
   "metadata": {},
   "outputs": [
    {
     "name": "stdout",
     "output_type": "stream",
     "text": [
      "[1 0 1]\n"
     ]
    }
   ],
   "source": [
    "import numpy as np\n",
    "l = np.array([1,0, 1])\n",
    "k = ''.join([str(x) for x in l])\n",
    "hash(k)\n",
    "key = lambda l : ''.join([str(x) for x in l])\n",
    "key_to_np = lambda k : np.array(list(k), dtype=int)\n",
    "print(key_to_np(key(l)))"
   ]
  },
  {
   "cell_type": "code",
   "execution_count": 27,
   "metadata": {},
   "outputs": [
    {
     "data": {
      "text/plain": [
       "(array([1, 5]),)"
      ]
     },
     "execution_count": 27,
     "metadata": {},
     "output_type": "execute_result"
    }
   ],
   "source": [
    "import numpy as np\n",
    "a = np.zeros(10)\n",
    "a[1] = 1\n",
    "a[5] = 1\n",
    "np.where(a == 1)"
   ]
  },
  {
   "cell_type": "code",
   "execution_count": 2,
   "metadata": {},
   "outputs": [
    {
     "name": "stdout",
     "output_type": "stream",
     "text": [
      "500.0 0.0\n"
     ]
    }
   ],
   "source": [
    "print(mean_reward, std_reward)"
   ]
  },
  {
   "cell_type": "code",
   "execution_count": 3,
   "metadata": {},
   "outputs": [
    {
     "ename": "",
     "evalue": "",
     "output_type": "error",
     "traceback": [
      "\u001b[1;31mThe Kernel crashed while executing code in the the current cell or a previous cell. Please review the code in the cell(s) to identify a possible cause of the failure. Click <a href='https://aka.ms/vscodeJupyterKernelCrash'>here</a> for more info. View Jupyter <a href='command:jupyter.viewOutput'>log</a> for further details."
     ]
    }
   ],
   "source": [
    "# Enjoy trained agent\n",
    "vec_env = model.get_env()\n",
    "obs = vec_env.reset()\n",
    "for i in range(1000):\n",
    "    action, _states = model.predict(obs, deterministic=True)\n",
    "    obs, rewards, dones, info = vec_env.step(action)\n",
    "    vec_env.render(\"human\")"
   ]
  },
  {
   "cell_type": "code",
   "execution_count": 2,
   "metadata": {},
   "outputs": [],
   "source": [
    "# rewards = []\n",
    "# env.reset()\n",
    "# env.render()\n",
    "# done = False\n",
    "# while not done:\n",
    "#     action = 1\n",
    "#     _, r, d, *_ = env.step(action)\n",
    "#     done = d\n",
    "#     rewards.append(r)\n",
    "# env.render()\n",
    "# t1_r = [r for r in rewards]\n",
    "# # t2_r = [r[1] for r in rewards]\n",
    "# print('transporter 1 total profit', sum(t1_r))\n",
    "# # print('transporter 2 total profit', sum(t2_r))\n",
    "\n",
    "def make_env():\n",
    "    import gymnasium as gym\n",
    "    e = gym.make('CartPole-v1')\n",
    "    e.t = 16\n",
    "    return e"
   ]
  },
  {
   "cell_type": "code",
   "execution_count": 3,
   "metadata": {},
   "outputs": [],
   "source": [
    "# plt.plot(rewards)"
   ]
  },
  {
   "cell_type": "markdown",
   "metadata": {},
   "source": [
    "## DQN"
   ]
  },
  {
   "cell_type": "markdown",
   "metadata": {},
   "source": [
    "### Preliminaries"
   ]
  },
  {
   "cell_type": "code",
   "execution_count": 4,
   "metadata": {},
   "outputs": [
    {
     "name": "stdout",
     "output_type": "stream",
     "text": [
      "True\n",
      "mps\n"
     ]
    }
   ],
   "source": [
    "import torch\n",
    "import gymnasium as gym\n",
    "\n",
    "import numpy as np\n",
    "import matplotlib.pyplot as plt\n",
    "from copy import deepcopy\n",
    "from rlberry.agents import Agent\n",
    "from rlberry.manager import AgentManager, plot_writer_data\n",
    "\n",
    "import torch.nn as nn\n",
    "import torch.optim as optim\n",
    "import torch.nn.functional as F\n",
    "from torch.distributions import Categorical\n",
    "\n",
    "# torch device\n",
    "device = torch.device(\"cuda\" if torch.cuda.is_available() else \"mps\" if torch.backends.mps.is_available() else \"cpu\")\n",
    "print(torch.backends.mps.is_built())\n",
    "print(device)"
   ]
  },
  {
   "cell_type": "code",
   "execution_count": 5,
   "metadata": {},
   "outputs": [],
   "source": [
    "from rlberry.agents import Agent\n",
    "\n",
    "class MyAgent(Agent):\n",
    "  name = \"MyAgent\"\n",
    "  def __init__(self, env, **kwargs):\n",
    "    \"\"\"\n",
    "    The base class (Agent) initializes:\n",
    "      self.env : instance of the environment used for training (in fit() method)\n",
    "      self.eval_env : instance of the environment used for evaluation (in eval() method)\n",
    "      self.rng : random number generator (https://numpy.org/doc/stable/reference/random/generator.html)\n",
    "      self.writer : use self.writer.add_scalar(tag, value, global_step) to log training data\n",
    "    \n",
    "    For reproducibility, use ONLY self.rng if you need random numbers in you agent!\n",
    "    To be able to visualize plots with AgentManager, log data using self.writer (see below)\n",
    "    \"\"\"\n",
    "    Agent.__init__(self, env, **kwargs)\n",
    "    # self.param1 = param1\n",
    "    # self.param2 = param2\n",
    "    self.total_steps = 0\n",
    "    self.total_episodes = 0\n",
    "\n",
    "  def select_action(self, state, evaluation=False):\n",
    "    \"\"\"\n",
    "    If evaluation=True, run evaluation policy (e.g., greedy with respect to Q)\n",
    "    If evaluation=False, run exploration policy (e.g., epsilon greedy)\n",
    "    \"\"\"\n",
    "    return self.env.action_space.sample()  # random action for this example\n",
    "\n",
    "  def fit(self, budget):\n",
    "    \"\"\"budget = number of timesteps to train your agent\"\"\"\n",
    "    state, _ = self.env.reset()\n",
    "    episode_reward = 0.0\n",
    "    for tt in range(budget):\n",
    "      self.total_steps += 1\n",
    "      action = self.select_action(state, evaluation=False)\n",
    "      next_state, reward, done, *_ = self.env.step(action)\n",
    "      episode_reward += reward\n",
    "      # print(reward)\n",
    "\n",
    "      # Log data\n",
    "      self.writer.add_scalar('rewards', reward, global_step=self.total_steps)\n",
    "\n",
    "      state = next_state \n",
    "      if done:\n",
    "        self.total_episodes += 1\n",
    "        # Log episode data\n",
    "        self.writer.add_scalar('episode_rewards', episode_reward, global_step=self.total_steps)\n",
    "        self.writer.add_scalar('episode', self.total_episodes, global_step=self.total_steps)\n",
    "\n",
    "        state, _ = self.env.reset()\n",
    "        episode_reward = 0.0\n",
    "        \n",
    "  \n",
    "  def eval(self, **kwargs):\n",
    "    \"\"\"\n",
    "    Here, you can run Monte-Carlo policy evaluation \n",
    "    with self.eval_env and return the result.\n",
    "    Returning zero for this example.\n",
    "    \"\"\"\n",
    "    return 0.0"
   ]
  },
  {
   "cell_type": "code",
   "execution_count": 6,
   "metadata": {},
   "outputs": [
    {
     "name": "stderr",
     "output_type": "stream",
     "text": [
      "\u001b[38;5;226m[WARNING] 13:41: [Agent] Not possible to reseed environment. \u001b[0m\n",
      "\u001b[38;5;226m[WARNING] 13:41: [Agent] Not possible to reseed environment. \u001b[0m\n",
      "\u001b[38;5;226m[WARNING] 13:41: (Re)defining the following DefaultWriter parameters in AgentManager: ['maxlen', 'log_interval'] \u001b[0m\n",
      "\u001b[38;21m[INFO] 13:41: Running AgentManager fit() for MyAgent with n_fit = 2 and max_workers = None. \u001b[0m\n",
      "\u001b[38;5;226m[WARNING] 13:41: [Agent] Not possible to reseed environment. \u001b[0m\n",
      "\u001b[38;5;226m[WARNING] 13:41: [Agent] Not possible to reseed environment. \u001b[0m\n",
      "\u001b[38;5;226m[WARNING] 13:41: [Agent] Not possible to reseed environment. \u001b[0m\n",
      "\u001b[38;5;226m[WARNING] 13:41: [Agent] Not possible to reseed environment. \u001b[0m\n"
     ]
    },
    {
     "name": "stdout",
     "output_type": "stream",
     "text": [
      "        name      tag  value global_step  dw_time_elapsed\n",
      "0    MyAgent  rewards    1.0           1         0.000215\n",
      "1    MyAgent  rewards    1.0           2         0.000231\n",
      "2    MyAgent  rewards    1.0           3         0.000241\n",
      "3    MyAgent  rewards    1.0           4         0.000249\n",
      "4    MyAgent  rewards    1.0           5         0.000257\n",
      "..       ...      ...    ...         ...              ...\n",
      "105  MyAgent  episode    1.0          16         0.000346\n",
      "106  MyAgent  episode    2.0          26         0.000468\n",
      "107  MyAgent  episode    3.0          38         0.000594\n",
      "108  MyAgent  episode    4.0          85         0.000960\n",
      "109  MyAgent  episode    5.0          99         0.001081\n",
      "\n",
      "[110 rows x 5 columns]\n"
     ]
    },
    {
     "name": "stderr",
     "output_type": "stream",
     "text": [
      "\u001b[38;21m[INFO] 13:41: ... trained! \u001b[0m\n",
      "\u001b[38;5;226m[WARNING] 13:41: [Agent] Not possible to reseed environment. \u001b[0m\n",
      "\u001b[38;5;226m[WARNING] 13:41: [Agent] Not possible to reseed environment. \u001b[0m\n",
      "\u001b[38;5;226m[WARNING] 13:41: [Agent] Not possible to reseed environment. \u001b[0m\n",
      "\u001b[38;5;226m[WARNING] 13:41: [Agent] Not possible to reseed environment. \u001b[0m\n"
     ]
    }
   ],
   "source": [
    "#\n",
    "# Initialize and train a single instance of MyAgent\n",
    "#\n",
    "env = gym.make('CartPole-v1')\n",
    "my_agent = MyAgent(\n",
    "    env=env,#(env, {}),       # tuple (constructor, kwargs)\n",
    "    # param1=10,               # extra params your agent might need\n",
    "    # param2=15\n",
    ")\n",
    "# train the agent for 100 timesteps\n",
    "my_agent.fit(100)\n",
    "# pandas DataFrame containing data stored with my_agent.writer.add_scalar(tag, value, global_step)\n",
    "print(my_agent.writer.data)\n",
    "\n",
    "#\n",
    "# Run several instances of MyAgent in parallel and plot the results\n",
    "#\n",
    "manager_kwargs = dict(\n",
    "    agent_class=MyAgent,\n",
    "    train_env=(make_env, dict()),\n",
    "    eval_env=(make_env, dict()),\n",
    "    fit_budget=100,                    # Number of total timesteps\n",
    "    n_fit=2,                           # Number of agent instances to fit\n",
    "    parallelization='thread',          # Use 'thread' in the notebook!\n",
    "    seed=456,                          # Seed\n",
    "    default_writer_kwargs=dict(maxlen=100,log_interval=10),\n",
    ")\n",
    "my_agent_manager = AgentManager(\n",
    "    # init_kwargs=dict(param1=10, param2=20),\n",
    "    agent_name='MyAgent',\n",
    "    **manager_kwargs\n",
    ")\n",
    "my_agent_manager.fit()   # Train 'n_fit' instances in parallel"
   ]
  },
  {
   "cell_type": "code",
   "execution_count": 7,
   "metadata": {},
   "outputs": [
    {
     "name": "stdout",
     "output_type": "stream",
     "text": [
      "mkdir: videos: File exists\n"
     ]
    }
   ],
   "source": [
    "from gymnasium.wrappers import RecordVideo\n",
    "%mkdir videos\n",
    "# Initialize display and import function to show videos\n",
    "\n",
    "def render_policy(env, agent):\n",
    "  env = deepcopy(env)\n",
    "  # env = RecordVideo(env, './videos')\n",
    "  for episode in range(1):\n",
    "    done = False\n",
    "    state, _ = env.reset()\n",
    "    env.render()\n",
    "    while not done:\n",
    "        action = agent.select_action(state, evaluation=True)\n",
    "        state, reward, done, *_ = env.step(action)\n",
    "    env.render()\n",
    "    env.close()\n",
    "    \n"
   ]
  },
  {
   "cell_type": "code",
   "execution_count": 8,
   "metadata": {},
   "outputs": [
    {
     "data": {
      "image/png": "[encoded data removed]",
      "text/plain": [
       "<Figure size 640x480 with 1 Axes>"
      ]
     },
     "metadata": {},
     "output_type": "display_data"
    },
    {
     "name": "stderr",
     "output_type": "stream",
     "text": [
      "/opt/homebrew/lib/python3.10/site-packages/gymnasium/envs/classic_control/cartpole.py:212: UserWarning: \u001b[33mWARN: You are calling render method without specifying any render mode. You can specify the render_mode at initialization, e.g. gym.make(\"CartPole-v1\", render_mode=\"rgb_array\")\u001b[0m\n",
      "  gym.logger.warn(\n"
     ]
    }
   ],
   "source": [
    "# Plot the results\n",
    "example_managers = []\n",
    "example_managers.append(my_agent_manager)    # You could add more managers here, for other agents/parameters\n",
    "_ = plot_writer_data(example_managers, tag='rewards', title='Instantaneous Rewards')\n",
    "# _ = plot_writer_data(example_managers, tag='episode_rewards', xtag='episode', title='Episode Rewards')\n",
    "# _ = plot_writer_data(example_managers, tag='episode_rewards', xtag='episode', title='Cumulative Episode Rewards', preprocess_func=np.cumsum)\n",
    "\n",
    "# Render the policy of one of the trained agents\n",
    "agent_instance = my_agent_manager.get_agent_instances()[0]\n",
    "render_policy(agent_instance.eval_env, agent_instance)"
   ]
  },
  {
   "cell_type": "code",
   "execution_count": 9,
   "metadata": {},
   "outputs": [],
   "source": [
    "class ReplayBuffer:\n",
    "  def __init__(self, capacity, rng):\n",
    "    \"\"\"\n",
    "    Parameters\n",
    "    ----------\n",
    "    capacity : int\n",
    "      Maximum number of transitions\n",
    "    rng : \n",
    "      instance of numpy's default_rng\n",
    "    \"\"\"\n",
    "    self.capacity = capacity\n",
    "    self.rng = rng  # random number generator\n",
    "    self.memory = []\n",
    "    self.position = 0\n",
    "\n",
    "  def push(self, sample):\n",
    "    \"\"\"Saves a transition.\"\"\"\n",
    "    if len(self.memory) < self.capacity:\n",
    "      self.memory.append(None)\n",
    "    self.memory[self.position] = sample\n",
    "    self.position = (self.position + 1) % self.capacity\n",
    "\n",
    "  def sample(self, batch_size):\n",
    "    indices = self.rng.choice(len(self.memory), size=batch_size)\n",
    "    samples = [self.memory[idx] for idx in indices]\n",
    "    return map(np.asarray, zip(*samples))\n",
    "\n",
    "  def __len__(self):\n",
    "    return len(self.memory)"
   ]
  },
  {
   "cell_type": "code",
   "execution_count": 10,
   "metadata": {},
   "outputs": [],
   "source": [
    "class QNet(nn.Module):\n",
    "  def __init__(self, obs_size, n_actions):\n",
    "    super(QNet, self).__init__()\n",
    "    \n",
    "    #print(f'obs size = {obs_size}')\n",
    "    self.lin1 = nn.Linear(obs_size, 64)\n",
    "    self.lin2 = nn.Linear(64, 64)\n",
    "    self.lin3 = nn.Linear(64, n_actions)\n",
    "    #self.relu = nn.ReLU().to(device)\n",
    "\n",
    "  def forward(self, state):\n",
    "\n",
    "    if not isinstance(state, torch.Tensor):\n",
    "      state = torch.tensor(state).float().to(device)\n",
    "    #else :\n",
    "    #  state = state.clone().detach().float().to(device)\n",
    "    \n",
    "    Q = F.relu(self.lin1(state))\n",
    "    Q = F.relu(self.lin2(Q))\n",
    "    return self.lin3(Q)\n",
    "\n",
    "class DuelingQNet(nn.Module):\n",
    "  def __init__(self, obs_size, n_actions):\n",
    "    super(DuelingQNet, self).__init__()\n",
    "\n",
    "    self.relu = nn.ReLU()\n",
    "    self.lin = nn.Linear(obs_size, 64)\n",
    "\n",
    "    # value function net\n",
    "    self.val_lin1 = nn.Linear(64, 64)\n",
    "    self.val_lin2 = nn.Linear(64, 1)\n",
    "\n",
    "    # advantage function net\n",
    "    self.adv_lin1 = nn.Linear(64, 64)\n",
    "    self.adv_lin2 = nn.Linear(64, n_actions)\n",
    "\n",
    "  def forward(self, state):\n",
    "\n",
    "    if not isinstance(state, torch.Tensor):\n",
    "      state = torch.tensor(state).float().to(device)\n",
    "    #else :\n",
    "      #state = state.clone().detach().float().to(device)\n",
    "\n",
    "    y = self.lin(state)\n",
    "    y = self.relu(y)\n",
    "\n",
    "    # value function\n",
    "    v = self.val_lin1(y)\n",
    "    v = self.relu(v)\n",
    "    v = self.val_lin2(v)\n",
    "\n",
    "    # advantage function\n",
    "    a = self.adv_lin1(y)\n",
    "    a = self.relu(a)\n",
    "    a = self.adv_lin2(a)\n",
    "\n",
    "    return v + (a - torch.mean(a))\n",
    "  \n",
    "class LSTMQNet(nn.Module):\n",
    "  def __init__(self, obs_size, n_actions):\n",
    "    super(DuelingQNet, self).__init__()\n",
    "\n",
    "    self.relu = nn.ReLU()\n",
    "    self.lstm = nn.LSTM(obs_size, 64)\n",
    "\n",
    "    self.lin1 = nn.Linear(64, 64)\n",
    "    self.lin2 = nn.Linear(64, n_actions)\n",
    "\n",
    "  def forward(self, state):\n",
    "\n",
    "    if not isinstance(state, torch.Tensor):\n",
    "      state = torch.tensor(state).float().to(device)\n",
    "    #else :\n",
    "      #state = state.clone().detach().float().to(device)\n",
    "\n",
    "    y = self.lstm(state)\n",
    "    y = self.relu(y)\n",
    "\n",
    "    # value function\n",
    "    v = self.lin1(y)\n",
    "    v = self.relu(v)\n",
    "    return self.lin2(v)"
   ]
  },
  {
   "cell_type": "code",
   "execution_count": 11,
   "metadata": {},
   "outputs": [],
   "source": [
    "# Parameters\n",
    "DQN_TRAINING_TIMESTEPS = 2_000  # number of timesteps for training. You might change this!\n",
    "\n",
    "DQN_PARAMS = dict(\n",
    "    dueling_dqn=False,         # set to true to use dueling DQN\n",
    "    double_dqn=False,          # set to true to use double DQN\n",
    "    gamma=0.99,\n",
    "    batch_size=128,            # batch size (in number of transitions)\n",
    "    eval_every=250,            # evaluate every ... steps\n",
    "    buffer_capacity=30000,     # capacity of the replay buffer\n",
    "    update_target_every=250,   # update target net every ... steps\n",
    "    epsilon_start=1.0,         # initial value of epsilon\n",
    "    epsilon_min=0.05,          # minimum value of epsilon\n",
    "    decrease_epsilon=5000,     # parameter to decrease epsilon\n",
    "    learning_rate=5e-4,       # learning rate\n",
    ")\n",
    "DUELING_DQN_PARAMS = deepcopy(DQN_PARAMS)           # dueling DQN\n",
    "DOUBLE_DQN_PARAMS = deepcopy(DQN_PARAMS)            # double DQN\n",
    "DOUBLE_DUELING_DQN_PARAMS = deepcopy(DQN_PARAMS)    # double & dueling DQN\n",
    "# LSTM_DQN_PARAMS = deepcopy(DQN_PARAMS)\n",
    "\n",
    "DUELING_DQN_PARAMS.update(dict(dueling_dqn=True))\n",
    "DOUBLE_DQN_PARAMS.update(dict(double_dqn=True))\n",
    "DOUBLE_DUELING_DQN_PARAMS.update(dueling_dqn=True, double_dqn=True)\n",
    "# LSTM_DQN_PARAMS.update(dict(rnn = False))\n",
    "\n"
   ]
  },
  {
   "cell_type": "code",
   "execution_count": 12,
   "metadata": {},
   "outputs": [],
   "source": [
    "class DQNAgent(Agent):\n",
    "  name = 'DQN'\n",
    "  def __init__(\n",
    "      self,\n",
    "      env,\n",
    "      dueling_dqn: bool,               # Set to true for dueling DQN\n",
    "      double_dqn: bool,                # Set to true for double DQN\n",
    "      gamma: float = 0.99,\n",
    "      batch_size: int = 256,\n",
    "      eval_every: int = 250,\n",
    "      buffer_capacity: int = 30000,\n",
    "      update_target_every: int = 500,\n",
    "      epsilon_start: float = 1.0,\n",
    "      epsilon_min: float = 0.05,\n",
    "      decrease_epsilon: int = 200,\n",
    "      learning_rate: float = 0.001,\n",
    "      **kwargs):\n",
    "    Agent.__init__(self, env, **kwargs)\n",
    "    env = self.env\n",
    "    self.dueling_dqn = dueling_dqn\n",
    "    self.double_dqn = double_dqn\n",
    "    self.gamma = gamma\n",
    "    self.batch_size = batch_size\n",
    "    self.eval_every = eval_every\n",
    "    self.update_target_every = update_target_every\n",
    "    self.epsilon_start = epsilon_start\n",
    "    self.epsilon_min = epsilon_min\n",
    "    self.decrease_epsilon = decrease_epsilon\n",
    "    self.total_timesteps = 0\n",
    "    self.total_episodes = 0\n",
    "    self.total_updates = 0\n",
    "\n",
    "    # initialize epsilon\n",
    "    self.epsilon = epsilon_start\n",
    "\n",
    "    # initialize replay buffer\n",
    "    self.replay_buffer = ReplayBuffer(buffer_capacity, self.rng)\n",
    "\n",
    "    # select network class\n",
    "    if self.dueling_dqn:\n",
    "      net_class = DuelingQNet\n",
    "    else:\n",
    "      net_class = QNet\n",
    "      \n",
    "    # if self.rnn:\n",
    "      # net_class = LSTMQNet\n",
    "\n",
    "    # update name according to params\n",
    "    if self.dueling_dqn:\n",
    "      self.name = 'Dueling' + self.name\n",
    "    if self.double_dqn:\n",
    "      self.name = 'Double' + self.name\n",
    "\n",
    "    # create network and target network\n",
    "    obs_size = env.observation_space.shape[0]\n",
    "    n_actions = env.action_space.n\n",
    "    self.q_net = net_class(obs_size, n_actions).to(device)\n",
    "    self.target_net = net_class(obs_size, n_actions).to(device)\n",
    "    self.target_net.load_state_dict(self.q_net.state_dict())\n",
    "    self.target_net.eval()\n",
    "    \n",
    "    # objective and optimizer\n",
    "    self.optimizer = optim.Adam(\n",
    "        params=self.q_net.parameters(), lr=learning_rate)\n",
    "    self.loss_fn = nn.MSELoss()\n",
    "\n",
    "  def select_action(self, state, evaluation=False):\n",
    "    \"\"\"\n",
    "    If evaluation=False, get action according to exploration policy.\n",
    "    Otherwise, get action according to the evaluation policy.\n",
    "    \"\"\"\n",
    "    # !!!!!!!!!!!!!!!!!!!!!!!!!!!!!!!!!!!!!!!!!!!\n",
    "    # TODO: implement action selection strategy\n",
    "    # !!!!!!!!!!!!!!!!!!!!!!!!!!!!!!!!!!!!!!!!!!!\n",
    "\n",
    "    #print(f'random action = {self.env.action_space.sample()}')\n",
    "    \n",
    "    if self.rng.uniform() < self.epsilon and (not evaluation):\n",
    "      action = self.env.action_space.sample()   # this happens with probability epsilon\n",
    "    else:\n",
    "      with torch.no_grad():\n",
    "        action = torch.argmax(self.q_net(state)).item()\n",
    "\n",
    "    return action # replace by the action you computed\n",
    "  \n",
    "  #@torch.compile\n",
    "  def _update(self, batch_state, batch_action, batch_next_state, batch_reward):\n",
    "    # values = Q(s_t, a_t), for t in batch\n",
    "        values = self.q_net(batch_state).gather(1, batch_action.long())\n",
    "\n",
    "        if not self.double_dqn:\n",
    "          # !!!!!!!!!!!!!!!!!!!!!!!!!!\n",
    "          # TO DO: compute DQN targets\n",
    "          # !!!!!!!!!!!!!!!!!!!!!!!!!!\n",
    "\n",
    "          with torch.no_grad():\n",
    "            #next_state_values = torch.zeros(self.batch_size, device=device)\n",
    "            next_state_values = self.target_net(batch_next_state).max(1)[0].unsqueeze(1).to(device)\n",
    "            targets = (next_state_values * self.gamma) + batch_reward\n",
    "      \n",
    "        else:\n",
    "          # !!!!!!!!!!!!!!!!!!!!!!!!!!!!!!!!!!\n",
    "          # TO DO: compute Double DQN targets\n",
    "          # !!!!!!!!!!!!!!!!!!!!!!!!!!!!!!!!!!\n",
    "\n",
    "          with torch.no_grad():\n",
    "            next_state_values = self.target_net(batch_next_state).gather(1, torch.argmax(self.q_net(batch_next_state), dim=1).unsqueeze(1)).to(device)\n",
    "            targets = (next_state_values * self.gamma) + batch_reward\n",
    "\n",
    "\n",
    "        loss = self.loss_fn(values, targets)#.unsqueeze(1))\n",
    "        self.optimizer.zero_grad()\n",
    "        loss.backward()\n",
    "        #for param in self.q_net.parameters():\n",
    "        #  param.grad.data.clamp_(-1, 1)\n",
    "        self.optimizer.step()\n",
    "        \n",
    "        return loss\n",
    "\n",
    "  def fit(self, budget):\n",
    "    \"\"\"\n",
    "    budget : number of training timesteps\n",
    "    \"\"\"\n",
    "    state, _ = self.env.reset()\n",
    "    done = False\n",
    "    episode_reward = 0.0\n",
    "    for tt in range(budget):\n",
    "      self.total_timesteps += 1\n",
    "      # if self.env.t < 15:\n",
    "      #   action = 0\n",
    "      # else:\n",
    "      action = self.select_action(state, evaluation=False)\n",
    "      next_state, reward, done, *_ = self.env.step(action)\n",
    "      episode_reward += reward\n",
    "      # if not done :\n",
    "      #   self.replay_buffer.push((state, next_state, action, reward, done))\n",
    "      # else :\n",
    "      #   self.replay_buffer.push((state, next_state, action, -reward, done))\n",
    "      self.replay_buffer.push((state, next_state, action, float(not done)*reward, done))\n",
    "        \n",
    "      if len(self.replay_buffer) > self.batch_size:\n",
    "        #\n",
    "        # Update model\n",
    "        #\n",
    "        self.total_updates += 1\n",
    "\n",
    "        # get batch\n",
    "        (batch_state, batch_next_state,\n",
    "         batch_action, batch_reward,\n",
    "         batch_done) = self.replay_buffer.sample(self.batch_size)\n",
    "        # convert to torch tensors\n",
    "        batch_state = torch.FloatTensor(batch_state).to(device)\n",
    "        batch_next_state = torch.FloatTensor(batch_next_state).to(device)\n",
    "        batch_action = torch.LongTensor(batch_action).unsqueeze(1).to(device)\n",
    "        batch_reward = torch.FloatTensor(batch_reward).unsqueeze(1).to(device)\n",
    "        batch_done = torch.FloatTensor(batch_done).unsqueeze(1).to(device)\n",
    "\n",
    "        # decrease epsilon\n",
    "        if self.epsilon > self.epsilon_min:\n",
    "            self.epsilon -= (self.epsilon_start \n",
    "                             - self.epsilon_min) / self.decrease_epsilon\n",
    "\n",
    "        #\n",
    "        #  TO DO: compute loss and update networks\n",
    "        #\n",
    "        loss = self._update(batch_state, batch_action, batch_next_state, batch_reward)\n",
    "        \n",
    "\n",
    "        self.writer.add_scalar('loss', loss.item(), self.total_timesteps)\n",
    "\n",
    "      # evaluate agent\n",
    "      if self.total_timesteps % self.eval_every == 0:\n",
    "          mean_rewards = self.eval(n_sim=2)\n",
    "          self.writer.add_scalar(\n",
    "              'eval_rewards', mean_rewards, self.total_timesteps)\n",
    "      \n",
    "      # update target network\n",
    "      if self.total_updates % self.update_target_every == 0:\n",
    "          self.target_net.load_state_dict(self.q_net.state_dict())\n",
    "          self.target_net.eval()\n",
    "\n",
    "      # check end of episode\n",
    "      state = next_state\n",
    "      if done:\n",
    "        state, _ = self.env.reset()\n",
    "        self.total_episodes += 1\n",
    "        self.writer.add_scalar(\n",
    "                'episode_rewards', episode_reward, self.total_timesteps)\n",
    "        self.writer.add_scalar(\n",
    "                'episode', self.total_episodes, self.total_timesteps)\n",
    "        episode_reward = 0.0\n",
    "\n",
    "  def eval(self, n_sim=1, **kwargs):\n",
    "    rewards = np.zeros(n_sim)\n",
    "    eval_env = self.eval_env     # evaluation environment\n",
    "    # Loop over number of simulations\n",
    "    for sim in range(n_sim):\n",
    "      state, _ = eval_env.reset()\n",
    "      done = False\n",
    "      while not done:\n",
    "        action = self.select_action(state, evaluation=True)\n",
    "        #print(f'action = {type(action)}')\n",
    "        next_state, reward, done, *_ = eval_env.step(action)\n",
    "        # update sum of rewards\n",
    "        rewards[sim] += reward\n",
    "        state = next_state\n",
    "    return rewards.mean()"
   ]
  },
  {
   "cell_type": "code",
   "execution_count": 13,
   "metadata": {},
   "outputs": [],
   "source": [
    "# # Training one instance of DQN\n",
    "# dqn_agent = DQNAgent(\n",
    "#     env=(get_env, dict()),  # we can send (constructor, kwargs) as an env\n",
    "#     **DQN_PARAMS\n",
    "# )\n",
    "# dqn_agent.fit(DQN_TRAINING_TIMESTEPS)\n",
    "\n",
    "#\n",
    "# Training several instances using AgentManager\n",
    "#\n",
    "    \n",
    "manager_kwargs = dict(\n",
    "    agent_class=DQNAgent,\n",
    "    train_env=(make_env, dict()),\n",
    "    eval_env=(make_env, dict()),\n",
    "    fit_budget=DQN_TRAINING_TIMESTEPS,\n",
    "    n_fit=3,                   # NOTE: You may increase this parameter (number of agents to train)\n",
    "    parallelization='process',\n",
    "    seed=456,\n",
    "    default_writer_kwargs=dict(maxlen=None,log_interval=10),\n",
    ")"
   ]
  },
  {
   "cell_type": "code",
   "execution_count": 14,
   "metadata": {},
   "outputs": [
    {
     "name": "stderr",
     "output_type": "stream",
     "text": [
      "\u001b[38;5;226m[WARNING] 13:41: (Re)defining the following DefaultWriter parameters in AgentManager: ['maxlen', 'log_interval'] \u001b[0m\n",
      "\u001b[38;21m[INFO] 13:41: Running AgentManager fit() for DQN with n_fit = 3 and max_workers = None. \u001b[0m\n",
      "Process SpawnProcess-3:\n",
      "Traceback (most recent call last):\n",
      "Process SpawnProcess-4:\n",
      "  File \"/opt/homebrew/Cellar/python@3.10/3.10.11/Frameworks/Python.framework/Versions/3.10/lib/python3.10/multiprocessing/process.py\", line 314, in _bootstrap\n",
      "    self.run()\n",
      "  File \"/opt/homebrew/Cellar/python@3.10/3.10.11/Frameworks/Python.framework/Versions/3.10/lib/python3.10/multiprocessing/process.py\", line 108, in run\n",
      "    self._target(*self._args, **self._kwargs)\n",
      "  File \"/opt/homebrew/Cellar/python@3.10/3.10.11/Frameworks/Python.framework/Versions/3.10/lib/python3.10/concurrent/futures/process.py\", line 240, in _process_worker\n",
      "    call_item = call_queue.get(block=True)\n",
      "  File \"/opt/homebrew/Cellar/python@3.10/3.10.11/Frameworks/Python.framework/Versions/3.10/lib/python3.10/multiprocessing/queues.py\", line 122, in get\n",
      "    return _ForkingPickler.loads(res)\n",
      "AttributeError: Can't get attribute 'DQNAgent' on <module '__main__' (built-in)>\n",
      "Traceback (most recent call last):\n",
      "Process SpawnProcess-2:\n",
      "  File \"/opt/homebrew/Cellar/python@3.10/3.10.11/Frameworks/Python.framework/Versions/3.10/lib/python3.10/multiprocessing/process.py\", line 314, in _bootstrap\n",
      "    self.run()\n",
      "  File \"/opt/homebrew/Cellar/python@3.10/3.10.11/Frameworks/Python.framework/Versions/3.10/lib/python3.10/multiprocessing/process.py\", line 108, in run\n",
      "    self._target(*self._args, **self._kwargs)\n",
      "  File \"/opt/homebrew/Cellar/python@3.10/3.10.11/Frameworks/Python.framework/Versions/3.10/lib/python3.10/concurrent/futures/process.py\", line 240, in _process_worker\n",
      "    call_item = call_queue.get(block=True)\n",
      "  File \"/opt/homebrew/Cellar/python@3.10/3.10.11/Frameworks/Python.framework/Versions/3.10/lib/python3.10/multiprocessing/queues.py\", line 122, in get\n",
      "    return _ForkingPickler.loads(res)\n",
      "AttributeError: Can't get attribute 'DQNAgent' on <module '__main__' (built-in)>\n",
      "Traceback (most recent call last):\n",
      "  File \"/opt/homebrew/Cellar/python@3.10/3.10.11/Frameworks/Python.framework/Versions/3.10/lib/python3.10/multiprocessing/process.py\", line 314, in _bootstrap\n",
      "    self.run()\n",
      "  File \"/opt/homebrew/Cellar/python@3.10/3.10.11/Frameworks/Python.framework/Versions/3.10/lib/python3.10/multiprocessing/process.py\", line 108, in run\n",
      "    self._target(*self._args, **self._kwargs)\n",
      "  File \"/opt/homebrew/Cellar/python@3.10/3.10.11/Frameworks/Python.framework/Versions/3.10/lib/python3.10/concurrent/futures/process.py\", line 240, in _process_worker\n",
      "    call_item = call_queue.get(block=True)\n",
      "  File \"/opt/homebrew/Cellar/python@3.10/3.10.11/Frameworks/Python.framework/Versions/3.10/lib/python3.10/multiprocessing/queues.py\", line 122, in get\n",
      "    return _ForkingPickler.loads(res)\n",
      "AttributeError: Can't get attribute 'DQNAgent' on <module '__main__' (built-in)>\n"
     ]
    },
    {
     "ename": "BrokenProcessPool",
     "evalue": "A process in the process pool was terminated abruptly while the future was running or pending.",
     "output_type": "error",
     "traceback": [
      "\u001b[0;31m---------------------------------------------------------------------------\u001b[0m",
      "\u001b[0;31mBrokenProcessPool\u001b[0m                         Traceback (most recent call last)",
      "Cell \u001b[0;32mIn[14], line 7\u001b[0m\n\u001b[1;32m      1\u001b[0m \u001b[39m# DQN\u001b[39;00m\n\u001b[1;32m      2\u001b[0m dqn_manager \u001b[39m=\u001b[39m AgentManager(\n\u001b[1;32m      3\u001b[0m     init_kwargs\u001b[39m=\u001b[39mDOUBLE_DQN_PARAMS,\n\u001b[1;32m      4\u001b[0m     agent_name\u001b[39m=\u001b[39m\u001b[39m'\u001b[39m\u001b[39mDQN\u001b[39m\u001b[39m'\u001b[39m,\n\u001b[1;32m      5\u001b[0m     \u001b[39m*\u001b[39m\u001b[39m*\u001b[39mmanager_kwargs\n\u001b[1;32m      6\u001b[0m )\n\u001b[0;32m----> 7\u001b[0m dqn_manager\u001b[39m.\u001b[39;49mfit()\n",
      "File \u001b[0;32m/opt/homebrew/lib/python3.10/site-packages/rlberry/manager/agent_manager.py:744\u001b[0m, in \u001b[0;36mAgentManager.fit\u001b[0;34m(***failed resolving arguments***)\u001b[0m\n\u001b[1;32m    742\u001b[0m         workers_output \u001b[39m=\u001b[39m []\n\u001b[1;32m    743\u001b[0m         \u001b[39mfor\u001b[39;00m future \u001b[39min\u001b[39;00m concurrent\u001b[39m.\u001b[39mfutures\u001b[39m.\u001b[39mas_completed(futures):\n\u001b[0;32m--> 744\u001b[0m             workers_output\u001b[39m.\u001b[39mappend(future\u001b[39m.\u001b[39;49mresult())\n\u001b[1;32m    745\u001b[0m         executor\u001b[39m.\u001b[39mshutdown()\n\u001b[1;32m    747\u001b[0m workers_output\u001b[39m.\u001b[39msort(key\u001b[39m=\u001b[39m\u001b[39mlambda\u001b[39;00m x: x\u001b[39m.\u001b[39mid)\n",
      "File \u001b[0;32m/opt/homebrew/Cellar/python@3.10/3.10.11/Frameworks/Python.framework/Versions/3.10/lib/python3.10/concurrent/futures/_base.py:451\u001b[0m, in \u001b[0;36mFuture.result\u001b[0;34m(self, timeout)\u001b[0m\n\u001b[1;32m    449\u001b[0m     \u001b[39mraise\u001b[39;00m CancelledError()\n\u001b[1;32m    450\u001b[0m \u001b[39melif\u001b[39;00m \u001b[39mself\u001b[39m\u001b[39m.\u001b[39m_state \u001b[39m==\u001b[39m FINISHED:\n\u001b[0;32m--> 451\u001b[0m     \u001b[39mreturn\u001b[39;00m \u001b[39mself\u001b[39;49m\u001b[39m.\u001b[39;49m__get_result()\n\u001b[1;32m    453\u001b[0m \u001b[39mself\u001b[39m\u001b[39m.\u001b[39m_condition\u001b[39m.\u001b[39mwait(timeout)\n\u001b[1;32m    455\u001b[0m \u001b[39mif\u001b[39;00m \u001b[39mself\u001b[39m\u001b[39m.\u001b[39m_state \u001b[39min\u001b[39;00m [CANCELLED, CANCELLED_AND_NOTIFIED]:\n",
      "File \u001b[0;32m/opt/homebrew/Cellar/python@3.10/3.10.11/Frameworks/Python.framework/Versions/3.10/lib/python3.10/concurrent/futures/_base.py:403\u001b[0m, in \u001b[0;36mFuture.__get_result\u001b[0;34m(self)\u001b[0m\n\u001b[1;32m    401\u001b[0m \u001b[39mif\u001b[39;00m \u001b[39mself\u001b[39m\u001b[39m.\u001b[39m_exception:\n\u001b[1;32m    402\u001b[0m     \u001b[39mtry\u001b[39;00m:\n\u001b[0;32m--> 403\u001b[0m         \u001b[39mraise\u001b[39;00m \u001b[39mself\u001b[39m\u001b[39m.\u001b[39m_exception\n\u001b[1;32m    404\u001b[0m     \u001b[39mfinally\u001b[39;00m:\n\u001b[1;32m    405\u001b[0m         \u001b[39m# Break a reference cycle with the exception in self._exception\u001b[39;00m\n\u001b[1;32m    406\u001b[0m         \u001b[39mself\u001b[39m \u001b[39m=\u001b[39m \u001b[39mNone\u001b[39;00m\n",
      "\u001b[0;31mBrokenProcessPool\u001b[0m: A process in the process pool was terminated abruptly while the future was running or pending."
     ]
    }
   ],
   "source": [
    "# DQN\n",
    "dqn_manager = AgentManager(\n",
    "    init_kwargs=DOUBLE_DQN_PARAMS,\n",
    "    agent_name='DQN',\n",
    "    **manager_kwargs\n",
    ")\n",
    "dqn_manager.fit()"
   ]
  },
  {
   "cell_type": "code",
   "execution_count": null,
   "metadata": {},
   "outputs": [
    {
     "data": {
      "image/png": "[encoded data removed]",
      "text/plain": [
       "<Figure size 640x480 with 1 Axes>"
      ]
     },
     "metadata": {},
     "output_type": "display_data"
    },
    {
     "ename": "KeyError",
     "evalue": "'episode'",
     "output_type": "error",
     "traceback": [
      "\u001b[0;31m---------------------------------------------------------------------------\u001b[0m",
      "\u001b[0;31mKeyError\u001b[0m                                  Traceback (most recent call last)",
      "File \u001b[0;32m/opt/homebrew/lib/python3.10/site-packages/pandas/core/indexes/base.py:3802\u001b[0m, in \u001b[0;36mIndex.get_loc\u001b[0;34m(self, key, method, tolerance)\u001b[0m\n\u001b[1;32m   3801\u001b[0m \u001b[39mtry\u001b[39;00m:\n\u001b[0;32m-> 3802\u001b[0m     \u001b[39mreturn\u001b[39;00m \u001b[39mself\u001b[39;49m\u001b[39m.\u001b[39;49m_engine\u001b[39m.\u001b[39;49mget_loc(casted_key)\n\u001b[1;32m   3803\u001b[0m \u001b[39mexcept\u001b[39;00m \u001b[39mKeyError\u001b[39;00m \u001b[39mas\u001b[39;00m err:\n",
      "File \u001b[0;32m/opt/homebrew/lib/python3.10/site-packages/pandas/_libs/index.pyx:138\u001b[0m, in \u001b[0;36mpandas._libs.index.IndexEngine.get_loc\u001b[0;34m()\u001b[0m\n",
      "File \u001b[0;32m/opt/homebrew/lib/python3.10/site-packages/pandas/_libs/index.pyx:165\u001b[0m, in \u001b[0;36mpandas._libs.index.IndexEngine.get_loc\u001b[0;34m()\u001b[0m\n",
      "File \u001b[0;32mpandas/_libs/hashtable_class_helper.pxi:5745\u001b[0m, in \u001b[0;36mpandas._libs.hashtable.PyObjectHashTable.get_item\u001b[0;34m()\u001b[0m\n",
      "File \u001b[0;32mpandas/_libs/hashtable_class_helper.pxi:5753\u001b[0m, in \u001b[0;36mpandas._libs.hashtable.PyObjectHashTable.get_item\u001b[0;34m()\u001b[0m\n",
      "\u001b[0;31mKeyError\u001b[0m: 'episode'",
      "\nThe above exception was the direct cause of the following exception:\n",
      "\u001b[0;31mKeyError\u001b[0m                                  Traceback (most recent call last)",
      "Cell \u001b[0;32mIn[17], line 3\u001b[0m\n\u001b[1;32m      1\u001b[0m \u001b[39m# Plot the results\u001b[39;00m\n\u001b[1;32m      2\u001b[0m _ \u001b[39m=\u001b[39m plot_writer_data(dqn_manager, tag\u001b[39m=\u001b[39m\u001b[39m'\u001b[39m\u001b[39mrewards\u001b[39m\u001b[39m'\u001b[39m, title\u001b[39m=\u001b[39m\u001b[39m'\u001b[39m\u001b[39mInstantaneous Rewards\u001b[39m\u001b[39m'\u001b[39m)\n\u001b[0;32m----> 3\u001b[0m _ \u001b[39m=\u001b[39m plot_writer_data(example_managers, tag\u001b[39m=\u001b[39;49m\u001b[39m'\u001b[39;49m\u001b[39mepisode_rewards\u001b[39;49m\u001b[39m'\u001b[39;49m, xtag\u001b[39m=\u001b[39;49m\u001b[39m'\u001b[39;49m\u001b[39mepisode\u001b[39;49m\u001b[39m'\u001b[39;49m, title\u001b[39m=\u001b[39;49m\u001b[39m'\u001b[39;49m\u001b[39mEpisode Rewards\u001b[39;49m\u001b[39m'\u001b[39;49m)\n\u001b[1;32m      4\u001b[0m _ \u001b[39m=\u001b[39m plot_writer_data(example_managers, tag\u001b[39m=\u001b[39m\u001b[39m'\u001b[39m\u001b[39mepisode_rewards\u001b[39m\u001b[39m'\u001b[39m, xtag\u001b[39m=\u001b[39m\u001b[39m'\u001b[39m\u001b[39mepisode\u001b[39m\u001b[39m'\u001b[39m, title\u001b[39m=\u001b[39m\u001b[39m'\u001b[39m\u001b[39mCumulative Episode Rewards\u001b[39m\u001b[39m'\u001b[39m, preprocess_func\u001b[39m=\u001b[39mnp\u001b[39m.\u001b[39mcumsum)\n\u001b[1;32m      6\u001b[0m \u001b[39m# Render the policy of one of the trained agents\u001b[39;00m\n",
      "File \u001b[0;32m/opt/homebrew/lib/python3.10/site-packages/rlberry/manager/evaluation.py:470\u001b[0m, in \u001b[0;36mplot_writer_data\u001b[0;34m(data_source, tag, xtag, id_agent, ax, show, preprocess_func, title, savefig_fname, sns_kwargs, smooth_weight, plot_raw_curves)\u001b[0m\n\u001b[1;32m    467\u001b[0m \u001b[39mif\u001b[39;00m xtag \u001b[39mis\u001b[39;00m \u001b[39mNone\u001b[39;00m:\n\u001b[1;32m    468\u001b[0m     xtag \u001b[39m=\u001b[39m \u001b[39m\"\u001b[39m\u001b[39mglobal_step\u001b[39m\u001b[39m\"\u001b[39m\n\u001b[0;32m--> 470\u001b[0m \u001b[39mif\u001b[39;00m data[xtag]\u001b[39m.\u001b[39mnotnull()\u001b[39m.\u001b[39msum() \u001b[39m>\u001b[39m \u001b[39m0\u001b[39m:\n\u001b[1;32m    471\u001b[0m     xx \u001b[39m=\u001b[39m xtag\n\u001b[1;32m    472\u001b[0m     \u001b[39mif\u001b[39;00m data[\u001b[39m\"\u001b[39m\u001b[39mglobal_step\u001b[39m\u001b[39m\"\u001b[39m]\u001b[39m.\u001b[39misna()\u001b[39m.\u001b[39msum() \u001b[39m>\u001b[39m \u001b[39m0\u001b[39m:\n",
      "File \u001b[0;32m/opt/homebrew/lib/python3.10/site-packages/pandas/core/frame.py:3807\u001b[0m, in \u001b[0;36mDataFrame.__getitem__\u001b[0;34m(self, key)\u001b[0m\n\u001b[1;32m   3805\u001b[0m \u001b[39mif\u001b[39;00m \u001b[39mself\u001b[39m\u001b[39m.\u001b[39mcolumns\u001b[39m.\u001b[39mnlevels \u001b[39m>\u001b[39m \u001b[39m1\u001b[39m:\n\u001b[1;32m   3806\u001b[0m     \u001b[39mreturn\u001b[39;00m \u001b[39mself\u001b[39m\u001b[39m.\u001b[39m_getitem_multilevel(key)\n\u001b[0;32m-> 3807\u001b[0m indexer \u001b[39m=\u001b[39m \u001b[39mself\u001b[39;49m\u001b[39m.\u001b[39;49mcolumns\u001b[39m.\u001b[39;49mget_loc(key)\n\u001b[1;32m   3808\u001b[0m \u001b[39mif\u001b[39;00m is_integer(indexer):\n\u001b[1;32m   3809\u001b[0m     indexer \u001b[39m=\u001b[39m [indexer]\n",
      "File \u001b[0;32m/opt/homebrew/lib/python3.10/site-packages/pandas/core/indexes/base.py:3804\u001b[0m, in \u001b[0;36mIndex.get_loc\u001b[0;34m(self, key, method, tolerance)\u001b[0m\n\u001b[1;32m   3802\u001b[0m     \u001b[39mreturn\u001b[39;00m \u001b[39mself\u001b[39m\u001b[39m.\u001b[39m_engine\u001b[39m.\u001b[39mget_loc(casted_key)\n\u001b[1;32m   3803\u001b[0m \u001b[39mexcept\u001b[39;00m \u001b[39mKeyError\u001b[39;00m \u001b[39mas\u001b[39;00m err:\n\u001b[0;32m-> 3804\u001b[0m     \u001b[39mraise\u001b[39;00m \u001b[39mKeyError\u001b[39;00m(key) \u001b[39mfrom\u001b[39;00m \u001b[39merr\u001b[39;00m\n\u001b[1;32m   3805\u001b[0m \u001b[39mexcept\u001b[39;00m \u001b[39mTypeError\u001b[39;00m:\n\u001b[1;32m   3806\u001b[0m     \u001b[39m# If we have a listlike key, _check_indexing_error will raise\u001b[39;00m\n\u001b[1;32m   3807\u001b[0m     \u001b[39m#  InvalidIndexError. Otherwise we fall through and re-raise\u001b[39;00m\n\u001b[1;32m   3808\u001b[0m     \u001b[39m#  the TypeError.\u001b[39;00m\n\u001b[1;32m   3809\u001b[0m     \u001b[39mself\u001b[39m\u001b[39m.\u001b[39m_check_indexing_error(key)\n",
      "\u001b[0;31mKeyError\u001b[0m: 'episode'"
     ]
    }
   ],
   "source": [
    "# Plot the results\n",
    "_ = plot_writer_data(dqn_manager, tag='rewards', title='Instantaneous Rewards')\n",
    "# _ = plot_writer_data(dqn_manager, tag='episode_rewards', xtag='episode', title='Episode Rewards')\n",
    "# _ = plot_writer_data(dqn_manager, tag='episode_rewards', xtag='episode', title='Cumulative Episode Rewards', preprocess_func=np.cumsum)\n",
    "\n",
    "# Render the policy of one of the trained agents\n",
    "agent_instance = dqn_manager.get_agent_instances()[0]\n",
    "render_policy(agent_instance.eval_env, agent_instance)"
   ]
  },
  {
   "cell_type": "code",
   "execution_count": null,
   "metadata": {},
   "outputs": [
    {
     "name": "stderr",
     "output_type": "stream",
     "text": [
      "2023-03-11 12:28:20,264\tINFO worker.py:1382 -- Calling ray.init() again after it has already been called.\n"
     ]
    },
    {
     "name": "stdout",
     "output_type": "stream",
     "text": [
      "Dashboard URL: http://\n",
      "\u001b[2m\u001b[1m\u001b[33m(autoscaler +7m54s)\u001b[0m Warning: The following resource request cannot be scheduled right now: {'CPU': 1.0}. This is likely due to all cluster resources being claimed by actors. Consider creating fewer actors or adding more nodes to this Ray cluster.\n"
     ]
    },
    {
     "name": "stderr",
     "output_type": "stream",
     "text": [
      "2023-03-11 12:28:36,134\tINFO trainable.py:172 -- Trainable.setup took 15.860 seconds. If your trainable is slow to initialize, consider setting reuse_actors=True to reduce actor creation overheads.\n",
      "2023-03-11 12:28:36,135\tWARNING util.py:67 -- Install gputil for GPU system monitoring.\n",
      "2023-03-11 12:28:36,143\tERROR actor_manager.py:496 -- Ray error, taking actor 1 out of service. \u001b[36mray::RolloutWorker.apply()\u001b[39m (pid=14413, ip=127.0.0.1, repr=<ray.rllib.evaluation.rollout_worker.RolloutWorker object at 0x300f57b50>)\n",
      "  File \"/opt/homebrew/lib/python3.10/site-packages/ray/rllib/utils/actor_manager.py\", line 183, in apply\n",
      "    raise e\n",
      "  File \"/opt/homebrew/lib/python3.10/site-packages/ray/rllib/utils/actor_manager.py\", line 174, in apply\n",
      "    return func(self, *args, **kwargs)\n",
      "  File \"/opt/homebrew/lib/python3.10/site-packages/ray/rllib/execution/rollout_ops.py\", line 86, in <lambda>\n",
      "    lambda w: w.sample(), local_worker=False, healthy_only=True\n",
      "  File \"/opt/homebrew/lib/python3.10/site-packages/ray/rllib/evaluation/rollout_worker.py\", line 914, in sample\n",
      "    batches = [self.input_reader.next()]\n",
      "  File \"/opt/homebrew/lib/python3.10/site-packages/ray/rllib/evaluation/sampler.py\", line 92, in next\n",
      "    batches = [self.get_data()]\n",
      "  File \"/opt/homebrew/lib/python3.10/site-packages/ray/rllib/evaluation/sampler.py\", line 277, in get_data\n",
      "    item = next(self._env_runner)\n",
      "  File \"/opt/homebrew/lib/python3.10/site-packages/ray/rllib/evaluation/env_runner_v2.py\", line 323, in run\n",
      "    outputs = self.step()\n",
      "  File \"/opt/homebrew/lib/python3.10/site-packages/ray/rllib/evaluation/env_runner_v2.py\", line 379, in step\n",
      "    self._base_env.send_actions(actions_to_send)\n",
      "  File \"/opt/homebrew/lib/python3.10/site-packages/ray/rllib/env/multi_agent_env.py\", line 656, in send_actions\n",
      "    raise e\n",
      "  File \"/opt/homebrew/lib/python3.10/site-packages/ray/rllib/env/multi_agent_env.py\", line 645, in send_actions\n",
      "    obs, rewards, terminateds, truncateds, infos = env.step(agent_dict)\n",
      "  File \"/Users/faridounet/PhD/TransportersDilemma/transporter_env.py\", line 236, in step\n",
      "    return self.env.step(actions)\n",
      "  File \"/Users/faridounet/PhD/TransportersDilemma/transporter_env.py\", line 197, in step\n",
      "    return self._get_state(), self._get_rewards(actions), done, trunc, self._get_info()\n",
      "  File \"/Users/faridounet/PhD/TransportersDilemma/transporter_env.py\", line 150, in _get_rewards\n",
      "    node = int(self.obs[\"0\"][2])\n",
      "KeyError: '0'\n",
      "2023-03-11 12:28:36,144\tERROR actor_manager.py:496 -- Ray error, taking actor 2 out of service. \u001b[36mray::RolloutWorker.apply()\u001b[39m (pid=14414, ip=127.0.0.1, repr=<ray.rllib.evaluation.rollout_worker.RolloutWorker object at 0x15fc57b20>)\n",
      "  File \"/opt/homebrew/lib/python3.10/site-packages/ray/rllib/utils/actor_manager.py\", line 183, in apply\n",
      "    raise e\n",
      "  File \"/opt/homebrew/lib/python3.10/site-packages/ray/rllib/utils/actor_manager.py\", line 174, in apply\n",
      "    return func(self, *args, **kwargs)\n",
      "  File \"/opt/homebrew/lib/python3.10/site-packages/ray/rllib/execution/rollout_ops.py\", line 86, in <lambda>\n",
      "    lambda w: w.sample(), local_worker=False, healthy_only=True\n",
      "  File \"/opt/homebrew/lib/python3.10/site-packages/ray/rllib/evaluation/rollout_worker.py\", line 914, in sample\n",
      "    batches = [self.input_reader.next()]\n",
      "  File \"/opt/homebrew/lib/python3.10/site-packages/ray/rllib/evaluation/sampler.py\", line 92, in next\n",
      "    batches = [self.get_data()]\n",
      "  File \"/opt/homebrew/lib/python3.10/site-packages/ray/rllib/evaluation/sampler.py\", line 277, in get_data\n",
      "    item = next(self._env_runner)\n",
      "  File \"/opt/homebrew/lib/python3.10/site-packages/ray/rllib/evaluation/env_runner_v2.py\", line 323, in run\n",
      "    outputs = self.step()\n",
      "  File \"/opt/homebrew/lib/python3.10/site-packages/ray/rllib/evaluation/env_runner_v2.py\", line 379, in step\n",
      "    self._base_env.send_actions(actions_to_send)\n",
      "  File \"/opt/homebrew/lib/python3.10/site-packages/ray/rllib/env/multi_agent_env.py\", line 656, in send_actions\n",
      "    raise e\n",
      "  File \"/opt/homebrew/lib/python3.10/site-packages/ray/rllib/env/multi_agent_env.py\", line 645, in send_actions\n",
      "    obs, rewards, terminateds, truncateds, infos = env.step(agent_dict)\n",
      "  File \"/Users/faridounet/PhD/TransportersDilemma/transporter_env.py\", line 236, in step\n",
      "    return self.env.step(actions)\n",
      "  File \"/Users/faridounet/PhD/TransportersDilemma/transporter_env.py\", line 197, in step\n",
      "    return self._get_state(), self._get_rewards(actions), done, trunc, self._get_info()\n",
      "  File \"/Users/faridounet/PhD/TransportersDilemma/transporter_env.py\", line 150, in _get_rewards\n",
      "    node = int(self.obs[\"0\"][2])\n",
      "KeyError: '0'\n",
      "2023-03-11 12:28:36,144\tERROR actor_manager.py:496 -- Ray error, taking actor 3 out of service. \u001b[36mray::RolloutWorker.apply()\u001b[39m (pid=14415, ip=127.0.0.1, repr=<ray.rllib.evaluation.rollout_worker.RolloutWorker object at 0x300553b20>)\n",
      "  File \"/opt/homebrew/lib/python3.10/site-packages/ray/rllib/utils/actor_manager.py\", line 183, in apply\n",
      "    raise e\n",
      "  File \"/opt/homebrew/lib/python3.10/site-packages/ray/rllib/utils/actor_manager.py\", line 174, in apply\n",
      "    return func(self, *args, **kwargs)\n",
      "  File \"/opt/homebrew/lib/python3.10/site-packages/ray/rllib/execution/rollout_ops.py\", line 86, in <lambda>\n",
      "    lambda w: w.sample(), local_worker=False, healthy_only=True\n",
      "  File \"/opt/homebrew/lib/python3.10/site-packages/ray/rllib/evaluation/rollout_worker.py\", line 914, in sample\n",
      "    batches = [self.input_reader.next()]\n",
      "  File \"/opt/homebrew/lib/python3.10/site-packages/ray/rllib/evaluation/sampler.py\", line 92, in next\n",
      "    batches = [self.get_data()]\n",
      "  File \"/opt/homebrew/lib/python3.10/site-packages/ray/rllib/evaluation/sampler.py\", line 277, in get_data\n",
      "    item = next(self._env_runner)\n",
      "  File \"/opt/homebrew/lib/python3.10/site-packages/ray/rllib/evaluation/env_runner_v2.py\", line 323, in run\n",
      "    outputs = self.step()\n",
      "  File \"/opt/homebrew/lib/python3.10/site-packages/ray/rllib/evaluation/env_runner_v2.py\", line 379, in step\n",
      "    self._base_env.send_actions(actions_to_send)\n",
      "  File \"/opt/homebrew/lib/python3.10/site-packages/ray/rllib/env/multi_agent_env.py\", line 656, in send_actions\n",
      "    raise e\n",
      "  File \"/opt/homebrew/lib/python3.10/site-packages/ray/rllib/env/multi_agent_env.py\", line 645, in send_actions\n",
      "    obs, rewards, terminateds, truncateds, infos = env.step(agent_dict)\n",
      "  File \"/Users/faridounet/PhD/TransportersDilemma/transporter_env.py\", line 236, in step\n",
      "    return self.env.step(actions)\n",
      "  File \"/Users/faridounet/PhD/TransportersDilemma/transporter_env.py\", line 197, in step\n",
      "    return self._get_state(), self._get_rewards(actions), done, trunc, self._get_info()\n",
      "  File \"/Users/faridounet/PhD/TransportersDilemma/transporter_env.py\", line 150, in _get_rewards\n",
      "    node = int(self.obs[\"0\"][2])\n",
      "KeyError: '0'\n",
      "2023-03-11 12:28:36,145\tERROR actor_manager.py:496 -- Ray error, taking actor 4 out of service. \u001b[36mray::RolloutWorker.apply()\u001b[39m (pid=14416, ip=127.0.0.1, repr=<ray.rllib.evaluation.rollout_worker.RolloutWorker object at 0x300b57b50>)\n",
      "  File \"/opt/homebrew/lib/python3.10/site-packages/ray/rllib/utils/actor_manager.py\", line 183, in apply\n",
      "    raise e\n",
      "  File \"/opt/homebrew/lib/python3.10/site-packages/ray/rllib/utils/actor_manager.py\", line 174, in apply\n",
      "    return func(self, *args, **kwargs)\n",
      "  File \"/opt/homebrew/lib/python3.10/site-packages/ray/rllib/execution/rollout_ops.py\", line 86, in <lambda>\n",
      "    lambda w: w.sample(), local_worker=False, healthy_only=True\n",
      "  File \"/opt/homebrew/lib/python3.10/site-packages/ray/rllib/evaluation/rollout_worker.py\", line 914, in sample\n",
      "    batches = [self.input_reader.next()]\n",
      "  File \"/opt/homebrew/lib/python3.10/site-packages/ray/rllib/evaluation/sampler.py\", line 92, in next\n",
      "    batches = [self.get_data()]\n",
      "  File \"/opt/homebrew/lib/python3.10/site-packages/ray/rllib/evaluation/sampler.py\", line 277, in get_data\n",
      "    item = next(self._env_runner)\n",
      "  File \"/opt/homebrew/lib/python3.10/site-packages/ray/rllib/evaluation/env_runner_v2.py\", line 323, in run\n",
      "    outputs = self.step()\n",
      "  File \"/opt/homebrew/lib/python3.10/site-packages/ray/rllib/evaluation/env_runner_v2.py\", line 379, in step\n",
      "    self._base_env.send_actions(actions_to_send)\n",
      "  File \"/opt/homebrew/lib/python3.10/site-packages/ray/rllib/env/multi_agent_env.py\", line 656, in send_actions\n",
      "    raise e\n",
      "  File \"/opt/homebrew/lib/python3.10/site-packages/ray/rllib/env/multi_agent_env.py\", line 645, in send_actions\n",
      "    obs, rewards, terminateds, truncateds, infos = env.step(agent_dict)\n",
      "  File \"/Users/faridounet/PhD/TransportersDilemma/transporter_env.py\", line 236, in step\n",
      "    return self.env.step(actions)\n",
      "  File \"/Users/faridounet/PhD/TransportersDilemma/transporter_env.py\", line 197, in step\n",
      "    return self._get_state(), self._get_rewards(actions), done, trunc, self._get_info()\n",
      "  File \"/Users/faridounet/PhD/TransportersDilemma/transporter_env.py\", line 150, in _get_rewards\n",
      "    node = int(self.obs[\"0\"][2])\n",
      "KeyError: '0'\n"
     ]
    },
    {
     "name": "stdout",
     "output_type": "stream",
     "text": [
      "\u001b[2m\u001b[36m(RolloutWorker pid=14415)\u001b[0m obs is : {}\n",
      "\u001b[2m\u001b[36m(RolloutWorker pid=14415)\u001b[0m ids is : []\n"
     ]
    },
    {
     "name": "stderr",
     "output_type": "stream",
     "text": [
      "\u001b[2m\u001b[36m(RolloutWorker pid=14415)\u001b[0m /opt/homebrew/lib/python3.10/site-packages/gymnasium/spaces/box.py:129: UserWarning: \u001b[33mWARN: Box bound precision lowered by casting to float32\u001b[0m\n",
      "\u001b[2m\u001b[36m(RolloutWorker pid=14415)\u001b[0m   gym.logger.warn(f\"Box bound precision lowered by casting to {self.dtype}\")\n",
      "\u001b[2m\u001b[36m(RolloutWorker pid=14413)\u001b[0m /opt/homebrew/lib/python3.10/site-packages/gymnasium/spaces/box.py:129: UserWarning: \u001b[33mWARN: Box bound precision lowered by casting to float32\u001b[0m\n",
      "\u001b[2m\u001b[36m(RolloutWorker pid=14413)\u001b[0m   gym.logger.warn(f\"Box bound precision lowered by casting to {self.dtype}\")\n",
      "\u001b[2m\u001b[36m(RolloutWorker pid=14413)\u001b[0m 2023-03-11 12:28:36,068\tWARNING env.py:296 -- Your MultiAgentEnv <MAT instance> does not have some or all of the needed base-class attributes! Make sure you call `super().__init__()` from within your MutiAgentEnv's constructor. This will raise an error in the future.\n",
      "\u001b[2m\u001b[36m(RolloutWorker pid=14414)\u001b[0m /opt/homebrew/lib/python3.10/site-packages/gymnasium/spaces/box.py:129: UserWarning: \u001b[33mWARN: Box bound precision lowered by casting to float32\u001b[0m\n",
      "\u001b[2m\u001b[36m(RolloutWorker pid=14414)\u001b[0m   gym.logger.warn(f\"Box bound precision lowered by casting to {self.dtype}\")\n",
      "\u001b[2m\u001b[36m(RolloutWorker pid=14416)\u001b[0m /opt/homebrew/lib/python3.10/site-packages/gymnasium/spaces/box.py:129: UserWarning: \u001b[33mWARN: Box bound precision lowered by casting to float32\u001b[0m\n",
      "\u001b[2m\u001b[36m(RolloutWorker pid=14416)\u001b[0m   gym.logger.warn(f\"Box bound precision lowered by casting to {self.dtype}\")\n"
     ]
    },
    {
     "ename": "RayTaskError(KeyError)",
     "evalue": "\u001b[36mray::RolloutWorker.apply()\u001b[39m (pid=14413, ip=127.0.0.1, repr=<ray.rllib.evaluation.rollout_worker.RolloutWorker object at 0x300f57b50>)\n  File \"/opt/homebrew/lib/python3.10/site-packages/ray/rllib/utils/actor_manager.py\", line 183, in apply\n    raise e\n  File \"/opt/homebrew/lib/python3.10/site-packages/ray/rllib/utils/actor_manager.py\", line 174, in apply\n    return func(self, *args, **kwargs)\n  File \"/opt/homebrew/lib/python3.10/site-packages/ray/rllib/execution/rollout_ops.py\", line 86, in <lambda>\n    lambda w: w.sample(), local_worker=False, healthy_only=True\n  File \"/opt/homebrew/lib/python3.10/site-packages/ray/rllib/evaluation/rollout_worker.py\", line 914, in sample\n    batches = [self.input_reader.next()]\n  File \"/opt/homebrew/lib/python3.10/site-packages/ray/rllib/evaluation/sampler.py\", line 92, in next\n    batches = [self.get_data()]\n  File \"/opt/homebrew/lib/python3.10/site-packages/ray/rllib/evaluation/sampler.py\", line 277, in get_data\n    item = next(self._env_runner)\n  File \"/opt/homebrew/lib/python3.10/site-packages/ray/rllib/evaluation/env_runner_v2.py\", line 323, in run\n    outputs = self.step()\n  File \"/opt/homebrew/lib/python3.10/site-packages/ray/rllib/evaluation/env_runner_v2.py\", line 379, in step\n    self._base_env.send_actions(actions_to_send)\n  File \"/opt/homebrew/lib/python3.10/site-packages/ray/rllib/env/multi_agent_env.py\", line 656, in send_actions\n    raise e\n  File \"/opt/homebrew/lib/python3.10/site-packages/ray/rllib/env/multi_agent_env.py\", line 645, in send_actions\n    obs, rewards, terminateds, truncateds, infos = env.step(agent_dict)\n  File \"/Users/faridounet/PhD/TransportersDilemma/transporter_env.py\", line 236, in step\n    return self.env.step(actions)\n  File \"/Users/faridounet/PhD/TransportersDilemma/transporter_env.py\", line 197, in step\n    return self._get_state(), self._get_rewards(actions), done, trunc, self._get_info()\n  File \"/Users/faridounet/PhD/TransportersDilemma/transporter_env.py\", line 150, in _get_rewards\n    node = int(self.obs[\"0\"][2])\nKeyError: '0'",
     "output_type": "error",
     "traceback": [
      "\u001b[0;31m---------------------------------------------------------------------------\u001b[0m",
      "\u001b[0;31mRayTaskError(KeyError)\u001b[0m                    Traceback (most recent call last)",
      "Cell \u001b[0;32mIn[4], line 48\u001b[0m\n\u001b[1;32m     39\u001b[0m config \u001b[39m=\u001b[39m config\u001b[39m.\u001b[39mmulti_agent(\n\u001b[1;32m     40\u001b[0m     policies \u001b[39m=\u001b[39m {\n\u001b[1;32m     41\u001b[0m         \u001b[39m\"\u001b[39m\u001b[39m0\u001b[39m\u001b[39m\"\u001b[39m : PolicySpec(config\u001b[39m=\u001b[39msac\u001b[39m.\u001b[39mSACConfig\u001b[39m.\u001b[39moverrides()), \n\u001b[0;32m   (...)\u001b[0m\n\u001b[1;32m     44\u001b[0m     policy_mapping_fn \u001b[39m=\u001b[39m (\u001b[39mlambda\u001b[39;00m agent_id, \u001b[39m*\u001b[39margs, \u001b[39m*\u001b[39m\u001b[39m*\u001b[39mkwargs: agent_id),\n\u001b[1;32m     45\u001b[0m )\n\u001b[1;32m     47\u001b[0m algo \u001b[39m=\u001b[39m config\u001b[39m.\u001b[39mbuild()  \n\u001b[0;32m---> 48\u001b[0m algo\u001b[39m.\u001b[39;49mtrain() \n\u001b[1;32m     49\u001b[0m \u001b[39m# Other settings we might adjust:\u001b[39;00m\n\u001b[1;32m     50\u001b[0m \u001b[39m# config[\"num_workers\"] = 10                       # Use > 1 for using more CPU cores, including over a cluster\u001b[39;00m\n\u001b[1;32m     51\u001b[0m                                                 \u001b[39m# I.e., for each minibatch of data, do this many passes over it to train. \u001b[39;00m\n\u001b[0;32m   (...)\u001b[0m\n\u001b[1;32m    100\u001b[0m \u001b[39m#     with open('ma_ppo3/rewards.json', 'w') as outfile:\u001b[39;00m\n\u001b[1;32m    101\u001b[0m \u001b[39m#         json.dump(episode_json, outfile)\u001b[39;00m\n",
      "File \u001b[0;32m/opt/homebrew/lib/python3.10/site-packages/ray/tune/trainable/trainable.py:368\u001b[0m, in \u001b[0;36mTrainable.train\u001b[0;34m(self)\u001b[0m\n\u001b[1;32m    366\u001b[0m \u001b[39mexcept\u001b[39;00m \u001b[39mException\u001b[39;00m \u001b[39mas\u001b[39;00m e:\n\u001b[1;32m    367\u001b[0m     skipped \u001b[39m=\u001b[39m skip_exceptions(e)\n\u001b[0;32m--> 368\u001b[0m     \u001b[39mraise\u001b[39;00m skipped \u001b[39mfrom\u001b[39;00m \u001b[39mexception_cause\u001b[39;00m(skipped)\n\u001b[1;32m    370\u001b[0m \u001b[39massert\u001b[39;00m \u001b[39misinstance\u001b[39m(result, \u001b[39mdict\u001b[39m), \u001b[39m\"\u001b[39m\u001b[39mstep() needs to return a dict.\u001b[39m\u001b[39m\"\u001b[39m\n\u001b[1;32m    372\u001b[0m \u001b[39m# We do not modify internal state nor update this result if duplicate.\u001b[39;00m\n",
      "File \u001b[0;32m/opt/homebrew/lib/python3.10/site-packages/ray/tune/trainable/trainable.py:365\u001b[0m, in \u001b[0;36mTrainable.train\u001b[0;34m(self)\u001b[0m\n\u001b[1;32m    363\u001b[0m start \u001b[39m=\u001b[39m time\u001b[39m.\u001b[39mtime()\n\u001b[1;32m    364\u001b[0m \u001b[39mtry\u001b[39;00m:\n\u001b[0;32m--> 365\u001b[0m     result \u001b[39m=\u001b[39m \u001b[39mself\u001b[39;49m\u001b[39m.\u001b[39;49mstep()\n\u001b[1;32m    366\u001b[0m \u001b[39mexcept\u001b[39;00m \u001b[39mException\u001b[39;00m \u001b[39mas\u001b[39;00m e:\n\u001b[1;32m    367\u001b[0m     skipped \u001b[39m=\u001b[39m skip_exceptions(e)\n",
      "File \u001b[0;32m/opt/homebrew/lib/python3.10/site-packages/ray/rllib/algorithms/algorithm.py:782\u001b[0m, in \u001b[0;36mAlgorithm.step\u001b[0;34m(self)\u001b[0m\n\u001b[1;32m    774\u001b[0m     (\n\u001b[1;32m    775\u001b[0m         results,\n\u001b[1;32m    776\u001b[0m         train_iter_ctx,\n\u001b[1;32m    777\u001b[0m     ) \u001b[39m=\u001b[39m \u001b[39mself\u001b[39m\u001b[39m.\u001b[39m_run_one_training_iteration_and_evaluation_in_parallel()\n\u001b[1;32m    778\u001b[0m \u001b[39m# - No evaluation necessary, just run the next training iteration.\u001b[39;00m\n\u001b[1;32m    779\u001b[0m \u001b[39m# - We have to evaluate in this training iteration, but no parallelism ->\u001b[39;00m\n\u001b[1;32m    780\u001b[0m \u001b[39m#   evaluate after the training iteration is entirely done.\u001b[39;00m\n\u001b[1;32m    781\u001b[0m \u001b[39melse\u001b[39;00m:\n\u001b[0;32m--> 782\u001b[0m     results, train_iter_ctx \u001b[39m=\u001b[39m \u001b[39mself\u001b[39;49m\u001b[39m.\u001b[39;49m_run_one_training_iteration()\n\u001b[1;32m    784\u001b[0m \u001b[39m# Sequential: Train (already done above), then evaluate.\u001b[39;00m\n\u001b[1;32m    785\u001b[0m \u001b[39mif\u001b[39;00m evaluate_this_iter \u001b[39mand\u001b[39;00m \u001b[39mnot\u001b[39;00m \u001b[39mself\u001b[39m\u001b[39m.\u001b[39mconfig\u001b[39m.\u001b[39mevaluation_parallel_to_training:\n",
      "File \u001b[0;32m/opt/homebrew/lib/python3.10/site-packages/ray/rllib/algorithms/algorithm.py:2713\u001b[0m, in \u001b[0;36mAlgorithm._run_one_training_iteration\u001b[0;34m(self)\u001b[0m\n\u001b[1;32m   2711\u001b[0m \u001b[39mwith\u001b[39;00m \u001b[39mself\u001b[39m\u001b[39m.\u001b[39m_timers[TRAINING_ITERATION_TIMER]:\n\u001b[1;32m   2712\u001b[0m     \u001b[39mif\u001b[39;00m \u001b[39mself\u001b[39m\u001b[39m.\u001b[39mconfig\u001b[39m.\u001b[39m_disable_execution_plan_api:\n\u001b[0;32m-> 2713\u001b[0m         results \u001b[39m=\u001b[39m \u001b[39mself\u001b[39;49m\u001b[39m.\u001b[39;49mtraining_step()\n\u001b[1;32m   2714\u001b[0m     \u001b[39melse\u001b[39;00m:\n\u001b[1;32m   2715\u001b[0m         results \u001b[39m=\u001b[39m \u001b[39mnext\u001b[39m(\u001b[39mself\u001b[39m\u001b[39m.\u001b[39mtrain_exec_impl)\n",
      "File \u001b[0;32m/opt/homebrew/lib/python3.10/site-packages/ray/rllib/algorithms/dqn/dqn.py:405\u001b[0m, in \u001b[0;36mDQN.training_step\u001b[0;34m(self)\u001b[0m\n\u001b[1;32m    401\u001b[0m store_weight, sample_and_train_weight \u001b[39m=\u001b[39m calculate_rr_weights(\u001b[39mself\u001b[39m\u001b[39m.\u001b[39mconfig)\n\u001b[1;32m    403\u001b[0m \u001b[39mfor\u001b[39;00m _ \u001b[39min\u001b[39;00m \u001b[39mrange\u001b[39m(store_weight):\n\u001b[1;32m    404\u001b[0m     \u001b[39m# Sample (MultiAgentBatch) from workers.\u001b[39;00m\n\u001b[0;32m--> 405\u001b[0m     new_sample_batch \u001b[39m=\u001b[39m synchronous_parallel_sample(\n\u001b[1;32m    406\u001b[0m         worker_set\u001b[39m=\u001b[39;49m\u001b[39mself\u001b[39;49m\u001b[39m.\u001b[39;49mworkers, concat\u001b[39m=\u001b[39;49m\u001b[39mTrue\u001b[39;49;00m\n\u001b[1;32m    407\u001b[0m     )\n\u001b[1;32m    409\u001b[0m     \u001b[39m# Update counters\u001b[39;00m\n\u001b[1;32m    410\u001b[0m     \u001b[39mself\u001b[39m\u001b[39m.\u001b[39m_counters[NUM_AGENT_STEPS_SAMPLED] \u001b[39m+\u001b[39m\u001b[39m=\u001b[39m new_sample_batch\u001b[39m.\u001b[39magent_steps()\n",
      "File \u001b[0;32m/opt/homebrew/lib/python3.10/site-packages/ray/rllib/execution/rollout_ops.py:85\u001b[0m, in \u001b[0;36msynchronous_parallel_sample\u001b[0;34m(worker_set, max_agent_steps, max_env_steps, concat)\u001b[0m\n\u001b[1;32m     82\u001b[0m     sample_batches \u001b[39m=\u001b[39m [worker_set\u001b[39m.\u001b[39mlocal_worker()\u001b[39m.\u001b[39msample()]\n\u001b[1;32m     83\u001b[0m \u001b[39m# Loop over remote workers' `sample()` method in parallel.\u001b[39;00m\n\u001b[1;32m     84\u001b[0m \u001b[39melse\u001b[39;00m:\n\u001b[0;32m---> 85\u001b[0m     sample_batches \u001b[39m=\u001b[39m worker_set\u001b[39m.\u001b[39;49mforeach_worker(\n\u001b[1;32m     86\u001b[0m         \u001b[39mlambda\u001b[39;49;00m w: w\u001b[39m.\u001b[39;49msample(), local_worker\u001b[39m=\u001b[39;49m\u001b[39mFalse\u001b[39;49;00m, healthy_only\u001b[39m=\u001b[39;49m\u001b[39mTrue\u001b[39;49;00m\n\u001b[1;32m     87\u001b[0m     )\n\u001b[1;32m     88\u001b[0m     \u001b[39mif\u001b[39;00m worker_set\u001b[39m.\u001b[39mnum_healthy_remote_workers() \u001b[39m<\u001b[39m\u001b[39m=\u001b[39m \u001b[39m0\u001b[39m:\n\u001b[1;32m     89\u001b[0m         \u001b[39m# There is no point staying in this loop, since we will not be able to\u001b[39;00m\n\u001b[1;32m     90\u001b[0m         \u001b[39m# get any new samples if we don't have any healthy remote workers left.\u001b[39;00m\n\u001b[1;32m     91\u001b[0m         \u001b[39mbreak\u001b[39;00m\n",
      "File \u001b[0;32m/opt/homebrew/lib/python3.10/site-packages/ray/rllib/evaluation/worker_set.py:701\u001b[0m, in \u001b[0;36mWorkerSet.foreach_worker\u001b[0;34m(self, func, local_worker, healthy_only, remote_worker_ids, timeout_seconds, return_obj_refs, mark_healthy)\u001b[0m\n\u001b[1;32m    690\u001b[0m     local_result \u001b[39m=\u001b[39m [func(\u001b[39mself\u001b[39m\u001b[39m.\u001b[39mlocal_worker())]\n\u001b[1;32m    692\u001b[0m remote_results \u001b[39m=\u001b[39m \u001b[39mself\u001b[39m\u001b[39m.\u001b[39m__worker_manager\u001b[39m.\u001b[39mforeach_actor(\n\u001b[1;32m    693\u001b[0m     func,\n\u001b[1;32m    694\u001b[0m     healthy_only\u001b[39m=\u001b[39mhealthy_only,\n\u001b[0;32m   (...)\u001b[0m\n\u001b[1;32m    698\u001b[0m     mark_healthy\u001b[39m=\u001b[39mmark_healthy,\n\u001b[1;32m    699\u001b[0m )\n\u001b[0;32m--> 701\u001b[0m handle_remote_call_result_errors(remote_results, \u001b[39mself\u001b[39;49m\u001b[39m.\u001b[39;49m_ignore_worker_failures)\n\u001b[1;32m    703\u001b[0m \u001b[39m# With application errors handled, return good results.\u001b[39;00m\n\u001b[1;32m    704\u001b[0m remote_results \u001b[39m=\u001b[39m [r\u001b[39m.\u001b[39mget() \u001b[39mfor\u001b[39;00m r \u001b[39min\u001b[39;00m remote_results\u001b[39m.\u001b[39mignore_errors()]\n",
      "File \u001b[0;32m/opt/homebrew/lib/python3.10/site-packages/ray/rllib/evaluation/worker_set.py:74\u001b[0m, in \u001b[0;36mhandle_remote_call_result_errors\u001b[0;34m(results, ignore_worker_failures)\u001b[0m\n\u001b[1;32m     72\u001b[0m     logger\u001b[39m.\u001b[39mexception(r\u001b[39m.\u001b[39mget())\n\u001b[1;32m     73\u001b[0m \u001b[39melse\u001b[39;00m:\n\u001b[0;32m---> 74\u001b[0m     \u001b[39mraise\u001b[39;00m r\u001b[39m.\u001b[39mget()\n",
      "\u001b[0;31mRayTaskError(KeyError)\u001b[0m: \u001b[36mray::RolloutWorker.apply()\u001b[39m (pid=14413, ip=127.0.0.1, repr=<ray.rllib.evaluation.rollout_worker.RolloutWorker object at 0x300f57b50>)\n  File \"/opt/homebrew/lib/python3.10/site-packages/ray/rllib/utils/actor_manager.py\", line 183, in apply\n    raise e\n  File \"/opt/homebrew/lib/python3.10/site-packages/ray/rllib/utils/actor_manager.py\", line 174, in apply\n    return func(self, *args, **kwargs)\n  File \"/opt/homebrew/lib/python3.10/site-packages/ray/rllib/execution/rollout_ops.py\", line 86, in <lambda>\n    lambda w: w.sample(), local_worker=False, healthy_only=True\n  File \"/opt/homebrew/lib/python3.10/site-packages/ray/rllib/evaluation/rollout_worker.py\", line 914, in sample\n    batches = [self.input_reader.next()]\n  File \"/opt/homebrew/lib/python3.10/site-packages/ray/rllib/evaluation/sampler.py\", line 92, in next\n    batches = [self.get_data()]\n  File \"/opt/homebrew/lib/python3.10/site-packages/ray/rllib/evaluation/sampler.py\", line 277, in get_data\n    item = next(self._env_runner)\n  File \"/opt/homebrew/lib/python3.10/site-packages/ray/rllib/evaluation/env_runner_v2.py\", line 323, in run\n    outputs = self.step()\n  File \"/opt/homebrew/lib/python3.10/site-packages/ray/rllib/evaluation/env_runner_v2.py\", line 379, in step\n    self._base_env.send_actions(actions_to_send)\n  File \"/opt/homebrew/lib/python3.10/site-packages/ray/rllib/env/multi_agent_env.py\", line 656, in send_actions\n    raise e\n  File \"/opt/homebrew/lib/python3.10/site-packages/ray/rllib/env/multi_agent_env.py\", line 645, in send_actions\n    obs, rewards, terminateds, truncateds, infos = env.step(agent_dict)\n  File \"/Users/faridounet/PhD/TransportersDilemma/transporter_env.py\", line 236, in step\n    return self.env.step(actions)\n  File \"/Users/faridounet/PhD/TransportersDilemma/transporter_env.py\", line 197, in step\n    return self._get_state(), self._get_rewards(actions), done, trunc, self._get_info()\n  File \"/Users/faridounet/PhD/TransportersDilemma/transporter_env.py\", line 150, in _get_rewards\n    node = int(self.obs[\"0\"][2])\nKeyError: '0'"
     ]
    },
    {
     "name": "stdout",
     "output_type": "stream",
     "text": [
      "\u001b[2m\u001b[36m(RolloutWorker pid=14414)\u001b[0m obs is : {}\n",
      "\u001b[2m\u001b[36m(RolloutWorker pid=14414)\u001b[0m ids is : []\n",
      "\u001b[2m\u001b[36m(RolloutWorker pid=14413)\u001b[0m obs is : {}\n",
      "\u001b[2m\u001b[36m(RolloutWorker pid=14413)\u001b[0m ids is : []\n",
      "\u001b[2m\u001b[36m(RolloutWorker pid=14416)\u001b[0m obs is : {}\n",
      "\u001b[2m\u001b[36m(RolloutWorker pid=14416)\u001b[0m ids is : []\n"
     ]
    }
   ],
   "source": [
    "import ray\n",
    "from ray.rllib.algorithms.sac import sac\n",
    "from transporter_env import TransportEnv, MAT, OneDynamicTransporter\n",
    "from ray.rllib.policy.policy import PolicySpec\n",
    "\n",
    "import pandas as pd\n",
    "import json\n",
    "import os\n",
    "import shutil\n",
    "import sys\n",
    "\n",
    "checkpoint_root = \"./ma_sac\"\n",
    "# Where checkpoints are written:\n",
    "shutil.rmtree(checkpoint_root, ignore_errors=True, onerror=None)\n",
    "\n",
    "# Where some data will be written and used by Tensorboard below:\n",
    "ray_results = f'{os.getenv(\"HOME\")}/ray_results/'\n",
    "shutil.rmtree(ray_results, ignore_errors=True, onerror=None)\n",
    "\n",
    "info = ray.init(ignore_reinit_error=True)\n",
    "print(\"Dashboard URL: http://{}\".format(info[\"webui_url\"]))\n",
    "\n",
    "from ray.tune.registry import register_env\n",
    "\n",
    "# register_env(\"MAT\", MAT)\n",
    "\n",
    "#Configs\n",
    "N_ITER = 1000                                     # Number of training runs.\n",
    "\n",
    "config = sac.SACConfig()             # PPO's default configuration. See the next code cell.\n",
    "config = config.environment(env=MAT, disable_env_checking=False)\n",
    "# config = config.training(\n",
    "#     num_sgd_iter = 10, # Number of SGD (stochastic gradient descent) iterations per training minibatch.\n",
    "#     #vf_clip_param = 100,\n",
    "# ) \n",
    "config = config.framework('torch')\n",
    "\n",
    "config = config.rollouts(num_rollout_workers=4) \n",
    "config = config.multi_agent(\n",
    "    policies = {\n",
    "        \"0\" : PolicySpec(config=sac.SACConfig.overrides()), \n",
    "        \"1\" : PolicySpec(config=sac.SACConfig.overrides())\n",
    "    },\n",
    "    policy_mapping_fn = (lambda agent_id, *args, **kwargs: agent_id),\n",
    ")\n",
    "\n",
    "algo = config.build()  \n",
    "algo.train() \n",
    "# Other settings we might adjust:\n",
    "# config[\"num_workers\"] = 10                       # Use > 1 for using more CPU cores, including over a cluster\n",
    "                                                # I.e., for each minibatch of data, do this many passes over it to train. \n",
    "# config[\"model\"][\"fcnet_hiddens\"] = [100, 50]    #\n",
    "\n",
    "# config.environment(disable_env_checking=True)\n",
    "\n",
    "# from ray.rllib.policy.policy import PolicySpec, Policy\n",
    "    \n",
    "# def policy_mapping_fn(agent_id, episode, worker, **kwargs):\n",
    "#     return agent_id\n",
    "\n",
    "    \n",
    "\n",
    "# config[\"multiagent\"] = {\n",
    "#     \"policies\" : {\n",
    "#         \"0\" : PolicySpec(\n",
    "#             action_space=env.action_space\n",
    "#         ),\n",
    "#         \"1\" : PolicySpec(\n",
    "#             action_space=env.action_space\n",
    "#         )\n",
    "#     },\n",
    "#     \"policy_mapping_fn\":\n",
    "#             policy_mapping_fn,\n",
    "#     \"policies_to_train\": [\"0\", \"1\"],\n",
    "# }\n",
    "\n",
    "# #Trainer\n",
    "# agent = ppo.PPOTrainer(config, env=SELECT_ENV)\n",
    "\n",
    "# results = []\n",
    "# episode_data = []\n",
    "# episode_json = []\n",
    "\n",
    "# for n in range(N_ITER):\n",
    "#     result = agent.train()\n",
    "#     results.append(result)\n",
    "    \n",
    "#     episode = {'n': n, \n",
    "#                'episode_reward_min': result['episode_reward_min'], \n",
    "#                'episode_reward_mean': result['episode_reward_mean'], \n",
    "#                'episode_reward_max': result['episode_reward_max'],  \n",
    "#                'episode_len_mean': result['episode_len_mean']}\n",
    "    \n",
    "#     episode_data.append(episode)\n",
    "#     episode_json.append(json.dumps(episode))\n",
    "#     file_name = agent.save(checkpoint_root)\n",
    "    \n",
    "#     print(f'{n:3d}: Min/Mean/Max reward: {result[\"episode_reward_min\"]:8.4f}/{result[\"episode_reward_mean\"]:8.4f}/{result[\"episode_reward_max\"]:8.4f}. Checkpoint saved to {file_name}')\n",
    "\n",
    "#     with open('ma_ppo3/rewards.json', 'w') as outfile:\n",
    "#         json.dump(episode_json, outfile)"
   ]
  },
  {
   "cell_type": "code",
   "execution_count": null,
   "metadata": {},
   "outputs": [],
   "source": []
  },
  {
   "cell_type": "code",
   "execution_count": null,
   "metadata": {},
   "outputs": [],
   "source": []
  },
  {
   "cell_type": "code",
   "execution_count": null,
   "metadata": {},
   "outputs": [],
   "source": []
  },
  {
   "cell_type": "code",
   "execution_count": null,
   "metadata": {},
   "outputs": [],
   "source": []
  },
  {
   "cell_type": "code",
   "execution_count": null,
   "metadata": {},
   "outputs": [],
   "source": []
  },
  {
   "cell_type": "code",
   "execution_count": null,
   "metadata": {},
   "outputs": [],
   "source": []
  },
  {
   "cell_type": "code",
   "execution_count": null,
   "metadata": {},
   "outputs": [],
   "source": []
  },
  {
   "cell_type": "code",
   "execution_count": null,
   "metadata": {},
   "outputs": [],
   "source": []
  },
  {
   "cell_type": "code",
   "execution_count": null,
   "metadata": {},
   "outputs": [
    {
     "name": "stderr",
     "output_type": "stream",
     "text": [
      "2023-03-11 14:36:47,210\tINFO worker.py:1553 -- Started a local Ray instance.\n"
     ]
    },
    {
     "name": "stdout",
     "output_type": "stream",
     "text": [
      "Dashboard URL: http://\n",
      "{'extra_python_environs_for_driver': {}, 'extra_python_environs_for_worker': {}, 'num_gpus': 0, 'num_cpus_per_worker': 1, 'num_gpus_per_worker': 0, '_fake_gpus': False, 'num_trainer_workers': 0, 'num_gpus_per_trainer_worker': 0, 'num_cpus_per_trainer_worker': 1, 'custom_resources_per_worker': {}, 'placement_strategy': 'PACK', 'eager_tracing': False, 'eager_max_retraces': 20, 'tf_session_args': {'intra_op_parallelism_threads': 2, 'inter_op_parallelism_threads': 2, 'gpu_options': {'allow_growth': True}, 'log_device_placement': False, 'device_count': {'CPU': 1}, 'allow_soft_placement': True}, 'local_tf_session_args': {'intra_op_parallelism_threads': 8, 'inter_op_parallelism_threads': 8}, 'env': <class 'transporter_env.OneDynamicTransporter'>, 'env_config': {}, 'observation_space': None, 'action_space': None, 'env_task_fn': None, 'render_env': False, 'clip_rewards': None, 'normalize_actions': True, 'clip_actions': False, 'disable_env_checking': True, 'is_atari': None, 'auto_wrap_old_gym_envs': True, 'num_envs_per_worker': 1, 'sample_collector': <class 'ray.rllib.evaluation.collectors.simple_list_collector.SimpleListCollector'>, 'sample_async': False, 'enable_connectors': True, 'rollout_fragment_length': 'auto', 'batch_mode': 'truncate_episodes', 'remote_worker_envs': False, 'remote_env_batch_wait_ms': 0, 'validate_workers_after_construction': True, 'ignore_worker_failures': False, 'recreate_failed_workers': False, 'restart_failed_sub_environments': False, 'num_consecutive_worker_failures_tolerance': 100, 'preprocessor_pref': 'deepmind', 'observation_filter': 'NoFilter', 'synchronize_filters': True, 'compress_observations': False, 'enable_tf1_exec_eagerly': False, 'sampler_perf_stats_ema_coef': None, 'worker_health_probe_timeout_s': 60, 'worker_restore_timeout_s': 1800, 'gamma': 0.99, 'lr': 5e-05, 'train_batch_size': 4000, 'model': {'_disable_preprocessor_api': False, '_disable_action_flattening': False, 'fcnet_hiddens': [256, 256], 'fcnet_activation': 'tanh', 'conv_filters': None, 'conv_activation': 'relu', 'post_fcnet_hiddens': [], 'post_fcnet_activation': 'relu', 'free_log_std': False, 'no_final_linear': False, 'vf_share_layers': False, 'use_lstm': False, 'max_seq_len': 20, 'lstm_cell_size': 256, 'lstm_use_prev_action': False, 'lstm_use_prev_reward': False, '_time_major': False, 'use_attention': False, 'attention_num_transformer_units': 1, 'attention_dim': 64, 'attention_num_heads': 1, 'attention_head_dim': 32, 'attention_memory_inference': 50, 'attention_memory_training': 50, 'attention_position_wise_mlp_dim': 32, 'attention_init_gru_gate_bias': 2.0, 'attention_use_n_prev_actions': 0, 'attention_use_n_prev_rewards': 0, 'framestack': True, 'dim': 84, 'grayscale': False, 'zero_mean': True, 'custom_model': None, 'custom_model_config': {}, 'custom_action_dist': None, 'custom_preprocessor': None, 'lstm_use_prev_action_reward': -1, '_use_default_native_models': -1}, 'optimizer': {}, 'max_requests_in_flight_per_sampler_worker': 2, 'rl_trainer_class': None, '_enable_rl_trainer_api': False, '_rl_trainer_hps': RLTrainerHPs(), 'explore': True, 'exploration_config': {'type': 'StochasticSampling'}, 'policies': {'default_policy': <ray.rllib.policy.policy.PolicySpec object at 0x2a4a6f2e0>}, 'policy_states_are_swappable': False, 'input_config': {}, 'actions_in_input_normalized': False, 'postprocess_inputs': False, 'shuffle_buffer_size': 0, 'output': None, 'output_config': {}, 'output_compress_columns': ['obs', 'new_obs'], 'output_max_file_size': 67108864, 'offline_sampling': False, 'evaluation_interval': None, 'evaluation_duration': 10, 'evaluation_duration_unit': 'episodes', 'evaluation_sample_timeout_s': 180.0, 'evaluation_parallel_to_training': False, 'evaluation_config': None, 'off_policy_estimation_methods': {}, 'ope_split_batch_by_episode': True, 'evaluation_num_workers': 0, 'always_attach_evaluation_results': False, 'enable_async_evaluation': False, 'in_evaluation': False, 'sync_filters_on_rollout_workers_timeout_s': 60.0, 'keep_per_episode_custom_metrics': False, 'metrics_episode_collection_timeout_s': 60.0, 'metrics_num_episodes_for_smoothing': 100, 'min_time_s_per_iteration': None, 'min_train_timesteps_per_iteration': 0, 'min_sample_timesteps_per_iteration': 0, 'export_native_model_files': False, 'checkpoint_trainable_policies_only': False, 'logger_creator': None, 'logger_config': None, 'log_level': 'WARN', 'log_sys_usage': True, 'fake_sampler': False, 'seed': None, 'worker_cls': None, 'rl_module_class': None, '_enable_rl_module_api': False, '_tf_policy_handles_more_than_one_loss': False, '_disable_preprocessor_api': False, '_disable_action_flattening': False, '_disable_execution_plan_api': True, 'simple_optimizer': -1, 'replay_sequence_length': None, 'horizon': -1, 'soft_horizon': -1, 'no_done_at_end': -1, 'lr_schedule': None, 'use_critic': True, 'use_gae': True, 'kl_coeff': 0.2, 'sgd_minibatch_size': 128, 'num_sgd_iter': 10, 'shuffle_sequences': True, 'vf_loss_coeff': 1.0, 'entropy_coeff': 0.0, 'entropy_coeff_schedule': None, 'clip_param': 0.3, 'vf_clip_param': 10.0, 'grad_clip': None, 'kl_target': 0.01, 'vf_share_layers': -1, 'lambda': 1.0, 'input': 'sampler', 'multiagent': {'policies': {'default_policy': (None, None, None, None)}, 'policy_mapping_fn': <function AlgorithmConfig.__init__.<locals>.<lambda> at 0x2a4a66d40>, 'policies_to_train': None, 'policy_map_capacity': 100, 'policy_map_cache': -1, 'count_steps_by': 'env_steps', 'observation_fn': None}, 'callbacks': <class 'ray.rllib.algorithms.callbacks.DefaultCallbacks'>, 'create_env_on_driver': False, 'custom_eval_function': None, 'framework': 'torch', 'num_cpus_for_driver': 1, 'num_workers': 4}\n"
     ]
    },
    {
     "name": "stderr",
     "output_type": "stream",
     "text": [
      "/var/folders/6y/xmdymgfj6t79xkdq239jvsmm0000gn/T/ipykernel_28195/1633673784.py:20: DeprecationWarning: Accessing values through ctx[\"webui_url\"] is deprecated. Use ctx.address_info[\"webui_url\"] instead.\n",
      "  print(\"Dashboard URL: http://{}\".format(info[\"webui_url\"]))\n"
     ]
    }
   ],
   "source": [
    "import ray\n",
    "from ray.rllib.algorithms.ppo import ppo\n",
    "from transporter_env import TransportEnv, MAT, OneDynamicTransporter\n",
    "\n",
    "import pandas as pd\n",
    "import json\n",
    "import os\n",
    "import shutil\n",
    "import sys\n",
    "\n",
    "checkpoint_root = \"./ma_ppo\"\n",
    "# Where checkpoints are written:\n",
    "shutil.rmtree(checkpoint_root, ignore_errors=True, onerror=None)\n",
    "\n",
    "# Where some data will be written and used by Tensorboard below:\n",
    "ray_results = f'{os.getenv(\"HOME\")}/ray_results/'\n",
    "shutil.rmtree(ray_results, ignore_errors=True, onerror=None)\n",
    "\n",
    "info = ray.init(ignore_reinit_error=True)\n",
    "print(\"Dashboard URL: http://{}\".format(info[\"webui_url\"]))\n",
    "\n",
    "from ray.tune.registry import register_env\n",
    "from transporter_env import OneDynamicTransporter\n",
    "\n",
    "# register_env(\"OneDynamicTransporter\", OneDynamicTransporter)\n",
    "\n",
    "#Configs\n",
    "N_ITER = 1000                                     # Number of training runs.\n",
    "\n",
    "config = ppo.PPOConfig()             # PPO's default configuration. See the next code cell.\n",
    "config = config.environment(env=OneDynamicTransporter, disable_env_checking=True)\n",
    "config = config.training(\n",
    "    num_sgd_iter = 10, # Number of SGD (stochastic gradient descent) iterations per training minibatch.\n",
    "    #vf_clip_param = 100,\n",
    ") \n",
    "config = config.framework('torch')\n",
    "\n",
    "config = config.rollouts(num_rollout_workers=4) \n",
    "# config = config.resources(num_gpus=1) \n",
    "# config = config.training(fcnet_hiddens =[128, 64] )\n",
    "# config = config.multi_agent(\n",
    "#     policies = {\"0\", \"1\"},\n",
    "#     policy_mapping_fn = (lambda agent_id, *args, **kwargs: agent_id),\n",
    "# )\n",
    "# dic = config.to_dict()\n",
    "# q_config = dic['q_model_config']\n",
    "# q_config['fcnet_hiddens'] = [128, 64]\n",
    "# policy_config = dic['policy_model_config']\n",
    "# policy_config['fcnet_hiddens'] = [128, 64]\n",
    "# config = config.training(\n",
    "#     q_model_config = q_config,\n",
    "#     policy_model_config = policy_config,\n",
    "# )\n",
    "\n",
    "print(config.to_dict())  "
   ]
  },
  {
   "cell_type": "code",
   "execution_count": null,
   "metadata": {},
   "outputs": [
    {
     "name": "stderr",
     "output_type": "stream",
     "text": [
      "2023-03-11 14:36:49,500\tWARNING unified.py:54 -- Could not instantiate TBXLogger: Descriptors cannot not be created directly.\n",
      "If this call came from a _pb2.py file, your generated code is out of date and must be regenerated with protoc >= 3.19.0.\n",
      "If you cannot immediately regenerate your protos, some other possible workarounds are:\n",
      " 1. Downgrade the protobuf package to 3.20.x or lower.\n",
      " 2. Set PROTOCOL_BUFFERS_PYTHON_IMPLEMENTATION=python (but this will use pure-Python parsing and will be much slower).\n",
      "\n",
      "More information: https://developers.google.com/protocol-buffers/docs/news/2022-05-06#python-updates.\n",
      "2023-03-11 14:36:49,501\tINFO algorithm.py:506 -- Current log_level is WARN. For more information, set 'log_level': 'INFO' / 'DEBUG' or use the -v and -vv flags.\n",
      "2023-03-11 14:36:51,559\tWARNING util.py:67 -- Install gputil for GPU system monitoring.\n",
      "\u001b[2m\u001b[36m(RolloutWorker pid=28254)\u001b[0m /opt/homebrew/lib/python3.10/site-packages/gymnasium/spaces/box.py:129: UserWarning: \u001b[33mWARN: Box bound precision lowered by casting to float32\u001b[0m\n",
      "\u001b[2m\u001b[36m(RolloutWorker pid=28254)\u001b[0m   gym.logger.warn(f\"Box bound precision lowered by casting to {self.dtype}\")\n",
      "\u001b[2m\u001b[36m(RolloutWorker pid=28253)\u001b[0m /opt/homebrew/lib/python3.10/site-packages/gymnasium/spaces/box.py:129: UserWarning: \u001b[33mWARN: Box bound precision lowered by casting to float32\u001b[0m\n",
      "\u001b[2m\u001b[36m(RolloutWorker pid=28253)\u001b[0m   gym.logger.warn(f\"Box bound precision lowered by casting to {self.dtype}\")\n",
      "\u001b[2m\u001b[36m(RolloutWorker pid=28255)\u001b[0m /opt/homebrew/lib/python3.10/site-packages/gymnasium/spaces/box.py:129: UserWarning: \u001b[33mWARN: Box bound precision lowered by casting to float32\u001b[0m\n",
      "\u001b[2m\u001b[36m(RolloutWorker pid=28255)\u001b[0m   gym.logger.warn(f\"Box bound precision lowered by casting to {self.dtype}\")\n",
      "\u001b[2m\u001b[36m(RolloutWorker pid=28252)\u001b[0m /opt/homebrew/lib/python3.10/site-packages/gymnasium/spaces/box.py:129: UserWarning: \u001b[33mWARN: Box bound precision lowered by casting to float32\u001b[0m\n",
      "\u001b[2m\u001b[36m(RolloutWorker pid=28252)\u001b[0m   gym.logger.warn(f\"Box bound precision lowered by casting to {self.dtype}\")\n"
     ]
    },
    {
     "name": "stdout",
     "output_type": "stream",
     "text": [
      "  0: Min/Mean/Max reward:   0.0000/  0.0000/  0.0000. Checkpoint saved to ./ma_ppo/checkpoint_000001\n"
     ]
    },
    {
     "ename": "KeyboardInterrupt",
     "evalue": "",
     "output_type": "error",
     "traceback": [
      "\u001b[0;31m---------------------------------------------------------------------------\u001b[0m",
      "\u001b[0;31mKeyboardInterrupt\u001b[0m                         Traceback (most recent call last)",
      "Cell \u001b[0;32mIn[2], line 38\u001b[0m\n\u001b[1;32m     35\u001b[0m episode_json \u001b[39m=\u001b[39m []\n\u001b[1;32m     37\u001b[0m \u001b[39mfor\u001b[39;00m n \u001b[39min\u001b[39;00m \u001b[39mrange\u001b[39m(N_ITER):\n\u001b[0;32m---> 38\u001b[0m     result \u001b[39m=\u001b[39m algo\u001b[39m.\u001b[39;49mtrain()\n\u001b[1;32m     39\u001b[0m     results\u001b[39m.\u001b[39mappend(result)\n\u001b[1;32m     41\u001b[0m     episode \u001b[39m=\u001b[39m {\u001b[39m'\u001b[39m\u001b[39mn\u001b[39m\u001b[39m'\u001b[39m: n, \n\u001b[1;32m     42\u001b[0m                \u001b[39m'\u001b[39m\u001b[39mepisode_reward_min\u001b[39m\u001b[39m'\u001b[39m: result[\u001b[39m'\u001b[39m\u001b[39mepisode_reward_min\u001b[39m\u001b[39m'\u001b[39m], \n\u001b[1;32m     43\u001b[0m                \u001b[39m'\u001b[39m\u001b[39mepisode_reward_mean\u001b[39m\u001b[39m'\u001b[39m: result[\u001b[39m'\u001b[39m\u001b[39mepisode_reward_mean\u001b[39m\u001b[39m'\u001b[39m], \n\u001b[1;32m     44\u001b[0m                \u001b[39m'\u001b[39m\u001b[39mepisode_reward_max\u001b[39m\u001b[39m'\u001b[39m: result[\u001b[39m'\u001b[39m\u001b[39mepisode_reward_max\u001b[39m\u001b[39m'\u001b[39m],  \n\u001b[1;32m     45\u001b[0m                \u001b[39m'\u001b[39m\u001b[39mepisode_len_mean\u001b[39m\u001b[39m'\u001b[39m: result[\u001b[39m'\u001b[39m\u001b[39mepisode_len_mean\u001b[39m\u001b[39m'\u001b[39m]}\n",
      "File \u001b[0;32m/opt/homebrew/lib/python3.10/site-packages/ray/tune/trainable/trainable.py:365\u001b[0m, in \u001b[0;36mTrainable.train\u001b[0;34m(self)\u001b[0m\n\u001b[1;32m    363\u001b[0m start \u001b[39m=\u001b[39m time\u001b[39m.\u001b[39mtime()\n\u001b[1;32m    364\u001b[0m \u001b[39mtry\u001b[39;00m:\n\u001b[0;32m--> 365\u001b[0m     result \u001b[39m=\u001b[39m \u001b[39mself\u001b[39;49m\u001b[39m.\u001b[39;49mstep()\n\u001b[1;32m    366\u001b[0m \u001b[39mexcept\u001b[39;00m \u001b[39mException\u001b[39;00m \u001b[39mas\u001b[39;00m e:\n\u001b[1;32m    367\u001b[0m     skipped \u001b[39m=\u001b[39m skip_exceptions(e)\n",
      "File \u001b[0;32m/opt/homebrew/lib/python3.10/site-packages/ray/rllib/algorithms/algorithm.py:782\u001b[0m, in \u001b[0;36mAlgorithm.step\u001b[0;34m(self)\u001b[0m\n\u001b[1;32m    774\u001b[0m     (\n\u001b[1;32m    775\u001b[0m         results,\n\u001b[1;32m    776\u001b[0m         train_iter_ctx,\n\u001b[1;32m    777\u001b[0m     ) \u001b[39m=\u001b[39m \u001b[39mself\u001b[39m\u001b[39m.\u001b[39m_run_one_training_iteration_and_evaluation_in_parallel()\n\u001b[1;32m    778\u001b[0m \u001b[39m# - No evaluation necessary, just run the next training iteration.\u001b[39;00m\n\u001b[1;32m    779\u001b[0m \u001b[39m# - We have to evaluate in this training iteration, but no parallelism ->\u001b[39;00m\n\u001b[1;32m    780\u001b[0m \u001b[39m#   evaluate after the training iteration is entirely done.\u001b[39;00m\n\u001b[1;32m    781\u001b[0m \u001b[39melse\u001b[39;00m:\n\u001b[0;32m--> 782\u001b[0m     results, train_iter_ctx \u001b[39m=\u001b[39m \u001b[39mself\u001b[39;49m\u001b[39m.\u001b[39;49m_run_one_training_iteration()\n\u001b[1;32m    784\u001b[0m \u001b[39m# Sequential: Train (already done above), then evaluate.\u001b[39;00m\n\u001b[1;32m    785\u001b[0m \u001b[39mif\u001b[39;00m evaluate_this_iter \u001b[39mand\u001b[39;00m \u001b[39mnot\u001b[39;00m \u001b[39mself\u001b[39m\u001b[39m.\u001b[39mconfig\u001b[39m.\u001b[39mevaluation_parallel_to_training:\n",
      "File \u001b[0;32m/opt/homebrew/lib/python3.10/site-packages/ray/rllib/algorithms/algorithm.py:2713\u001b[0m, in \u001b[0;36mAlgorithm._run_one_training_iteration\u001b[0;34m(self)\u001b[0m\n\u001b[1;32m   2711\u001b[0m \u001b[39mwith\u001b[39;00m \u001b[39mself\u001b[39m\u001b[39m.\u001b[39m_timers[TRAINING_ITERATION_TIMER]:\n\u001b[1;32m   2712\u001b[0m     \u001b[39mif\u001b[39;00m \u001b[39mself\u001b[39m\u001b[39m.\u001b[39mconfig\u001b[39m.\u001b[39m_disable_execution_plan_api:\n\u001b[0;32m-> 2713\u001b[0m         results \u001b[39m=\u001b[39m \u001b[39mself\u001b[39;49m\u001b[39m.\u001b[39;49mtraining_step()\n\u001b[1;32m   2714\u001b[0m     \u001b[39melse\u001b[39;00m:\n\u001b[1;32m   2715\u001b[0m         results \u001b[39m=\u001b[39m \u001b[39mnext\u001b[39m(\u001b[39mself\u001b[39m\u001b[39m.\u001b[39mtrain_exec_impl)\n",
      "File \u001b[0;32m/opt/homebrew/lib/python3.10/site-packages/ray/rllib/algorithms/ppo/ppo.py:358\u001b[0m, in \u001b[0;36mPPO.training_step\u001b[0;34m(self)\u001b[0m\n\u001b[1;32m    353\u001b[0m     train_batch \u001b[39m=\u001b[39m synchronous_parallel_sample(\n\u001b[1;32m    354\u001b[0m         worker_set\u001b[39m=\u001b[39m\u001b[39mself\u001b[39m\u001b[39m.\u001b[39mworkers,\n\u001b[1;32m    355\u001b[0m         max_agent_steps\u001b[39m=\u001b[39m\u001b[39mself\u001b[39m\u001b[39m.\u001b[39mconfig\u001b[39m.\u001b[39mtrain_batch_size,\n\u001b[1;32m    356\u001b[0m     )\n\u001b[1;32m    357\u001b[0m \u001b[39melse\u001b[39;00m:\n\u001b[0;32m--> 358\u001b[0m     train_batch \u001b[39m=\u001b[39m synchronous_parallel_sample(\n\u001b[1;32m    359\u001b[0m         worker_set\u001b[39m=\u001b[39;49m\u001b[39mself\u001b[39;49m\u001b[39m.\u001b[39;49mworkers, max_env_steps\u001b[39m=\u001b[39;49m\u001b[39mself\u001b[39;49m\u001b[39m.\u001b[39;49mconfig\u001b[39m.\u001b[39;49mtrain_batch_size\n\u001b[1;32m    360\u001b[0m     )\n\u001b[1;32m    361\u001b[0m train_batch \u001b[39m=\u001b[39m train_batch\u001b[39m.\u001b[39mas_multi_agent()\n\u001b[1;32m    362\u001b[0m \u001b[39mself\u001b[39m\u001b[39m.\u001b[39m_counters[NUM_AGENT_STEPS_SAMPLED] \u001b[39m+\u001b[39m\u001b[39m=\u001b[39m train_batch\u001b[39m.\u001b[39magent_steps()\n",
      "File \u001b[0;32m/opt/homebrew/lib/python3.10/site-packages/ray/rllib/execution/rollout_ops.py:85\u001b[0m, in \u001b[0;36msynchronous_parallel_sample\u001b[0;34m(worker_set, max_agent_steps, max_env_steps, concat)\u001b[0m\n\u001b[1;32m     82\u001b[0m     sample_batches \u001b[39m=\u001b[39m [worker_set\u001b[39m.\u001b[39mlocal_worker()\u001b[39m.\u001b[39msample()]\n\u001b[1;32m     83\u001b[0m \u001b[39m# Loop over remote workers' `sample()` method in parallel.\u001b[39;00m\n\u001b[1;32m     84\u001b[0m \u001b[39melse\u001b[39;00m:\n\u001b[0;32m---> 85\u001b[0m     sample_batches \u001b[39m=\u001b[39m worker_set\u001b[39m.\u001b[39;49mforeach_worker(\n\u001b[1;32m     86\u001b[0m         \u001b[39mlambda\u001b[39;49;00m w: w\u001b[39m.\u001b[39;49msample(), local_worker\u001b[39m=\u001b[39;49m\u001b[39mFalse\u001b[39;49;00m, healthy_only\u001b[39m=\u001b[39;49m\u001b[39mTrue\u001b[39;49;00m\n\u001b[1;32m     87\u001b[0m     )\n\u001b[1;32m     88\u001b[0m     \u001b[39mif\u001b[39;00m worker_set\u001b[39m.\u001b[39mnum_healthy_remote_workers() \u001b[39m<\u001b[39m\u001b[39m=\u001b[39m \u001b[39m0\u001b[39m:\n\u001b[1;32m     89\u001b[0m         \u001b[39m# There is no point staying in this loop, since we will not be able to\u001b[39;00m\n\u001b[1;32m     90\u001b[0m         \u001b[39m# get any new samples if we don't have any healthy remote workers left.\u001b[39;00m\n\u001b[1;32m     91\u001b[0m         \u001b[39mbreak\u001b[39;00m\n",
      "File \u001b[0;32m/opt/homebrew/lib/python3.10/site-packages/ray/rllib/evaluation/worker_set.py:692\u001b[0m, in \u001b[0;36mWorkerSet.foreach_worker\u001b[0;34m(self, func, local_worker, healthy_only, remote_worker_ids, timeout_seconds, return_obj_refs, mark_healthy)\u001b[0m\n\u001b[1;32m    689\u001b[0m \u001b[39mif\u001b[39;00m local_worker \u001b[39mand\u001b[39;00m \u001b[39mself\u001b[39m\u001b[39m.\u001b[39mlocal_worker() \u001b[39mis\u001b[39;00m \u001b[39mnot\u001b[39;00m \u001b[39mNone\u001b[39;00m:\n\u001b[1;32m    690\u001b[0m     local_result \u001b[39m=\u001b[39m [func(\u001b[39mself\u001b[39m\u001b[39m.\u001b[39mlocal_worker())]\n\u001b[0;32m--> 692\u001b[0m remote_results \u001b[39m=\u001b[39m \u001b[39mself\u001b[39;49m\u001b[39m.\u001b[39;49m__worker_manager\u001b[39m.\u001b[39;49mforeach_actor(\n\u001b[1;32m    693\u001b[0m     func,\n\u001b[1;32m    694\u001b[0m     healthy_only\u001b[39m=\u001b[39;49mhealthy_only,\n\u001b[1;32m    695\u001b[0m     remote_actor_ids\u001b[39m=\u001b[39;49mremote_worker_ids,\n\u001b[1;32m    696\u001b[0m     timeout_seconds\u001b[39m=\u001b[39;49mtimeout_seconds,\n\u001b[1;32m    697\u001b[0m     return_obj_refs\u001b[39m=\u001b[39;49mreturn_obj_refs,\n\u001b[1;32m    698\u001b[0m     mark_healthy\u001b[39m=\u001b[39;49mmark_healthy,\n\u001b[1;32m    699\u001b[0m )\n\u001b[1;32m    701\u001b[0m handle_remote_call_result_errors(remote_results, \u001b[39mself\u001b[39m\u001b[39m.\u001b[39m_ignore_worker_failures)\n\u001b[1;32m    703\u001b[0m \u001b[39m# With application errors handled, return good results.\u001b[39;00m\n",
      "File \u001b[0;32m/opt/homebrew/lib/python3.10/site-packages/ray/rllib/utils/actor_manager.py:588\u001b[0m, in \u001b[0;36mFaultTolerantActorManager.foreach_actor\u001b[0;34m(self, func, healthy_only, remote_actor_ids, timeout_seconds, return_obj_refs, mark_healthy)\u001b[0m\n\u001b[1;32m    579\u001b[0m     func, remote_actor_ids \u001b[39m=\u001b[39m \u001b[39mself\u001b[39m\u001b[39m.\u001b[39m_filter_func_and_remote_actor_id_by_state(\n\u001b[1;32m    580\u001b[0m         func, remote_actor_ids\n\u001b[1;32m    581\u001b[0m     )\n\u001b[1;32m    583\u001b[0m remote_calls \u001b[39m=\u001b[39m \u001b[39mself\u001b[39m\u001b[39m.\u001b[39m__call_actors(\n\u001b[1;32m    584\u001b[0m     func\u001b[39m=\u001b[39mfunc,\n\u001b[1;32m    585\u001b[0m     remote_actor_ids\u001b[39m=\u001b[39mremote_actor_ids,\n\u001b[1;32m    586\u001b[0m )\n\u001b[0;32m--> 588\u001b[0m _, remote_results \u001b[39m=\u001b[39m \u001b[39mself\u001b[39;49m\u001b[39m.\u001b[39;49m__fetch_result(\n\u001b[1;32m    589\u001b[0m     remote_actor_ids\u001b[39m=\u001b[39;49mremote_actor_ids,\n\u001b[1;32m    590\u001b[0m     remote_calls\u001b[39m=\u001b[39;49mremote_calls,\n\u001b[1;32m    591\u001b[0m     timeout_seconds\u001b[39m=\u001b[39;49mtimeout_seconds,\n\u001b[1;32m    592\u001b[0m     return_obj_refs\u001b[39m=\u001b[39;49mreturn_obj_refs,\n\u001b[1;32m    593\u001b[0m     mark_healthy\u001b[39m=\u001b[39;49mmark_healthy,\n\u001b[1;32m    594\u001b[0m )\n\u001b[1;32m    596\u001b[0m \u001b[39mreturn\u001b[39;00m remote_results\n",
      "File \u001b[0;32m/opt/homebrew/lib/python3.10/site-packages/ray/rllib/utils/actor_manager.py:457\u001b[0m, in \u001b[0;36mFaultTolerantActorManager.__fetch_result\u001b[0;34m(self, remote_actor_ids, remote_calls, timeout_seconds, return_obj_refs, mark_healthy)\u001b[0m\n\u001b[1;32m    453\u001b[0m \u001b[39m# Notice that we do not return the refs to any unfinished calls to the\u001b[39;00m\n\u001b[1;32m    454\u001b[0m \u001b[39m# user, since it is not safe to handle such remote actor calls outside the\u001b[39;00m\n\u001b[1;32m    455\u001b[0m \u001b[39m# context of this actor manager. These requests are simply dropped.\u001b[39;00m\n\u001b[1;32m    456\u001b[0m timeout \u001b[39m=\u001b[39m \u001b[39mfloat\u001b[39m(timeout_seconds) \u001b[39mif\u001b[39;00m timeout_seconds \u001b[39mis\u001b[39;00m \u001b[39mnot\u001b[39;00m \u001b[39mNone\u001b[39;00m \u001b[39melse\u001b[39;00m \u001b[39mNone\u001b[39;00m\n\u001b[0;32m--> 457\u001b[0m ready, _ \u001b[39m=\u001b[39m ray\u001b[39m.\u001b[39;49mwait(\n\u001b[1;32m    458\u001b[0m     remote_calls,\n\u001b[1;32m    459\u001b[0m     num_returns\u001b[39m=\u001b[39;49m\u001b[39mlen\u001b[39;49m(remote_calls),\n\u001b[1;32m    460\u001b[0m     timeout\u001b[39m=\u001b[39;49mtimeout,\n\u001b[1;32m    461\u001b[0m     \u001b[39m# Make sure remote results are fetched locally in parallel.\u001b[39;49;00m\n\u001b[1;32m    462\u001b[0m     fetch_local\u001b[39m=\u001b[39;49m\u001b[39mnot\u001b[39;49;00m return_obj_refs,\n\u001b[1;32m    463\u001b[0m )\n\u001b[1;32m    465\u001b[0m \u001b[39m# Remote data should already be fetched to local object store at this point.\u001b[39;00m\n\u001b[1;32m    466\u001b[0m remote_results \u001b[39m=\u001b[39m RemoteCallResults()\n",
      "File \u001b[0;32m/opt/homebrew/lib/python3.10/site-packages/ray/_private/client_mode_hook.py:105\u001b[0m, in \u001b[0;36mclient_mode_hook.<locals>.wrapper\u001b[0;34m(*args, **kwargs)\u001b[0m\n\u001b[1;32m    103\u001b[0m     \u001b[39mif\u001b[39;00m func\u001b[39m.\u001b[39m\u001b[39m__name__\u001b[39m \u001b[39m!=\u001b[39m \u001b[39m\"\u001b[39m\u001b[39minit\u001b[39m\u001b[39m\"\u001b[39m \u001b[39mor\u001b[39;00m is_client_mode_enabled_by_default:\n\u001b[1;32m    104\u001b[0m         \u001b[39mreturn\u001b[39;00m \u001b[39mgetattr\u001b[39m(ray, func\u001b[39m.\u001b[39m\u001b[39m__name__\u001b[39m)(\u001b[39m*\u001b[39margs, \u001b[39m*\u001b[39m\u001b[39m*\u001b[39mkwargs)\n\u001b[0;32m--> 105\u001b[0m \u001b[39mreturn\u001b[39;00m func(\u001b[39m*\u001b[39;49margs, \u001b[39m*\u001b[39;49m\u001b[39m*\u001b[39;49mkwargs)\n",
      "File \u001b[0;32m/opt/homebrew/lib/python3.10/site-packages/ray/_private/worker.py:2578\u001b[0m, in \u001b[0;36mwait\u001b[0;34m(object_refs, num_returns, timeout, fetch_local)\u001b[0m\n\u001b[1;32m   2576\u001b[0m timeout \u001b[39m=\u001b[39m timeout \u001b[39mif\u001b[39;00m timeout \u001b[39mis\u001b[39;00m \u001b[39mnot\u001b[39;00m \u001b[39mNone\u001b[39;00m \u001b[39melse\u001b[39;00m \u001b[39m10\u001b[39m\u001b[39m*\u001b[39m\u001b[39m*\u001b[39m\u001b[39m6\u001b[39m\n\u001b[1;32m   2577\u001b[0m timeout_milliseconds \u001b[39m=\u001b[39m \u001b[39mint\u001b[39m(timeout \u001b[39m*\u001b[39m \u001b[39m1000\u001b[39m)\n\u001b[0;32m-> 2578\u001b[0m ready_ids, remaining_ids \u001b[39m=\u001b[39m worker\u001b[39m.\u001b[39;49mcore_worker\u001b[39m.\u001b[39;49mwait(\n\u001b[1;32m   2579\u001b[0m     object_refs,\n\u001b[1;32m   2580\u001b[0m     num_returns,\n\u001b[1;32m   2581\u001b[0m     timeout_milliseconds,\n\u001b[1;32m   2582\u001b[0m     worker\u001b[39m.\u001b[39;49mcurrent_task_id,\n\u001b[1;32m   2583\u001b[0m     fetch_local,\n\u001b[1;32m   2584\u001b[0m )\n\u001b[1;32m   2585\u001b[0m \u001b[39mreturn\u001b[39;00m ready_ids, remaining_ids\n",
      "File \u001b[0;32mpython/ray/_raylet.pyx:1833\u001b[0m, in \u001b[0;36mray._raylet.CoreWorker.wait\u001b[0;34m()\u001b[0m\n",
      "File \u001b[0;32mpython/ray/_raylet.pyx:199\u001b[0m, in \u001b[0;36mray._raylet.check_status\u001b[0;34m()\u001b[0m\n",
      "\u001b[0;31mKeyboardInterrupt\u001b[0m: "
     ]
    }
   ],
   "source": [
    "algo = config.build()  \n",
    "# algo.train() \n",
    "# Other settings we might adjust:\n",
    "# config[\"num_workers\"] = 10                       # Use > 1 for using more CPU cores, including over a cluster\n",
    "                                                # I.e., for each minibatch of data, do this many passes over it to train. \n",
    "# config[\"model\"][\"fcnet_hiddens\"] = [100, 50]    #\n",
    "\n",
    "# config.environment(disable_env_checking=True)\n",
    "\n",
    "# from ray.rllib.policy.policy import PolicySpec, Policy\n",
    "    \n",
    "# def policy_mapping_fn(agent_id, episode, worker, **kwargs):\n",
    "#     return agent_id\n",
    "\n",
    "    \n",
    "\n",
    "# config[\"multiagent\"] = {\n",
    "#     \"policies\" : {\n",
    "#         \"0\" : PolicySpec(\n",
    "#             action_space=env.action_space\n",
    "#         ),\n",
    "#         \"1\" : PolicySpec(\n",
    "#             action_space=env.action_space\n",
    "#         )\n",
    "#     },\n",
    "#     \"policy_mapping_fn\":\n",
    "#             policy_mapping_fn,\n",
    "#     \"policies_to_train\": [\"0\", \"1\"],\n",
    "# }\n",
    "\n",
    "#Trainer\n",
    "\n",
    "results = []\n",
    "episode_data = []\n",
    "episode_json = []\n",
    "\n",
    "for n in range(N_ITER):\n",
    "    result = algo.train()\n",
    "    results.append(result)\n",
    "    \n",
    "    episode = {'n': n, \n",
    "               'episode_reward_min': result['episode_reward_min'], \n",
    "               'episode_reward_mean': result['episode_reward_mean'], \n",
    "               'episode_reward_max': result['episode_reward_max'],  \n",
    "               'episode_len_mean': result['episode_len_mean']}\n",
    "    \n",
    "    episode_data.append(episode)\n",
    "    episode_json.append(json.dumps(episode))\n",
    "    if n%100 == 0:\n",
    "        file_name = algo.save(checkpoint_root)\n",
    "    \n",
    "    print(f'{n:3d}: Min/Mean/Max reward: {result[\"episode_reward_min\"]:8.4f}/{result[\"episode_reward_mean\"]:8.4f}/{result[\"episode_reward_max\"]:8.4f}. Checkpoint saved to {file_name}')\n",
    "\n",
    "    with open('ma_ppo/rewards.json', 'w') as outfile:\n",
    "        json.dump(episode_json, outfile)"
   ]
  },
  {
   "cell_type": "code",
   "execution_count": null,
   "metadata": {},
   "outputs": [],
   "source": []
  }
 ],
 "metadata": {
  "kernelspec": {
   "display_name": "Python 3.10.10 64-bit",
   "language": "python",
   "name": "python3"
  },
  "language_info": {
   "codemirror_mode": {
    "name": "ipython",
    "version": 3
   },
   "file_extension": ".py",
   "mimetype": "text/x-python",
   "name": "python",
   "nbconvert_exporter": "python",
   "pygments_lexer": "ipython3",
   "version": "3.10.11"
  },
  "orig_nbformat": 4,
  "vscode": {
   "interpreter": {
    "hash": "bd385fe162c5ca0c84973b7dd5c518456272446b2b64e67c2a69f949ca7a1754"
   }
  }
 },
 "nbformat": 4,
 "nbformat_minor": 2
}
